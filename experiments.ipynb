{
 "cells": [
  {
   "cell_type": "code",
   "execution_count": 1,
   "metadata": {},
   "outputs": [
    {
     "name": "stdout",
     "output_type": "stream",
     "text": [
      "/home/maarten/Documents/masterthesis/supervised\n"
     ]
    }
   ],
   "source": [
    "%cd supervised\n",
    "%load_ext autoreload\n",
    "%autoreload 2\n",
    "\n",
    "import data\n",
    "import train\n",
    "import evaluate\n",
    "import models\n",
    "import torch"
   ]
  },
  {
   "cell_type": "markdown",
   "metadata": {},
   "source": [
    "# Dataset analysis"
   ]
  },
  {
   "cell_type": "code",
   "execution_count": null,
   "metadata": {},
   "outputs": [],
   "source": [
    "import glob\n",
    "from lxml import etree\n",
    "\n",
    "positives = []\n",
    "negatives = []\n",
    "for path in glob.glob('../training_data/*.xml'):\n",
    "    with open(path, 'r') as f:\n",
    "        xml = etree.fromstring(f.read().encode('utf-8'))\n",
    "    pos = len(xml.xpath('/pdf2xml/page/text[@is-speech=\"true\"]'))\n",
    "    neg = len(xml.xpath('/pdf2xml/page/text[@is-speech=\"false\"]'))\n",
    "    positives.append(pos)\n",
    "    negatives.append(neg)"
   ]
  },
  {
   "cell_type": "code",
   "execution_count": null,
   "metadata": {},
   "outputs": [],
   "source": [
    "import matplotlib.pyplot as plt\n",
    "import seaborn as sns\n",
    "from tabulate import tabulate\n",
    "\n",
    "sns.distplot(positives, axlabel='positive samples per file')\n",
    "fig = plt.gcf()\n",
    "plt.show()\n",
    "fig.savefig('distribution.pdf')\n",
    "\n",
    "print(tabulate([['Positives samples', sum(positives)],\n",
    "                ['Negative samples', sum(negatives)]]))"
   ]
  },
  {
   "cell_type": "markdown",
   "metadata": {},
   "source": [
    "# Training and evaluation"
   ]
  },
  {
   "cell_type": "code",
   "execution_count": 2,
   "metadata": {
    "scrolled": true
   },
   "outputs": [
    {
     "name": "stderr",
     "output_type": "stream",
     "text": [
      "Creating dictionary: 100%|██████████| 3/3 [00:00<00:00,  8.39it/s]\n",
      "100%|██████████| 584/584 [00:11<00:00, 48.68it/s]\n",
      "Creating dictionary:  67%|██████▋   | 2/3 [00:00<00:00, 19.59it/s]"
     ]
    },
    {
     "name": "stdout",
     "output_type": "stream",
     "text": [
      "Retrieved 584 positive samples, 28169 negative samples.\n"
     ]
    },
    {
     "name": "stderr",
     "output_type": "stream",
     "text": [
      "Creating dictionary: 100%|██████████| 3/3 [00:00<00:00,  6.84it/s]\n",
      "100%|██████████| 584/584 [00:10<00:00, 54.38it/s]\n",
      "Creating dictionary:  67%|██████▋   | 2/3 [00:00<00:00, 19.26it/s]"
     ]
    },
    {
     "name": "stdout",
     "output_type": "stream",
     "text": [
      "Retrieved 584 positive samples, 28169 negative samples.\n"
     ]
    },
    {
     "name": "stderr",
     "output_type": "stream",
     "text": [
      "Creating dictionary: 100%|██████████| 3/3 [00:00<00:00,  9.02it/s]\n",
      "100%|██████████| 584/584 [00:11<00:00, 50.50it/s]\n"
     ]
    },
    {
     "name": "stdout",
     "output_type": "stream",
     "text": [
      "Retrieved 584 positive samples, 28169 negative samples.\n"
     ]
    }
   ],
   "source": [
    "num_clusters = 5\n",
    "window_size = 11\n",
    "window_label = 6\n",
    "\n",
    "files = [f'../clusterlabeled-fixed-{num_clusters}/18{i:03d}.xml' for i in [1, 2, 3]]\n",
    "test_files = [f'../clusterlabeled-fixed-{num_clusters}/18{i:03d}.xml' for i in [1]]\n",
    "\n",
    "full_window_dataset = data.GermanDataset(files, num_clusters, 584, 584, window_size, window_label,\n",
    "                                        cluster_fmt=data.ClusterFmt.FULL_WINDOW)\n",
    "only_center_dataset = data.GermanDataset(files, num_clusters, 584, 584, window_size, window_label,\n",
    "                                        cluster_fmt=data.ClusterFmt.ONLY_CENTRAL)\n",
    "only_idx_dataset = data.GermanDataset(files, num_clusters, 584, 584, window_size, window_label,\n",
    "                                        cluster_fmt=data.ClusterFmt.FULL_WINDOW_ONLY_IDX)"
   ]
  },
  {
   "cell_type": "markdown",
   "metadata": {},
   "source": [
    "# Test the different kinds of cluster handling\n",
    "# 1000 samples"
   ]
  },
  {
   "cell_type": "code",
   "execution_count": 4,
   "metadata": {},
   "outputs": [
    {
     "name": "stderr",
     "output_type": "stream",
     "text": [
      "/usr/lib/python3.6/site-packages/sklearn/model_selection/_split.py:1639: FutureWarning: From version 0.21, test_size will always complement train_size unless both are specified.\n",
      "  FutureWarning)\n"
     ]
    },
    {
     "name": "stdout",
     "output_type": "stream",
     "text": [
      "Training on 200 positives and 200 negatives, testing on 117 samples.\n"
     ]
    },
    {
     "name": "stderr",
     "output_type": "stream",
     "text": [
      "Training: 100%|██████████| 50/50 [00:07<00:00,  6.93it/s, loss=0.000499, Δloss=7.21e-06] \n"
     ]
    },
    {
     "name": "stdout",
     "output_type": "stream",
     "text": [
      "Training on 200 positives and 200 negatives, testing on 117 samples.\n"
     ]
    },
    {
     "name": "stderr",
     "output_type": "stream",
     "text": [
      "Training: 100%|██████████| 50/50 [00:07<00:00,  6.99it/s, loss=0.000495, Δloss=6.82e-06] \n"
     ]
    },
    {
     "name": "stdout",
     "output_type": "stream",
     "text": [
      "Training on 200 positives and 200 negatives, testing on 117 samples.\n"
     ]
    },
    {
     "name": "stderr",
     "output_type": "stream",
     "text": [
      "Training: 100%|██████████| 50/50 [00:07<00:00,  6.93it/s, loss=0.000524, Δloss=7.2e-06]  \n"
     ]
    },
    {
     "name": "stdout",
     "output_type": "stream",
     "text": [
      "Training on 200 positives and 200 negatives, testing on 117 samples.\n"
     ]
    },
    {
     "name": "stderr",
     "output_type": "stream",
     "text": [
      "Training: 100%|██████████| 50/50 [00:07<00:00,  6.86it/s, loss=0.00051, Δloss=7.58e-06]  \n"
     ]
    },
    {
     "name": "stdout",
     "output_type": "stream",
     "text": [
      "Training on 200 positives and 200 negatives, testing on 117 samples.\n"
     ]
    },
    {
     "name": "stderr",
     "output_type": "stream",
     "text": [
      "Training: 100%|██████████| 50/50 [00:07<00:00,  6.93it/s, loss=0.000515, Δloss=7.29e-06] \n"
     ]
    },
    {
     "name": "stdout",
     "output_type": "stream",
     "text": [
      "Training on 200 positives and 200 negatives, testing on 117 samples.\n"
     ]
    },
    {
     "name": "stderr",
     "output_type": "stream",
     "text": [
      "Training: 100%|██████████| 50/50 [00:07<00:00,  6.91it/s, loss=0.00051, Δloss=7.26e-06]  \n"
     ]
    },
    {
     "name": "stdout",
     "output_type": "stream",
     "text": [
      "Training on 200 positives and 200 negatives, testing on 117 samples.\n"
     ]
    },
    {
     "name": "stderr",
     "output_type": "stream",
     "text": [
      "Training: 100%|██████████| 50/50 [00:07<00:00,  6.88it/s, loss=0.000519, Δloss=7.21e-06] \n"
     ]
    },
    {
     "name": "stdout",
     "output_type": "stream",
     "text": [
      "Training on 200 positives and 200 negatives, testing on 117 samples.\n"
     ]
    },
    {
     "name": "stderr",
     "output_type": "stream",
     "text": [
      "Training: 100%|██████████| 50/50 [00:07<00:00,  6.84it/s, loss=0.00049, Δloss=6.99e-06]  \n"
     ]
    },
    {
     "name": "stdout",
     "output_type": "stream",
     "text": [
      "Training on 200 positives and 200 negatives, testing on 117 samples.\n"
     ]
    },
    {
     "name": "stderr",
     "output_type": "stream",
     "text": [
      "Training: 100%|██████████| 50/50 [00:07<00:00,  6.85it/s, loss=0.000518, Δloss=7.15e-06] \n"
     ]
    },
    {
     "name": "stdout",
     "output_type": "stream",
     "text": [
      "Training on 200 positives and 200 negatives, testing on 117 samples.\n"
     ]
    },
    {
     "name": "stderr",
     "output_type": "stream",
     "text": [
      "Training: 100%|██████████| 50/50 [00:07<00:00,  6.81it/s, loss=0.00052, Δloss=6.85e-06]  \n"
     ]
    },
    {
     "name": "stdout",
     "output_type": "stream",
     "text": [
      "Training on 200 positives and 200 negatives, testing on 117 samples.\n"
     ]
    },
    {
     "name": "stderr",
     "output_type": "stream",
     "text": [
      "Training: 100%|██████████| 50/50 [00:07<00:00,  6.97it/s, loss=0.000517, Δloss=7.27e-06] \n"
     ]
    },
    {
     "name": "stdout",
     "output_type": "stream",
     "text": [
      "Training on 200 positives and 200 negatives, testing on 117 samples.\n"
     ]
    },
    {
     "name": "stderr",
     "output_type": "stream",
     "text": [
      "Training: 100%|██████████| 50/50 [00:07<00:00,  6.90it/s, loss=0.000523, Δloss=7.09e-06] \n"
     ]
    },
    {
     "name": "stdout",
     "output_type": "stream",
     "text": [
      "Training on 200 positives and 200 negatives, testing on 117 samples.\n"
     ]
    },
    {
     "name": "stderr",
     "output_type": "stream",
     "text": [
      "Training: 100%|██████████| 50/50 [00:07<00:00,  6.96it/s, loss=0.000504, Δloss=7.27e-06] \n"
     ]
    },
    {
     "name": "stdout",
     "output_type": "stream",
     "text": [
      "Training on 200 positives and 200 negatives, testing on 117 samples.\n"
     ]
    },
    {
     "name": "stderr",
     "output_type": "stream",
     "text": [
      "Training: 100%|██████████| 50/50 [00:07<00:00,  6.93it/s, loss=0.0005, Δloss=7.07e-06]   \n"
     ]
    },
    {
     "name": "stdout",
     "output_type": "stream",
     "text": [
      "Training on 200 positives and 200 negatives, testing on 117 samples.\n"
     ]
    },
    {
     "name": "stderr",
     "output_type": "stream",
     "text": [
      "Training: 100%|██████████| 50/50 [00:07<00:00,  6.79it/s, loss=0.000512, Δloss=6.83e-06] \n"
     ]
    },
    {
     "name": "stdout",
     "output_type": "stream",
     "text": [
      "Training on 200 positives and 200 negatives, testing on 117 samples.\n"
     ]
    },
    {
     "name": "stderr",
     "output_type": "stream",
     "text": [
      "Training: 100%|██████████| 50/50 [00:07<00:00,  6.97it/s, loss=0.000508, Δloss=6.84e-06] \n"
     ]
    },
    {
     "name": "stdout",
     "output_type": "stream",
     "text": [
      "Training on 200 positives and 200 negatives, testing on 117 samples.\n"
     ]
    },
    {
     "name": "stderr",
     "output_type": "stream",
     "text": [
      "Training: 100%|██████████| 50/50 [00:07<00:00,  6.85it/s, loss=0.000514, Δloss=7.09e-06] \n"
     ]
    },
    {
     "name": "stdout",
     "output_type": "stream",
     "text": [
      "Training on 200 positives and 200 negatives, testing on 117 samples.\n"
     ]
    },
    {
     "name": "stderr",
     "output_type": "stream",
     "text": [
      "Training: 100%|██████████| 50/50 [00:07<00:00,  6.84it/s, loss=0.000511, Δloss=6.74e-06] \n"
     ]
    },
    {
     "name": "stdout",
     "output_type": "stream",
     "text": [
      "Training on 200 positives and 200 negatives, testing on 117 samples.\n"
     ]
    },
    {
     "name": "stderr",
     "output_type": "stream",
     "text": [
      "Training: 100%|██████████| 50/50 [00:07<00:00,  6.96it/s, loss=0.000513, Δloss=6.89e-06] \n"
     ]
    },
    {
     "name": "stdout",
     "output_type": "stream",
     "text": [
      "Training on 200 positives and 200 negatives, testing on 117 samples.\n"
     ]
    },
    {
     "name": "stderr",
     "output_type": "stream",
     "text": [
      "Training: 100%|██████████| 50/50 [00:07<00:00,  6.87it/s, loss=0.000505, Δloss=7.65e-06] \n"
     ]
    },
    {
     "name": "stdout",
     "output_type": "stream",
     "text": [
      "Training on 200 positives and 200 negatives, testing on 117 samples.\n"
     ]
    },
    {
     "name": "stderr",
     "output_type": "stream",
     "text": [
      "Training: 100%|██████████| 50/50 [00:07<00:00,  6.77it/s, loss=0.000501, Δloss=7.23e-06] \n"
     ]
    },
    {
     "name": "stdout",
     "output_type": "stream",
     "text": [
      "Training on 200 positives and 200 negatives, testing on 117 samples.\n"
     ]
    },
    {
     "name": "stderr",
     "output_type": "stream",
     "text": [
      "Training: 100%|██████████| 50/50 [00:07<00:00,  6.83it/s, loss=0.000532, Δloss=7.23e-06] \n"
     ]
    },
    {
     "name": "stdout",
     "output_type": "stream",
     "text": [
      "Training on 200 positives and 200 negatives, testing on 117 samples.\n"
     ]
    },
    {
     "name": "stderr",
     "output_type": "stream",
     "text": [
      "Training: 100%|██████████| 50/50 [00:07<00:00,  6.82it/s, loss=0.00054, Δloss=6.67e-06]  \n"
     ]
    },
    {
     "name": "stdout",
     "output_type": "stream",
     "text": [
      "Training on 200 positives and 200 negatives, testing on 117 samples.\n"
     ]
    },
    {
     "name": "stderr",
     "output_type": "stream",
     "text": [
      "Training: 100%|██████████| 50/50 [00:07<00:00,  6.88it/s, loss=0.000502, Δloss=7.13e-06] \n"
     ]
    },
    {
     "name": "stdout",
     "output_type": "stream",
     "text": [
      "Training on 200 positives and 200 negatives, testing on 117 samples.\n"
     ]
    },
    {
     "name": "stderr",
     "output_type": "stream",
     "text": [
      "Training: 100%|██████████| 50/50 [00:07<00:00,  6.84it/s, loss=0.000524, Δloss=6.84e-06] \n"
     ]
    },
    {
     "name": "stdout",
     "output_type": "stream",
     "text": [
      "Training on 200 positives and 200 negatives, testing on 117 samples.\n"
     ]
    },
    {
     "name": "stderr",
     "output_type": "stream",
     "text": [
      "Training: 100%|██████████| 50/50 [00:07<00:00,  6.82it/s, loss=0.000516, Δloss=6.72e-06] \n"
     ]
    },
    {
     "name": "stdout",
     "output_type": "stream",
     "text": [
      "Training on 200 positives and 200 negatives, testing on 117 samples.\n"
     ]
    },
    {
     "name": "stderr",
     "output_type": "stream",
     "text": [
      "Training: 100%|██████████| 50/50 [00:07<00:00,  6.84it/s, loss=0.000534, Δloss=7.12e-06] \n"
     ]
    },
    {
     "name": "stdout",
     "output_type": "stream",
     "text": [
      "Training on 200 positives and 200 negatives, testing on 117 samples.\n"
     ]
    },
    {
     "name": "stderr",
     "output_type": "stream",
     "text": [
      "Training: 100%|██████████| 50/50 [00:07<00:00,  6.82it/s, loss=0.000515, Δloss=6.68e-06] \n"
     ]
    },
    {
     "name": "stdout",
     "output_type": "stream",
     "text": [
      "Training on 200 positives and 200 negatives, testing on 117 samples.\n"
     ]
    },
    {
     "name": "stderr",
     "output_type": "stream",
     "text": [
      "Training: 100%|██████████| 50/50 [00:07<00:00,  6.92it/s, loss=0.000532, Δloss=6.98e-06] \n"
     ]
    },
    {
     "name": "stdout",
     "output_type": "stream",
     "text": [
      "Training on 200 positives and 200 negatives, testing on 117 samples.\n"
     ]
    },
    {
     "name": "stderr",
     "output_type": "stream",
     "text": [
      "Training: 100%|██████████| 50/50 [00:07<00:00,  6.83it/s, loss=0.000505, Δloss=6.93e-06] \n"
     ]
    },
    {
     "name": "stdout",
     "output_type": "stream",
     "text": [
      "Training on 200 positives and 200 negatives, testing on 117 samples.\n"
     ]
    },
    {
     "name": "stderr",
     "output_type": "stream",
     "text": [
      "Training: 100%|██████████| 50/50 [00:08<00:00,  5.86it/s, loss=0.000525, Δloss=7.72e-06] \n"
     ]
    },
    {
     "name": "stdout",
     "output_type": "stream",
     "text": [
      "Training on 200 positives and 200 negatives, testing on 117 samples.\n"
     ]
    },
    {
     "name": "stderr",
     "output_type": "stream",
     "text": [
      "Training: 100%|██████████| 50/50 [00:08<00:00,  5.90it/s, loss=0.000542, Δloss=7.01e-06] \n"
     ]
    },
    {
     "name": "stdout",
     "output_type": "stream",
     "text": [
      "Training on 200 positives and 200 negatives, testing on 117 samples.\n"
     ]
    },
    {
     "name": "stderr",
     "output_type": "stream",
     "text": [
      "Training: 100%|██████████| 50/50 [00:08<00:00,  5.93it/s, loss=0.000523, Δloss=7.25e-06] \n"
     ]
    },
    {
     "name": "stdout",
     "output_type": "stream",
     "text": [
      "Training on 200 positives and 200 negatives, testing on 117 samples.\n"
     ]
    },
    {
     "name": "stderr",
     "output_type": "stream",
     "text": [
      "Training: 100%|██████████| 50/50 [00:08<00:00,  5.95it/s, loss=0.00054, Δloss=7.35e-06]  \n"
     ]
    },
    {
     "name": "stdout",
     "output_type": "stream",
     "text": [
      "Training on 200 positives and 200 negatives, testing on 117 samples.\n"
     ]
    },
    {
     "name": "stderr",
     "output_type": "stream",
     "text": [
      "Training: 100%|██████████| 50/50 [00:08<00:00,  5.82it/s, loss=0.000518, Δloss=6.79e-06] \n"
     ]
    },
    {
     "name": "stdout",
     "output_type": "stream",
     "text": [
      "Training on 200 positives and 200 negatives, testing on 117 samples.\n"
     ]
    },
    {
     "name": "stderr",
     "output_type": "stream",
     "text": [
      "Training: 100%|██████████| 50/50 [00:08<00:00,  6.11it/s, loss=0.000479, Δloss=7.45e-06] \n"
     ]
    },
    {
     "name": "stdout",
     "output_type": "stream",
     "text": [
      "Training on 200 positives and 200 negatives, testing on 117 samples.\n"
     ]
    },
    {
     "name": "stderr",
     "output_type": "stream",
     "text": [
      "Training: 100%|██████████| 50/50 [00:08<00:00,  5.85it/s, loss=0.00056, Δloss=7.44e-06]  \n"
     ]
    },
    {
     "name": "stdout",
     "output_type": "stream",
     "text": [
      "Training on 200 positives and 200 negatives, testing on 117 samples.\n"
     ]
    },
    {
     "name": "stderr",
     "output_type": "stream",
     "text": [
      "Training: 100%|██████████| 50/50 [00:08<00:00,  5.83it/s, loss=0.000525, Δloss=7.39e-06] \n"
     ]
    },
    {
     "name": "stdout",
     "output_type": "stream",
     "text": [
      "Training on 200 positives and 200 negatives, testing on 117 samples.\n"
     ]
    },
    {
     "name": "stderr",
     "output_type": "stream",
     "text": [
      "Training: 100%|██████████| 50/50 [00:08<00:00,  5.95it/s, loss=0.000502, Δloss=7.63e-06] \n"
     ]
    },
    {
     "name": "stdout",
     "output_type": "stream",
     "text": [
      "Training on 200 positives and 200 negatives, testing on 117 samples.\n"
     ]
    },
    {
     "name": "stderr",
     "output_type": "stream",
     "text": [
      "Training: 100%|██████████| 50/50 [00:08<00:00,  5.90it/s, loss=0.000517, Δloss=7.76e-06] \n"
     ]
    }
   ],
   "source": [
    "params = train.CNNParams(\n",
    "    embed_size=300,\n",
    "    dropout=0.0,\n",
    "    epochs=50,\n",
    "    filters=[(33, 3), (34, 5), (33, 7)],\n",
    "    num_layers=1\n",
    ")\n",
    "\n",
    "optim_fn = lambda p: torch.optim.Adadelta(p, weight_decay=1e-3)\n",
    "\n",
    "no_labels = evaluate.cross_val(10, 400, lambda r: models.NoClusterLabels(r, params.dropout),\n",
    "                               optim_fn, only_idx_dataset, params)\n",
    "only_center = evaluate.cross_val(10, 400, lambda r: models.CategoricalClusterLabelsOnlyCenter(r, num_clusters, params.dropout),\n",
    "                                 optim_fn, only_center_dataset, params)\n",
    "full_window = evaluate.cross_val(10, 400, lambda r: models.CategoricalClusterLabels(r, num_clusters, window_size, params.dropout),\n",
    "                                 optim_fn, full_window_dataset, params)\n",
    "with_cnn = evaluate.cross_val(10, 400, lambda r: models.ClusterLabelsCNN(r, num_clusters, params.dropout),\n",
    "                              optim_fn, only_idx_dataset, params)"
   ]
  },
  {
   "cell_type": "code",
   "execution_count": 5,
   "metadata": {},
   "outputs": [
    {
     "name": "stdout",
     "output_type": "stream",
     "text": [
      "Average convergence speed\n"
     ]
    },
    {
     "data": {
      "image/png": "[encoded data removed]",
      "text/plain": [
       "<matplotlib.figure.Figure at 0x7f2966a81f28>"
      ]
     },
     "metadata": {},
     "output_type": "display_data"
    },
    {
     "name": "stdout",
     "output_type": "stream",
     "text": [
      "\n",
      "Average P/R curve\n"
     ]
    },
    {
     "data": {
      "image/png": "[encoded data removed]",
      "text/plain": [
       "<matplotlib.figure.Figure at 0x7f289e05ec18>"
      ]
     },
     "metadata": {},
     "output_type": "display_data"
    },
    {
     "name": "stdout",
     "output_type": "stream",
     "text": [
      "\n",
      "Score table:\n",
      "               F1 mean    F1 stddev    AoC mean    AoC std    Area under averaged curve\n",
      "-----------  ---------  -----------  ----------  ---------  ---------------------------\n",
      "No labels     0.749483    0.0186683    0.751369  0.015763                      0.804154\n",
      "Only center   0.761342    0.0180184    0.764932  0.013936                      0.820526\n",
      "Full window   0.822306    0.0283985    0.805362  0.025949                      0.854851\n",
      "With CNN      0.818964    0.0251438    0.800509  0.0460182                     0.84903\n",
      "\n",
      "AP plots:\n"
     ]
    },
    {
     "data": {
      "image/png": "[encoded data removed]",
      "text/plain": [
       "<matplotlib.figure.Figure at 0x7f289e0b62e8>"
      ]
     },
     "metadata": {},
     "output_type": "display_data"
    },
    {
     "data": {
      "image/png": "[encoded data removed]",
      "text/plain": [
       "<matplotlib.figure.Figure at 0x7f289e07ea20>"
      ]
     },
     "metadata": {},
     "output_type": "display_data"
    },
    {
     "name": "stdout",
     "output_type": "stream",
     "text": [
      "\n",
      "F1 plots:\n"
     ]
    },
    {
     "data": {
      "image/png": "[encoded data removed]",
      "text/plain": [
       "<matplotlib.figure.Figure at 0x7f289e080860>"
      ]
     },
     "metadata": {},
     "output_type": "display_data"
    },
    {
     "data": {
      "image/png": "[encoded data removed]",
      "text/plain": [
       "<matplotlib.figure.Figure at 0x7f289ddbfc88>"
      ]
     },
     "metadata": {},
     "output_type": "display_data"
    },
    {
     "name": "stdout",
     "output_type": "stream",
     "text": [
      "\n",
      "Statistical significance:\n",
      "F1 score\n",
      "               No labels    Only center    Full window     With CNN\n",
      "-----------  -----------  -------------  -------------  -----------\n",
      "No labels    1              0.187184       9.55362e-06  4.56166e-06\n",
      "Only center  0.187184       1              6.49426e-05  3.79602e-05\n",
      "Full window  9.55362e-06    6.49426e-05    1            0.794574\n",
      "With CNN     4.56166e-06    3.79602e-05    0.794574     1\n",
      "\n",
      "Area under curve\n",
      "               No labels    Only center    Full window    With CNN\n",
      "-----------  -----------  -------------  -------------  ----------\n",
      "No labels    1               0.0692561     8.62764e-05   0.0113462\n",
      "Only center  0.0692561       1             0.00107621    0.0491773\n",
      "Full window  8.62764e-05     0.00107621    1             0.786814\n",
      "With CNN     0.0113462       0.0491773     0.786814      1\n"
     ]
    }
   ],
   "source": [
    "evaluate.analyze({'No labels': no_labels,\n",
    "                  'Only center': only_center,\n",
    "                  'Full window': full_window,\n",
    "                  'With CNN': with_cnn})"
   ]
  },
  {
   "cell_type": "markdown",
   "metadata": {},
   "source": [
    "## 500 samples"
   ]
  },
  {
   "cell_type": "code",
   "execution_count": null,
   "metadata": {},
   "outputs": [],
   "source": [
    "params = train.CNNParams(\n",
    "    embed_size=300,\n",
    "    dropout=0.0,\n",
    "    epochs=50,\n",
    "    filters=[(33, 3), (34, 5), (33, 7)],\n",
    "    num_layers=1\n",
    ")\n",
    "\n",
    "optim_fn = lambda p: torch.optim.Adadelta(p, weight_decay=1e-3)\n",
    "\n",
    "no_labels = evaluate.cross_val(5, lambda r: models.NoClusterLabels(r, params.dropout),\n",
    "                                 optim_fn, only_idx_dataset.split((250, 250)), params)\n",
    "only_center = evaluate.cross_val(5, lambda r: models.CategoricalClusterLabelsOnlyCenter(r, num_clusters, params.dropout),\n",
    "                                 optim_fn, only_center_dataset.split((250, 250)), params)\n",
    "full_window = evaluate.cross_val(5, lambda r: models.CategoricalClusterLabels(r, num_clusters, window_size, params.dropout),\n",
    "                                 optim_fn, full_window_dataset.split((250, 250)), params)\n",
    "with_cnn = evaluate.cross_val(5, lambda r: models.ClusterLabelsCNN(r, num_clusters, params.dropout),\n",
    "                              optim_fn, only_idx_dataset.split((250, 250)), params)"
   ]
  },
  {
   "cell_type": "code",
   "execution_count": null,
   "metadata": {},
   "outputs": [],
   "source": [
    "evaluate.analyze({'No labels': no_labels,\n",
    "                  'Only center': only_center,\n",
    "                  'Full window': full_window,\n",
    "                  'With CNN': with_cnn})"
   ]
  }
 ],
 "metadata": {
  "kernelspec": {
   "display_name": "Python 3",
   "language": "python",
   "name": "python3"
  },
  "language_info": {
   "codemirror_mode": {
    "name": "ipython",
    "version": 3
   },
   "file_extension": ".py",
   "mimetype": "text/x-python",
   "name": "python",
   "nbconvert_exporter": "python",
   "pygments_lexer": "ipython3",
   "version": "3.6.5"
  }
 },
 "nbformat": 4,
 "nbformat_minor": 2
}

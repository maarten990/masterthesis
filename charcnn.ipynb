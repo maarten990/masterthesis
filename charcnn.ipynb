{
 "cells": [
  {
   "cell_type": "code",
   "execution_count": 1,
   "metadata": {},
   "outputs": [
    {
     "name": "stdout",
     "output_type": "stream",
     "text": [
      "C:\\Users\\mdejo\\Documents\\Projects\\Masterthesis\\supervised\n"
     ]
    }
   ],
   "source": [
    "%cd supervised\n",
    "%load_ext autoreload\n",
    "%autoreload 2\n",
    "\n",
    "import data\n",
    "import train\n",
    "import evaluate\n",
    "import models\n",
    "import torch"
   ]
  },
  {
   "cell_type": "code",
   "execution_count": 2,
   "metadata": {
    "collapsed": true
   },
   "outputs": [],
   "source": [
    "import pickle\n",
    "\n",
    "def save(data, fname):\n",
    "    with open(fname, 'wb') as f:\n",
    "        pickle.dump(data, f)\n",
    "    \n",
    "def load(fname):\n",
    "    with open(fname, 'rb') as f:\n",
    "        return pickle.load(f)"
   ]
  },
  {
   "cell_type": "code",
   "execution_count": 31,
   "metadata": {},
   "outputs": [
    {
     "name": "stderr",
     "output_type": "stream",
     "text": [
      "Creating dictionary: 100%|█████████████████████████████████████████████████████████████████| 17/17 [00:03<00:00,  4.52it/s]\n",
      "Creating dictionary: 100%|█████████████████████████████████████████████████████████████████| 17/17 [00:04<00:00,  3.72it/s]\n",
      "Creating dictionary: 100%|█████████████████████████████████████████████████████████████████| 17/17 [00:04<00:00,  3.62it/s]\n",
      "Creating dictionary: 100%|█████████████████████████████████████████████████████████████████| 17/17 [00:04<00:00,  3.83it/s]\n"
     ]
    }
   ],
   "source": [
    "dataset1, validset1, testset1 = evaluate.load_dataset(9, 0, 1, True)\n",
    "dataset2, validset2, testset2 = evaluate.load_dataset(9, 1, 1, True)"
   ]
  },
  {
   "cell_type": "code",
   "execution_count": 13,
   "metadata": {},
   "outputs": [
    {
     "name": "stdout",
     "output_type": "stream",
     "text": [
      "Counter({22: 3890})\n",
      "Counter({33: 3890})\n"
     ]
    }
   ],
   "source": [
    "import numpy as np\n",
    "from collections import Counter\n",
    "print(Counter(np.shape(s.clusters_gmm)[1] for s in dataset1))\n",
    "print(Counter(np.shape(s.clusters_gmm)[1] for s in dataset2))"
   ]
  },
  {
   "cell_type": "code",
   "execution_count": 33,
   "metadata": {},
   "outputs": [],
   "source": [
    "assert(len([d.label for d in dataset1 if np.all(d.label == 1)])\n",
    "       ==len([d.label for d in dataset1 if np.all(d.label == 0)]))\n",
    "\n",
    "for d1, d2 in zip(dataset1, dataset2):\n",
    "    assert(np.all([w in d2.X_words for w in np.nditer(d1.X_words)]))\n",
    "    assert(np.all([w in d2.X_chars for w in np.nditer(d1.X_chars)]))\n",
    "    assert(np.all(d1.label == d2.label))"
   ]
  },
  {
   "cell_type": "code",
   "execution_count": 19,
   "metadata": {},
   "outputs": [
    {
     "name": "stdout",
     "output_type": "stream",
     "text": [
      "> <ipython-input-18-fc5c80706b59>(5)<module>()\n",
      "      3 \n",
      "      4 for d1, d2 in zip(dataset1, dataset2):\n",
      "----> 5     assert(np.all([w in d2.X_words for w in d1.X_words]))\n",
      "      6     assert(np.all([w in d2.X_chars for w in d1.X_chars]))\n",
      "      7     assert(np.all(d1.label == d2.label))\n",
      "\n",
      "ipdb> d1\n",
      "Sample(\n",
      "    (1, 14)\n",
      "    (1, 67)\n",
      "    (1, 18)\n",
      "    (1, 22)\n",
      "    (1,)\n",
      ")\n",
      "ipdb> d2\n",
      "Sample(\n",
      "    (1, 20)\n",
      "    (1, 82)\n",
      "    (1, 27)\n",
      "    (1, 33)\n",
      "    (1,)\n",
      ")\n",
      "ipdb> [w in d2.X_words for w in d1.X_words]\n"
     ]
    },
    {
     "name": "stderr",
     "output_type": "stream",
     "text": [
      "c:\\users\\mdejo\\miniconda3\\lib\\site-packages\\ipykernel_launcher.py:1: DeprecationWarning: elementwise == comparison failed; this will raise an error in the future.\n",
      "  \"\"\"Entry point for launching an IPython kernel.\n"
     ]
    },
    {
     "name": "stdout",
     "output_type": "stream",
     "text": [
      "[False]\n",
      "ipdb> d1.X_words\n",
      "array([[0, 0, 0, 0, 0, 0, 0, 0, 0, 0, 0, 0, 0, 0]])\n",
      "ipdb> [i for i in d1.X_words]\n",
      "[array([0, 0, 0, 0, 0, 0, 0, 0, 0, 0, 0, 0, 0, 0])]\n",
      "ipdb> d1.X_chars\n",
      "array([[0, 0, 0, 0, 0, 0, 0, 0, 0, 0, 0, 0, 0, 0, 0, 0, 0, 0, 0, 0, 0, 0,\n",
      "        0, 0, 0, 0, 0, 0, 0, 0, 0, 0, 0, 0, 0, 0, 0, 0, 0, 0, 0, 0, 0, 0,\n",
      "        0, 0, 0, 0, 0, 0, 0, 0, 0, 0, 0, 0, 0, 0, 0, 0, 0, 0, 0, 0, 0, 0, 0]])\n",
      "ipdb> dataset1.vocab\n",
      "*** AttributeError: 'GermanDataset' object has no attribute 'vocab'\n",
      "ipdb> q\n"
     ]
    }
   ],
   "source": [
    "%debug"
   ]
  },
  {
   "cell_type": "markdown",
   "metadata": {},
   "source": [
    "# Training size, full cross validation"
   ]
  },
  {
   "cell_type": "code",
   "execution_count": null,
   "metadata": {
    "collapsed": true
   },
   "outputs": [],
   "source": [
    "# main test\n",
    "\n",
    "window_size = 2\n",
    "num_clusters = 9\n",
    "dataset, validset = load_dataset(num_clusters, window_size)\n",
    "\n",
    "params = train.CNNParams(\n",
    "    embed_size=100,\n",
    "    dropout=0.5,\n",
    "    epochs=100,\n",
    "    filters=[(33, 3), (33, 5), (33, 7)],\n",
    "    num_layers=1,\n",
    "    max_norm=3,\n",
    ")\n",
    "\n",
    "optim_fn = lambda p: torch.optim.Adadelta(p)\n",
    "model_fns = [lambda r: models.NoClusterLabels(r, params.dropout),\n",
    "             lambda r: models.CategoricalClusterLabels(r, num_clusters, window_size, params.dropout)]\n",
    "#             lambda r: models.CategoricalClusterLabels(r, num_clusters, window_size, params.dropout)]\n",
    "\n",
    "baseline = {}\n",
    "kmeans = {}\n",
    "gmm = {}\n",
    "\n",
    "for n in [50, 100, 400, 800, 1200, 1600, 2000, 2400]:\n",
    "    values = evaluate.cross_val(10, n, model_fns, [False, False], optim_fn, dataset, params,\n",
    "                                early_stopping=10,\n",
    "                                validation_set=validset,\n",
    "                                testset=None)\n",
    "    baseline[n] = [v[0] for v in values]\n",
    "    kmeans[n] = [v[1] for v in values]\n",
    "#    gmm[n] = [v[2] for v in values]"
   ]
  },
  {
   "cell_type": "code",
   "execution_count": null,
   "metadata": {
    "collapsed": true
   },
   "outputs": [],
   "source": [
    "d = {s: {'Baseline': baseline[s],\n",
    "         'K-Means': kmeans[s],\n",
    "#         'Mixture model': gmm[s],\n",
    "        }\n",
    "    for s in baseline.keys()\n",
    "}\n",
    "evaluate.analyze_tseries(d, 'number of training samples', 'model', '../report/figures/results/main_window4_oldtest')\n",
    "evaluate.analyze_size(d, 'number of samples', 'model', '../report/figures/results/main_window4_oldtest')"
   ]
  },
  {
   "cell_type": "code",
   "execution_count": null,
   "metadata": {
    "collapsed": true,
    "scrolled": true
   },
   "outputs": [],
   "source": [
    "evaluate.analyze_wrapper(baseline, kmeans, None, 'model', '../report/figures/results/main_window4_data_oldtest')\n",
    "#evaluate.analyze_wrapper(baseline, kmeans, gmm, 'model')"
   ]
  },
  {
   "cell_type": "markdown",
   "metadata": {},
   "source": [
    "# Training size, older test set"
   ]
  },
  {
   "cell_type": "code",
   "execution_count": null,
   "metadata": {
    "collapsed": true
   },
   "outputs": [],
   "source": [
    "# test on old data\n",
    "\n",
    "window_size = 4\n",
    "num_clusters = 9\n",
    "dataset, validset, testset = load_dataset(num_clusters, window_size, True)\n",
    "\n",
    "params = train.CNNParams(\n",
    "    embed_size=100,\n",
    "    dropout=0.5,\n",
    "    epochs=100,\n",
    "    filters=[(33, 3), (33, 5), (33, 7)],\n",
    "    num_layers=1,\n",
    "    max_norm=3,\n",
    ")\n",
    "\n",
    "optim_fn = lambda p: torch.optim.Adadelta(p)\n",
    "model_fns = [lambda r: models.NoClusterLabels(r, params.dropout),\n",
    "             lambda r: models.CategoricalClusterLabels(r, num_clusters, window_size, params.dropout)]\n",
    "#             lambda r: models.CategoricalClusterLabels(r, num_clusters, window_size, params.dropout)]\n",
    "\n",
    "baseline = {}\n",
    "kmeans = {}\n",
    "gmm = {}\n",
    "\n",
    "for n in [50, 100, 400, 800, 1200, 1600, 2000, 2400]:\n",
    "    values = evaluate.cross_val(10, n, model_fns, [False, False], optim_fn, dataset, params,\n",
    "                                early_stopping=10,\n",
    "                                validation_set=validset,\n",
    "                                testset=testset)\n",
    "    baseline[n] = [v[0] for v in values]\n",
    "    kmeans[n] = [v[1] for v in values]\n",
    "#    gmm[n] = [v[2] for v in values]"
   ]
  },
  {
   "cell_type": "markdown",
   "metadata": {},
   "source": [
    "# Window size, full cross validation"
   ]
  },
  {
   "cell_type": "code",
   "execution_count": 34,
   "metadata": {},
   "outputs": [
    {
     "name": "stderr",
     "output_type": "stream",
     "text": [
      "Creating dictionary:  71%|█████████████████████████████████████████████▉                   | 12/17 [00:02<00:01,  4.92it/s]\n"
     ]
    },
    {
     "ename": "KeyboardInterrupt",
     "evalue": "",
     "output_type": "error",
     "traceback": [
      "\u001b[1;31m---------------------------------------------------------------------------\u001b[0m",
      "\u001b[1;31mKeyboardInterrupt\u001b[0m                         Traceback (most recent call last)",
      "\u001b[1;32m<ipython-input-34-36be9aa7b663>\u001b[0m in \u001b[0;36m<module>\u001b[1;34m()\u001b[0m\n\u001b[0;32m     29\u001b[0m \u001b[1;32mfor\u001b[0m \u001b[0mwindow_size\u001b[0m \u001b[1;32min\u001b[0m \u001b[1;33m[\u001b[0m\u001b[1;36m1\u001b[0m\u001b[1;33m]\u001b[0m\u001b[1;33m:\u001b[0m\u001b[1;33m\u001b[0m\u001b[0m\n\u001b[0;32m     30\u001b[0m     \u001b[0mnum_clusters\u001b[0m \u001b[1;33m=\u001b[0m \u001b[1;36m9\u001b[0m\u001b[1;33m\u001b[0m\u001b[0m\n\u001b[1;32m---> 31\u001b[1;33m     \u001b[0mdataset\u001b[0m\u001b[1;33m,\u001b[0m \u001b[0mvalidset\u001b[0m \u001b[1;33m=\u001b[0m \u001b[0mevaluate\u001b[0m\u001b[1;33m.\u001b[0m\u001b[0mload_dataset\u001b[0m\u001b[1;33m(\u001b[0m\u001b[0mnum_clusters\u001b[0m\u001b[1;33m,\u001b[0m \u001b[0mwindow_size\u001b[0m\u001b[1;33m)\u001b[0m\u001b[1;33m\u001b[0m\u001b[0m\n\u001b[0m\u001b[0;32m     32\u001b[0m \u001b[1;33m\u001b[0m\u001b[0m\n\u001b[0;32m     33\u001b[0m     values = evaluate.cross_val(5, 1600, model_fns, [False, False, False, False], optim_fn, dataset,\n",
      "\u001b[1;32mC:\\Users\\mdejo\\Documents\\Projects\\Masterthesis\\supervised\\evaluate.py\u001b[0m in \u001b[0;36mload_dataset\u001b[1;34m(num_clusters, num_before, num_after, old_test)\u001b[0m\n\u001b[0;32m    515\u001b[0m         \u001b[1;36m11\u001b[0m\u001b[1;33m,\u001b[0m\u001b[1;33m\u001b[0m\u001b[0m\n\u001b[0;32m    516\u001b[0m         \u001b[0mnum_before\u001b[0m\u001b[1;33m,\u001b[0m\u001b[1;33m\u001b[0m\u001b[0m\n\u001b[1;32m--> 517\u001b[1;33m         \u001b[0mnum_after\u001b[0m\u001b[1;33m,\u001b[0m\u001b[1;33m\u001b[0m\u001b[0m\n\u001b[0m\u001b[0;32m    518\u001b[0m     )\n\u001b[0;32m    519\u001b[0m     \u001b[0mword_vocab\u001b[0m \u001b[1;33m=\u001b[0m \u001b[0mvocab_set\u001b[0m\u001b[1;33m.\u001b[0m\u001b[0mword_vocab\u001b[0m\u001b[1;33m\u001b[0m\u001b[0m\n",
      "\u001b[1;32mC:\\Users\\mdejo\\Documents\\Projects\\Masterthesis\\supervised\\data.py\u001b[0m in \u001b[0;36m__init__\u001b[1;34m(self, files, gmm_files, num_clusterlabels, num_gmm_clusters, window_before, window_after, word_vocab, char_vocab, bag_of_words)\u001b[0m\n\u001b[0;32m    141\u001b[0m     ) -> None:\n\u001b[0;32m    142\u001b[0m         self.word_vocab = (\n\u001b[1;32m--> 143\u001b[1;33m             \u001b[0mcreate_dictionary\u001b[0m\u001b[1;33m(\u001b[0m\u001b[0mfiles\u001b[0m\u001b[1;33m,\u001b[0m \u001b[1;32mFalse\u001b[0m\u001b[1;33m)\u001b[0m \u001b[1;32mif\u001b[0m \u001b[1;32mnot\u001b[0m \u001b[0mword_vocab\u001b[0m \u001b[1;32melse\u001b[0m \u001b[0mword_vocab\u001b[0m\u001b[1;33m\u001b[0m\u001b[0m\n\u001b[0m\u001b[0;32m    144\u001b[0m         )\n\u001b[0;32m    145\u001b[0m         self.char_vocab = (\n",
      "\u001b[1;32mC:\\Users\\mdejo\\Documents\\Projects\\Masterthesis\\supervised\\data.py\u001b[0m in \u001b[0;36mcreate_dictionary\u001b[1;34m(paths, char_tokens)\u001b[0m\n\u001b[0;32m    441\u001b[0m     \u001b[1;32mfor\u001b[0m \u001b[0mpath\u001b[0m \u001b[1;32min\u001b[0m \u001b[0mtqdm\u001b[0m\u001b[1;33m(\u001b[0m\u001b[0mpaths\u001b[0m\u001b[1;33m,\u001b[0m \u001b[0mdesc\u001b[0m\u001b[1;33m=\u001b[0m\u001b[1;34m\"Creating dictionary\"\u001b[0m\u001b[1;33m)\u001b[0m\u001b[1;33m:\u001b[0m\u001b[1;33m\u001b[0m\u001b[0m\n\u001b[0;32m    442\u001b[0m         \u001b[0mxml\u001b[0m \u001b[1;33m=\u001b[0m \u001b[0mload_xml_from_disk\u001b[0m\u001b[1;33m(\u001b[0m\u001b[0mpath\u001b[0m\u001b[1;33m)\u001b[0m\u001b[1;33m\u001b[0m\u001b[0m\n\u001b[1;32m--> 443\u001b[1;33m         \u001b[0mtext\u001b[0m \u001b[1;33m=\u001b[0m \u001b[1;34m\" \"\u001b[0m\u001b[1;33m.\u001b[0m\u001b[0mjoin\u001b[0m\u001b[1;33m(\u001b[0m\u001b[0mxml\u001b[0m\u001b[1;33m.\u001b[0m\u001b[0mxpath\u001b[0m\u001b[1;33m(\u001b[0m\u001b[1;34m\"/pdf2xml/page/text/text()\"\u001b[0m\u001b[1;33m)\u001b[0m\u001b[1;33m)\u001b[0m\u001b[1;33m.\u001b[0m\u001b[0mlower\u001b[0m\u001b[1;33m(\u001b[0m\u001b[1;33m)\u001b[0m\u001b[1;33m\u001b[0m\u001b[0m\n\u001b[0m\u001b[0;32m    444\u001b[0m         \u001b[1;32mif\u001b[0m \u001b[0mchar_tokens\u001b[0m\u001b[1;33m:\u001b[0m\u001b[1;33m\u001b[0m\u001b[0m\n\u001b[0;32m    445\u001b[0m             \u001b[0mtokens\u001b[0m \u001b[1;33m=\u001b[0m \u001b[1;33m[\u001b[0m\u001b[0mchar\u001b[0m \u001b[1;32mfor\u001b[0m \u001b[0mtoken\u001b[0m \u001b[1;32min\u001b[0m \u001b[0mtokenizer\u001b[0m\u001b[1;33m.\u001b[0m\u001b[0mtokenize\u001b[0m\u001b[1;33m(\u001b[0m\u001b[0mtext\u001b[0m\u001b[1;33m)\u001b[0m \u001b[1;32mfor\u001b[0m \u001b[0mchar\u001b[0m \u001b[1;32min\u001b[0m \u001b[0mtoken\u001b[0m\u001b[1;33m]\u001b[0m\u001b[1;33m\u001b[0m\u001b[0m\n",
      "\u001b[1;31mKeyboardInterrupt\u001b[0m: "
     ]
    }
   ],
   "source": [
    "params = train.CNNParams(\n",
    "    embed_size=100,\n",
    "    dropout=0.5,\n",
    "    epochs=100,\n",
    "    filters=[(33, 3), (33, 5), (33, 7)],\n",
    "    num_layers=1,\n",
    "    max_norm=3,\n",
    ")\n",
    "\n",
    "char_params = train.CharCNNParams(\n",
    "    dropout=0.5,\n",
    "    epochs=100,\n",
    "    max_norm=3,\n",
    ")\n",
    "\n",
    "#optim_fn = lambda p: torch.optim.Adadelta(p)\n",
    "optim_fn = lambda p: torch.optim.Adam(p, weight_decay=0.0001)\n",
    "model_fns = [lambda r: models.NoClusterLabels(r, params.dropout),\n",
    "             lambda r: models.CategoricalClusterLabels(r, num_clusters, window_size, params.dropout),\n",
    "             \n",
    "             lambda r: models.NoClusterLabels(r, char_params.dropout),\n",
    "             lambda r: models.CategoricalClusterLabels(r, num_clusters, window_size, char_params.dropout)]\n",
    "    \n",
    "#baseline = {}\n",
    "#kmeans = {}\n",
    "#char_baseline = {}\n",
    "#char_kmeans = {}\n",
    "\n",
    "for window_size in [1]:\n",
    "    num_clusters = 9\n",
    "    dataset, validset = evaluate.load_dataset(num_clusters, window_size)\n",
    "\n",
    "    values = evaluate.cross_val(5, 1600, model_fns, [False, False, False, False], optim_fn, dataset,\n",
    "                                params=[params, params, char_params, char_params],\n",
    "                                early_stopping=10,\n",
    "                                validation_set=None,\n",
    "                                batch_size=128,\n",
    "                                testset=None)\n",
    "    baseline[window_size] = [v[0] for v in values]\n",
    "    kmeans[window_size] = [v[1] for v in values]\n",
    "    char_baseline[window_size] = [v[2] for v in values]\n",
    "    char_kmeans[window_size] = [v[3] for v in values]"
   ]
  },
  {
   "cell_type": "code",
   "execution_count": null,
   "metadata": {
    "collapsed": true
   },
   "outputs": [],
   "source": [
    "d = {\n",
    "    \"WordCNN\": {\n",
    "        s: {\n",
    "            'Baseline': baseline[s],\n",
    "            'K-Means': kmeans[s],\n",
    "        }\n",
    "        for s in baseline.keys()\n",
    "    },\n",
    "    \"CharCNN\": {\n",
    "        s: {\n",
    "            'Baseline': char_baseline[s],\n",
    "            'K-Means': char_kmeans[s],\n",
    "        }\n",
    "        for s in baseline.keys()\n",
    "    }\n",
    "}\n",
    "#evaluate.analyze_tseries(d, 'window size', 'model')\n",
    "evaluate.analyze_cnns(d, \"window size\", \"model\", \"../report/figures/results/1600-windowsize\")"
   ]
  },
  {
   "cell_type": "markdown",
   "metadata": {},
   "source": [
    "# Window size, older testset"
   ]
  },
  {
   "cell_type": "code",
   "execution_count": 35,
   "metadata": {},
   "outputs": [
    {
     "name": "stderr",
     "output_type": "stream",
     "text": [
      "Creating dictionary: 100%|█████████████████████████████████████████████████████████████████| 17/17 [00:03<00:00,  4.58it/s]\n",
      "Creating dictionary: 100%|█████████████████████████████████████████████████████████████████| 17/17 [00:04<00:00,  3.93it/s]\n",
      "\n",
      "  0%|                                                                                                | 0/5 [00:00<?, ?it/s]"
     ]
    },
    {
     "name": "stdout",
     "output_type": "stream",
     "text": [
      "[2131  725 1801 ...,  260 3341 1694]\n",
      "2000 training samples, 1132 testing samples\n"
     ]
    },
    {
     "name": "stderr",
     "output_type": "stream",
     "text": [
      "Training:   8%|███▊                                               | 15/200 [00:14<03:04,  1.00it/s, f1=0.881, Δf1=-0.00166]\n",
      "Training:   8%|███▊                                               | 15/200 [00:13<02:46,  1.11it/s, f1=0.897, Δf1=-0.00016]\n",
      "Training:   8%|███▊                                               | 15/200 [00:14<03:03,  1.01it/s, f1=0.921, Δf1=-0.00433]\n",
      "Training:  12%|██████▍                                            | 25/200 [00:25<02:56,  1.01s/it, f1=0.947, Δf1=-0.00152]\n",
      "\n",
      " 20%|█████████████████▌                                                                      | 1/5 [01:16<05:05, 76.41s/it]"
     ]
    },
    {
     "name": "stdout",
     "output_type": "stream",
     "text": [
      "[3442 1761 2281 ...,  231 1316 2548]\n"
     ]
    },
    {
     "name": "stderr",
     "output_type": "stream",
     "text": [
      "Training:  18%|████████▉                                          | 35/200 [00:33<02:36,  1.05it/s, f1=0.912, Δf1=-0.00259]\n",
      "Training:  12%|██████▎                                           | 25/200 [00:23<02:42,  1.08it/s, f1=0.906, Δf1=-0.000406]\n",
      "Training:  10%|█████▏                                              | 20/200 [00:19<02:53,  1.04it/s, f1=0.926, Δf1=-0.0112]\n",
      "Training:  10%|█████                                              | 20/200 [00:19<02:57,  1.01it/s, f1=0.944, Δf1=-0.00275]\n",
      "\n",
      " 40%|███████████████████████████████████▏                                                    | 2/5 [02:59<04:29, 89.85s/it]"
     ]
    },
    {
     "name": "stdout",
     "output_type": "stream",
     "text": [
      "[  10  683 2628 ..., 1125 1557 3658]\n"
     ]
    },
    {
     "name": "stderr",
     "output_type": "stream",
     "text": [
      "Training:   5%|██▌                                                | 10/200 [00:10<03:14,  1.02s/it, f1=0.896, Δf1=-0.00346]\n",
      "Training:  18%|████████▊                                         | 35/200 [00:35<02:46,  1.01s/it, f1=0.897, Δf1=-0.000105]\n",
      "Training:  10%|█████                                              | 20/200 [00:23<03:27,  1.15s/it, f1=0.935, Δf1=-0.00175]\n",
      "Training:  15%|███████▊                                            | 30/200 [00:33<03:11,  1.12s/it, f1=0.946, Δf1=-0.0033]\n",
      "\n",
      " 60%|████████████████████████████████████████████████████▊                                   | 3/5 [04:50<03:13, 96.96s/it]"
     ]
    },
    {
     "name": "stdout",
     "output_type": "stream",
     "text": [
      "[2362 3138 1297 ...,  205 2287 1247]\n"
     ]
    },
    {
     "name": "stderr",
     "output_type": "stream",
     "text": [
      "Training:  12%|███████▎                                                  | 25/200 [00:27<03:12,  1.10s/it, f1=0.882, Δf1=0]\n",
      "Training:   8%|███▊                                               | 15/200 [00:15<03:17,  1.07s/it, f1=0.894, Δf1=-0.00217]\n",
      "Training:  20%|███████████▌                                              | 40/200 [00:47<03:08,  1.18s/it, f1=0.935, Δf1=0]\n",
      "Training:  10%|█████                                             | 20/200 [00:22<03:23,  1.13s/it, f1=0.943, Δf1=-0.000565]\n",
      "\n",
      " 80%|█████████████████████████████████████████████████████████████████████▌                 | 4/5 [06:53<01:43, 103.35s/it]"
     ]
    },
    {
     "name": "stdout",
     "output_type": "stream",
     "text": [
      "[3690 3243 2192 ..., 2801 1146 2757]\n"
     ]
    },
    {
     "name": "stderr",
     "output_type": "stream",
     "text": [
      "Training:  10%|█████                                              | 20/200 [00:20<03:00,  1.00s/it, f1=0.889, Δf1=-0.00894]\n",
      "Training:  12%|██████▍                                            | 25/200 [00:24<02:50,  1.02it/s, f1=0.893, Δf1=-0.00739]\n",
      "Training:  10%|█████▏                                              | 20/200 [00:21<03:17,  1.10s/it, f1=0.933, Δf1=-0.0078]\n",
      "Training:  12%|██████▍                                            | 25/200 [00:26<03:08,  1.07s/it, f1=0.946, Δf1=-0.00633]\n",
      "\n",
      "100%|███████████████████████████████████████████████████████████████████████████████████████| 5/5 [08:35<00:00, 103.04s/it]\n",
      "Creating dictionary: 100%|█████████████████████████████████████████████████████████████████| 17/17 [00:04<00:00,  4.12it/s]\n",
      "Creating dictionary: 100%|█████████████████████████████████████████████████████████████████| 17/17 [00:04<00:00,  3.56it/s]\n",
      "\n",
      "  0%|                                                                                                | 0/5 [00:00<?, ?it/s]"
     ]
    },
    {
     "name": "stdout",
     "output_type": "stream",
     "text": [
      "[2131  725 1801 ...,  260 3341 1694]\n",
      "2000 training samples, 1132 testing samples\n"
     ]
    },
    {
     "name": "stderr",
     "output_type": "stream",
     "text": [
      "Training:   8%|███▊                                              | 15/200 [00:16<03:23,  1.10s/it, f1=0.972, Δf1=-0.000604]\n",
      "Training:  10%|█████▏                                              | 20/200 [00:20<03:06,  1.04s/it, f1=0.98, Δf1=-0.00149]\n",
      "Training:  10%|█████                                             | 20/200 [00:23<03:33,  1.19s/it, f1=0.962, Δf1=-0.000797]\n",
      "Training:  12%|██████▍                                            | 25/200 [00:30<03:34,  1.22s/it, f1=0.928, Δf1=-0.00113]\n",
      "\n",
      " 20%|█████████████████▍                                                                     | 1/5 [01:41<06:44, 101.10s/it]"
     ]
    },
    {
     "name": "stdout",
     "output_type": "stream",
     "text": [
      "[3442 1761 2281 ...,  231 1316 2548]\n"
     ]
    },
    {
     "name": "stderr",
     "output_type": "stream",
     "text": [
      "Training:   8%|████▎                                                     | 15/200 [00:17<03:32,  1.15s/it, f1=0.982, Δf1=0]\n",
      "Training:  10%|█████                                              | 20/200 [00:22<03:24,  1.14s/it, f1=0.974, Δf1=-0.00315]\n",
      "Training:  12%|██████▎                                           | 25/200 [00:29<03:24,  1.17s/it, f1=0.967, Δf1=-0.000827]\n",
      "Training:  12%|██████▍                                            | 25/200 [00:29<03:26,  1.18s/it, f1=0.922, Δf1=-0.00486]\n",
      "\n",
      " 40%|██████████████████████████████████▊                                                    | 2/5 [03:29<05:14, 104.69s/it]"
     ]
    },
    {
     "name": "stdout",
     "output_type": "stream",
     "text": [
      "[  10  683 2628 ..., 1125 1557 3658]\n"
     ]
    },
    {
     "name": "stderr",
     "output_type": "stream",
     "text": [
      "Training:   8%|███▊                                              | 15/200 [00:17<03:33,  1.15s/it, f1=0.977, Δf1=-0.000567]\n",
      "Training:  12%|██████▎                                           | 25/200 [00:26<03:05,  1.06s/it, f1=0.972, Δf1=-0.000492]\n",
      "Training:  12%|██████▎                                           | 25/200 [00:30<03:33,  1.22s/it, f1=0.964, Δf1=-0.000457]\n",
      "Training:  10%|█████                                              | 20/200 [00:23<03:34,  1.19s/it, f1=0.919, Δf1=-0.00253]\n",
      "\n",
      " 60%|████████████████████████████████████████████████████▏                                  | 3/5 [05:16<03:31, 105.55s/it]"
     ]
    },
    {
     "name": "stdout",
     "output_type": "stream",
     "text": [
      "[2362 3138 1297 ...,  205 2287 1247]\n"
     ]
    },
    {
     "name": "stderr",
     "output_type": "stream",
     "text": [
      "Training:  12%|███████▎                                                  | 25/200 [00:26<03:06,  1.06s/it, f1=0.974, Δf1=0]\n",
      "Training:  15%|███████▌                                          | 30/200 [00:32<03:02,  1.07s/it, f1=0.971, Δf1=-0.000517]\n",
      "Training:  12%|███████▎                                                  | 25/200 [00:29<03:26,  1.18s/it, f1=0.973, Δf1=0]\n",
      "Training:  28%|█████████████▊                                    | 55/200 [01:04<02:48,  1.17s/it, f1=0.935, Δf1=-0.000548]\n",
      "\n",
      " 80%|█████████████████████████████████████████████████████████████████████▌                 | 4/5 [07:57<01:59, 119.47s/it]"
     ]
    },
    {
     "name": "stdout",
     "output_type": "stream",
     "text": [
      "[3690 3243 2192 ..., 2801 1146 2757]\n"
     ]
    },
    {
     "name": "stderr",
     "output_type": "stream",
     "text": [
      "Training:  18%|██████████▏                                               | 35/200 [00:36<02:53,  1.05s/it, f1=0.982, Δf1=0]\n",
      "Training:  25%|██████████████▌                                           | 50/200 [00:51<02:35,  1.03s/it, f1=0.972, Δf1=0]\n",
      "Training:  10%|█████                                             | 20/200 [00:21<03:13,  1.08s/it, f1=0.958, Δf1=-0.000259]\n",
      "Training:  15%|███████▋                                           | 30/200 [00:32<03:01,  1.07s/it, f1=0.927, Δf1=-0.00219]\n",
      "\n",
      "100%|███████████████████████████████████████████████████████████████████████████████████████| 5/5 [10:28<00:00, 125.70s/it]\n",
      "Creating dictionary: 100%|█████████████████████████████████████████████████████████████████| 17/17 [00:03<00:00,  4.54it/s]\n",
      "Creating dictionary: 100%|█████████████████████████████████████████████████████████████████| 17/17 [00:04<00:00,  3.87it/s]\n",
      "\n",
      "  0%|                                                                                                | 0/5 [00:00<?, ?it/s]"
     ]
    },
    {
     "name": "stdout",
     "output_type": "stream",
     "text": [
      "[2131  725 1801 ...,  260 3341 1694]\n",
      "2000 training samples, 1132 testing samples\n"
     ]
    },
    {
     "name": "stderr",
     "output_type": "stream",
     "text": [
      "Training:  12%|███████▎                                                  | 25/200 [00:24<02:49,  1.03it/s, f1=0.985, Δf1=0]\n",
      "Training:  15%|████████▋                                                 | 30/200 [00:29<02:44,  1.03it/s, f1=0.986, Δf1=0]\n",
      "Training:  15%|███████▋                                           | 30/200 [00:34<03:18,  1.17s/it, f1=0.905, Δf1=-0.00247]\n",
      "Training:  18%|████████▊                                         | 35/200 [00:44<03:31,  1.28s/it, f1=0.933, Δf1=-0.000451]\n",
      "\n",
      " 20%|█████████████████▍                                                                     | 1/5 [02:21<09:26, 141.67s/it]"
     ]
    },
    {
     "name": "stdout",
     "output_type": "stream",
     "text": [
      "[3442 1761 2281 ...,  231 1316 2548]\n"
     ]
    },
    {
     "name": "stderr",
     "output_type": "stream",
     "text": [
      "Training:  10%|█████▊                                                    | 20/200 [00:20<03:07,  1.04s/it, f1=0.988, Δf1=0]\n",
      "Training:   8%|███▊                                              | 15/200 [00:15<03:11,  1.04s/it, f1=0.983, Δf1=-0.000501]\n",
      "Training:  12%|██████▍                                            | 25/200 [00:31<03:41,  1.27s/it, f1=0.926, Δf1=-0.00653]\n",
      "Training:   8%|███▊                                               | 15/200 [00:20<04:12,  1.37s/it, f1=0.933, Δf1=-0.00152]\n",
      "\n",
      " 40%|██████████████████████████████████▊                                                    | 2/5 [03:58<05:58, 119.40s/it]"
     ]
    },
    {
     "name": "stdout",
     "output_type": "stream",
     "text": [
      "[  10  683 2628 ..., 1125 1557 3658]\n"
     ]
    },
    {
     "name": "stderr",
     "output_type": "stream",
     "text": [
      "Training:   8%|███▊                                              | 15/200 [00:14<03:03,  1.01it/s, f1=0.991, Δf1=-1.64e-05]\n",
      "Training:  15%|████████▋                                                 | 30/200 [00:29<02:46,  1.02it/s, f1=0.988, Δf1=0]\n",
      "Training:  22%|███████████▍                                       | 45/200 [00:53<03:03,  1.18s/it, f1=0.95, Δf1=-0.000101]\n",
      "Training:  12%|██████▎                                           | 25/200 [00:29<03:25,  1.17s/it, f1=0.931, Δf1=-0.000671]\n",
      "\n",
      " 60%|████████████████████████████████████████████████████▏                                  | 3/5 [06:14<04:09, 124.72s/it]"
     ]
    },
    {
     "name": "stdout",
     "output_type": "stream",
     "text": [
      "[2362 3138 1297 ...,  205 2287 1247]\n"
     ]
    },
    {
     "name": "stderr",
     "output_type": "stream",
     "text": [
      "Training:  15%|████████▋                                                 | 30/200 [00:29<02:49,  1.00it/s, f1=0.984, Δf1=0]\n",
      "Training:  10%|█████▊                                                    | 20/200 [00:19<02:54,  1.03it/s, f1=0.987, Δf1=0]\n",
      "Training:  12%|██████▌                                             | 25/200 [00:29<03:25,  1.17s/it, f1=0.923, Δf1=-0.0209]\n",
      "Training:  12%|██████▍                                            | 25/200 [00:29<03:29,  1.20s/it, f1=0.929, Δf1=-0.00369]\n",
      "\n",
      " 80%|█████████████████████████████████████████████████████████████████████▌                 | 4/5 [08:11<02:02, 122.77s/it]"
     ]
    },
    {
     "name": "stdout",
     "output_type": "stream",
     "text": [
      "[3690 3243 2192 ..., 2801 1146 2757]\n"
     ]
    },
    {
     "name": "stderr",
     "output_type": "stream",
     "text": [
      "Training:  12%|███████▎                                                  | 25/200 [00:24<02:52,  1.02it/s, f1=0.989, Δf1=0]\n",
      "Training:  12%|██████▎                                           | 25/200 [00:24<02:51,  1.02it/s, f1=0.986, Δf1=-0.000461]\n",
      "Training:  12%|██████▍                                            | 25/200 [00:29<03:29,  1.20s/it, f1=0.955, Δf1=-0.00352]\n",
      "Training:  12%|███████▎                                                  | 25/200 [00:30<03:33,  1.22s/it, f1=0.932, Δf1=0]\n",
      "\n",
      "100%|███████████████████████████████████████████████████████████████████████████████████████| 5/5 [10:09<00:00, 121.82s/it]\n"
     ]
    }
   ],
   "source": [
    "params = train.CNNParams(\n",
    "    embed_size=100,\n",
    "    dropout=0.5,\n",
    "    epochs=200,\n",
    "    filters=[(33, 3), (33, 5), (33, 7)],\n",
    "    num_layers=1,\n",
    "    max_norm=3,\n",
    ")\n",
    "\n",
    "char_params = train.CharCNNParams(\n",
    "    dropout=0.5,\n",
    "    epochs=200,\n",
    "    max_norm=3,\n",
    ")\n",
    "\n",
    "num_clusters = 9\n",
    "k = 5\n",
    "splitter = evaluate.StratifiedShuffleSplit(\n",
    "    n_splits=k,\n",
    "    train_size=2000,\n",
    "    test_size=None,\n",
    "    random_state=100,\n",
    ")\n",
    "\n",
    "old_kmeans_w = {}\n",
    "old_gmm_w = {}\n",
    "old_char_kmeans_w = {}\n",
    "old_char_gmm_w = {}\n",
    "\n",
    "for window_size in [(0, 0), (0, 1), (1, 1)]:\n",
    "    optim_fn = lambda p: torch.optim.Adadelta(p)\n",
    "    model_fns = [\n",
    "        lambda r: models.CategoricalClusterLabels(r, num_clusters, sum(window_size) + 1, params.dropout),\n",
    "        lambda r: models.CategoricalClusterLabels(r, 11, sum(window_size) + 1, params.dropout),\n",
    "        lambda r: models.CategoricalClusterLabels(r, num_clusters, sum(window_size) + 1, char_params.dropout),\n",
    "        lambda r: models.CategoricalClusterLabels(r, 11, sum(window_size) + 1, char_params.dropout),\n",
    "    ]\n",
    "    dataset, validset, testset = evaluate.load_dataset(num_clusters, window_size[0], window_size[1], True)\n",
    "\n",
    "    splitter.random_state = 100\n",
    "    values = evaluate.cross_val(k, splitter, model_fns, [False, True, False, True], optim_fn,\n",
    "                                dataset,\n",
    "                                params=[params, params, char_params, char_params],\n",
    "                                early_stopping=2,\n",
    "                                validation_set=validset,\n",
    "                                batch_size=128,\n",
    "                                testset=testset)\n",
    "    old_kmeans_w[window_size] = [v[0] for v in values]\n",
    "    old_gmm_w[window_size] = [v[1] for v in values]\n",
    "    old_char_kmeans_w[window_size] = [v[2] for v in values]\n",
    "    old_char_gmm_w[window_size] = [v[3] for v in values]"
   ]
  },
  {
   "cell_type": "code",
   "execution_count": 40,
   "metadata": {},
   "outputs": [
    {
     "data": {
      "image/png": "[encoded data removed]",
      "text/plain": [
       "<matplotlib.figure.Figure at 0x118485a54a8>"
      ]
     },
     "metadata": {},
     "output_type": "display_data"
    }
   ],
   "source": [
    "d = {\n",
    "    \"WordCNN\": {\n",
    "        sum(s): {\n",
    "            'K-Means': old_kmeans_w[s],\n",
    "            'Infinite Mixture Model': old_gmm_w[s],\n",
    "        }\n",
    "        for s in old_kmeans_w.keys()\n",
    "    },\n",
    "    \"CharCNN\": {\n",
    "        sum(s): {\n",
    "            'K-Means': old_char_kmeans_w[s],\n",
    "            'Infinite Mixture Model': old_char_gmm_w[s],\n",
    "        }\n",
    "        for s in old_kmeans_w.keys()\n",
    "    }\n",
    "}\n",
    "evaluate.analyze_cnns(d, \"window_size\", \"model\")\n",
    "#evaluate.analyze_cnns(d, \"window size\", \"model\", \"../report/figures/results/2000-windowsize-old\")"
   ]
  },
  {
   "cell_type": "code",
   "execution_count": null,
   "metadata": {
    "collapsed": true
   },
   "outputs": [],
   "source": [
    "save((old_baseline, old_kmeans, old_char_baseline, old_char_kmeans), \"1600-windowsize-old.pkl\")"
   ]
  },
  {
   "cell_type": "markdown",
   "metadata": {},
   "source": [
    "# Number of clusters, full cross validation"
   ]
  },
  {
   "cell_type": "code",
   "execution_count": null,
   "metadata": {
    "collapsed": true
   },
   "outputs": [],
   "source": [
    "params = train.CNNParams(\n",
    "    embed_size=100,\n",
    "    dropout=0.5,\n",
    "    epochs=100,\n",
    "    filters=[(33, 3), (33, 5), (33, 7)],\n",
    "    num_layers=1,\n",
    "    max_norm=3,\n",
    ")\n",
    "\n",
    "optim_fn = lambda p: torch.optim.Adadelta(p)\n",
    "model_fns = [lambda r: models.CategoricalClusterLabels(r, num_clusters, window_size, params.dropout)]\n",
    "#             lambda r: models.CategoricalClusterLabels(r, num_clusters, window_size, params.dropout)]\n",
    "    \n",
    "kmeans = {}\n",
    "gmm = {}\n",
    "\n",
    "for num_clusters in [2, 3, 5, 7, 9, 15, 30]:\n",
    "    window_size = 5\n",
    "    dataset, validset = load_dataset(num_clusters, window_size)\n",
    "\n",
    "    values = evaluate.cross_val(10, 1200, model_fns, [False], optim_fn, dataset, params,\n",
    "                                early_stopping=10,\n",
    "                                validation_set=validset,\n",
    "                                testset=None)\n",
    "    kmeans[num_clusters] = [v[0] for v in values]\n",
    "    gmm[num_clusters] = [v[1] for v in values]"
   ]
  },
  {
   "cell_type": "code",
   "execution_count": null,
   "metadata": {
    "collapsed": true
   },
   "outputs": [],
   "source": [
    "d = {s: {'K-Means': kmeans[s],\n",
    "         #'Mixture model': gmm[s],\n",
    "        }\n",
    "    for s in kmeans.keys()\n",
    "}\n",
    "#evaluate.analyze_tseries(d, 'k', 'model')\n",
    "evaluate.analyze_size(d, 'k', 'model', '../report/figures/results/800-numcluster')\n",
    "evaluate.analyze_tseries(d, 'k', 'model', '../report/figures/results/800-numcluster')"
   ]
  },
  {
   "cell_type": "markdown",
   "metadata": {},
   "source": [
    "# Number of clusters on old training set"
   ]
  },
  {
   "cell_type": "code",
   "execution_count": 3,
   "metadata": {},
   "outputs": [
    {
     "name": "stderr",
     "output_type": "stream",
     "text": [
      "\n",
      "  0%|          | 0/5 [00:00<?, ?it/s]\u001b[A"
     ]
    },
    {
     "name": "stdout",
     "output_type": "stream",
     "text": [
      "[2131  262 1814 ...  309 3341 1707]\n",
      "2000 training samples, 1132 testing samples\n"
     ]
    },
    {
     "name": "stderr",
     "output_type": "stream",
     "text": [
      "Training:   8%|▊         | 15/200 [00:19<03:54,  1.27s/it, f1=0.944, Δf1=-0.0113]\n",
      "Training:  15%|█▌        | 30/200 [00:20<01:57,  1.44it/s, f1=0.961, Δf1=-0.000717]\n",
      "Training:  15%|█▌        | 30/200 [00:25<02:26,  1.16it/s, f1=0.949, Δf1=-0.00129]\n",
      "Training:  18%|█▊        | 35/200 [00:30<02:23,  1.15it/s, f1=0.964, Δf1=0]       \n",
      "\n",
      " 20%|██        | 1/5 [02:10<08:43, 130.81s/it]\u001b[A"
     ]
    },
    {
     "name": "stdout",
     "output_type": "stream",
     "text": [
      "[3560 1774 2585 ...  231 1302 2319]\n"
     ]
    },
    {
     "name": "stderr",
     "output_type": "stream",
     "text": [
      "Training:  18%|█▊        | 35/200 [00:25<01:58,  1.39it/s, f1=0.959, Δf1=-0.000485]\n",
      "Training:  25%|██▌       | 50/200 [00:35<01:46,  1.41it/s, f1=0.94, Δf1=-0.00108]\n",
      "Training:  15%|█▌        | 30/200 [00:26<02:29,  1.14it/s, f1=0.957, Δf1=-0.0021]\n",
      "Training:  22%|██▎       | 45/200 [00:38<02:12,  1.17it/s, f1=0.948, Δf1=-0.000545]\n",
      "\n",
      " 40%|████      | 2/5 [04:22<06:33, 131.04s/it]\u001b[A"
     ]
    },
    {
     "name": "stdout",
     "output_type": "stream",
     "text": [
      "[  10  732 2399 ... 1125 1416 3419]\n"
     ]
    },
    {
     "name": "stderr",
     "output_type": "stream",
     "text": [
      "Training:  10%|█         | 20/200 [00:13<02:03,  1.46it/s, f1=0.958, Δf1=-0.000604]\n",
      "Training:   8%|▊         | 15/200 [00:10<02:05,  1.48it/s, f1=0.964, Δf1=-0.0027]\n",
      "Training:  15%|█▌        | 30/200 [00:25<02:24,  1.18it/s, f1=0.962, Δf1=-0.00104]\n",
      "Training:  50%|█████     | 100/200 [01:25<01:25,  1.17it/s, f1=0.937, Δf1=0]       \n",
      "\n",
      " 60%|██████    | 3/5 [06:42<04:28, 134.13s/it]\u001b[A"
     ]
    },
    {
     "name": "stdout",
     "output_type": "stream",
     "text": [
      "[2666 3225 1283 ...  205 2591 1247]\n"
     ]
    },
    {
     "name": "stderr",
     "output_type": "stream",
     "text": [
      "Training:  18%|█▊        | 35/200 [00:23<01:50,  1.49it/s, f1=0.953, Δf1=-0.000387]\n",
      "Training:  10%|█         | 20/200 [00:13<02:00,  1.49it/s, f1=0.935, Δf1=-0.00657]\n",
      "Training:  18%|█▊        | 35/200 [00:29<02:21,  1.17it/s, f1=0.954, Δf1=-0.00919]\n",
      "Training:  12%|█▎        | 25/200 [00:21<02:30,  1.16it/s, f1=0.903, Δf1=-0.00916]\n",
      "\n",
      " 80%|████████  | 4/5 [08:16<02:04, 124.16s/it]\u001b[A"
     ]
    },
    {
     "name": "stdout",
     "output_type": "stream",
     "text": [
      "[3451 3074 2192 ... 2801 1146 2528]\n"
     ]
    },
    {
     "name": "stderr",
     "output_type": "stream",
     "text": [
      "Training:   8%|▊         | 15/200 [00:10<02:04,  1.49it/s, f1=0.956, Δf1=-0.00959]\n",
      "Training:  20%|██        | 40/200 [00:26<01:47,  1.48it/s, f1=0.955, Δf1=-0.000393]\n",
      "Training:  12%|█▎        | 25/200 [00:21<02:28,  1.18it/s, f1=0.957, Δf1=-8.88e-06]\n",
      "Training:  25%|██▌       | 50/200 [00:42<02:07,  1.17it/s, f1=0.944, Δf1=-0.00045]\n",
      "\n",
      "100%|██████████| 5/5 [10:03<00:00, 120.66s/it]\u001b[A\n",
      "\u001b[A\n",
      "  0%|          | 0/5 [00:00<?, ?it/s]\u001b[A"
     ]
    },
    {
     "name": "stdout",
     "output_type": "stream",
     "text": [
      "[2131  262 1814 ...  309 3341 1707]\n",
      "2000 training samples, 1132 testing samples\n"
     ]
    },
    {
     "name": "stderr",
     "output_type": "stream",
     "text": [
      "Training:  18%|█▊        | 35/200 [00:23<01:53,  1.46it/s, f1=0.953, Δf1=-0.000527]\n",
      "Training:   8%|▊         | 15/200 [00:10<02:07,  1.45it/s, f1=0.952, Δf1=-0.00439]\n",
      "Training:  20%|██        | 40/200 [00:34<02:17,  1.16it/s, f1=0.962, Δf1=-0.000492]\n",
      "Training:  15%|█▌        | 30/200 [00:25<02:27,  1.16it/s, f1=0.954, Δf1=-0.00131]\n",
      "\n",
      " 20%|██        | 1/5 [01:40<06:42, 100.73s/it]\u001b[A"
     ]
    },
    {
     "name": "stdout",
     "output_type": "stream",
     "text": [
      "[3560 1774 2585 ...  231 1302 2319]\n"
     ]
    },
    {
     "name": "stderr",
     "output_type": "stream",
     "text": [
      "Training:  25%|██▌       | 50/200 [00:34<01:43,  1.45it/s, f1=0.959, Δf1=-0.000442]\n",
      "Training:   5%|▌         | 10/200 [00:06<02:11,  1.44it/s, f1=0.954, Δf1=-0.000881]\n",
      "Training:  12%|█▎        | 25/200 [00:21<02:32,  1.15it/s, f1=0.952, Δf1=-0.00327]\n",
      "Training:  22%|██▎       | 45/200 [00:38<02:14,  1.16it/s, f1=0.963, Δf1=0]      \n",
      "\n",
      " 40%|████      | 2/5 [03:28<05:13, 104.41s/it]\u001b[A"
     ]
    },
    {
     "name": "stdout",
     "output_type": "stream",
     "text": [
      "[  10  732 2399 ... 1125 1416 3419]\n"
     ]
    },
    {
     "name": "stderr",
     "output_type": "stream",
     "text": [
      "Training:  10%|█         | 20/200 [00:13<02:05,  1.43it/s, f1=0.958, Δf1=-0.000615]\n",
      "Training:   8%|▊         | 15/200 [00:10<02:08,  1.44it/s, f1=0.951, Δf1=-0.000232]\n",
      "Training:  12%|█▎        | 25/200 [00:21<02:30,  1.16it/s, f1=0.963, Δf1=-0.00146]\n",
      "Training:  22%|██▎       | 45/200 [00:39<02:15,  1.14it/s, f1=0.952, Δf1=0]       \n",
      "\n",
      " 60%|██████    | 3/5 [05:00<03:20, 100.02s/it]\u001b[A"
     ]
    },
    {
     "name": "stdout",
     "output_type": "stream",
     "text": [
      "[2666 3225 1283 ...  205 2591 1247]\n"
     ]
    },
    {
     "name": "stderr",
     "output_type": "stream",
     "text": [
      "Training:  10%|█         | 20/200 [00:13<02:04,  1.44it/s, f1=0.955, Δf1=-0.00289]\n",
      "Training:  12%|█▎        | 25/200 [00:17<02:03,  1.42it/s, f1=0.944, Δf1=-0.000594]\n",
      "Training:  18%|█▊        | 35/200 [00:30<02:22,  1.16it/s, f1=0.956, Δf1=-0.00339]\n",
      "Training:  15%|█▌        | 30/200 [00:25<02:26,  1.16it/s, f1=0.927, Δf1=-0.000714]\n",
      "\n",
      " 80%|████████  | 4/5 [06:33<01:38, 98.43s/it] \u001b[A"
     ]
    },
    {
     "name": "stdout",
     "output_type": "stream",
     "text": [
      "[3451 3074 2192 ... 2801 1146 2528]\n"
     ]
    },
    {
     "name": "stderr",
     "output_type": "stream",
     "text": [
      "Training:  10%|█         | 20/200 [00:13<02:05,  1.44it/s, f1=0.957, Δf1=-8.56e-05]\n",
      "Training:   8%|▊         | 15/200 [00:10<02:07,  1.45it/s, f1=0.953, Δf1=-0.00211]\n",
      "Training:  12%|█▎        | 25/200 [00:21<02:31,  1.16it/s, f1=0.945, Δf1=-0.00712]\n",
      "Training:  22%|██▎       | 45/200 [00:38<02:13,  1.16it/s, f1=0.954, Δf1=-0.000528]\n",
      "\n",
      "100%|██████████| 5/5 [08:04<00:00, 96.88s/it]\u001b[A\n",
      "\u001b[A\n",
      "  0%|          | 0/5 [00:00<?, ?it/s]\u001b[A"
     ]
    },
    {
     "name": "stdout",
     "output_type": "stream",
     "text": [
      "[2131  262 1814 ...  309 3341 1707]\n",
      "2000 training samples, 1132 testing samples\n"
     ]
    },
    {
     "name": "stderr",
     "output_type": "stream",
     "text": [
      "Training:  32%|███▎      | 65/200 [00:44<01:32,  1.46it/s, f1=0.974, Δf1=0]        \n",
      "Training:  25%|██▌       | 50/200 [00:34<01:43,  1.45it/s, f1=0.956, Δf1=-0.00167] \n",
      "Training:  22%|██▎       | 45/200 [00:38<02:12,  1.17it/s, f1=0.964, Δf1=-0.000492]\n",
      "Training:  25%|██▌       | 50/200 [00:43<02:11,  1.14it/s, f1=0.955, Δf1=0]        \n",
      "\n",
      " 20%|██        | 1/5 [02:47<11:08, 167.20s/it]\u001b[A"
     ]
    },
    {
     "name": "stdout",
     "output_type": "stream",
     "text": [
      "[3560 1774 2585 ...  231 1302 2319]\n"
     ]
    },
    {
     "name": "stderr",
     "output_type": "stream",
     "text": [
      "Training:  12%|█▎        | 25/200 [00:17<02:02,  1.43it/s, f1=0.959, Δf1=-0.000288]\n",
      "Training:  10%|█         | 20/200 [00:13<02:04,  1.45it/s, f1=0.94, Δf1=-0.00997] \n",
      "Training:  12%|█▎        | 25/200 [00:21<02:30,  1.16it/s, f1=0.951, Δf1=-0.000445]\n",
      "Training:  20%|██        | 40/200 [00:35<02:23,  1.11it/s, f1=0.958, Δf1=0]        \n",
      "\n",
      " 40%|████      | 2/5 [04:21<06:32, 131.00s/it]\u001b[A"
     ]
    },
    {
     "name": "stdout",
     "output_type": "stream",
     "text": [
      "[  10  732 2399 ... 1125 1416 3419]\n"
     ]
    },
    {
     "name": "stderr",
     "output_type": "stream",
     "text": [
      "Training:   8%|▊         | 15/200 [00:10<02:05,  1.47it/s, f1=0.949, Δf1=-0.0041]\n",
      "Training:  25%|██▌       | 50/200 [00:33<01:41,  1.47it/s, f1=0.954, Δf1=-4.51e-05]\n",
      "Training:  30%|███       | 60/200 [00:51<01:59,  1.17it/s, f1=0.956, Δf1=0]       \n",
      "Training:  20%|██        | 40/200 [00:34<02:18,  1.16it/s, f1=0.963, Δf1=0]      \n",
      "\n",
      " 60%|██████    | 3/5 [06:38<04:25, 132.67s/it]\u001b[A"
     ]
    },
    {
     "name": "stdout",
     "output_type": "stream",
     "text": [
      "[2666 3225 1283 ...  205 2591 1247]\n"
     ]
    },
    {
     "name": "stderr",
     "output_type": "stream",
     "text": [
      "Training:   8%|▊         | 15/200 [00:10<02:07,  1.45it/s, f1=0.955, Δf1=-0.000565]\n",
      "Training:  12%|█▎        | 25/200 [00:17<02:00,  1.45it/s, f1=0.945, Δf1=-0.00106]\n",
      "Training:  12%|█▎        | 25/200 [00:21<02:31,  1.16it/s, f1=0.942, Δf1=-0.00399]\n",
      "Training:  12%|█▎        | 25/200 [00:21<02:31,  1.15it/s, f1=0.907, Δf1=-0.0409]\n",
      "\n",
      " 80%|████████  | 4/5 [07:54<01:58, 118.70s/it]\u001b[A"
     ]
    },
    {
     "name": "stdout",
     "output_type": "stream",
     "text": [
      "[3451 3074 2192 ... 2801 1146 2528]\n"
     ]
    },
    {
     "name": "stderr",
     "output_type": "stream",
     "text": [
      "Training:  12%|█▎        | 25/200 [00:17<02:00,  1.45it/s, f1=0.961, Δf1=-0.00052]\n",
      "Training:   8%|▊         | 15/200 [00:10<02:06,  1.46it/s, f1=0.951, Δf1=-0.00201]\n",
      "Training:  38%|███▊      | 75/200 [01:04<01:47,  1.16it/s, f1=0.943, Δf1=0]        \n",
      "Training:  42%|████▎     | 85/200 [01:14<01:40,  1.14it/s, f1=0.946, Δf1=-0.000481]\n",
      "\n",
      "100%|██████████| 5/5 [10:47<00:00, 129.50s/it]\u001b[A\n",
      "Creating dictionary: 100%|██████████| 17/17 [00:04<00:00,  4.15it/s]\n",
      "Creating dictionary: 100%|██████████| 17/17 [00:03<00:00,  4.58it/s]\n"
     ]
    },
    {
     "name": "stdout",
     "output_type": "stream",
     "text": [
      "[17695  8700 43259 ... 11922 40115  8304]\n",
      "Retrieved 987 positive samples, 70985 negative samples.\n",
      "[28755 33778 19069 ... 88902 79687 95980]\n",
      "Retrieved 1945 positive samples, 95605 negative samples.\n",
      "[ 2317 11181  8898 ... 12409 17033 12293]\n",
      "Retrieved 566 positive samples, 20841 negative samples.\n"
     ]
    },
    {
     "name": "stderr",
     "output_type": "stream",
     "text": [
      "\n",
      "  0%|          | 0/5 [00:00<?, ?it/s]\u001b[A"
     ]
    },
    {
     "name": "stdout",
     "output_type": "stream",
     "text": [
      "[2131  262 1814 ...  309 3341 1707]\n",
      "2000 training samples, 1132 testing samples\n"
     ]
    },
    {
     "name": "stderr",
     "output_type": "stream",
     "text": [
      "Training:  40%|████      | 80/200 [01:02<01:33,  1.29it/s, f1=0.962, Δf1=0]        \n",
      "Training:   8%|▊         | 15/200 [00:11<02:22,  1.30it/s, f1=0.959, Δf1=-0.0021]\n",
      "Training:  10%|█         | 20/200 [00:18<02:49,  1.06it/s, f1=0.938, Δf1=-0.00101]\n",
      "Training:  32%|███▎      | 65/200 [01:02<02:09,  1.04it/s, f1=0.944, Δf1=-0.000971]\n",
      "\n",
      " 20%|██        | 1/5 [02:41<10:45, 161.44s/it]\u001b[A"
     ]
    },
    {
     "name": "stdout",
     "output_type": "stream",
     "text": [
      "[3560 1774 2585 ...  231 1302 2319]\n"
     ]
    },
    {
     "name": "stderr",
     "output_type": "stream",
     "text": [
      "Training:   8%|▊         | 15/200 [00:12<02:28,  1.25it/s, f1=0.936, Δf1=-0.0134]\n",
      "Training:  30%|███       | 60/200 [00:46<01:49,  1.28it/s, f1=0.949, Δf1=-0.000428]\n",
      "Training:  15%|█▌        | 30/200 [00:28<02:39,  1.07it/s, f1=0.936, Δf1=-0.00258]\n",
      "Training:  12%|█▎        | 25/200 [00:23<02:44,  1.06it/s, f1=0.943, Δf1=-0.00128]\n",
      "\n",
      " 40%|████      | 2/5 [04:38<06:57, 139.18s/it]\u001b[A"
     ]
    },
    {
     "name": "stdout",
     "output_type": "stream",
     "text": [
      "[  10  732 2399 ... 1125 1416 3419]\n"
     ]
    },
    {
     "name": "stderr",
     "output_type": "stream",
     "text": [
      "Training:  10%|█         | 20/200 [00:15<02:20,  1.28it/s, f1=0.944, Δf1=-0.00139]\n",
      "Training:   8%|▊         | 15/200 [00:11<02:23,  1.29it/s, f1=0.948, Δf1=-0.00229]\n",
      "Training:  18%|█▊        | 35/200 [00:32<02:35,  1.06it/s, f1=0.961, Δf1=-0.000239]\n",
      "Training:  28%|██▊       | 55/200 [00:51<02:15,  1.07it/s, f1=0.939, Δf1=-6.32e-05]\n",
      "\n",
      " 60%|██████    | 3/5 [06:36<04:24, 132.17s/it]\u001b[A"
     ]
    },
    {
     "name": "stdout",
     "output_type": "stream",
     "text": [
      "[2666 3225 1283 ...  205 2591 1247]\n"
     ]
    },
    {
     "name": "stderr",
     "output_type": "stream",
     "text": [
      "Training:  28%|██▊       | 55/200 [00:43<01:55,  1.26it/s, f1=0.959, Δf1=-0.000521]\n",
      "Training:  18%|█▊        | 35/200 [00:27<02:10,  1.26it/s, f1=0.952, Δf1=-0.00163]\n",
      "Training:  28%|██▊       | 55/200 [00:52<02:17,  1.05it/s, f1=0.959, Δf1=-0.000497]\n",
      "Training:  12%|█▎        | 25/200 [00:23<02:45,  1.06it/s, f1=0.941, Δf1=-0.00451]\n",
      "\n",
      " 80%|████████  | 4/5 [09:10<02:17, 137.64s/it]\u001b[A"
     ]
    },
    {
     "name": "stdout",
     "output_type": "stream",
     "text": [
      "[3451 3074 2192 ... 2801 1146 2528]\n"
     ]
    },
    {
     "name": "stderr",
     "output_type": "stream",
     "text": [
      "Training:   8%|▊         | 15/200 [00:11<02:23,  1.29it/s, f1=0.956, Δf1=-4e-05]\n",
      "Training:  28%|██▊       | 55/200 [00:43<01:53,  1.27it/s, f1=0.954, Δf1=-0.000964]\n",
      "Training:  15%|█▌        | 30/200 [00:28<02:39,  1.07it/s, f1=0.953, Δf1=-0.00147]\n",
      "Training:  12%|█▎        | 25/200 [00:23<02:44,  1.06it/s, f1=0.93, Δf1=-0.00106]\n",
      "\n",
      "100%|██████████| 5/5 [11:03<00:00, 132.71s/it]\u001b[A\n",
      "Creating dictionary: 100%|██████████| 17/17 [00:04<00:00,  3.92it/s]\n",
      "Creating dictionary: 100%|██████████| 17/17 [00:03<00:00,  4.96it/s]\n"
     ]
    },
    {
     "name": "stdout",
     "output_type": "stream",
     "text": [
      "[17695  8700 43259 ... 11922 40115  8304]\n",
      "Retrieved 987 positive samples, 70985 negative samples.\n",
      "[28755 33778 19069 ... 88902 79687 95980]\n",
      "Retrieved 1945 positive samples, 95605 negative samples.\n",
      "[ 2317 11181  8898 ... 12409 17033 12293]\n",
      "Retrieved 566 positive samples, 20841 negative samples.\n"
     ]
    },
    {
     "name": "stderr",
     "output_type": "stream",
     "text": [
      "\n",
      "  0%|          | 0/5 [00:00<?, ?it/s]\u001b[A"
     ]
    },
    {
     "name": "stdout",
     "output_type": "stream",
     "text": [
      "[2131  262 1814 ...  309 3341 1707]\n",
      "2000 training samples, 1132 testing samples\n"
     ]
    },
    {
     "name": "stderr",
     "output_type": "stream",
     "text": [
      "Training:  25%|██▌       | 50/200 [00:40<02:00,  1.25it/s, f1=0.964, Δf1=0]        \n",
      "Training:   8%|▊         | 15/200 [00:11<02:26,  1.26it/s, f1=0.962, Δf1=-0.00172]\n",
      "Training:  15%|█▌        | 30/200 [00:28<02:41,  1.05it/s, f1=0.949, Δf1=-0.000385]\n",
      "Training:  30%|███       | 60/200 [01:00<02:20,  1.00s/it, f1=0.959, Δf1=0]       \n",
      "\n",
      " 20%|██        | 1/5 [02:27<09:50, 147.57s/it]\u001b[A"
     ]
    },
    {
     "name": "stdout",
     "output_type": "stream",
     "text": [
      "[3560 1774 2585 ...  231 1302 2319]\n"
     ]
    },
    {
     "name": "stderr",
     "output_type": "stream",
     "text": [
      "Training:  28%|██▊       | 55/200 [00:43<01:55,  1.26it/s, f1=0.952, Δf1=-0.000147]\n",
      "Training:  10%|█         | 20/200 [00:15<02:22,  1.26it/s, f1=0.948, Δf1=-0.00116]\n",
      "Training:  22%|██▎       | 45/200 [00:43<02:30,  1.03it/s, f1=0.958, Δf1=-0.000499]\n",
      "Training:  15%|█▌        | 30/200 [00:28<02:44,  1.04it/s, f1=0.94, Δf1=-0.000866]\n",
      "\n",
      " 40%|████      | 2/5 [04:46<07:09, 143.17s/it]\u001b[A"
     ]
    },
    {
     "name": "stdout",
     "output_type": "stream",
     "text": [
      "[  10  732 2399 ... 1125 1416 3419]\n"
     ]
    },
    {
     "name": "stderr",
     "output_type": "stream",
     "text": [
      "Training:  18%|█▊        | 35/200 [00:28<02:12,  1.25it/s, f1=0.951, Δf1=-0.000533]\n",
      "Training:  32%|███▎      | 65/200 [00:52<01:48,  1.25it/s, f1=0.942, Δf1=0]       \n",
      "Training:  15%|█▌        | 30/200 [00:30<02:51,  1.01s/it, f1=0.95, Δf1=-0.000337]\n",
      "Training:  42%|████▎     | 85/200 [01:26<01:56,  1.01s/it, f1=0.943, Δf1=-0.000545]\n",
      "\n",
      " 60%|██████    | 3/5 [08:10<05:26, 163.34s/it]\u001b[A"
     ]
    },
    {
     "name": "stdout",
     "output_type": "stream",
     "text": [
      "[2666 3225 1283 ...  205 2591 1247]\n"
     ]
    },
    {
     "name": "stderr",
     "output_type": "stream",
     "text": [
      "Training:   8%|▊         | 15/200 [00:12<02:35,  1.19it/s, f1=0.948, Δf1=-0.00369]\n",
      "Training:  12%|█▎        | 25/200 [00:20<02:24,  1.21it/s, f1=0.946, Δf1=-6.91e-05]\n",
      "Training:  15%|█▌        | 30/200 [00:29<02:49,  1.00it/s, f1=0.949, Δf1=-0.00188]\n",
      "Training:  12%|█▎        | 25/200 [00:23<02:47,  1.04it/s, f1=0.937, Δf1=-0.0146]\n",
      "\n",
      " 80%|████████  | 4/5 [09:43<02:25, 145.97s/it]\u001b[A"
     ]
    },
    {
     "name": "stdout",
     "output_type": "stream",
     "text": [
      "[3451 3074 2192 ... 2801 1146 2528]\n"
     ]
    },
    {
     "name": "stderr",
     "output_type": "stream",
     "text": [
      "Training:   5%|▌         | 10/200 [00:08<02:37,  1.21it/s, f1=0.948, Δf1=-0.00323]\n",
      "Training:   8%|▊         | 15/200 [00:12<02:28,  1.25it/s, f1=0.944, Δf1=-0.00441]\n",
      "Training:  22%|██▎       | 45/200 [00:43<02:30,  1.03it/s, f1=0.949, Δf1=0]       \n",
      "Training:  15%|█▌        | 30/200 [00:30<02:51,  1.01s/it, f1=0.954, Δf1=-0.00119]\n",
      "\n",
      "100%|██████████| 5/5 [11:24<00:00, 136.99s/it]\u001b[A\n",
      "Creating dictionary: 100%|██████████| 17/17 [00:04<00:00,  3.88it/s]\n",
      "Creating dictionary: 100%|██████████| 17/17 [00:03<00:00,  4.55it/s]\n"
     ]
    },
    {
     "name": "stdout",
     "output_type": "stream",
     "text": [
      "[17695  8700 43259 ... 11922 40115  8304]\n",
      "Retrieved 987 positive samples, 70985 negative samples.\n",
      "[28755 33778 19069 ... 88902 79687 95980]\n",
      "Retrieved 1945 positive samples, 95605 negative samples.\n",
      "[ 2317 11181  8898 ... 12409 17033 12293]\n",
      "Retrieved 566 positive samples, 20841 negative samples.\n"
     ]
    },
    {
     "name": "stderr",
     "output_type": "stream",
     "text": [
      "\n",
      "  0%|          | 0/5 [00:00<?, ?it/s]\u001b[A"
     ]
    },
    {
     "name": "stdout",
     "output_type": "stream",
     "text": [
      "[2131  262 1814 ...  309 3341 1707]\n",
      "2000 training samples, 1132 testing samples\n"
     ]
    },
    {
     "name": "stderr",
     "output_type": "stream",
     "text": [
      "Training:  15%|█▌        | 30/200 [00:26<02:30,  1.13it/s, f1=0.963, Δf1=-0.000592]\n",
      "Training:   8%|▊         | 15/200 [00:12<02:33,  1.21it/s, f1=0.943, Δf1=-0.00236]\n",
      "Training:  18%|█▊        | 35/200 [00:37<02:56,  1.07s/it, f1=0.953, Δf1=0]      \n",
      "Training:  30%|███       | 60/200 [01:00<02:21,  1.01s/it, f1=0.949, Δf1=0]       \n",
      "\n",
      " 20%|██        | 1/5 [02:24<09:36, 144.18s/it]\u001b[A"
     ]
    },
    {
     "name": "stdout",
     "output_type": "stream",
     "text": [
      "[3560 1774 2585 ...  231 1302 2319]\n"
     ]
    },
    {
     "name": "stderr",
     "output_type": "stream",
     "text": [
      "Training:  25%|██▌       | 50/200 [00:41<02:05,  1.20it/s, f1=0.955, Δf1=0]        \n",
      "Training:   5%|▌         | 10/200 [00:08<02:35,  1.22it/s, f1=0.936, Δf1=-0.00384]\n",
      "Training:  18%|█▊        | 35/200 [00:34<02:40,  1.03it/s, f1=0.95, Δf1=-0.00059] \n",
      "Training:  28%|██▊       | 55/200 [00:53<02:20,  1.03it/s, f1=0.941, Δf1=-0.000235]\n",
      "\n",
      " 40%|████      | 2/5 [04:47<07:11, 143.99s/it]\u001b[A"
     ]
    },
    {
     "name": "stdout",
     "output_type": "stream",
     "text": [
      "[  10  732 2399 ... 1125 1416 3419]\n"
     ]
    },
    {
     "name": "stderr",
     "output_type": "stream",
     "text": [
      "Training:  28%|██▊       | 55/200 [00:44<01:56,  1.24it/s, f1=0.958, Δf1=-4.07e-05]\n",
      "Training:  30%|███       | 60/200 [00:48<01:53,  1.23it/s, f1=0.947, Δf1=0]        \n",
      "Training:  18%|█▊        | 35/200 [00:33<02:39,  1.03it/s, f1=0.945, Δf1=-0.00161]\n",
      "Training:  32%|███▎      | 65/200 [01:03<02:12,  1.02it/s, f1=0.922, Δf1=0]       \n",
      "\n",
      " 60%|██████    | 3/5 [08:05<05:23, 161.80s/it]\u001b[A"
     ]
    },
    {
     "name": "stdout",
     "output_type": "stream",
     "text": [
      "[2666 3225 1283 ...  205 2591 1247]\n"
     ]
    },
    {
     "name": "stderr",
     "output_type": "stream",
     "text": [
      "Training:  12%|█▎        | 25/200 [00:20<02:22,  1.23it/s, f1=0.956, Δf1=-0.000174]\n",
      "Training:   5%|▌         | 10/200 [00:07<02:31,  1.25it/s, f1=0.942, Δf1=-0.00577]\n",
      "Training:  18%|█▊        | 35/200 [00:34<02:41,  1.02it/s, f1=0.947, Δf1=-0.00119]\n",
      "Training:  18%|█▊        | 35/200 [00:33<02:39,  1.03it/s, f1=0.957, Δf1=-0.00193]\n",
      "\n",
      " 80%|████████  | 4/5 [09:48<02:27, 147.07s/it]\u001b[A"
     ]
    },
    {
     "name": "stdout",
     "output_type": "stream",
     "text": [
      "[3451 3074 2192 ... 2801 1146 2528]\n"
     ]
    },
    {
     "name": "stderr",
     "output_type": "stream",
     "text": [
      "Training:  10%|█         | 20/200 [00:16<02:25,  1.24it/s, f1=0.955, Δf1=-0.000757]\n",
      "Training:  20%|██        | 40/200 [00:32<02:09,  1.24it/s, f1=0.959, Δf1=0]        \n",
      "Training:  22%|██▎       | 45/200 [00:43<02:30,  1.03it/s, f1=0.952, Δf1=-0.000298]\n",
      "Training:  12%|█▎        | 25/200 [00:24<02:49,  1.03it/s, f1=0.938, Δf1=-0.00558]\n",
      "\n",
      "100%|██████████| 5/5 [11:51<00:00, 142.25s/it]\u001b[A\n",
      "\u001b[A"
     ]
    }
   ],
   "source": [
    "params = train.CNNParams(\n",
    "    embed_size=100,\n",
    "    dropout=0.5,\n",
    "    epochs=200,\n",
    "    filters=[(33, 3), (33, 5), (33, 7)],\n",
    "    num_layers=1,\n",
    "    max_norm=3,\n",
    ")\n",
    "\n",
    "char_params = train.CharCNNParams(\n",
    "    dropout=0.5,\n",
    "    epochs=200,\n",
    "    max_norm=3,\n",
    ")\n",
    "\n",
    "window_size = 2\n",
    "k = 5\n",
    "splitter = evaluate.StratifiedShuffleSplit(\n",
    "    n_splits=k,\n",
    "    train_size=2000,\n",
    "    test_size=None,\n",
    "    random_state=100,\n",
    ")\n",
    "\n",
    "old_kmeans_cls = {}\n",
    "old_gmm_cls = {}\n",
    "old_char_kmeans_cls = {}\n",
    "old_char_gmm_cls = {}\n",
    "\n",
    "for num_clusters in [2, 3, 5, 7, 9, 15]:\n",
    "    optim_fn = lambda p: torch.optim.Adadelta(p)\n",
    "    model_fns = [\n",
    "        lambda r: models.CategoricalClusterLabels(r, num_clusters, window_size, params.dropout),\n",
    "        lambda r: models.CategoricalClusterLabels(r, 11, window_size, params.dropout),\n",
    "        lambda r: models.CategoricalClusterLabels(r, num_clusters, window_size, char_params.dropout),\n",
    "        lambda r: models.CategoricalClusterLabels(r, 11, window_size, char_params.dropout),\n",
    "    ]\n",
    "    dataset, validset, testset = evaluate.load_dataset(num_clusters, window_size, True)\n",
    "\n",
    "    splitter.random_state = 100\n",
    "    values = evaluate.cross_val(k, splitter, model_fns, [False, True, False, True], optim_fn,\n",
    "                                dataset,\n",
    "                                params=[params, params, char_params, char_params],\n",
    "                                early_stopping=2,\n",
    "                                validation_set=validset,\n",
    "                                batch_size=128,\n",
    "                                testset=testset)\n",
    "    old_kmeans_cls[num_clusters] = [v[0] for v in values]\n",
    "    old_gmm_cls[num_clusters] = [v[1] for v in values]\n",
    "    old_char_kmeans_cls[num_clusters] = [v[2] for v in values]\n",
    "    old_char_gmm_cls[num_clusters] = [v[3] for v in values]"
   ]
  },
  {
   "cell_type": "code",
   "execution_count": 4,
   "metadata": {
    "collapsed": true
   },
   "outputs": [],
   "source": [
    "(old_kmeans_cls, old_gmm_cls, old_char_kmeans_cls, old_char_gmm_cls) = load(\"1600-numclusters-old.pkl\")"
   ]
  },
  {
   "cell_type": "code",
   "execution_count": 7,
   "metadata": {},
   "outputs": [
    {
     "name": "stderr",
     "output_type": "stream",
     "text": [
      "/usr/lib/python3.6/site-packages/seaborn/timeseries.py:183: UserWarning: The tsplot function is deprecated and will be removed or replaced (in a substantially altered version) in a future release.\n",
      "  warnings.warn(msg, UserWarning)\n"
     ]
    },
    {
     "data": {
      "image/png": "[encoded data removed]",
      "text/plain": [
       "<matplotlib.figure.Figure at 0x7f15d68103c8>"
      ]
     },
     "metadata": {},
     "output_type": "display_data"
    }
   ],
   "source": [
    "d = {\n",
    "    \"WordCNN\": {\n",
    "        s: {\n",
    "            'K-Means': old_kmeans_cls[s],\n",
    "            'Infinite Mixture Model': old_gmm_cls[s],\n",
    "        }\n",
    "        for s in old_kmeans_cls.keys()\n",
    "    },\n",
    "    \"CharCNN\": {\n",
    "        s: {\n",
    "            'K-Means': old_char_kmeans_cls[s],\n",
    "            'Infinite Mixture Model': old_char_gmm_cls[s],\n",
    "        }\n",
    "        for s in [2, 3, 5, 7, 9]\n",
    "    }\n",
    "}\n",
    "#evaluate.analyze_cnns(d, \"k\", \"model\")\n",
    "evaluate.analyze_cnns(d, \"k\", \"model\", \"../report/figures/results/2000-numclusters-old\")"
   ]
  },
  {
   "cell_type": "code",
   "execution_count": 6,
   "metadata": {
    "collapsed": true
   },
   "outputs": [],
   "source": [
    "save((old_kmeans_cls, old_gmm_cls, old_char_kmeans_cls, old_char_gmm_cls), \"2000-numclusters-old.pkl\")"
   ]
  }
 ],
 "metadata": {
  "kernelspec": {
   "display_name": "Python 3",
   "language": "python",
   "name": "python3"
  },
  "language_info": {
   "codemirror_mode": {
    "name": "ipython",
    "version": 3
   },
   "file_extension": ".py",
   "mimetype": "text/x-python",
   "name": "python",
   "nbconvert_exporter": "python",
   "pygments_lexer": "ipython3",
   "version": "3.6.1"
  }
 },
 "nbformat": 4,
 "nbformat_minor": 2
}

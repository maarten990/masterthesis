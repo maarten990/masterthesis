{
 "cells": [
  {
   "cell_type": "code",
   "execution_count": 1,
   "metadata": {},
   "outputs": [
    {
     "name": "stdout",
     "output_type": "stream",
     "text": [
      "/home/maarten/Documents/masterthesis/supervised\n"
     ]
    }
   ],
   "source": [
    "%cd supervised\n",
    "%load_ext autoreload\n",
    "%autoreload 2\n",
    "\n",
    "import data\n",
    "import train\n",
    "import evaluate\n",
    "import models\n",
    "import torch"
   ]
  },
  {
   "cell_type": "code",
   "execution_count": 2,
   "metadata": {},
   "outputs": [],
   "source": [
    "import pickle\n",
    "\n",
    "def save(data, fname):\n",
    "    with open(fname, 'wb') as f:\n",
    "        pickle.dump(data, f)\n",
    "    \n",
    "def load(fname):\n",
    "    with open(fname, 'rb') as f:\n",
    "        return pickle.load(f)"
   ]
  },
  {
   "cell_type": "code",
   "execution_count": 3,
   "metadata": {},
   "outputs": [
    {
     "name": "stderr",
     "output_type": "stream",
     "text": [
      "Creating dictionary: 100%|██████████| 17/17 [00:03<00:00,  5.24it/s]\n",
      "Creating dictionary: 100%|██████████| 17/17 [00:03<00:00,  4.74it/s]\n"
     ]
    },
    {
     "name": "stdout",
     "output_type": "stream",
     "text": [
      "[51943 21561 10258 ...  1924  2136 24695]\n",
      "Retrieved 991 positive samples, 70377 negative samples.\n",
      "[61936 66766 81936 ...  8965 74859 87695]\n",
      "Retrieved 1940 positive samples, 94798 negative samples.\n",
      "[17855  4347  2523 ... 19731  9231 13244]\n",
      "Retrieved 556 positive samples, 20665 negative samples.\n"
     ]
    },
    {
     "name": "stderr",
     "output_type": "stream",
     "text": [
      "Creating dictionary: 100%|██████████| 17/17 [00:03<00:00,  5.05it/s]\n",
      "Creating dictionary: 100%|██████████| 17/17 [00:03<00:00,  4.57it/s]\n"
     ]
    },
    {
     "name": "stdout",
     "output_type": "stream",
     "text": [
      "[24614 11979 11125 ... 72466 15865 61506]\n",
      "Retrieved 984 positive samples, 71592 negative samples.\n",
      "[65545 84204 95317 ... 78579 94607 32377]\n",
      "Retrieved 1945 positive samples, 96417 negative samples.\n",
      "[ 1452  7041 10190 ... 11034 20927  6809]\n",
      "Retrieved 562 positive samples, 21031 negative samples.\n"
     ]
    }
   ],
   "source": [
    "dataset1, validset1, testset1 = evaluate.load_dataset(9, 4, True)\n",
    "dataset2, validset2, testset2 = evaluate.load_dataset(9, 3, True)"
   ]
  },
  {
   "cell_type": "code",
   "execution_count": 4,
   "metadata": {},
   "outputs": [
    {
     "name": "stdout",
     "output_type": "stream",
     "text": [
      "Counter({44: 3875, 42: 5})\n",
      "Counter({33: 3885, 31: 4, 29: 1})\n"
     ]
    }
   ],
   "source": [
    "import numpy as np\n",
    "from collections import Counter\n",
    "print(Counter(np.shape(s.clusters_gmm)[1] for s in dataset1))\n",
    "print(Counter(np.shape(s.clusters_gmm)[1] for s in dataset2))"
   ]
  },
  {
   "cell_type": "markdown",
   "metadata": {},
   "source": [
    "# Training size, full cross validation"
   ]
  },
  {
   "cell_type": "code",
   "execution_count": null,
   "metadata": {},
   "outputs": [],
   "source": [
    "# main test\n",
    "\n",
    "window_size = 2\n",
    "num_clusters = 9\n",
    "dataset, validset = load_dataset(num_clusters, window_size)\n",
    "\n",
    "params = train.CNNParams(\n",
    "    embed_size=100,\n",
    "    dropout=0.5,\n",
    "    epochs=100,\n",
    "    filters=[(33, 3), (33, 5), (33, 7)],\n",
    "    num_layers=1,\n",
    "    max_norm=3,\n",
    ")\n",
    "\n",
    "optim_fn = lambda p: torch.optim.Adadelta(p)\n",
    "model_fns = [lambda r: models.NoClusterLabels(r, params.dropout),\n",
    "             lambda r: models.CategoricalClusterLabels(r, num_clusters, window_size, params.dropout)]\n",
    "#             lambda r: models.CategoricalClusterLabels(r, num_clusters, window_size, params.dropout)]\n",
    "\n",
    "baseline = {}\n",
    "kmeans = {}\n",
    "gmm = {}\n",
    "\n",
    "for n in [50, 100, 400, 800, 1200, 1600, 2000, 2400]:\n",
    "    values = evaluate.cross_val(10, n, model_fns, [False, False], optim_fn, dataset, params,\n",
    "                                early_stopping=10,\n",
    "                                validation_set=validset,\n",
    "                                testset=None)\n",
    "    baseline[n] = [v[0] for v in values]\n",
    "    kmeans[n] = [v[1] for v in values]\n",
    "#    gmm[n] = [v[2] for v in values]"
   ]
  },
  {
   "cell_type": "code",
   "execution_count": null,
   "metadata": {},
   "outputs": [],
   "source": [
    "d = {s: {'Baseline': baseline[s],\n",
    "         'K-Means': kmeans[s],\n",
    "#         'Mixture model': gmm[s],\n",
    "        }\n",
    "    for s in baseline.keys()\n",
    "}\n",
    "evaluate.analyze_tseries(d, 'number of training samples', 'model', '../report/figures/results/main_window4_oldtest')\n",
    "evaluate.analyze_size(d, 'number of samples', 'model', '../report/figures/results/main_window4_oldtest')"
   ]
  },
  {
   "cell_type": "code",
   "execution_count": null,
   "metadata": {
    "scrolled": true
   },
   "outputs": [],
   "source": [
    "evaluate.analyze_wrapper(baseline, kmeans, None, 'model', '../report/figures/results/main_window4_data_oldtest')\n",
    "#evaluate.analyze_wrapper(baseline, kmeans, gmm, 'model')"
   ]
  },
  {
   "cell_type": "markdown",
   "metadata": {},
   "source": [
    "# Training size, older test set"
   ]
  },
  {
   "cell_type": "code",
   "execution_count": null,
   "metadata": {},
   "outputs": [],
   "source": [
    "# test on old data\n",
    "\n",
    "window_size = 4\n",
    "num_clusters = 9\n",
    "dataset, validset, testset = load_dataset(num_clusters, window_size, True)\n",
    "\n",
    "params = train.CNNParams(\n",
    "    embed_size=100,\n",
    "    dropout=0.5,\n",
    "    epochs=100,\n",
    "    filters=[(33, 3), (33, 5), (33, 7)],\n",
    "    num_layers=1,\n",
    "    max_norm=3,\n",
    ")\n",
    "\n",
    "optim_fn = lambda p: torch.optim.Adadelta(p)\n",
    "model_fns = [lambda r: models.NoClusterLabels(r, params.dropout),\n",
    "             lambda r: models.CategoricalClusterLabels(r, num_clusters, window_size, params.dropout)]\n",
    "#             lambda r: models.CategoricalClusterLabels(r, num_clusters, window_size, params.dropout)]\n",
    "\n",
    "baseline = {}\n",
    "kmeans = {}\n",
    "gmm = {}\n",
    "\n",
    "for n in [50, 100, 400, 800, 1200, 1600, 2000, 2400]:\n",
    "    values = evaluate.cross_val(10, n, model_fns, [False, False], optim_fn, dataset, params,\n",
    "                                early_stopping=10,\n",
    "                                validation_set=validset,\n",
    "                                testset=testset)\n",
    "    baseline[n] = [v[0] for v in values]\n",
    "    kmeans[n] = [v[1] for v in values]\n",
    "#    gmm[n] = [v[2] for v in values]"
   ]
  },
  {
   "cell_type": "markdown",
   "metadata": {},
   "source": [
    "# Window size, full cross validation"
   ]
  },
  {
   "cell_type": "code",
   "execution_count": null,
   "metadata": {},
   "outputs": [],
   "source": [
    "params = train.CNNParams(\n",
    "    embed_size=100,\n",
    "    dropout=0.5,\n",
    "    epochs=100,\n",
    "    filters=[(33, 3), (33, 5), (33, 7)],\n",
    "    num_layers=1,\n",
    "    max_norm=3,\n",
    ")\n",
    "\n",
    "char_params = train.CharCNNParams(\n",
    "    dropout=0.5,\n",
    "    epochs=100,\n",
    "    max_norm=3,\n",
    ")\n",
    "\n",
    "#optim_fn = lambda p: torch.optim.Adadelta(p)\n",
    "optim_fn = lambda p: torch.optim.Adam(p, weight_decay=0.0001)\n",
    "model_fns = [lambda r: models.NoClusterLabels(r, params.dropout),\n",
    "             lambda r: models.CategoricalClusterLabels(r, num_clusters, window_size, params.dropout),\n",
    "             \n",
    "             lambda r: models.NoClusterLabels(r, char_params.dropout),\n",
    "             lambda r: models.CategoricalClusterLabels(r, num_clusters, window_size, char_params.dropout)]\n",
    "    \n",
    "#baseline = {}\n",
    "#kmeans = {}\n",
    "#char_baseline = {}\n",
    "#char_kmeans = {}\n",
    "\n",
    "for window_size in [1]:\n",
    "    num_clusters = 9\n",
    "    dataset, validset = evaluate.load_dataset(num_clusters, window_size)\n",
    "\n",
    "    values = evaluate.cross_val(5, 1600, model_fns, [False, False, False, False], optim_fn, dataset,\n",
    "                                params=[params, params, char_params, char_params],\n",
    "                                early_stopping=10,\n",
    "                                validation_set=None,\n",
    "                                batch_size=128,\n",
    "                                testset=None)\n",
    "    baseline[window_size] = [v[0] for v in values]\n",
    "    kmeans[window_size] = [v[1] for v in values]\n",
    "    char_baseline[window_size] = [v[2] for v in values]\n",
    "    char_kmeans[window_size] = [v[3] for v in values]"
   ]
  },
  {
   "cell_type": "code",
   "execution_count": null,
   "metadata": {},
   "outputs": [],
   "source": [
    "d = {\n",
    "    \"WordCNN\": {\n",
    "        s: {\n",
    "            'Baseline': baseline[s],\n",
    "            'K-Means': kmeans[s],\n",
    "        }\n",
    "        for s in baseline.keys()\n",
    "    },\n",
    "    \"CharCNN\": {\n",
    "        s: {\n",
    "            'Baseline': char_baseline[s],\n",
    "            'K-Means': char_kmeans[s],\n",
    "        }\n",
    "        for s in baseline.keys()\n",
    "    }\n",
    "}\n",
    "#evaluate.analyze_tseries(d, 'window size', 'model')\n",
    "evaluate.analyze_cnns(d, \"window size\", \"model\", \"../report/figures/results/1600-windowsize\")"
   ]
  },
  {
   "cell_type": "markdown",
   "metadata": {},
   "source": [
    "# Window size, older testset"
   ]
  },
  {
   "cell_type": "code",
   "execution_count": 9,
   "metadata": {},
   "outputs": [
    {
     "name": "stderr",
     "output_type": "stream",
     "text": [
      "\n",
      "  0%|          | 0/5 [00:00<?, ?it/s]\u001b[A"
     ]
    },
    {
     "name": "stdout",
     "output_type": "stream",
     "text": [
      "[2131  262 1809 ...  308 3341 1702]\n",
      "2000 training samples, 1124 testing samples\n"
     ]
    },
    {
     "name": "stderr",
     "output_type": "stream",
     "text": [
      "\r",
      "Training:   0%|          | 0/200 [00:00<?, ?it/s]"
     ]
    },
    {
     "name": "stdout",
     "output_type": "stream",
     "text": [
      "Skipping incompatible number of clusters\n",
      "Skipping incompatible number of clusters\n",
      "Skipping incompatible number of clusters\n",
      "Skipping incompatible number of clusters\n",
      "Skipping incompatible number of clusters\n"
     ]
    },
    {
     "name": "stderr",
     "output_type": "stream",
     "text": [
      "Training:   0%|          | 1/200 [00:01<03:33,  1.07s/it, f1=0.863, Δf1=0]"
     ]
    },
    {
     "name": "stdout",
     "output_type": "stream",
     "text": [
      "Skipping incompatible number of clusters\n",
      "Skipping incompatible number of clusters\n",
      "Skipping incompatible number of clusters\n"
     ]
    },
    {
     "name": "stderr",
     "output_type": "stream",
     "text": [
      "Training:   1%|          | 2/200 [00:01<02:53,  1.14it/s, f1=0.863, Δf1=0]"
     ]
    },
    {
     "name": "stdout",
     "output_type": "stream",
     "text": [
      "Skipping incompatible number of clusters\n",
      "Skipping incompatible number of clusters\n",
      "Skipping incompatible number of clusters\n"
     ]
    },
    {
     "name": "stderr",
     "output_type": "stream",
     "text": [
      "Training:   2%|▏         | 3/200 [00:02<02:39,  1.23it/s, f1=0.863, Δf1=0]"
     ]
    },
    {
     "name": "stdout",
     "output_type": "stream",
     "text": [
      "Skipping incompatible number of clusters\n",
      "Skipping incompatible number of clusters\n",
      "Skipping incompatible number of clusters\n"
     ]
    },
    {
     "name": "stderr",
     "output_type": "stream",
     "text": [
      "Training:   2%|▏         | 4/200 [00:03<02:32,  1.29it/s, f1=0.863, Δf1=0]"
     ]
    },
    {
     "name": "stdout",
     "output_type": "stream",
     "text": [
      "Skipping incompatible number of clusters\n",
      "Skipping incompatible number of clusters\n",
      "Skipping incompatible number of clusters\n"
     ]
    },
    {
     "name": "stderr",
     "output_type": "stream",
     "text": [
      "Training:   2%|▎         | 5/200 [00:03<02:27,  1.32it/s, f1=0.863, Δf1=0]"
     ]
    },
    {
     "name": "stdout",
     "output_type": "stream",
     "text": [
      "Skipping incompatible number of clusters\n",
      "Skipping incompatible number of clusters\n",
      "Skipping incompatible number of clusters\n",
      "Skipping incompatible number of clusters\n",
      "Skipping incompatible number of clusters\n"
     ]
    },
    {
     "name": "stderr",
     "output_type": "stream",
     "text": [
      "Training:   3%|▎         | 6/200 [00:04<02:35,  1.25it/s, f1=0.893, Δf1=0.03]"
     ]
    },
    {
     "name": "stdout",
     "output_type": "stream",
     "text": [
      "Skipping incompatible number of clusters\n",
      "Skipping incompatible number of clusters\n",
      "Skipping incompatible number of clusters\n"
     ]
    },
    {
     "name": "stderr",
     "output_type": "stream",
     "text": [
      "Training:   4%|▎         | 7/200 [00:05<02:31,  1.27it/s, f1=0.893, Δf1=0.03]"
     ]
    },
    {
     "name": "stdout",
     "output_type": "stream",
     "text": [
      "Skipping incompatible number of clusters\n",
      "Skipping incompatible number of clusters\n",
      "Skipping incompatible number of clusters\n"
     ]
    },
    {
     "name": "stderr",
     "output_type": "stream",
     "text": [
      "Training:   4%|▍         | 8/200 [00:06<02:28,  1.29it/s, f1=0.893, Δf1=0.03]"
     ]
    },
    {
     "name": "stdout",
     "output_type": "stream",
     "text": [
      "Skipping incompatible number of clusters\n",
      "Skipping incompatible number of clusters\n",
      "Skipping incompatible number of clusters\n"
     ]
    },
    {
     "name": "stderr",
     "output_type": "stream",
     "text": [
      "Training:   4%|▍         | 9/200 [00:06<02:25,  1.31it/s, f1=0.893, Δf1=0.03]"
     ]
    },
    {
     "name": "stdout",
     "output_type": "stream",
     "text": [
      "Skipping incompatible number of clusters\n",
      "Skipping incompatible number of clusters\n",
      "Skipping incompatible number of clusters\n"
     ]
    },
    {
     "name": "stderr",
     "output_type": "stream",
     "text": [
      "Training:   5%|▌         | 10/200 [00:07<02:23,  1.32it/s, f1=0.893, Δf1=0.03]"
     ]
    },
    {
     "name": "stdout",
     "output_type": "stream",
     "text": [
      "Skipping incompatible number of clusters\n",
      "Skipping incompatible number of clusters\n",
      "Skipping incompatible number of clusters\n",
      "Skipping incompatible number of clusters\n",
      "Skipping incompatible number of clusters\n"
     ]
    },
    {
     "name": "stderr",
     "output_type": "stream",
     "text": [
      "Training:   6%|▌         | 11/200 [00:08<02:28,  1.27it/s, f1=0.897, Δf1=0.00408]"
     ]
    },
    {
     "name": "stdout",
     "output_type": "stream",
     "text": [
      "Skipping incompatible number of clusters\n",
      "Skipping incompatible number of clusters\n",
      "Skipping incompatible number of clusters\n"
     ]
    },
    {
     "name": "stderr",
     "output_type": "stream",
     "text": [
      "Training:   6%|▌         | 12/200 [00:09<02:26,  1.28it/s, f1=0.897, Δf1=0.00408]"
     ]
    },
    {
     "name": "stdout",
     "output_type": "stream",
     "text": [
      "Skipping incompatible number of clusters\n",
      "Skipping incompatible number of clusters\n",
      "Skipping incompatible number of clusters\n"
     ]
    },
    {
     "name": "stderr",
     "output_type": "stream",
     "text": [
      "Training:   6%|▋         | 13/200 [00:10<02:24,  1.29it/s, f1=0.897, Δf1=0.00408]"
     ]
    },
    {
     "name": "stdout",
     "output_type": "stream",
     "text": [
      "Skipping incompatible number of clusters\n",
      "Skipping incompatible number of clusters\n",
      "Skipping incompatible number of clusters\n"
     ]
    },
    {
     "name": "stderr",
     "output_type": "stream",
     "text": [
      "Training:   7%|▋         | 14/200 [00:10<02:23,  1.30it/s, f1=0.897, Δf1=0.00408]"
     ]
    },
    {
     "name": "stdout",
     "output_type": "stream",
     "text": [
      "Skipping incompatible number of clusters\n",
      "Skipping incompatible number of clusters\n",
      "Skipping incompatible number of clusters\n"
     ]
    },
    {
     "name": "stderr",
     "output_type": "stream",
     "text": [
      "Training:   8%|▊         | 15/200 [00:11<02:21,  1.30it/s, f1=0.897, Δf1=0.00408]"
     ]
    },
    {
     "name": "stdout",
     "output_type": "stream",
     "text": [
      "Skipping incompatible number of clusters\n",
      "Skipping incompatible number of clusters\n",
      "Skipping incompatible number of clusters\n",
      "Skipping incompatible number of clusters\n",
      "Skipping incompatible number of clusters\n"
     ]
    },
    {
     "name": "stderr",
     "output_type": "stream",
     "text": [
      "Training:   8%|▊         | 16/200 [00:12<02:25,  1.27it/s, f1=0.889, Δf1=-0.00732]"
     ]
    },
    {
     "name": "stdout",
     "output_type": "stream",
     "text": [
      "Skipping incompatible number of clusters\n",
      "Skipping incompatible number of clusters\n",
      "Skipping incompatible number of clusters\n"
     ]
    },
    {
     "name": "stderr",
     "output_type": "stream",
     "text": [
      "Training:   8%|▊         | 17/200 [00:13<02:23,  1.28it/s, f1=0.889, Δf1=-0.00732]"
     ]
    },
    {
     "name": "stdout",
     "output_type": "stream",
     "text": [
      "Skipping incompatible number of clusters\n",
      "Skipping incompatible number of clusters\n",
      "Skipping incompatible number of clusters\n"
     ]
    },
    {
     "name": "stderr",
     "output_type": "stream",
     "text": [
      "Training:   9%|▉         | 18/200 [00:14<02:22,  1.28it/s, f1=0.889, Δf1=-0.00732]"
     ]
    },
    {
     "name": "stdout",
     "output_type": "stream",
     "text": [
      "Skipping incompatible number of clusters\n",
      "Skipping incompatible number of clusters\n",
      "Skipping incompatible number of clusters\n"
     ]
    },
    {
     "name": "stderr",
     "output_type": "stream",
     "text": [
      "Training:  10%|▉         | 19/200 [00:14<02:20,  1.29it/s, f1=0.889, Δf1=-0.00732]"
     ]
    },
    {
     "name": "stdout",
     "output_type": "stream",
     "text": [
      "Skipping incompatible number of clusters\n",
      "Skipping incompatible number of clusters\n",
      "Skipping incompatible number of clusters\n"
     ]
    },
    {
     "name": "stderr",
     "output_type": "stream",
     "text": [
      "Training:  10%|█         | 20/200 [00:15<02:18,  1.30it/s, f1=0.889, Δf1=-0.00732]"
     ]
    },
    {
     "name": "stdout",
     "output_type": "stream",
     "text": [
      "Skipping incompatible number of clusters\n",
      "Skipping incompatible number of clusters\n",
      "Skipping incompatible number of clusters\n",
      "Skipping incompatible number of clusters\n",
      "Skipping incompatible number of clusters\n"
     ]
    },
    {
     "name": "stderr",
     "output_type": "stream",
     "text": [
      "Training:  10%|█         | 21/200 [00:16<02:20,  1.27it/s, f1=0.905, Δf1=0.0159]  "
     ]
    },
    {
     "name": "stdout",
     "output_type": "stream",
     "text": [
      "Skipping incompatible number of clusters\n",
      "Skipping incompatible number of clusters\n",
      "Skipping incompatible number of clusters\n"
     ]
    },
    {
     "name": "stderr",
     "output_type": "stream",
     "text": [
      "Training:  11%|█         | 22/200 [00:17<02:18,  1.28it/s, f1=0.905, Δf1=0.0159]"
     ]
    },
    {
     "name": "stdout",
     "output_type": "stream",
     "text": [
      "Skipping incompatible number of clusters\n",
      "Skipping incompatible number of clusters\n",
      "Skipping incompatible number of clusters\n"
     ]
    },
    {
     "name": "stderr",
     "output_type": "stream",
     "text": [
      "Training:  12%|█▏        | 23/200 [00:17<02:17,  1.29it/s, f1=0.905, Δf1=0.0159]"
     ]
    },
    {
     "name": "stdout",
     "output_type": "stream",
     "text": [
      "Skipping incompatible number of clusters\n",
      "Skipping incompatible number of clusters\n",
      "Skipping incompatible number of clusters\n"
     ]
    },
    {
     "name": "stderr",
     "output_type": "stream",
     "text": [
      "Training:  12%|█▏        | 24/200 [00:18<02:15,  1.30it/s, f1=0.905, Δf1=0.0159]"
     ]
    },
    {
     "name": "stdout",
     "output_type": "stream",
     "text": [
      "Skipping incompatible number of clusters\n",
      "Skipping incompatible number of clusters\n",
      "Skipping incompatible number of clusters\n"
     ]
    },
    {
     "name": "stderr",
     "output_type": "stream",
     "text": [
      "Training:  12%|█▎        | 25/200 [00:19<02:14,  1.30it/s, f1=0.905, Δf1=0.0159]"
     ]
    },
    {
     "name": "stdout",
     "output_type": "stream",
     "text": [
      "Skipping incompatible number of clusters\n",
      "Skipping incompatible number of clusters\n",
      "Skipping incompatible number of clusters\n",
      "Skipping incompatible number of clusters\n",
      "Skipping incompatible number of clusters\n"
     ]
    },
    {
     "name": "stderr",
     "output_type": "stream",
     "text": [
      "Training:  13%|█▎        | 26/200 [00:20<02:15,  1.29it/s, f1=0.902, Δf1=-0.00354]"
     ]
    },
    {
     "name": "stdout",
     "output_type": "stream",
     "text": [
      "Skipping incompatible number of clusters\n",
      "Skipping incompatible number of clusters\n",
      "Skipping incompatible number of clusters\n"
     ]
    },
    {
     "name": "stderr",
     "output_type": "stream",
     "text": [
      "Training:  14%|█▎        | 27/200 [00:20<02:13,  1.29it/s, f1=0.902, Δf1=-0.00354]"
     ]
    },
    {
     "name": "stdout",
     "output_type": "stream",
     "text": [
      "Skipping incompatible number of clusters\n",
      "Skipping incompatible number of clusters\n",
      "Skipping incompatible number of clusters\n"
     ]
    },
    {
     "name": "stderr",
     "output_type": "stream",
     "text": [
      "Training:  14%|█▍        | 28/200 [00:21<02:12,  1.30it/s, f1=0.902, Δf1=-0.00354]"
     ]
    },
    {
     "name": "stdout",
     "output_type": "stream",
     "text": [
      "Skipping incompatible number of clusters\n",
      "Skipping incompatible number of clusters\n",
      "Skipping incompatible number of clusters\n"
     ]
    },
    {
     "name": "stderr",
     "output_type": "stream",
     "text": [
      "Training:  14%|█▍        | 29/200 [00:22<02:10,  1.31it/s, f1=0.902, Δf1=-0.00354]"
     ]
    },
    {
     "name": "stdout",
     "output_type": "stream",
     "text": [
      "Skipping incompatible number of clusters\n",
      "Skipping incompatible number of clusters\n",
      "Skipping incompatible number of clusters\n"
     ]
    },
    {
     "name": "stderr",
     "output_type": "stream",
     "text": [
      "Training:  15%|█▌        | 30/200 [00:22<02:09,  1.31it/s, f1=0.902, Δf1=-0.00354]"
     ]
    },
    {
     "name": "stdout",
     "output_type": "stream",
     "text": [
      "Skipping incompatible number of clusters\n",
      "Skipping incompatible number of clusters\n",
      "Skipping incompatible number of clusters\n",
      "Skipping incompatible number of clusters\n",
      "Skipping incompatible number of clusters\n"
     ]
    },
    {
     "name": "stderr",
     "output_type": "stream",
     "text": [
      "\n",
      "\n",
      "\u001b[A"
     ]
    },
    {
     "ename": "KeyboardInterrupt",
     "evalue": "",
     "output_type": "error",
     "traceback": [
      "\u001b[0;31m---------------------------------------------------------------------------\u001b[0m",
      "\u001b[0;31mKeyboardInterrupt\u001b[0m                         Traceback (most recent call last)",
      "\u001b[0;32m<ipython-input-9-dfeec35d95c6>\u001b[0m in \u001b[0;36m<module>\u001b[0;34m()\u001b[0m\n\u001b[1;32m     45\u001b[0m                                 \u001b[0mvalidation_set\u001b[0m\u001b[0;34m=\u001b[0m\u001b[0mvalidset\u001b[0m\u001b[0;34m,\u001b[0m\u001b[0;34m\u001b[0m\u001b[0m\n\u001b[1;32m     46\u001b[0m                                 \u001b[0mbatch_size\u001b[0m\u001b[0;34m=\u001b[0m\u001b[0;36m128\u001b[0m\u001b[0;34m,\u001b[0m\u001b[0;34m\u001b[0m\u001b[0m\n\u001b[0;32m---> 47\u001b[0;31m                                 testset=testset)\n\u001b[0m\u001b[1;32m     48\u001b[0m     \u001b[0mold_kmeans_w\u001b[0m\u001b[0;34m[\u001b[0m\u001b[0mwindow_size\u001b[0m\u001b[0;34m]\u001b[0m \u001b[0;34m=\u001b[0m \u001b[0;34m[\u001b[0m\u001b[0mv\u001b[0m\u001b[0;34m[\u001b[0m\u001b[0;36m0\u001b[0m\u001b[0;34m]\u001b[0m \u001b[0;32mfor\u001b[0m \u001b[0mv\u001b[0m \u001b[0;32min\u001b[0m \u001b[0mvalues\u001b[0m\u001b[0;34m]\u001b[0m\u001b[0;34m\u001b[0m\u001b[0m\n\u001b[1;32m     49\u001b[0m     \u001b[0mold_gmm_w\u001b[0m\u001b[0;34m[\u001b[0m\u001b[0mwindow_size\u001b[0m\u001b[0;34m]\u001b[0m \u001b[0;34m=\u001b[0m \u001b[0;34m[\u001b[0m\u001b[0mv\u001b[0m\u001b[0;34m[\u001b[0m\u001b[0;36m1\u001b[0m\u001b[0;34m]\u001b[0m \u001b[0;32mfor\u001b[0m \u001b[0mv\u001b[0m \u001b[0;32min\u001b[0m \u001b[0mvalues\u001b[0m\u001b[0;34m]\u001b[0m\u001b[0;34m\u001b[0m\u001b[0m\n",
      "\u001b[0;32m~/Documents/masterthesis/supervised/evaluate.py\u001b[0m in \u001b[0;36mcross_val\u001b[0;34m(k, splitter, model_fns, use_dist_list, optim_fn, dataset, params, early_stopping, validation_set, testset, gpu, batch_size)\u001b[0m\n\u001b[1;32m    274\u001b[0m             )\n\u001b[1;32m    275\u001b[0m             scores = get_scores(\n\u001b[0;32m--> 276\u001b[0;31m                 \u001b[0mmodel\u001b[0m\u001b[0;34m,\u001b[0m \u001b[0mwordlen\u001b[0m\u001b[0;34m,\u001b[0m \u001b[0mcharlen\u001b[0m\u001b[0;34m,\u001b[0m \u001b[0mtestset\u001b[0m\u001b[0;34m,\u001b[0m \u001b[0mgpu\u001b[0m\u001b[0;34m,\u001b[0m \u001b[0muse_dist\u001b[0m\u001b[0;34m,\u001b[0m \u001b[0muse_chars\u001b[0m\u001b[0;34m\u001b[0m\u001b[0m\n\u001b[0m\u001b[1;32m    277\u001b[0m             )\n\u001b[1;32m    278\u001b[0m             \u001b[0mlosses\u001b[0m\u001b[0;34m[\u001b[0m\u001b[0mi\u001b[0m\u001b[0;34m]\u001b[0m\u001b[0;34m.\u001b[0m\u001b[0mappend\u001b[0m\u001b[0;34m(\u001b[0m\u001b[0mloss\u001b[0m\u001b[0;34m)\u001b[0m\u001b[0;34m\u001b[0m\u001b[0m\n",
      "\u001b[0;32m~/Documents/masterthesis/supervised/evaluate.py\u001b[0m in \u001b[0;36mget_scores\u001b[0;34m(model, wordlen, charlen, dataset, gpu, use_dist, use_chars)\u001b[0m\n\u001b[1;32m    189\u001b[0m             \u001b[0mgpu\u001b[0m\u001b[0;34m=\u001b[0m\u001b[0mgpu\u001b[0m\u001b[0;34m,\u001b[0m\u001b[0;34m\u001b[0m\u001b[0m\n\u001b[1;32m    190\u001b[0m             \u001b[0muse_dist\u001b[0m\u001b[0;34m=\u001b[0m\u001b[0muse_dist\u001b[0m\u001b[0;34m,\u001b[0m\u001b[0;34m\u001b[0m\u001b[0m\n\u001b[0;32m--> 191\u001b[0;31m             \u001b[0muse_chars\u001b[0m\u001b[0;34m=\u001b[0m\u001b[0muse_chars\u001b[0m\u001b[0;34m,\u001b[0m\u001b[0;34m\u001b[0m\u001b[0m\n\u001b[0m\u001b[1;32m    192\u001b[0m         )\n\u001b[1;32m    193\u001b[0m     )\n",
      "\u001b[0;32m~/Documents/masterthesis/supervised/evaluate.py\u001b[0m in \u001b[0;36mget_values\u001b[0;34m(model, dataloader, gpu, use_dist, use_chars)\u001b[0m\n\u001b[1;32m     44\u001b[0m     \u001b[0mtrue\u001b[0m\u001b[0;34m:\u001b[0m \u001b[0mList\u001b[0m\u001b[0;34m[\u001b[0m\u001b[0mfloat\u001b[0m\u001b[0;34m]\u001b[0m \u001b[0;34m=\u001b[0m \u001b[0;34m[\u001b[0m\u001b[0;34m]\u001b[0m\u001b[0;34m\u001b[0m\u001b[0m\n\u001b[1;32m     45\u001b[0m \u001b[0;34m\u001b[0m\u001b[0m\n\u001b[0;32m---> 46\u001b[0;31m     \u001b[0;32mfor\u001b[0m \u001b[0mbatch\u001b[0m \u001b[0;32min\u001b[0m \u001b[0mdataloader\u001b[0m\u001b[0;34m:\u001b[0m\u001b[0;34m\u001b[0m\u001b[0m\n\u001b[0m\u001b[1;32m     47\u001b[0m         \u001b[0mbatch\u001b[0m\u001b[0;34m.\u001b[0m\u001b[0mto_tensors\u001b[0m\u001b[0;34m(\u001b[0m\u001b[0;34m)\u001b[0m\u001b[0;34m\u001b[0m\u001b[0m\n\u001b[1;32m     48\u001b[0m         \u001b[0;32mif\u001b[0m \u001b[0mgpu\u001b[0m\u001b[0;34m:\u001b[0m\u001b[0;34m\u001b[0m\u001b[0m\n",
      "\u001b[0;32m/usr/lib/python3.6/site-packages/torch/utils/data/dataloader.py\u001b[0m in \u001b[0;36m__next__\u001b[0;34m(self)\u001b[0m\n\u001b[1;32m    262\u001b[0m         \u001b[0;32mif\u001b[0m \u001b[0mself\u001b[0m\u001b[0;34m.\u001b[0m\u001b[0mnum_workers\u001b[0m \u001b[0;34m==\u001b[0m \u001b[0;36m0\u001b[0m\u001b[0;34m:\u001b[0m  \u001b[0;31m# same-process loading\u001b[0m\u001b[0;34m\u001b[0m\u001b[0m\n\u001b[1;32m    263\u001b[0m             \u001b[0mindices\u001b[0m \u001b[0;34m=\u001b[0m \u001b[0mnext\u001b[0m\u001b[0;34m(\u001b[0m\u001b[0mself\u001b[0m\u001b[0;34m.\u001b[0m\u001b[0msample_iter\u001b[0m\u001b[0;34m)\u001b[0m  \u001b[0;31m# may raise StopIteration\u001b[0m\u001b[0;34m\u001b[0m\u001b[0m\n\u001b[0;32m--> 264\u001b[0;31m             \u001b[0mbatch\u001b[0m \u001b[0;34m=\u001b[0m \u001b[0mself\u001b[0m\u001b[0;34m.\u001b[0m\u001b[0mcollate_fn\u001b[0m\u001b[0;34m(\u001b[0m\u001b[0;34m[\u001b[0m\u001b[0mself\u001b[0m\u001b[0;34m.\u001b[0m\u001b[0mdataset\u001b[0m\u001b[0;34m[\u001b[0m\u001b[0mi\u001b[0m\u001b[0;34m]\u001b[0m \u001b[0;32mfor\u001b[0m \u001b[0mi\u001b[0m \u001b[0;32min\u001b[0m \u001b[0mindices\u001b[0m\u001b[0;34m]\u001b[0m\u001b[0;34m)\u001b[0m\u001b[0;34m\u001b[0m\u001b[0m\n\u001b[0m\u001b[1;32m    265\u001b[0m             \u001b[0;32mif\u001b[0m \u001b[0mself\u001b[0m\u001b[0;34m.\u001b[0m\u001b[0mpin_memory\u001b[0m\u001b[0;34m:\u001b[0m\u001b[0;34m\u001b[0m\u001b[0m\n\u001b[1;32m    266\u001b[0m                 \u001b[0mbatch\u001b[0m \u001b[0;34m=\u001b[0m \u001b[0mpin_memory_batch\u001b[0m\u001b[0;34m(\u001b[0m\u001b[0mbatch\u001b[0m\u001b[0;34m)\u001b[0m\u001b[0;34m\u001b[0m\u001b[0m\n",
      "\u001b[0;32m~/Documents/masterthesis/supervised/data.py\u001b[0m in \u001b[0;36m__call__\u001b[0;34m(self, samples)\u001b[0m\n\u001b[1;32m    397\u001b[0m \u001b[0;34m\u001b[0m\u001b[0m\n\u001b[1;32m    398\u001b[0m     \u001b[0;32mdef\u001b[0m \u001b[0m__call__\u001b[0m\u001b[0;34m(\u001b[0m\u001b[0mself\u001b[0m\u001b[0;34m,\u001b[0m \u001b[0msamples\u001b[0m\u001b[0;34m:\u001b[0m \u001b[0mList\u001b[0m\u001b[0;34m[\u001b[0m\u001b[0mSample\u001b[0m\u001b[0;34m]\u001b[0m\u001b[0;34m)\u001b[0m \u001b[0;34m->\u001b[0m \u001b[0mSample\u001b[0m\u001b[0;34m:\u001b[0m\u001b[0;34m\u001b[0m\u001b[0m\n\u001b[0;32m--> 399\u001b[0;31m         \u001b[0;32mreturn\u001b[0m \u001b[0mself\u001b[0m\u001b[0;34m.\u001b[0m\u001b[0mbucket\u001b[0m\u001b[0;34m(\u001b[0m\u001b[0msamples\u001b[0m\u001b[0;34m)\u001b[0m\u001b[0;34m\u001b[0m\u001b[0m\n\u001b[0m\u001b[1;32m    400\u001b[0m \u001b[0;34m\u001b[0m\u001b[0m\n\u001b[1;32m    401\u001b[0m     \u001b[0;32mdef\u001b[0m \u001b[0mbucket\u001b[0m\u001b[0;34m(\u001b[0m\u001b[0mself\u001b[0m\u001b[0;34m,\u001b[0m \u001b[0msamples\u001b[0m\u001b[0;34m:\u001b[0m \u001b[0mList\u001b[0m\u001b[0;34m[\u001b[0m\u001b[0mSample\u001b[0m\u001b[0;34m]\u001b[0m\u001b[0;34m)\u001b[0m \u001b[0;34m->\u001b[0m \u001b[0mSample\u001b[0m\u001b[0;34m:\u001b[0m\u001b[0;34m\u001b[0m\u001b[0m\n",
      "\u001b[0;32m~/Documents/masterthesis/supervised/data.py\u001b[0m in \u001b[0;36mbucket\u001b[0;34m(self, samples)\u001b[0m\n\u001b[1;32m    408\u001b[0m                 \u001b[0mself\u001b[0m\u001b[0;34m.\u001b[0m\u001b[0mword_len\u001b[0m \u001b[0;34m-\u001b[0m \u001b[0mnp\u001b[0m\u001b[0;34m.\u001b[0m\u001b[0msize\u001b[0m\u001b[0;34m(\u001b[0m\u001b[0ms\u001b[0m\u001b[0;34m.\u001b[0m\u001b[0mX_words\u001b[0m\u001b[0;34m)\u001b[0m\u001b[0;34m,\u001b[0m \u001b[0mself\u001b[0m\u001b[0;34m.\u001b[0m\u001b[0mchar_len\u001b[0m \u001b[0;34m-\u001b[0m \u001b[0mnp\u001b[0m\u001b[0;34m.\u001b[0m\u001b[0msize\u001b[0m\u001b[0;34m(\u001b[0m\u001b[0ms\u001b[0m\u001b[0;34m.\u001b[0m\u001b[0mX_chars\u001b[0m\u001b[0;34m)\u001b[0m\u001b[0;34m\u001b[0m\u001b[0m\n\u001b[1;32m    409\u001b[0m             )\n\u001b[0;32m--> 410\u001b[0;31m             \u001b[0mout\u001b[0m \u001b[0;34m=\u001b[0m \u001b[0;34m(\u001b[0m\u001b[0mout\u001b[0m \u001b[0;34m+\u001b[0m \u001b[0;34m(\u001b[0m\u001b[0ms\u001b[0m\u001b[0;34m)\u001b[0m\u001b[0;34m)\u001b[0m \u001b[0;32mif\u001b[0m \u001b[0mout\u001b[0m \u001b[0;32melse\u001b[0m \u001b[0ms\u001b[0m\u001b[0;34m\u001b[0m\u001b[0m\n\u001b[0m\u001b[1;32m    411\u001b[0m \u001b[0;34m\u001b[0m\u001b[0m\n\u001b[1;32m    412\u001b[0m         \u001b[0;32mreturn\u001b[0m \u001b[0mout\u001b[0m\u001b[0;34m\u001b[0m\u001b[0m\n",
      "\u001b[0;32m~/Documents/masterthesis/supervised/data.py\u001b[0m in \u001b[0;36m__add__\u001b[0;34m(self, other)\u001b[0m\n\u001b[1;32m     80\u001b[0m             \u001b[0mnp\u001b[0m\u001b[0;34m.\u001b[0m\u001b[0mappend\u001b[0m\u001b[0;34m(\u001b[0m\u001b[0mself\u001b[0m\u001b[0;34m.\u001b[0m\u001b[0mclusters_kmeans\u001b[0m\u001b[0;34m,\u001b[0m \u001b[0mother\u001b[0m\u001b[0;34m.\u001b[0m\u001b[0mclusters_kmeans\u001b[0m\u001b[0;34m,\u001b[0m \u001b[0;36m0\u001b[0m\u001b[0;34m)\u001b[0m\u001b[0;34m,\u001b[0m\u001b[0;34m\u001b[0m\u001b[0m\n\u001b[1;32m     81\u001b[0m             \u001b[0mnp\u001b[0m\u001b[0;34m.\u001b[0m\u001b[0mappend\u001b[0m\u001b[0;34m(\u001b[0m\u001b[0mself\u001b[0m\u001b[0;34m.\u001b[0m\u001b[0mclusters_gmm\u001b[0m\u001b[0;34m,\u001b[0m \u001b[0mother\u001b[0m\u001b[0;34m.\u001b[0m\u001b[0mclusters_gmm\u001b[0m\u001b[0;34m,\u001b[0m \u001b[0;36m0\u001b[0m\u001b[0;34m)\u001b[0m\u001b[0;34m,\u001b[0m\u001b[0;34m\u001b[0m\u001b[0m\n\u001b[0;32m---> 82\u001b[0;31m             \u001b[0mnp\u001b[0m\u001b[0;34m.\u001b[0m\u001b[0mappend\u001b[0m\u001b[0;34m(\u001b[0m\u001b[0mself\u001b[0m\u001b[0;34m.\u001b[0m\u001b[0mlabel\u001b[0m\u001b[0;34m,\u001b[0m \u001b[0mother\u001b[0m\u001b[0;34m.\u001b[0m\u001b[0mlabel\u001b[0m\u001b[0;34m,\u001b[0m \u001b[0;36m0\u001b[0m\u001b[0;34m)\u001b[0m\u001b[0;34m,\u001b[0m\u001b[0;34m\u001b[0m\u001b[0m\n\u001b[0m\u001b[1;32m     83\u001b[0m         )\n\u001b[1;32m     84\u001b[0m \u001b[0;34m\u001b[0m\u001b[0m\n",
      "\u001b[0;32m~/Documents/masterthesis/supervised/data.py\u001b[0m in \u001b[0;36m__init__\u001b[0;34m(self, X_words, X_chars, clusters_kmeans, clusters_gmm, label)\u001b[0m\n\u001b[1;32m     55\u001b[0m         \u001b[0mself\u001b[0m\u001b[0;34m.\u001b[0m\u001b[0mX_chars\u001b[0m \u001b[0;34m=\u001b[0m \u001b[0mself\u001b[0m\u001b[0;34m.\u001b[0m\u001b[0mensure_2d\u001b[0m\u001b[0;34m(\u001b[0m\u001b[0mX_chars\u001b[0m\u001b[0;34m)\u001b[0m\u001b[0;34m\u001b[0m\u001b[0m\n\u001b[1;32m     56\u001b[0m         \u001b[0mself\u001b[0m\u001b[0;34m.\u001b[0m\u001b[0mclusters_kmeans\u001b[0m \u001b[0;34m=\u001b[0m \u001b[0mself\u001b[0m\u001b[0;34m.\u001b[0m\u001b[0mensure_2d\u001b[0m\u001b[0;34m(\u001b[0m\u001b[0mclusters_kmeans\u001b[0m\u001b[0;34m)\u001b[0m\u001b[0;34m\u001b[0m\u001b[0m\n\u001b[0;32m---> 57\u001b[0;31m         \u001b[0mself\u001b[0m\u001b[0;34m.\u001b[0m\u001b[0mclusters_gmm\u001b[0m \u001b[0;34m=\u001b[0m \u001b[0mself\u001b[0m\u001b[0;34m.\u001b[0m\u001b[0mensure_2d\u001b[0m\u001b[0;34m(\u001b[0m\u001b[0mclusters_gmm\u001b[0m\u001b[0;34m)\u001b[0m\u001b[0;34m\u001b[0m\u001b[0m\n\u001b[0m\u001b[1;32m     58\u001b[0m         \u001b[0mself\u001b[0m\u001b[0;34m.\u001b[0m\u001b[0mlabel\u001b[0m \u001b[0;34m=\u001b[0m \u001b[0mlabel\u001b[0m\u001b[0;34m\u001b[0m\u001b[0m\n\u001b[1;32m     59\u001b[0m \u001b[0;34m\u001b[0m\u001b[0m\n",
      "\u001b[0;32m~/Documents/masterthesis/supervised/data.py\u001b[0m in \u001b[0;36mensure_2d\u001b[0;34m(self, arr)\u001b[0m\n\u001b[1;32m     84\u001b[0m \u001b[0;34m\u001b[0m\u001b[0m\n\u001b[1;32m     85\u001b[0m     \u001b[0;32mdef\u001b[0m \u001b[0mensure_2d\u001b[0m\u001b[0;34m(\u001b[0m\u001b[0mself\u001b[0m\u001b[0;34m,\u001b[0m \u001b[0marr\u001b[0m\u001b[0;34m:\u001b[0m \u001b[0mnp\u001b[0m\u001b[0;34m.\u001b[0m\u001b[0mndarray\u001b[0m\u001b[0;34m)\u001b[0m \u001b[0;34m->\u001b[0m \u001b[0mnp\u001b[0m\u001b[0;34m.\u001b[0m\u001b[0mndarray\u001b[0m\u001b[0;34m:\u001b[0m\u001b[0;34m\u001b[0m\u001b[0m\n\u001b[0;32m---> 86\u001b[0;31m         \u001b[0;32mreturn\u001b[0m \u001b[0mnp\u001b[0m\u001b[0;34m.\u001b[0m\u001b[0mexpand_dims\u001b[0m\u001b[0;34m(\u001b[0m\u001b[0marr\u001b[0m\u001b[0;34m,\u001b[0m \u001b[0;36m0\u001b[0m\u001b[0;34m)\u001b[0m \u001b[0;32mif\u001b[0m \u001b[0mlen\u001b[0m\u001b[0;34m(\u001b[0m\u001b[0marr\u001b[0m\u001b[0;34m.\u001b[0m\u001b[0mshape\u001b[0m\u001b[0;34m)\u001b[0m \u001b[0;34m<\u001b[0m \u001b[0;36m2\u001b[0m \u001b[0;32melse\u001b[0m \u001b[0marr\u001b[0m\u001b[0;34m\u001b[0m\u001b[0m\n\u001b[0m\u001b[1;32m     87\u001b[0m \u001b[0;34m\u001b[0m\u001b[0m\n\u001b[1;32m     88\u001b[0m     \u001b[0;32mdef\u001b[0m \u001b[0mto_tensors\u001b[0m\u001b[0;34m(\u001b[0m\u001b[0mself\u001b[0m\u001b[0;34m)\u001b[0m \u001b[0;34m->\u001b[0m \u001b[0;34m\"Sample\"\u001b[0m\u001b[0;34m:\u001b[0m\u001b[0;34m\u001b[0m\u001b[0m\n",
      "\u001b[0;31mKeyboardInterrupt\u001b[0m: "
     ]
    }
   ],
   "source": [
    "params = train.CNNParams(\n",
    "    embed_size=100,\n",
    "    dropout=0.5,\n",
    "    epochs=200,\n",
    "    filters=[(33, 3), (33, 5), (33, 7)],\n",
    "    num_layers=1,\n",
    "    max_norm=3,\n",
    ")\n",
    "\n",
    "char_params = train.CharCNNParams(\n",
    "    dropout=0.5,\n",
    "    epochs=200,\n",
    "    max_norm=3,\n",
    ")\n",
    "\n",
    "num_clusters = 9\n",
    "k = 5\n",
    "splitter = evaluate.StratifiedShuffleSplit(\n",
    "    n_splits=k,\n",
    "    train_size=2000,\n",
    "    test_size=None,\n",
    "    random_state=100,\n",
    ")\n",
    "\n",
    "old_kmeans_w = {}\n",
    "old_gmm_w = {}\n",
    "old_char_kmeans_w = {}\n",
    "old_char_gmm_w = {}\n",
    "\n",
    "for window_size in [3, 4]:\n",
    "    optim_fn = lambda p: torch.optim.Adadelta(p)\n",
    "    model_fns = [\n",
    "        lambda r: models.CategoricalClusterLabels(r, num_clusters, window_size, params.dropout),\n",
    "        lambda r: models.CategoricalClusterLabels(r, 11, window_size, params.dropout),\n",
    "        lambda r: models.CategoricalClusterLabels(r, num_clusters, window_size, char_params.dropout),\n",
    "        lambda r: models.CategoricalClusterLabels(r, 11, window_size, char_params.dropout),\n",
    "    ]\n",
    "    dataset, validset, testset = evaluate.load_dataset(num_clusters, window_size, True)\n",
    "\n",
    "    splitter.random_state = 100\n",
    "    values = evaluate.cross_val(k, splitter, model_fns, [False, True, False, True], optim_fn,\n",
    "                                dataset,\n",
    "                                params=[params, params, char_params, char_params],\n",
    "                                early_stopping=2,\n",
    "                                validation_set=validset,\n",
    "                                batch_size=128,\n",
    "                                testset=testset)\n",
    "    old_kmeans_w[window_size] = [v[0] for v in values]\n",
    "    old_gmm_w[window_size] = [v[1] for v in values]\n",
    "    old_char_kmeans_w[window_size] = [v[2] for v in values]\n",
    "    old_char_gmm_w[window_size] = [v[3] for v in values]"
   ]
  },
  {
   "cell_type": "code",
   "execution_count": 8,
   "metadata": {},
   "outputs": [
    {
     "name": "stdout",
     "output_type": "stream",
     "text": [
      "> \u001b[0;32m/usr/lib/python3.6/site-packages/numpy/lib/function_base.py\u001b[0m(5166)\u001b[0;36mappend\u001b[0;34m()\u001b[0m\n",
      "\u001b[0;32m   5162 \u001b[0;31m        \u001b[0;32mif\u001b[0m \u001b[0marr\u001b[0m\u001b[0;34m.\u001b[0m\u001b[0mndim\u001b[0m \u001b[0;34m!=\u001b[0m \u001b[0;36m1\u001b[0m\u001b[0;34m:\u001b[0m\u001b[0;34m\u001b[0m\u001b[0m\n",
      "\u001b[0m\u001b[0;32m   5163 \u001b[0;31m            \u001b[0marr\u001b[0m \u001b[0;34m=\u001b[0m \u001b[0marr\u001b[0m\u001b[0;34m.\u001b[0m\u001b[0mravel\u001b[0m\u001b[0;34m(\u001b[0m\u001b[0;34m)\u001b[0m\u001b[0;34m\u001b[0m\u001b[0m\n",
      "\u001b[0m\u001b[0;32m   5164 \u001b[0;31m        \u001b[0mvalues\u001b[0m \u001b[0;34m=\u001b[0m \u001b[0mravel\u001b[0m\u001b[0;34m(\u001b[0m\u001b[0mvalues\u001b[0m\u001b[0;34m)\u001b[0m\u001b[0;34m\u001b[0m\u001b[0m\n",
      "\u001b[0m\u001b[0;32m   5165 \u001b[0;31m        \u001b[0maxis\u001b[0m \u001b[0;34m=\u001b[0m \u001b[0marr\u001b[0m\u001b[0;34m.\u001b[0m\u001b[0mndim\u001b[0m\u001b[0;34m-\u001b[0m\u001b[0;36m1\u001b[0m\u001b[0;34m\u001b[0m\u001b[0m\n",
      "\u001b[0m\u001b[0;32m-> 5166 \u001b[0;31m    \u001b[0;32mreturn\u001b[0m \u001b[0mconcatenate\u001b[0m\u001b[0;34m(\u001b[0m\u001b[0;34m(\u001b[0m\u001b[0marr\u001b[0m\u001b[0;34m,\u001b[0m \u001b[0mvalues\u001b[0m\u001b[0;34m)\u001b[0m\u001b[0;34m,\u001b[0m \u001b[0maxis\u001b[0m\u001b[0;34m=\u001b[0m\u001b[0maxis\u001b[0m\u001b[0;34m)\u001b[0m\u001b[0;34m\u001b[0m\u001b[0m\n",
      "\u001b[0m\n",
      "ipdb> up\n",
      "> \u001b[0;32m/home/maarten/Documents/masterthesis/supervised/data.py\u001b[0m(81)\u001b[0;36m__add__\u001b[0;34m()\u001b[0m\n",
      "\u001b[0;32m     79 \u001b[0;31m            \u001b[0mnp\u001b[0m\u001b[0;34m.\u001b[0m\u001b[0mappend\u001b[0m\u001b[0;34m(\u001b[0m\u001b[0mself\u001b[0m\u001b[0;34m.\u001b[0m\u001b[0mX_chars\u001b[0m\u001b[0;34m,\u001b[0m \u001b[0mother\u001b[0m\u001b[0;34m.\u001b[0m\u001b[0mX_chars\u001b[0m\u001b[0;34m,\u001b[0m \u001b[0;36m0\u001b[0m\u001b[0;34m)\u001b[0m\u001b[0;34m,\u001b[0m\u001b[0;34m\u001b[0m\u001b[0m\n",
      "\u001b[0m\u001b[0;32m     80 \u001b[0;31m            \u001b[0mnp\u001b[0m\u001b[0;34m.\u001b[0m\u001b[0mappend\u001b[0m\u001b[0;34m(\u001b[0m\u001b[0mself\u001b[0m\u001b[0;34m.\u001b[0m\u001b[0mclusters_kmeans\u001b[0m\u001b[0;34m,\u001b[0m \u001b[0mother\u001b[0m\u001b[0;34m.\u001b[0m\u001b[0mclusters_kmeans\u001b[0m\u001b[0;34m,\u001b[0m \u001b[0;36m0\u001b[0m\u001b[0;34m)\u001b[0m\u001b[0;34m,\u001b[0m\u001b[0;34m\u001b[0m\u001b[0m\n",
      "\u001b[0m\u001b[0;32m---> 81 \u001b[0;31m            \u001b[0mnp\u001b[0m\u001b[0;34m.\u001b[0m\u001b[0mappend\u001b[0m\u001b[0;34m(\u001b[0m\u001b[0mself\u001b[0m\u001b[0;34m.\u001b[0m\u001b[0mclusters_gmm\u001b[0m\u001b[0;34m,\u001b[0m \u001b[0mother\u001b[0m\u001b[0;34m.\u001b[0m\u001b[0mclusters_gmm\u001b[0m\u001b[0;34m,\u001b[0m \u001b[0;36m0\u001b[0m\u001b[0;34m)\u001b[0m\u001b[0;34m,\u001b[0m\u001b[0;34m\u001b[0m\u001b[0m\n",
      "\u001b[0m\u001b[0;32m     82 \u001b[0;31m            \u001b[0mnp\u001b[0m\u001b[0;34m.\u001b[0m\u001b[0mappend\u001b[0m\u001b[0;34m(\u001b[0m\u001b[0mself\u001b[0m\u001b[0;34m.\u001b[0m\u001b[0mlabel\u001b[0m\u001b[0;34m,\u001b[0m \u001b[0mother\u001b[0m\u001b[0;34m.\u001b[0m\u001b[0mlabel\u001b[0m\u001b[0;34m,\u001b[0m \u001b[0;36m0\u001b[0m\u001b[0;34m)\u001b[0m\u001b[0;34m,\u001b[0m\u001b[0;34m\u001b[0m\u001b[0m\n",
      "\u001b[0m\u001b[0;32m     83 \u001b[0;31m        )\n",
      "\u001b[0m\n",
      "ipdb> np.shape(self.clusters_gmm)\n",
      "(43, 33)\n",
      "ipdb> np.shape(other.clusters_gmm)\n",
      "(1, 31)\n",
      "ipdb> up\n",
      "> \u001b[0;32m/home/maarten/Documents/masterthesis/supervised/data.py\u001b[0m(407)\u001b[0;36mbucket\u001b[0;34m()\u001b[0m\n",
      "\u001b[0;32m    405 \u001b[0;31m                \u001b[0mself\u001b[0m\u001b[0;34m.\u001b[0m\u001b[0mword_len\u001b[0m \u001b[0;34m-\u001b[0m \u001b[0mnp\u001b[0m\u001b[0;34m.\u001b[0m\u001b[0msize\u001b[0m\u001b[0;34m(\u001b[0m\u001b[0ms\u001b[0m\u001b[0;34m.\u001b[0m\u001b[0mX_words\u001b[0m\u001b[0;34m)\u001b[0m\u001b[0;34m,\u001b[0m \u001b[0mself\u001b[0m\u001b[0;34m.\u001b[0m\u001b[0mchar_len\u001b[0m \u001b[0;34m-\u001b[0m \u001b[0mnp\u001b[0m\u001b[0;34m.\u001b[0m\u001b[0msize\u001b[0m\u001b[0;34m(\u001b[0m\u001b[0ms\u001b[0m\u001b[0;34m.\u001b[0m\u001b[0mX_chars\u001b[0m\u001b[0;34m)\u001b[0m\u001b[0;34m\u001b[0m\u001b[0m\n",
      "\u001b[0m\u001b[0;32m    406 \u001b[0;31m            )\n",
      "\u001b[0m\u001b[0;32m--> 407 \u001b[0;31m            \u001b[0mout\u001b[0m \u001b[0;34m=\u001b[0m \u001b[0;34m(\u001b[0m\u001b[0mout\u001b[0m \u001b[0;34m+\u001b[0m \u001b[0;34m(\u001b[0m\u001b[0ms\u001b[0m\u001b[0;34m)\u001b[0m\u001b[0;34m)\u001b[0m \u001b[0;32mif\u001b[0m \u001b[0mout\u001b[0m \u001b[0;32melse\u001b[0m \u001b[0ms\u001b[0m\u001b[0;34m\u001b[0m\u001b[0m\n",
      "\u001b[0m\u001b[0;32m    408 \u001b[0;31m\u001b[0;34m\u001b[0m\u001b[0m\n",
      "\u001b[0m\u001b[0;32m    409 \u001b[0;31m        \u001b[0;32mreturn\u001b[0m \u001b[0mout\u001b[0m\u001b[0;34m\u001b[0m\u001b[0m\n",
      "\u001b[0m\n",
      "ipdb> samples\n",
      "[Sample(\n",
      "    (1, 29)\n",
      "    (1, 139)\n",
      "    (1, 27)\n",
      "    (1, 33)\n",
      "    (1,)\n",
      "), Sample(\n",
      "    (1, 29)\n",
      "    (1, 139)\n",
      "    (1, 27)\n",
      "    (1, 33)\n",
      "    (1,)\n",
      "), Sample(\n",
      "    (1, 29)\n",
      "    (1, 139)\n",
      "    (1, 27)\n",
      "    (1, 33)\n",
      "    (1,)\n",
      "), Sample(\n",
      "    (1, 29)\n",
      "    (1, 139)\n",
      "    (1, 27)\n",
      "    (1, 33)\n",
      "    (1,)\n",
      "), Sample(\n",
      "    (1, 29)\n",
      "    (1, 139)\n",
      "    (1, 27)\n",
      "    (1, 33)\n",
      "    (1,)\n",
      "), Sample(\n",
      "    (1, 29)\n",
      "    (1, 139)\n",
      "    (1, 27)\n",
      "    (1, 33)\n",
      "    (1,)\n",
      "), Sample(\n",
      "    (1, 29)\n",
      "    (1, 139)\n",
      "    (1, 27)\n",
      "    (1, 33)\n",
      "    (1,)\n",
      "), Sample(\n",
      "    (1, 29)\n",
      "    (1, 139)\n",
      "    (1, 27)\n",
      "    (1, 33)\n",
      "    (1,)\n",
      "), Sample(\n",
      "    (1, 29)\n",
      "    (1, 139)\n",
      "    (1, 27)\n",
      "    (1, 33)\n",
      "    (1,)\n",
      "), Sample(\n",
      "    (1, 29)\n",
      "    (1, 139)\n",
      "    (1, 27)\n",
      "    (1, 33)\n",
      "    (1,)\n",
      "), Sample(\n",
      "    (1, 29)\n",
      "    (1, 139)\n",
      "    (1, 27)\n",
      "    (1, 33)\n",
      "    (1,)\n",
      "), Sample(\n",
      "    (1, 29)\n",
      "    (1, 139)\n",
      "    (1, 27)\n",
      "    (1, 33)\n",
      "    (1,)\n",
      "), Sample(\n",
      "    (1, 29)\n",
      "    (1, 139)\n",
      "    (1, 27)\n",
      "    (1, 33)\n",
      "    (1,)\n",
      "), Sample(\n",
      "    (1, 29)\n",
      "    (1, 139)\n",
      "    (1, 27)\n",
      "    (1, 33)\n",
      "    (1,)\n",
      "), Sample(\n",
      "    (1, 29)\n",
      "    (1, 139)\n",
      "    (1, 27)\n",
      "    (1, 33)\n",
      "    (1,)\n",
      "), Sample(\n",
      "    (1, 29)\n",
      "    (1, 139)\n",
      "    (1, 27)\n",
      "    (1, 33)\n",
      "    (1,)\n",
      "), Sample(\n",
      "    (1, 29)\n",
      "    (1, 139)\n",
      "    (1, 27)\n",
      "    (1, 33)\n",
      "    (1,)\n",
      "), Sample(\n",
      "    (1, 29)\n",
      "    (1, 139)\n",
      "    (1, 27)\n",
      "    (1, 33)\n",
      "    (1,)\n",
      "), Sample(\n",
      "    (1, 29)\n",
      "    (1, 139)\n",
      "    (1, 27)\n",
      "    (1, 33)\n",
      "    (1,)\n",
      "), Sample(\n",
      "    (1, 29)\n",
      "    (1, 139)\n",
      "    (1, 27)\n",
      "    (1, 33)\n",
      "    (1,)\n",
      "), Sample(\n",
      "    (1, 29)\n",
      "    (1, 139)\n",
      "    (1, 27)\n",
      "    (1, 33)\n",
      "    (1,)\n",
      "), Sample(\n",
      "    (1, 29)\n",
      "    (1, 139)\n",
      "    (1, 27)\n",
      "    (1, 33)\n",
      "    (1,)\n",
      "), Sample(\n",
      "    (1, 29)\n",
      "    (1, 139)\n",
      "    (1, 27)\n",
      "    (1, 33)\n",
      "    (1,)\n",
      "), Sample(\n",
      "    (1, 29)\n",
      "    (1, 139)\n",
      "    (1, 27)\n",
      "    (1, 33)\n",
      "    (1,)\n",
      "), Sample(\n",
      "    (1, 29)\n",
      "    (1, 139)\n",
      "    (1, 27)\n",
      "    (1, 33)\n",
      "    (1,)\n",
      "), Sample(\n",
      "    (1, 29)\n",
      "    (1, 139)\n",
      "    (1, 27)\n",
      "    (1, 33)\n",
      "    (1,)\n",
      "), Sample(\n",
      "    (1, 29)\n",
      "    (1, 139)\n",
      "    (1, 27)\n",
      "    (1, 33)\n",
      "    (1,)\n",
      "), Sample(\n",
      "    (1, 29)\n",
      "    (1, 139)\n",
      "    (1, 27)\n",
      "    (1, 33)\n",
      "    (1,)\n",
      "), Sample(\n",
      "    (1, 29)\n",
      "    (1, 139)\n",
      "    (1, 27)\n",
      "    (1, 33)\n",
      "    (1,)\n",
      "), Sample(\n",
      "    (1, 29)\n",
      "    (1, 139)\n",
      "    (1, 27)\n",
      "    (1, 33)\n",
      "    (1,)\n",
      "), Sample(\n",
      "    (1, 29)\n",
      "    (1, 139)\n",
      "    (1, 27)\n",
      "    (1, 33)\n",
      "    (1,)\n",
      "), Sample(\n",
      "    (1, 29)\n",
      "    (1, 139)\n",
      "    (1, 27)\n",
      "    (1, 33)\n",
      "    (1,)\n",
      "), Sample(\n",
      "    (1, 29)\n",
      "    (1, 139)\n",
      "    (1, 27)\n",
      "    (1, 33)\n",
      "    (1,)\n",
      "), Sample(\n",
      "    (1, 29)\n",
      "    (1, 139)\n",
      "    (1, 27)\n",
      "    (1, 33)\n",
      "    (1,)\n",
      "), Sample(\n",
      "    (1, 29)\n",
      "    (1, 139)\n",
      "    (1, 27)\n",
      "    (1, 33)\n",
      "    (1,)\n",
      "), Sample(\n",
      "    (1, 29)\n",
      "    (1, 139)\n",
      "    (1, 27)\n",
      "    (1, 33)\n",
      "    (1,)\n",
      "), Sample(\n",
      "    (1, 29)\n",
      "    (1, 139)\n",
      "    (1, 27)\n",
      "    (1, 33)\n",
      "    (1,)\n",
      "), Sample(\n",
      "    (1, 29)\n",
      "    (1, 139)\n",
      "    (1, 27)\n",
      "    (1, 33)\n",
      "    (1,)\n",
      "), Sample(\n",
      "    (1, 29)\n",
      "    (1, 139)\n",
      "    (1, 27)\n",
      "    (1, 33)\n",
      "    (1,)\n",
      "), Sample(\n",
      "    (1, 29)\n",
      "    (1, 139)\n",
      "    (1, 27)\n",
      "    (1, 33)\n",
      "    (1,)\n",
      "), Sample(\n",
      "    (1, 29)\n",
      "    (1, 139)\n",
      "    (1, 27)\n",
      "    (1, 33)\n",
      "    (1,)\n",
      "), Sample(\n",
      "    (1, 29)\n",
      "    (1, 139)\n",
      "    (1, 27)\n",
      "    (1, 33)\n",
      "    (1,)\n",
      "), Sample(\n",
      "    (1, 29)\n",
      "    (1, 139)\n",
      "    (1, 27)\n",
      "    (1, 33)\n",
      "    (1,)\n",
      "), Sample(\n",
      "    (1, 29)\n",
      "    (1, 139)\n",
      "    (1, 27)\n",
      "    (1, 31)\n",
      "    (1,)\n",
      "), Sample(\n",
      "    (1, 17)\n",
      "    (1, 60)\n",
      "    (1, 27)\n",
      "    (1, 33)\n",
      "    (1,)\n",
      "), Sample(\n",
      "    (1, 20)\n",
      "    (1, 100)\n",
      "    (1, 27)\n",
      "    (1, 33)\n",
      "    (1,)\n",
      "), Sample(\n",
      "    (1, 17)\n",
      "    (1, 100)\n",
      "    (1, 27)\n",
      "    (1, 33)\n",
      "    (1,)\n",
      "), Sample(\n",
      "    (1, 29)\n",
      "    (1, 149)\n",
      "    (1, 27)\n",
      "    (1, 33)\n",
      "    (1,)\n",
      "), Sample(\n",
      "    (1, 27)\n",
      "    (1, 128)\n",
      "    (1, 27)\n",
      "    (1, 33)\n",
      "    (1,)\n",
      "), Sample(\n",
      "    (1, 11)\n",
      "    (1, 24)\n",
      "    (1, 27)\n",
      "    (1, 33)\n",
      "    (1,)\n",
      "), Sample(\n",
      "    (1, 27)\n",
      "    (1, 143)\n",
      "    (1, 27)\n",
      "    (1, 33)\n",
      "    (1,)\n",
      "), Sample(\n",
      "    (1, 13)\n",
      "    (1, 83)\n",
      "    (1, 27)\n",
      "    (1, 33)\n",
      "    (1,)\n",
      "), Sample(\n",
      "    (1, 24)\n",
      "    (1, 143)\n",
      "    (1, 27)\n",
      "    (1, 33)\n",
      "    (1,)\n",
      "), Sample(\n",
      "    (1, 28)\n",
      "    (1, 134)\n",
      "    (1, 27)\n",
      "    (1, 33)\n",
      "    (1,)\n",
      "), Sample(\n",
      "    (1, 29)\n",
      "    (1, 140)\n",
      "    (1, 27)\n",
      "    (1, 33)\n",
      "    (1,)\n",
      "), Sample(\n",
      "    (1, 26)\n",
      "    (1, 138)\n",
      "    (1, 27)\n",
      "    (1, 33)\n",
      "    (1,)\n",
      "), Sample(\n",
      "    (1, 15)\n",
      "    (1, 57)\n",
      "    (1, 27)\n",
      "    (1, 33)\n",
      "    (1,)\n",
      "), Sample(\n",
      "    (1, 17)\n",
      "    (1, 107)\n",
      "    (1, 27)\n",
      "    (1, 33)\n",
      "    (1,)\n",
      "), Sample(\n",
      "    (1, 22)\n",
      "    (1, 104)\n",
      "    (1, 27)\n",
      "    (1, 33)\n",
      "    (1,)\n",
      "), Sample(\n",
      "    (1, 15)\n",
      "    (1, 58)\n",
      "    (1, 27)\n",
      "    (1, 33)\n",
      "    (1,)\n",
      "), Sample(\n",
      "    (1, 13)\n",
      "    (1, 76)\n",
      "    (1, 27)\n",
      "    (1, 33)\n",
      "    (1,)\n",
      "), Sample(\n",
      "    (1, 20)\n",
      "    (1, 79)\n",
      "    (1, 27)\n",
      "    (1, 33)\n",
      "    (1,)\n",
      "), Sample(\n",
      "    (1, 27)\n",
      "    (1, 106)\n",
      "    (1, 27)\n",
      "    (1, 33)\n",
      "    (1,)\n",
      "), Sample(\n",
      "    (1, 12)\n",
      "    (1, 45)\n",
      "    (1, 27)\n",
      "    (1, 33)\n",
      "    (1,)\n",
      "), Sample(\n",
      "    (1, 13)\n",
      "    (1, 56)\n",
      "    (1, 27)\n",
      "    (1, 33)\n",
      "    (1,)\n",
      "), Sample(\n",
      "    (1, 33)\n",
      "    (1, 141)\n",
      "    (1, 27)\n",
      "    (1, 33)\n",
      "    (1,)\n",
      "), Sample(\n",
      "    (1, 10)\n",
      "    (1, 38)\n",
      "    (1, 27)\n",
      "    (1, 33)\n",
      "    (1,)\n",
      "), Sample(\n",
      "    (1, 17)\n",
      "    (1, 57)\n",
      "    (1, 27)\n",
      "    (1, 33)\n",
      "    (1,)\n",
      "), Sample(\n",
      "    (1, 19)\n",
      "    (1, 116)\n",
      "    (1, 27)\n",
      "    (1, 33)\n",
      "    (1,)\n",
      "), Sample(\n",
      "    (1, 16)\n",
      "    (1, 60)\n",
      "    (1, 27)\n",
      "    (1, 33)\n",
      "    (1,)\n",
      "), Sample(\n",
      "    (1, 32)\n",
      "    (1, 128)\n",
      "    (1, 27)\n",
      "    (1, 33)\n",
      "    (1,)\n",
      "), Sample(\n",
      "    (1, 11)\n",
      "    (1, 66)\n",
      "    (1, 27)\n",
      "    (1, 33)\n",
      "    (1,)\n",
      "), Sample(\n",
      "    (1, 15)\n",
      "    (1, 71)\n",
      "    (1, 27)\n",
      "    (1, 33)\n",
      "    (1,)\n",
      "), Sample(\n",
      "    (1, 16)\n",
      "    (1, 74)\n",
      "    (1, 27)\n",
      "    (1, 33)\n",
      "    (1,)\n",
      "), Sample(\n",
      "    (1, 13)\n",
      "    (1, 42)\n",
      "    (1, 27)\n",
      "    (1, 33)\n",
      "    (1,)\n",
      "), Sample(\n",
      "    (1, 8)\n",
      "    (1, 42)\n",
      "    (1, 27)\n",
      "    (1, 33)\n",
      "    (1,)\n",
      "), Sample(\n",
      "    (1, 24)\n",
      "    (1, 143)\n",
      "    (1, 27)\n",
      "    (1, 33)\n",
      "    (1,)\n",
      "), Sample(\n",
      "    (1, 29)\n",
      "    (1, 134)\n",
      "    (1, 27)\n",
      "    (1, 33)\n",
      "    (1,)\n",
      "), Sample(\n",
      "    (1, 20)\n",
      "    (1, 69)\n",
      "    (1, 27)\n",
      "    (1, 33)\n",
      "    (1,)\n",
      "), Sample(\n",
      "    (1, 8)\n",
      "    (1, 34)\n",
      "    (1, 27)\n",
      "    (1, 33)\n",
      "    (1,)\n",
      "), Sample(\n",
      "    (1, 28)\n",
      "    (1, 141)\n",
      "    (1, 27)\n",
      "    (1, 33)\n",
      "    (1,)\n",
      "), Sample(\n",
      "    (1, 20)\n",
      "    (1, 88)\n",
      "    (1, 27)\n",
      "    (1, 33)\n",
      "    (1,)\n",
      "), Sample(\n",
      "    (1, 9)\n",
      "    (1, 46)\n",
      "    (1, 27)\n",
      "    (1, 33)\n",
      "    (1,)\n",
      "), Sample(\n",
      "    (1, 10)\n",
      "    (1, 31)\n",
      "    (1, 27)\n",
      "    (1, 33)\n",
      "    (1,)\n",
      "), Sample(\n",
      "    (1, 24)\n",
      "    (1, 139)\n",
      "    (1, 27)\n",
      "    (1, 33)\n",
      "    (1,)\n",
      "), Sample(\n",
      "    (1, 27)\n",
      "    (1, 144)\n",
      "    (1, 27)\n",
      "    (1, 33)\n",
      "    (1,)\n",
      "), Sample(\n",
      "    (1, 9)\n",
      "    (1, 50)\n",
      "    (1, 27)\n",
      "    (1, 33)\n",
      "    (1,)\n",
      "), Sample(\n",
      "    (1, 15)\n",
      "    (1, 62)\n",
      "    (1, 27)\n",
      "    (1, 33)\n",
      "    (1,)\n",
      "), Sample(\n",
      "    (1, 13)\n",
      "    (1, 67)\n",
      "    (1, 27)\n",
      "    (1, 33)\n",
      "    (1,)\n",
      "), Sample(\n",
      "    (1, 17)\n",
      "    (1, 92)\n",
      "    (1, 27)\n",
      "    (1, 33)\n",
      "    (1,)\n",
      "), Sample(\n",
      "    (1, 33)\n",
      "    (1, 129)\n",
      "    (1, 27)\n",
      "    (1, 33)\n",
      "    (1,)\n",
      "), Sample(\n",
      "    (1, 30)\n",
      "    (1, 136)\n",
      "    (1, 27)\n",
      "    (1, 33)\n",
      "    (1,)\n",
      "), Sample(\n",
      "    (1, 27)\n",
      "    (1, 126)\n",
      "    (1, 27)\n",
      "    (1, 33)\n",
      "    (1,)\n",
      "), Sample(\n",
      "    (1, 18)\n",
      "    (1, 102)\n",
      "    (1, 27)\n",
      "    (1, 33)\n",
      "    (1,)\n",
      "), Sample(\n",
      "    (1, 18)\n",
      "    (1, 102)\n",
      "    (1, 27)\n",
      "    (1, 33)\n",
      "    (1,)\n",
      "), Sample(\n",
      "    (1, 13)\n",
      "    (1, 50)\n",
      "    (1, 27)\n",
      "    (1, 33)\n",
      "    (1,)\n",
      "), Sample(\n",
      "    (1, 23)\n",
      "    (1, 112)\n",
      "    (1, 27)\n",
      "    (1, 33)\n",
      "    (1,)\n",
      "), Sample(\n",
      "    (1, 9)\n",
      "    (1, 9)\n",
      "    (1, 27)\n",
      "    (1, 33)\n",
      "    (1,)\n",
      "), Sample(\n",
      "    (1, 27)\n",
      "    (1, 144)\n",
      "    (1, 27)\n",
      "    (1, 33)\n",
      "    (1,)\n",
      "), Sample(\n",
      "    (1, 10)\n",
      "    (1, 56)\n",
      "    (1, 27)\n",
      "    (1, 33)\n",
      "    (1,)\n",
      "), Sample(\n",
      "    (1, 22)\n",
      "    (1, 125)\n",
      "    (1, 27)\n",
      "    (1, 33)\n",
      "    (1,)\n",
      "), Sample(\n",
      "    (1, 19)\n",
      "    (1, 133)\n",
      "    (1, 27)\n",
      "    (1, 33)\n",
      "    (1,)\n",
      "), Sample(\n",
      "    (1, 24)\n",
      "    (1, 103)\n",
      "    (1, 27)\n",
      "    (1, 33)\n",
      "    (1,)\n",
      "), Sample(\n",
      "    (1, 17)\n",
      "    (1, 70)\n",
      "    (1, 27)\n",
      "    (1, 33)\n",
      "    (1,)\n",
      "), Sample(\n",
      "    (1, 32)\n",
      "    (1, 124)\n",
      "    (1, 27)\n",
      "    (1, 33)\n",
      "    (1,)\n",
      "), Sample(\n",
      "    (1, 18)\n",
      "    (1, 81)\n",
      "    (1, 27)\n",
      "    (1, 33)\n",
      "    (1,)\n",
      "), Sample(\n",
      "    (1, 32)\n",
      "    (1, 136)\n",
      "    (1, 27)\n",
      "    (1, 33)\n",
      "    (1,)\n",
      "), Sample(\n",
      "    (1, 28)\n",
      "    (1, 140)\n",
      "    (1, 27)\n",
      "    (1, 33)\n",
      "    (1,)\n",
      "), Sample(\n",
      "    (1, 26)\n",
      "    (1, 107)\n",
      "    (1, 27)\n",
      "    (1, 33)\n",
      "    (1,)\n",
      "), Sample(\n",
      "    (1, 26)\n",
      "    (1, 84)\n",
      "    (1, 27)\n",
      "    (1, 33)\n",
      "    (1,)\n",
      "), Sample(\n",
      "    (1, 12)\n",
      "    (1, 59)\n",
      "    (1, 27)\n",
      "    (1, 33)\n",
      "    (1,)\n",
      "), Sample(\n",
      "    (1, 19)\n",
      "    (1, 79)\n",
      "    (1, 27)\n",
      "    (1, 33)\n",
      "    (1,)\n",
      "), Sample(\n",
      "    (1, 17)\n",
      "    (1, 70)\n",
      "    (1, 27)\n",
      "    (1, 33)\n",
      "    (1,)\n",
      "), Sample(\n",
      "    (1, 6)\n",
      "    (1, 39)\n",
      "    (1, 27)\n",
      "    (1, 33)\n",
      "    (1,)\n",
      "), Sample(\n",
      "    (1, 28)\n",
      "    (1, 131)\n",
      "    (1, 27)\n",
      "    (1, 33)\n",
      "    (1,)\n",
      "), Sample(\n",
      "    (1, 12)\n",
      "    (1, 58)\n",
      "    (1, 27)\n",
      "    (1, 33)\n",
      "    (1,)\n",
      "), Sample(\n",
      "    (1, 12)\n",
      "    (1, 66)\n",
      "    (1, 27)\n",
      "    (1, 33)\n",
      "    (1,)\n",
      "), Sample(\n",
      "    (1, 22)\n",
      "    (1, 90)\n",
      "    (1, 27)\n",
      "    (1, 33)\n",
      "    (1,)\n",
      "), Sample(\n",
      "    (1, 24)\n",
      "    (1, 137)\n",
      "    (1, 27)\n",
      "    (1, 33)\n",
      "    (1,)\n",
      "), Sample(\n",
      "    (1, 31)\n",
      "    (1, 144)\n",
      "    (1, 27)\n",
      "    (1, 33)\n",
      "    (1,)\n",
      "), Sample(\n",
      "    (1, 21)\n",
      "    (1, 132)\n",
      "    (1, 27)\n",
      "    (1, 33)\n",
      "    (1,)\n",
      "), Sample(\n",
      "    (1, 30)\n",
      "    (1, 121)\n",
      "    (1, 27)\n",
      "    (1, 33)\n",
      "    (1,)\n",
      "), Sample(\n",
      "    (1, 27)\n",
      "    (1, 135)\n",
      "    (1, 27)\n",
      "    (1, 33)\n",
      "    (1,)\n",
      "), Sample(\n",
      "    (1, 27)\n",
      "    (1, 139)\n",
      "    (1, 27)\n",
      "    (1, 33)\n",
      "    (1,)\n",
      "), Sample(\n",
      "    (1, 32)\n",
      "    (1, 130)\n",
      "    (1, 27)\n",
      "    (1, 33)\n",
      "    (1,)\n",
      "), Sample(\n",
      "    (1, 24)\n",
      "    (1, 138)\n",
      "    (1, 27)\n",
      "    (1, 33)\n",
      "    (1,)\n",
      "), Sample(\n",
      "    (1, 27)\n",
      "    (1, 142)\n",
      "    (1, 27)\n",
      "    (1, 33)\n",
      "    (1,)\n",
      "), Sample(\n",
      "    (1, 17)\n",
      "    (1, 80)\n",
      "    (1, 27)\n",
      "    (1, 33)\n",
      "    (1,)\n",
      ")]\n"
     ]
    },
    {
     "name": "stdout",
     "output_type": "stream",
     "text": [
      "ipdb> [np.shape(s.clusters_gmm) for s in samples]\n",
      "[(1, 33), (1, 33), (1, 33), (1, 33), (1, 33), (1, 33), (1, 33), (1, 33), (1, 33), (1, 33), (1, 33), (1, 33), (1, 33), (1, 33), (1, 33), (1, 33), (1, 33), (1, 33), (1, 33), (1, 33), (1, 33), (1, 33), (1, 33), (1, 33), (1, 33), (1, 33), (1, 33), (1, 33), (1, 33), (1, 33), (1, 33), (1, 33), (1, 33), (1, 33), (1, 33), (1, 33), (1, 33), (1, 33), (1, 33), (1, 33), (1, 33), (1, 33), (1, 33), (1, 31), (1, 33), (1, 33), (1, 33), (1, 33), (1, 33), (1, 33), (1, 33), (1, 33), (1, 33), (1, 33), (1, 33), (1, 33), (1, 33), (1, 33), (1, 33), (1, 33), (1, 33), (1, 33), (1, 33), (1, 33), (1, 33), (1, 33), (1, 33), (1, 33), (1, 33), (1, 33), (1, 33), (1, 33), (1, 33), (1, 33), (1, 33), (1, 33), (1, 33), (1, 33), (1, 33), (1, 33), (1, 33), (1, 33), (1, 33), (1, 33), (1, 33), (1, 33), (1, 33), (1, 33), (1, 33), (1, 33), (1, 33), (1, 33), (1, 33), (1, 33), (1, 33), (1, 33), (1, 33), (1, 33), (1, 33), (1, 33), (1, 33), (1, 33), (1, 33), (1, 33), (1, 33), (1, 33), (1, 33), (1, 33), (1, 33), (1, 33), (1, 33), (1, 33), (1, 33), (1, 33), (1, 33), (1, 33), (1, 33), (1, 33), (1, 33), (1, 33), (1, 33), (1, 33), (1, 33), (1, 33), (1, 33), (1, 33), (1, 33), (1, 33)]\n",
      "ipdb> set([np.shape(s.clusters_gmm) for s in samples])\n",
      "{(1, 33), (1, 31)}\n",
      "ipdb> [np.shape(s.clusters_gmm, 1) for s in samples]\n",
      "*** TypeError: shape() takes 1 positional argument but 2 were given\n",
      "ipdb> [np.shape(s.clusters_gmm)[1] for s in samples]\n",
      "[33, 33, 33, 33, 33, 33, 33, 33, 33, 33, 33, 33, 33, 33, 33, 33, 33, 33, 33, 33, 33, 33, 33, 33, 33, 33, 33, 33, 33, 33, 33, 33, 33, 33, 33, 33, 33, 33, 33, 33, 33, 33, 33, 31, 33, 33, 33, 33, 33, 33, 33, 33, 33, 33, 33, 33, 33, 33, 33, 33, 33, 33, 33, 33, 33, 33, 33, 33, 33, 33, 33, 33, 33, 33, 33, 33, 33, 33, 33, 33, 33, 33, 33, 33, 33, 33, 33, 33, 33, 33, 33, 33, 33, 33, 33, 33, 33, 33, 33, 33, 33, 33, 33, 33, 33, 33, 33, 33, 33, 33, 33, 33, 33, 33, 33, 33, 33, 33, 33, 33, 33, 33, 33, 33, 33, 33, 33, 33]\n",
      "ipdb> q\n"
     ]
    }
   ],
   "source": [
    "%debug"
   ]
  },
  {
   "cell_type": "code",
   "execution_count": 10,
   "metadata": {},
   "outputs": [
    {
     "name": "stderr",
     "output_type": "stream",
     "text": [
      "/usr/lib/python3.6/site-packages/seaborn/timeseries.py:183: UserWarning: The tsplot function is deprecated and will be removed or replaced (in a substantially altered version) in a future release.\n",
      "  warnings.warn(msg, UserWarning)\n"
     ]
    },
    {
     "data": {
      "image/png": "[encoded data removed]",
      "text/plain": [
       "<matplotlib.figure.Figure at 0x7f15d63ace10>"
      ]
     },
     "metadata": {},
     "output_type": "display_data"
    }
   ],
   "source": [
    "d = {\n",
    "    \"WordCNN\": {\n",
    "        s: {\n",
    "            'K-Means': old_kmeans_w[s],\n",
    "            'Infinite Mixture Model': old_gmm_w[s],\n",
    "        }\n",
    "        for s in old_kmeans_w.keys()\n",
    "    },\n",
    "    \"CharCNN\": {\n",
    "        s: {\n",
    "            'K-Means': old_char_kmeans_w[s],\n",
    "            'Infinite Mixture Model': old_char_gmm_w[s],\n",
    "        }\n",
    "        for s in old_kmeans_w.keys()\n",
    "    }\n",
    "}\n",
    "#evaluate.analyze_cnns(d, \"k\", \"model\")\n",
    "evaluate.analyze_cnns(d, \"window size\", \"model\", \"../report/figures/results/2000-windowsize-old\")"
   ]
  },
  {
   "cell_type": "code",
   "execution_count": null,
   "metadata": {},
   "outputs": [],
   "source": [
    "save((baseline, kmeans, char_baseline, char_kmeans), \"1600-windowsize.pkl\")\n",
    "save((old_baseline, old_kmeans, old_char_baseline, old_char_kmeans), \"1600-windowsize-old.pkl\")"
   ]
  },
  {
   "cell_type": "markdown",
   "metadata": {},
   "source": [
    "# Number of clusters, full cross validation"
   ]
  },
  {
   "cell_type": "code",
   "execution_count": null,
   "metadata": {},
   "outputs": [],
   "source": [
    "params = train.CNNParams(\n",
    "    embed_size=100,\n",
    "    dropout=0.5,\n",
    "    epochs=100,\n",
    "    filters=[(33, 3), (33, 5), (33, 7)],\n",
    "    num_layers=1,\n",
    "    max_norm=3,\n",
    ")\n",
    "\n",
    "optim_fn = lambda p: torch.optim.Adadelta(p)\n",
    "model_fns = [lambda r: models.CategoricalClusterLabels(r, num_clusters, window_size, params.dropout)]\n",
    "#             lambda r: models.CategoricalClusterLabels(r, num_clusters, window_size, params.dropout)]\n",
    "    \n",
    "kmeans = {}\n",
    "gmm = {}\n",
    "\n",
    "for num_clusters in [2, 3, 5, 7, 9, 15, 30]:\n",
    "    window_size = 5\n",
    "    dataset, validset = load_dataset(num_clusters, window_size)\n",
    "\n",
    "    values = evaluate.cross_val(10, 1200, model_fns, [False], optim_fn, dataset, params,\n",
    "                                early_stopping=10,\n",
    "                                validation_set=validset,\n",
    "                                testset=None)\n",
    "    kmeans[num_clusters] = [v[0] for v in values]\n",
    "    gmm[num_clusters] = [v[1] for v in values]"
   ]
  },
  {
   "cell_type": "code",
   "execution_count": null,
   "metadata": {},
   "outputs": [],
   "source": [
    "d = {s: {'K-Means': kmeans[s],\n",
    "         #'Mixture model': gmm[s],\n",
    "        }\n",
    "    for s in kmeans.keys()\n",
    "}\n",
    "#evaluate.analyze_tseries(d, 'k', 'model')\n",
    "evaluate.analyze_size(d, 'k', 'model', '../report/figures/results/800-numcluster')\n",
    "evaluate.analyze_tseries(d, 'k', 'model', '../report/figures/results/800-numcluster')"
   ]
  },
  {
   "cell_type": "markdown",
   "metadata": {},
   "source": [
    "# Number of clusters on old training set"
   ]
  },
  {
   "cell_type": "code",
   "execution_count": 3,
   "metadata": {},
   "outputs": [
    {
     "name": "stderr",
     "output_type": "stream",
     "text": [
      "\n",
      "  0%|          | 0/5 [00:00<?, ?it/s]\u001b[A"
     ]
    },
    {
     "name": "stdout",
     "output_type": "stream",
     "text": [
      "[2131  262 1814 ...  309 3341 1707]\n",
      "2000 training samples, 1132 testing samples\n"
     ]
    },
    {
     "name": "stderr",
     "output_type": "stream",
     "text": [
      "Training:   8%|▊         | 15/200 [00:19<03:54,  1.27s/it, f1=0.944, Δf1=-0.0113]\n",
      "Training:  15%|█▌        | 30/200 [00:20<01:57,  1.44it/s, f1=0.961, Δf1=-0.000717]\n",
      "Training:  15%|█▌        | 30/200 [00:25<02:26,  1.16it/s, f1=0.949, Δf1=-0.00129]\n",
      "Training:  18%|█▊        | 35/200 [00:30<02:23,  1.15it/s, f1=0.964, Δf1=0]       \n",
      "\n",
      " 20%|██        | 1/5 [02:10<08:43, 130.81s/it]\u001b[A"
     ]
    },
    {
     "name": "stdout",
     "output_type": "stream",
     "text": [
      "[3560 1774 2585 ...  231 1302 2319]\n"
     ]
    },
    {
     "name": "stderr",
     "output_type": "stream",
     "text": [
      "Training:  18%|█▊        | 35/200 [00:25<01:58,  1.39it/s, f1=0.959, Δf1=-0.000485]\n",
      "Training:  25%|██▌       | 50/200 [00:35<01:46,  1.41it/s, f1=0.94, Δf1=-0.00108]\n",
      "Training:  15%|█▌        | 30/200 [00:26<02:29,  1.14it/s, f1=0.957, Δf1=-0.0021]\n",
      "Training:  22%|██▎       | 45/200 [00:38<02:12,  1.17it/s, f1=0.948, Δf1=-0.000545]\n",
      "\n",
      " 40%|████      | 2/5 [04:22<06:33, 131.04s/it]\u001b[A"
     ]
    },
    {
     "name": "stdout",
     "output_type": "stream",
     "text": [
      "[  10  732 2399 ... 1125 1416 3419]\n"
     ]
    },
    {
     "name": "stderr",
     "output_type": "stream",
     "text": [
      "Training:  10%|█         | 20/200 [00:13<02:03,  1.46it/s, f1=0.958, Δf1=-0.000604]\n",
      "Training:   8%|▊         | 15/200 [00:10<02:05,  1.48it/s, f1=0.964, Δf1=-0.0027]\n",
      "Training:  15%|█▌        | 30/200 [00:25<02:24,  1.18it/s, f1=0.962, Δf1=-0.00104]\n",
      "Training:  50%|█████     | 100/200 [01:25<01:25,  1.17it/s, f1=0.937, Δf1=0]       \n",
      "\n",
      " 60%|██████    | 3/5 [06:42<04:28, 134.13s/it]\u001b[A"
     ]
    },
    {
     "name": "stdout",
     "output_type": "stream",
     "text": [
      "[2666 3225 1283 ...  205 2591 1247]\n"
     ]
    },
    {
     "name": "stderr",
     "output_type": "stream",
     "text": [
      "Training:  18%|█▊        | 35/200 [00:23<01:50,  1.49it/s, f1=0.953, Δf1=-0.000387]\n",
      "Training:  10%|█         | 20/200 [00:13<02:00,  1.49it/s, f1=0.935, Δf1=-0.00657]\n",
      "Training:  18%|█▊        | 35/200 [00:29<02:21,  1.17it/s, f1=0.954, Δf1=-0.00919]\n",
      "Training:  12%|█▎        | 25/200 [00:21<02:30,  1.16it/s, f1=0.903, Δf1=-0.00916]\n",
      "\n",
      " 80%|████████  | 4/5 [08:16<02:04, 124.16s/it]\u001b[A"
     ]
    },
    {
     "name": "stdout",
     "output_type": "stream",
     "text": [
      "[3451 3074 2192 ... 2801 1146 2528]\n"
     ]
    },
    {
     "name": "stderr",
     "output_type": "stream",
     "text": [
      "Training:   8%|▊         | 15/200 [00:10<02:04,  1.49it/s, f1=0.956, Δf1=-0.00959]\n",
      "Training:  20%|██        | 40/200 [00:26<01:47,  1.48it/s, f1=0.955, Δf1=-0.000393]\n",
      "Training:  12%|█▎        | 25/200 [00:21<02:28,  1.18it/s, f1=0.957, Δf1=-8.88e-06]\n",
      "Training:  25%|██▌       | 50/200 [00:42<02:07,  1.17it/s, f1=0.944, Δf1=-0.00045]\n",
      "\n",
      "100%|██████████| 5/5 [10:03<00:00, 120.66s/it]\u001b[A\n",
      "\u001b[A\n",
      "  0%|          | 0/5 [00:00<?, ?it/s]\u001b[A"
     ]
    },
    {
     "name": "stdout",
     "output_type": "stream",
     "text": [
      "[2131  262 1814 ...  309 3341 1707]\n",
      "2000 training samples, 1132 testing samples\n"
     ]
    },
    {
     "name": "stderr",
     "output_type": "stream",
     "text": [
      "Training:  18%|█▊        | 35/200 [00:23<01:53,  1.46it/s, f1=0.953, Δf1=-0.000527]\n",
      "Training:   8%|▊         | 15/200 [00:10<02:07,  1.45it/s, f1=0.952, Δf1=-0.00439]\n",
      "Training:  20%|██        | 40/200 [00:34<02:17,  1.16it/s, f1=0.962, Δf1=-0.000492]\n",
      "Training:  15%|█▌        | 30/200 [00:25<02:27,  1.16it/s, f1=0.954, Δf1=-0.00131]\n",
      "\n",
      " 20%|██        | 1/5 [01:40<06:42, 100.73s/it]\u001b[A"
     ]
    },
    {
     "name": "stdout",
     "output_type": "stream",
     "text": [
      "[3560 1774 2585 ...  231 1302 2319]\n"
     ]
    },
    {
     "name": "stderr",
     "output_type": "stream",
     "text": [
      "Training:  25%|██▌       | 50/200 [00:34<01:43,  1.45it/s, f1=0.959, Δf1=-0.000442]\n",
      "Training:   5%|▌         | 10/200 [00:06<02:11,  1.44it/s, f1=0.954, Δf1=-0.000881]\n",
      "Training:  12%|█▎        | 25/200 [00:21<02:32,  1.15it/s, f1=0.952, Δf1=-0.00327]\n",
      "Training:  22%|██▎       | 45/200 [00:38<02:14,  1.16it/s, f1=0.963, Δf1=0]      \n",
      "\n",
      " 40%|████      | 2/5 [03:28<05:13, 104.41s/it]\u001b[A"
     ]
    },
    {
     "name": "stdout",
     "output_type": "stream",
     "text": [
      "[  10  732 2399 ... 1125 1416 3419]\n"
     ]
    },
    {
     "name": "stderr",
     "output_type": "stream",
     "text": [
      "Training:  10%|█         | 20/200 [00:13<02:05,  1.43it/s, f1=0.958, Δf1=-0.000615]\n",
      "Training:   8%|▊         | 15/200 [00:10<02:08,  1.44it/s, f1=0.951, Δf1=-0.000232]\n",
      "Training:  12%|█▎        | 25/200 [00:21<02:30,  1.16it/s, f1=0.963, Δf1=-0.00146]\n",
      "Training:  22%|██▎       | 45/200 [00:39<02:15,  1.14it/s, f1=0.952, Δf1=0]       \n",
      "\n",
      " 60%|██████    | 3/5 [05:00<03:20, 100.02s/it]\u001b[A"
     ]
    },
    {
     "name": "stdout",
     "output_type": "stream",
     "text": [
      "[2666 3225 1283 ...  205 2591 1247]\n"
     ]
    },
    {
     "name": "stderr",
     "output_type": "stream",
     "text": [
      "Training:  10%|█         | 20/200 [00:13<02:04,  1.44it/s, f1=0.955, Δf1=-0.00289]\n",
      "Training:  12%|█▎        | 25/200 [00:17<02:03,  1.42it/s, f1=0.944, Δf1=-0.000594]\n",
      "Training:  18%|█▊        | 35/200 [00:30<02:22,  1.16it/s, f1=0.956, Δf1=-0.00339]\n",
      "Training:  15%|█▌        | 30/200 [00:25<02:26,  1.16it/s, f1=0.927, Δf1=-0.000714]\n",
      "\n",
      " 80%|████████  | 4/5 [06:33<01:38, 98.43s/it] \u001b[A"
     ]
    },
    {
     "name": "stdout",
     "output_type": "stream",
     "text": [
      "[3451 3074 2192 ... 2801 1146 2528]\n"
     ]
    },
    {
     "name": "stderr",
     "output_type": "stream",
     "text": [
      "Training:  10%|█         | 20/200 [00:13<02:05,  1.44it/s, f1=0.957, Δf1=-8.56e-05]\n",
      "Training:   8%|▊         | 15/200 [00:10<02:07,  1.45it/s, f1=0.953, Δf1=-0.00211]\n",
      "Training:  12%|█▎        | 25/200 [00:21<02:31,  1.16it/s, f1=0.945, Δf1=-0.00712]\n",
      "Training:  22%|██▎       | 45/200 [00:38<02:13,  1.16it/s, f1=0.954, Δf1=-0.000528]\n",
      "\n",
      "100%|██████████| 5/5 [08:04<00:00, 96.88s/it]\u001b[A\n",
      "\u001b[A\n",
      "  0%|          | 0/5 [00:00<?, ?it/s]\u001b[A"
     ]
    },
    {
     "name": "stdout",
     "output_type": "stream",
     "text": [
      "[2131  262 1814 ...  309 3341 1707]\n",
      "2000 training samples, 1132 testing samples\n"
     ]
    },
    {
     "name": "stderr",
     "output_type": "stream",
     "text": [
      "Training:  32%|███▎      | 65/200 [00:44<01:32,  1.46it/s, f1=0.974, Δf1=0]        \n",
      "Training:  25%|██▌       | 50/200 [00:34<01:43,  1.45it/s, f1=0.956, Δf1=-0.00167] \n",
      "Training:  22%|██▎       | 45/200 [00:38<02:12,  1.17it/s, f1=0.964, Δf1=-0.000492]\n",
      "Training:  25%|██▌       | 50/200 [00:43<02:11,  1.14it/s, f1=0.955, Δf1=0]        \n",
      "\n",
      " 20%|██        | 1/5 [02:47<11:08, 167.20s/it]\u001b[A"
     ]
    },
    {
     "name": "stdout",
     "output_type": "stream",
     "text": [
      "[3560 1774 2585 ...  231 1302 2319]\n"
     ]
    },
    {
     "name": "stderr",
     "output_type": "stream",
     "text": [
      "Training:  12%|█▎        | 25/200 [00:17<02:02,  1.43it/s, f1=0.959, Δf1=-0.000288]\n",
      "Training:  10%|█         | 20/200 [00:13<02:04,  1.45it/s, f1=0.94, Δf1=-0.00997] \n",
      "Training:  12%|█▎        | 25/200 [00:21<02:30,  1.16it/s, f1=0.951, Δf1=-0.000445]\n",
      "Training:  20%|██        | 40/200 [00:35<02:23,  1.11it/s, f1=0.958, Δf1=0]        \n",
      "\n",
      " 40%|████      | 2/5 [04:21<06:32, 131.00s/it]\u001b[A"
     ]
    },
    {
     "name": "stdout",
     "output_type": "stream",
     "text": [
      "[  10  732 2399 ... 1125 1416 3419]\n"
     ]
    },
    {
     "name": "stderr",
     "output_type": "stream",
     "text": [
      "Training:   8%|▊         | 15/200 [00:10<02:05,  1.47it/s, f1=0.949, Δf1=-0.0041]\n",
      "Training:  25%|██▌       | 50/200 [00:33<01:41,  1.47it/s, f1=0.954, Δf1=-4.51e-05]\n",
      "Training:  30%|███       | 60/200 [00:51<01:59,  1.17it/s, f1=0.956, Δf1=0]       \n",
      "Training:  20%|██        | 40/200 [00:34<02:18,  1.16it/s, f1=0.963, Δf1=0]      \n",
      "\n",
      " 60%|██████    | 3/5 [06:38<04:25, 132.67s/it]\u001b[A"
     ]
    },
    {
     "name": "stdout",
     "output_type": "stream",
     "text": [
      "[2666 3225 1283 ...  205 2591 1247]\n"
     ]
    },
    {
     "name": "stderr",
     "output_type": "stream",
     "text": [
      "Training:   8%|▊         | 15/200 [00:10<02:07,  1.45it/s, f1=0.955, Δf1=-0.000565]\n",
      "Training:  12%|█▎        | 25/200 [00:17<02:00,  1.45it/s, f1=0.945, Δf1=-0.00106]\n",
      "Training:  12%|█▎        | 25/200 [00:21<02:31,  1.16it/s, f1=0.942, Δf1=-0.00399]\n",
      "Training:  12%|█▎        | 25/200 [00:21<02:31,  1.15it/s, f1=0.907, Δf1=-0.0409]\n",
      "\n",
      " 80%|████████  | 4/5 [07:54<01:58, 118.70s/it]\u001b[A"
     ]
    },
    {
     "name": "stdout",
     "output_type": "stream",
     "text": [
      "[3451 3074 2192 ... 2801 1146 2528]\n"
     ]
    },
    {
     "name": "stderr",
     "output_type": "stream",
     "text": [
      "Training:  12%|█▎        | 25/200 [00:17<02:00,  1.45it/s, f1=0.961, Δf1=-0.00052]\n",
      "Training:   8%|▊         | 15/200 [00:10<02:06,  1.46it/s, f1=0.951, Δf1=-0.00201]\n",
      "Training:  38%|███▊      | 75/200 [01:04<01:47,  1.16it/s, f1=0.943, Δf1=0]        \n",
      "Training:  42%|████▎     | 85/200 [01:14<01:40,  1.14it/s, f1=0.946, Δf1=-0.000481]\n",
      "\n",
      "100%|██████████| 5/5 [10:47<00:00, 129.50s/it]\u001b[A\n",
      "Creating dictionary: 100%|██████████| 17/17 [00:04<00:00,  4.15it/s]\n",
      "Creating dictionary: 100%|██████████| 17/17 [00:03<00:00,  4.58it/s]\n"
     ]
    },
    {
     "name": "stdout",
     "output_type": "stream",
     "text": [
      "[17695  8700 43259 ... 11922 40115  8304]\n",
      "Retrieved 987 positive samples, 70985 negative samples.\n",
      "[28755 33778 19069 ... 88902 79687 95980]\n",
      "Retrieved 1945 positive samples, 95605 negative samples.\n",
      "[ 2317 11181  8898 ... 12409 17033 12293]\n",
      "Retrieved 566 positive samples, 20841 negative samples.\n"
     ]
    },
    {
     "name": "stderr",
     "output_type": "stream",
     "text": [
      "\n",
      "  0%|          | 0/5 [00:00<?, ?it/s]\u001b[A"
     ]
    },
    {
     "name": "stdout",
     "output_type": "stream",
     "text": [
      "[2131  262 1814 ...  309 3341 1707]\n",
      "2000 training samples, 1132 testing samples\n"
     ]
    },
    {
     "name": "stderr",
     "output_type": "stream",
     "text": [
      "Training:  40%|████      | 80/200 [01:02<01:33,  1.29it/s, f1=0.962, Δf1=0]        \n",
      "Training:   8%|▊         | 15/200 [00:11<02:22,  1.30it/s, f1=0.959, Δf1=-0.0021]\n",
      "Training:  10%|█         | 20/200 [00:18<02:49,  1.06it/s, f1=0.938, Δf1=-0.00101]\n",
      "Training:  32%|███▎      | 65/200 [01:02<02:09,  1.04it/s, f1=0.944, Δf1=-0.000971]\n",
      "\n",
      " 20%|██        | 1/5 [02:41<10:45, 161.44s/it]\u001b[A"
     ]
    },
    {
     "name": "stdout",
     "output_type": "stream",
     "text": [
      "[3560 1774 2585 ...  231 1302 2319]\n"
     ]
    },
    {
     "name": "stderr",
     "output_type": "stream",
     "text": [
      "Training:   8%|▊         | 15/200 [00:12<02:28,  1.25it/s, f1=0.936, Δf1=-0.0134]\n",
      "Training:  30%|███       | 60/200 [00:46<01:49,  1.28it/s, f1=0.949, Δf1=-0.000428]\n",
      "Training:  15%|█▌        | 30/200 [00:28<02:39,  1.07it/s, f1=0.936, Δf1=-0.00258]\n",
      "Training:  12%|█▎        | 25/200 [00:23<02:44,  1.06it/s, f1=0.943, Δf1=-0.00128]\n",
      "\n",
      " 40%|████      | 2/5 [04:38<06:57, 139.18s/it]\u001b[A"
     ]
    },
    {
     "name": "stdout",
     "output_type": "stream",
     "text": [
      "[  10  732 2399 ... 1125 1416 3419]\n"
     ]
    },
    {
     "name": "stderr",
     "output_type": "stream",
     "text": [
      "Training:  10%|█         | 20/200 [00:15<02:20,  1.28it/s, f1=0.944, Δf1=-0.00139]\n",
      "Training:   8%|▊         | 15/200 [00:11<02:23,  1.29it/s, f1=0.948, Δf1=-0.00229]\n",
      "Training:  18%|█▊        | 35/200 [00:32<02:35,  1.06it/s, f1=0.961, Δf1=-0.000239]\n",
      "Training:  28%|██▊       | 55/200 [00:51<02:15,  1.07it/s, f1=0.939, Δf1=-6.32e-05]\n",
      "\n",
      " 60%|██████    | 3/5 [06:36<04:24, 132.17s/it]\u001b[A"
     ]
    },
    {
     "name": "stdout",
     "output_type": "stream",
     "text": [
      "[2666 3225 1283 ...  205 2591 1247]\n"
     ]
    },
    {
     "name": "stderr",
     "output_type": "stream",
     "text": [
      "Training:  28%|██▊       | 55/200 [00:43<01:55,  1.26it/s, f1=0.959, Δf1=-0.000521]\n",
      "Training:  18%|█▊        | 35/200 [00:27<02:10,  1.26it/s, f1=0.952, Δf1=-0.00163]\n",
      "Training:  28%|██▊       | 55/200 [00:52<02:17,  1.05it/s, f1=0.959, Δf1=-0.000497]\n",
      "Training:  12%|█▎        | 25/200 [00:23<02:45,  1.06it/s, f1=0.941, Δf1=-0.00451]\n",
      "\n",
      " 80%|████████  | 4/5 [09:10<02:17, 137.64s/it]\u001b[A"
     ]
    },
    {
     "name": "stdout",
     "output_type": "stream",
     "text": [
      "[3451 3074 2192 ... 2801 1146 2528]\n"
     ]
    },
    {
     "name": "stderr",
     "output_type": "stream",
     "text": [
      "Training:   8%|▊         | 15/200 [00:11<02:23,  1.29it/s, f1=0.956, Δf1=-4e-05]\n",
      "Training:  28%|██▊       | 55/200 [00:43<01:53,  1.27it/s, f1=0.954, Δf1=-0.000964]\n",
      "Training:  15%|█▌        | 30/200 [00:28<02:39,  1.07it/s, f1=0.953, Δf1=-0.00147]\n",
      "Training:  12%|█▎        | 25/200 [00:23<02:44,  1.06it/s, f1=0.93, Δf1=-0.00106]\n",
      "\n",
      "100%|██████████| 5/5 [11:03<00:00, 132.71s/it]\u001b[A\n",
      "Creating dictionary: 100%|██████████| 17/17 [00:04<00:00,  3.92it/s]\n",
      "Creating dictionary: 100%|██████████| 17/17 [00:03<00:00,  4.96it/s]\n"
     ]
    },
    {
     "name": "stdout",
     "output_type": "stream",
     "text": [
      "[17695  8700 43259 ... 11922 40115  8304]\n",
      "Retrieved 987 positive samples, 70985 negative samples.\n",
      "[28755 33778 19069 ... 88902 79687 95980]\n",
      "Retrieved 1945 positive samples, 95605 negative samples.\n",
      "[ 2317 11181  8898 ... 12409 17033 12293]\n",
      "Retrieved 566 positive samples, 20841 negative samples.\n"
     ]
    },
    {
     "name": "stderr",
     "output_type": "stream",
     "text": [
      "\n",
      "  0%|          | 0/5 [00:00<?, ?it/s]\u001b[A"
     ]
    },
    {
     "name": "stdout",
     "output_type": "stream",
     "text": [
      "[2131  262 1814 ...  309 3341 1707]\n",
      "2000 training samples, 1132 testing samples\n"
     ]
    },
    {
     "name": "stderr",
     "output_type": "stream",
     "text": [
      "Training:  25%|██▌       | 50/200 [00:40<02:00,  1.25it/s, f1=0.964, Δf1=0]        \n",
      "Training:   8%|▊         | 15/200 [00:11<02:26,  1.26it/s, f1=0.962, Δf1=-0.00172]\n",
      "Training:  15%|█▌        | 30/200 [00:28<02:41,  1.05it/s, f1=0.949, Δf1=-0.000385]\n",
      "Training:  30%|███       | 60/200 [01:00<02:20,  1.00s/it, f1=0.959, Δf1=0]       \n",
      "\n",
      " 20%|██        | 1/5 [02:27<09:50, 147.57s/it]\u001b[A"
     ]
    },
    {
     "name": "stdout",
     "output_type": "stream",
     "text": [
      "[3560 1774 2585 ...  231 1302 2319]\n"
     ]
    },
    {
     "name": "stderr",
     "output_type": "stream",
     "text": [
      "Training:  28%|██▊       | 55/200 [00:43<01:55,  1.26it/s, f1=0.952, Δf1=-0.000147]\n",
      "Training:  10%|█         | 20/200 [00:15<02:22,  1.26it/s, f1=0.948, Δf1=-0.00116]\n",
      "Training:  22%|██▎       | 45/200 [00:43<02:30,  1.03it/s, f1=0.958, Δf1=-0.000499]\n",
      "Training:  15%|█▌        | 30/200 [00:28<02:44,  1.04it/s, f1=0.94, Δf1=-0.000866]\n",
      "\n",
      " 40%|████      | 2/5 [04:46<07:09, 143.17s/it]\u001b[A"
     ]
    },
    {
     "name": "stdout",
     "output_type": "stream",
     "text": [
      "[  10  732 2399 ... 1125 1416 3419]\n"
     ]
    },
    {
     "name": "stderr",
     "output_type": "stream",
     "text": [
      "Training:  18%|█▊        | 35/200 [00:28<02:12,  1.25it/s, f1=0.951, Δf1=-0.000533]\n",
      "Training:  32%|███▎      | 65/200 [00:52<01:48,  1.25it/s, f1=0.942, Δf1=0]       \n",
      "Training:  15%|█▌        | 30/200 [00:30<02:51,  1.01s/it, f1=0.95, Δf1=-0.000337]\n",
      "Training:  42%|████▎     | 85/200 [01:26<01:56,  1.01s/it, f1=0.943, Δf1=-0.000545]\n",
      "\n",
      " 60%|██████    | 3/5 [08:10<05:26, 163.34s/it]\u001b[A"
     ]
    },
    {
     "name": "stdout",
     "output_type": "stream",
     "text": [
      "[2666 3225 1283 ...  205 2591 1247]\n"
     ]
    },
    {
     "name": "stderr",
     "output_type": "stream",
     "text": [
      "Training:   8%|▊         | 15/200 [00:12<02:35,  1.19it/s, f1=0.948, Δf1=-0.00369]\n",
      "Training:  12%|█▎        | 25/200 [00:20<02:24,  1.21it/s, f1=0.946, Δf1=-6.91e-05]\n",
      "Training:  15%|█▌        | 30/200 [00:29<02:49,  1.00it/s, f1=0.949, Δf1=-0.00188]\n",
      "Training:  12%|█▎        | 25/200 [00:23<02:47,  1.04it/s, f1=0.937, Δf1=-0.0146]\n",
      "\n",
      " 80%|████████  | 4/5 [09:43<02:25, 145.97s/it]\u001b[A"
     ]
    },
    {
     "name": "stdout",
     "output_type": "stream",
     "text": [
      "[3451 3074 2192 ... 2801 1146 2528]\n"
     ]
    },
    {
     "name": "stderr",
     "output_type": "stream",
     "text": [
      "Training:   5%|▌         | 10/200 [00:08<02:37,  1.21it/s, f1=0.948, Δf1=-0.00323]\n",
      "Training:   8%|▊         | 15/200 [00:12<02:28,  1.25it/s, f1=0.944, Δf1=-0.00441]\n",
      "Training:  22%|██▎       | 45/200 [00:43<02:30,  1.03it/s, f1=0.949, Δf1=0]       \n",
      "Training:  15%|█▌        | 30/200 [00:30<02:51,  1.01s/it, f1=0.954, Δf1=-0.00119]\n",
      "\n",
      "100%|██████████| 5/5 [11:24<00:00, 136.99s/it]\u001b[A\n",
      "Creating dictionary: 100%|██████████| 17/17 [00:04<00:00,  3.88it/s]\n",
      "Creating dictionary: 100%|██████████| 17/17 [00:03<00:00,  4.55it/s]\n"
     ]
    },
    {
     "name": "stdout",
     "output_type": "stream",
     "text": [
      "[17695  8700 43259 ... 11922 40115  8304]\n",
      "Retrieved 987 positive samples, 70985 negative samples.\n",
      "[28755 33778 19069 ... 88902 79687 95980]\n",
      "Retrieved 1945 positive samples, 95605 negative samples.\n",
      "[ 2317 11181  8898 ... 12409 17033 12293]\n",
      "Retrieved 566 positive samples, 20841 negative samples.\n"
     ]
    },
    {
     "name": "stderr",
     "output_type": "stream",
     "text": [
      "\n",
      "  0%|          | 0/5 [00:00<?, ?it/s]\u001b[A"
     ]
    },
    {
     "name": "stdout",
     "output_type": "stream",
     "text": [
      "[2131  262 1814 ...  309 3341 1707]\n",
      "2000 training samples, 1132 testing samples\n"
     ]
    },
    {
     "name": "stderr",
     "output_type": "stream",
     "text": [
      "Training:  15%|█▌        | 30/200 [00:26<02:30,  1.13it/s, f1=0.963, Δf1=-0.000592]\n",
      "Training:   8%|▊         | 15/200 [00:12<02:33,  1.21it/s, f1=0.943, Δf1=-0.00236]\n",
      "Training:  18%|█▊        | 35/200 [00:37<02:56,  1.07s/it, f1=0.953, Δf1=0]      \n",
      "Training:  30%|███       | 60/200 [01:00<02:21,  1.01s/it, f1=0.949, Δf1=0]       \n",
      "\n",
      " 20%|██        | 1/5 [02:24<09:36, 144.18s/it]\u001b[A"
     ]
    },
    {
     "name": "stdout",
     "output_type": "stream",
     "text": [
      "[3560 1774 2585 ...  231 1302 2319]\n"
     ]
    },
    {
     "name": "stderr",
     "output_type": "stream",
     "text": [
      "Training:  25%|██▌       | 50/200 [00:41<02:05,  1.20it/s, f1=0.955, Δf1=0]        \n",
      "Training:   5%|▌         | 10/200 [00:08<02:35,  1.22it/s, f1=0.936, Δf1=-0.00384]\n",
      "Training:  18%|█▊        | 35/200 [00:34<02:40,  1.03it/s, f1=0.95, Δf1=-0.00059] \n",
      "Training:  28%|██▊       | 55/200 [00:53<02:20,  1.03it/s, f1=0.941, Δf1=-0.000235]\n",
      "\n",
      " 40%|████      | 2/5 [04:47<07:11, 143.99s/it]\u001b[A"
     ]
    },
    {
     "name": "stdout",
     "output_type": "stream",
     "text": [
      "[  10  732 2399 ... 1125 1416 3419]\n"
     ]
    },
    {
     "name": "stderr",
     "output_type": "stream",
     "text": [
      "Training:  28%|██▊       | 55/200 [00:44<01:56,  1.24it/s, f1=0.958, Δf1=-4.07e-05]\n",
      "Training:  30%|███       | 60/200 [00:48<01:53,  1.23it/s, f1=0.947, Δf1=0]        \n",
      "Training:  18%|█▊        | 35/200 [00:33<02:39,  1.03it/s, f1=0.945, Δf1=-0.00161]\n",
      "Training:  32%|███▎      | 65/200 [01:03<02:12,  1.02it/s, f1=0.922, Δf1=0]       \n",
      "\n",
      " 60%|██████    | 3/5 [08:05<05:23, 161.80s/it]\u001b[A"
     ]
    },
    {
     "name": "stdout",
     "output_type": "stream",
     "text": [
      "[2666 3225 1283 ...  205 2591 1247]\n"
     ]
    },
    {
     "name": "stderr",
     "output_type": "stream",
     "text": [
      "Training:  12%|█▎        | 25/200 [00:20<02:22,  1.23it/s, f1=0.956, Δf1=-0.000174]\n",
      "Training:   5%|▌         | 10/200 [00:07<02:31,  1.25it/s, f1=0.942, Δf1=-0.00577]\n",
      "Training:  18%|█▊        | 35/200 [00:34<02:41,  1.02it/s, f1=0.947, Δf1=-0.00119]\n",
      "Training:  18%|█▊        | 35/200 [00:33<02:39,  1.03it/s, f1=0.957, Δf1=-0.00193]\n",
      "\n",
      " 80%|████████  | 4/5 [09:48<02:27, 147.07s/it]\u001b[A"
     ]
    },
    {
     "name": "stdout",
     "output_type": "stream",
     "text": [
      "[3451 3074 2192 ... 2801 1146 2528]\n"
     ]
    },
    {
     "name": "stderr",
     "output_type": "stream",
     "text": [
      "Training:  10%|█         | 20/200 [00:16<02:25,  1.24it/s, f1=0.955, Δf1=-0.000757]\n",
      "Training:  20%|██        | 40/200 [00:32<02:09,  1.24it/s, f1=0.959, Δf1=0]        \n",
      "Training:  22%|██▎       | 45/200 [00:43<02:30,  1.03it/s, f1=0.952, Δf1=-0.000298]\n",
      "Training:  12%|█▎        | 25/200 [00:24<02:49,  1.03it/s, f1=0.938, Δf1=-0.00558]\n",
      "\n",
      "100%|██████████| 5/5 [11:51<00:00, 142.25s/it]\u001b[A\n",
      "\u001b[A"
     ]
    }
   ],
   "source": [
    "params = train.CNNParams(\n",
    "    embed_size=100,\n",
    "    dropout=0.5,\n",
    "    epochs=200,\n",
    "    filters=[(33, 3), (33, 5), (33, 7)],\n",
    "    num_layers=1,\n",
    "    max_norm=3,\n",
    ")\n",
    "\n",
    "char_params = train.CharCNNParams(\n",
    "    dropout=0.5,\n",
    "    epochs=200,\n",
    "    max_norm=3,\n",
    ")\n",
    "\n",
    "window_size = 2\n",
    "k = 5\n",
    "splitter = evaluate.StratifiedShuffleSplit(\n",
    "    n_splits=k,\n",
    "    train_size=2000,\n",
    "    test_size=None,\n",
    "    random_state=100,\n",
    ")\n",
    "\n",
    "old_kmeans_cls = {}\n",
    "old_gmm_cls = {}\n",
    "old_char_kmeans_cls = {}\n",
    "old_char_gmm_cls = {}\n",
    "\n",
    "for num_clusters in [2, 3, 5, 7, 9, 15]:\n",
    "    optim_fn = lambda p: torch.optim.Adadelta(p)\n",
    "    model_fns = [\n",
    "        lambda r: models.CategoricalClusterLabels(r, num_clusters, window_size, params.dropout),\n",
    "        lambda r: models.CategoricalClusterLabels(r, 11, window_size, params.dropout),\n",
    "        lambda r: models.CategoricalClusterLabels(r, num_clusters, window_size, char_params.dropout),\n",
    "        lambda r: models.CategoricalClusterLabels(r, 11, window_size, char_params.dropout),\n",
    "    ]\n",
    "    dataset, validset, testset = evaluate.load_dataset(num_clusters, window_size, True)\n",
    "\n",
    "    splitter.random_state = 100\n",
    "    values = evaluate.cross_val(k, splitter, model_fns, [False, True, False, True], optim_fn,\n",
    "                                dataset,\n",
    "                                params=[params, params, char_params, char_params],\n",
    "                                early_stopping=2,\n",
    "                                validation_set=validset,\n",
    "                                batch_size=128,\n",
    "                                testset=testset)\n",
    "    old_kmeans_cls[num_clusters] = [v[0] for v in values]\n",
    "    old_gmm_cls[num_clusters] = [v[1] for v in values]\n",
    "    old_char_kmeans_cls[num_clusters] = [v[2] for v in values]\n",
    "    old_char_gmm_cls[num_clusters] = [v[3] for v in values]"
   ]
  },
  {
   "cell_type": "code",
   "execution_count": 4,
   "metadata": {},
   "outputs": [],
   "source": [
    "(old_kmeans_cls, old_gmm_cls, old_char_kmeans_cls, old_char_gmm_cls) = load(\"1600-numclusters-old.pkl\")"
   ]
  },
  {
   "cell_type": "code",
   "execution_count": 7,
   "metadata": {},
   "outputs": [
    {
     "name": "stderr",
     "output_type": "stream",
     "text": [
      "/usr/lib/python3.6/site-packages/seaborn/timeseries.py:183: UserWarning: The tsplot function is deprecated and will be removed or replaced (in a substantially altered version) in a future release.\n",
      "  warnings.warn(msg, UserWarning)\n"
     ]
    },
    {
     "data": {
      "image/png": "[encoded data removed]",
      "text/plain": [
       "<matplotlib.figure.Figure at 0x7f15d68103c8>"
      ]
     },
     "metadata": {},
     "output_type": "display_data"
    }
   ],
   "source": [
    "d = {\n",
    "    \"WordCNN\": {\n",
    "        s: {\n",
    "            'K-Means': old_kmeans_cls[s],\n",
    "            'Infinite Mixture Model': old_gmm_cls[s],\n",
    "        }\n",
    "        for s in old_kmeans_cls.keys()\n",
    "    },\n",
    "    \"CharCNN\": {\n",
    "        s: {\n",
    "            'K-Means': old_char_kmeans_cls[s],\n",
    "            'Infinite Mixture Model': old_char_gmm_cls[s],\n",
    "        }\n",
    "        for s in [2, 3, 5, 7, 9]\n",
    "    }\n",
    "}\n",
    "#evaluate.analyze_cnns(d, \"k\", \"model\")\n",
    "evaluate.analyze_cnns(d, \"k\", \"model\", \"../report/figures/results/2000-numclusters-old\")"
   ]
  },
  {
   "cell_type": "code",
   "execution_count": 6,
   "metadata": {},
   "outputs": [],
   "source": [
    "save((old_kmeans_cls, old_gmm_cls, old_char_kmeans_cls, old_char_gmm_cls), \"2000-numclusters-old.pkl\")"
   ]
  }
 ],
 "metadata": {
  "kernelspec": {
   "display_name": "Python 3",
   "language": "python",
   "name": "python3"
  },
  "language_info": {
   "codemirror_mode": {
    "name": "ipython",
    "version": 3
   },
   "file_extension": ".py",
   "mimetype": "text/x-python",
   "name": "python",
   "nbconvert_exporter": "python",
   "pygments_lexer": "ipython3",
   "version": "3.6.6"
  }
 },
 "nbformat": 4,
 "nbformat_minor": 2
}

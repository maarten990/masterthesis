{
 "cells": [
  {
   "cell_type": "code",
   "execution_count": 1,
   "metadata": {},
   "outputs": [
    {
     "name": "stdout",
     "output_type": "stream",
     "text": [
      "/home/maarten/Documents/masterthesis/supervised\n"
     ]
    }
   ],
   "source": [
    "%cd supervised\n",
    "%load_ext autoreload\n",
    "%autoreload 2\n",
    "\n",
    "import data\n",
    "import train\n",
    "import evaluate\n",
    "import models\n",
    "import torch"
   ]
  },
  {
   "cell_type": "code",
   "execution_count": 27,
   "metadata": {},
   "outputs": [],
   "source": [
    "import pickle\n",
    "\n",
    "def save(data, fname):\n",
    "    with open(fname, 'wb') as f:\n",
    "        pickle.dump(data, f)\n",
    "    \n",
    "def load(fname):\n",
    "    with open(fname, 'rb') as f:\n",
    "        return pickle.read(f)"
   ]
  },
  {
   "cell_type": "markdown",
   "metadata": {},
   "source": [
    "# Training size, full cross validation"
   ]
  },
  {
   "cell_type": "code",
   "execution_count": null,
   "metadata": {},
   "outputs": [],
   "source": [
    "# main test\n",
    "\n",
    "window_size = 2\n",
    "num_clusters = 9\n",
    "dataset, validset = load_dataset(num_clusters, window_size)\n",
    "\n",
    "params = train.CNNParams(\n",
    "    embed_size=100,\n",
    "    dropout=0.5,\n",
    "    epochs=100,\n",
    "    filters=[(33, 3), (33, 5), (33, 7)],\n",
    "    num_layers=1,\n",
    "    max_norm=3,\n",
    ")\n",
    "\n",
    "optim_fn = lambda p: torch.optim.Adadelta(p)\n",
    "model_fns = [lambda r: models.NoClusterLabels(r, params.dropout),\n",
    "             lambda r: models.CategoricalClusterLabels(r, num_clusters, window_size, params.dropout)]\n",
    "#             lambda r: models.CategoricalClusterLabels(r, num_clusters, window_size, params.dropout)]\n",
    "\n",
    "baseline = {}\n",
    "kmeans = {}\n",
    "gmm = {}\n",
    "\n",
    "for n in [50, 100, 400, 800, 1200, 1600, 2000, 2400]:\n",
    "    values = evaluate.cross_val(10, n, model_fns, [False, False], optim_fn, dataset, params,\n",
    "                                early_stopping=10,\n",
    "                                validation_set=validset,\n",
    "                                testset=None)\n",
    "    baseline[n] = [v[0] for v in values]\n",
    "    kmeans[n] = [v[1] for v in values]\n",
    "#    gmm[n] = [v[2] for v in values]"
   ]
  },
  {
   "cell_type": "code",
   "execution_count": null,
   "metadata": {},
   "outputs": [],
   "source": [
    "d = {s: {'Baseline': baseline[s],\n",
    "         'K-Means': kmeans[s],\n",
    "#         'Mixture model': gmm[s],\n",
    "        }\n",
    "    for s in baseline.keys()\n",
    "}\n",
    "evaluate.analyze_tseries(d, 'number of training samples', 'model', '../report/figures/results/main_window4_oldtest')\n",
    "evaluate.analyze_size(d, 'number of samples', 'model', '../report/figures/results/main_window4_oldtest')"
   ]
  },
  {
   "cell_type": "code",
   "execution_count": null,
   "metadata": {
    "scrolled": true
   },
   "outputs": [],
   "source": [
    "evaluate.analyze_wrapper(baseline, kmeans, None, 'model', '../report/figures/results/main_window4_data_oldtest')\n",
    "#evaluate.analyze_wrapper(baseline, kmeans, gmm, 'model')"
   ]
  },
  {
   "cell_type": "markdown",
   "metadata": {},
   "source": [
    "# Training size, older test set"
   ]
  },
  {
   "cell_type": "code",
   "execution_count": null,
   "metadata": {},
   "outputs": [],
   "source": [
    "# test on old data\n",
    "\n",
    "window_size = 4\n",
    "num_clusters = 9\n",
    "dataset, validset, testset = load_dataset(num_clusters, window_size, True)\n",
    "\n",
    "params = train.CNNParams(\n",
    "    embed_size=100,\n",
    "    dropout=0.5,\n",
    "    epochs=100,\n",
    "    filters=[(33, 3), (33, 5), (33, 7)],\n",
    "    num_layers=1,\n",
    "    max_norm=3,\n",
    ")\n",
    "\n",
    "optim_fn = lambda p: torch.optim.Adadelta(p)\n",
    "model_fns = [lambda r: models.NoClusterLabels(r, params.dropout),\n",
    "             lambda r: models.CategoricalClusterLabels(r, num_clusters, window_size, params.dropout)]\n",
    "#             lambda r: models.CategoricalClusterLabels(r, num_clusters, window_size, params.dropout)]\n",
    "\n",
    "baseline = {}\n",
    "kmeans = {}\n",
    "gmm = {}\n",
    "\n",
    "for n in [50, 100, 400, 800, 1200, 1600, 2000, 2400]:\n",
    "    values = evaluate.cross_val(10, n, model_fns, [False, False], optim_fn, dataset, params,\n",
    "                                early_stopping=10,\n",
    "                                validation_set=validset,\n",
    "                                testset=testset)\n",
    "    baseline[n] = [v[0] for v in values]\n",
    "    kmeans[n] = [v[1] for v in values]\n",
    "#    gmm[n] = [v[2] for v in values]"
   ]
  },
  {
   "cell_type": "markdown",
   "metadata": {},
   "source": [
    "# Window size, full cross validation"
   ]
  },
  {
   "cell_type": "code",
   "execution_count": 23,
   "metadata": {},
   "outputs": [
    {
     "name": "stderr",
     "output_type": "stream",
     "text": [
      "Creating dictionary: 100%|██████████| 13/13 [00:02<00:00,  5.93it/s]\n"
     ]
    },
    {
     "name": "stdout",
     "output_type": "stream",
     "text": [
      "Retrieved 691 positive samples, 37708 negative samples.\n"
     ]
    },
    {
     "name": "stderr",
     "output_type": "stream",
     "text": [
      "\n"
     ]
    },
    {
     "name": "stdout",
     "output_type": "stream",
     "text": [
      "Retrieved 1820 positive samples, 79736 negative samples.\n"
     ]
    },
    {
     "name": "stderr",
     "output_type": "stream",
     "text": [
      "Training:   0%|          | 0/100 [00:00<?, ?it/s]"
     ]
    },
    {
     "name": "stdout",
     "output_type": "stream",
     "text": [
      "1600 training samples, 2040 testing samples\n"
     ]
    },
    {
     "name": "stderr",
     "output_type": "stream",
     "text": [
      "Training:  51%|█████     | 51/100 [00:23<00:22,  2.13it/s, loss=0.0155, Δloss=0.000316] \n",
      "Training:  47%|████▋     | 47/100 [00:21<00:24,  2.14it/s, loss=0.00619, Δloss=-0.000719]\n",
      "Training:  38%|███▊      | 38/100 [00:23<00:37,  1.64it/s, loss=0.0144, Δloss=-0.000164]\n",
      "Training:  49%|████▉     | 49/100 [00:30<00:31,  1.61it/s, loss=0.00241, Δloss=-0.000995]\n",
      "\n",
      "Training:  47%|████▋     | 47/100 [00:22<00:25,  2.08it/s, loss=0.0183, Δloss=0.00165]  \n",
      "Training:  29%|██▉       | 29/100 [00:13<00:34,  2.08it/s, loss=0.0155, Δloss=0.000598]\n",
      "Training:  64%|██████▍   | 64/100 [00:39<00:22,  1.61it/s, loss=0.0164, Δloss=0.000323] \n",
      "Training:  62%|██████▏   | 62/100 [00:39<00:24,  1.58it/s, loss=0.00888, Δloss=0.00298]  \n",
      "\n",
      "Training:  44%|████▍     | 44/100 [00:20<00:26,  2.13it/s, loss=0.0144, Δloss=-0.000194]\n",
      "Training:  49%|████▉     | 49/100 [00:23<00:23,  2.13it/s, loss=0.00239, Δloss=-0.00376] \n",
      "Training:  31%|███       | 31/100 [00:18<00:41,  1.67it/s, loss=0.0611, Δloss=0.0184]   \n",
      "Training:  36%|███▌      | 36/100 [00:21<00:38,  1.66it/s, loss=0.00274, Δloss=0.000459] \n",
      "\n",
      "Training:  24%|██▍       | 24/100 [00:11<00:35,  2.13it/s, loss=0.046, Δloss=0.0155]    \n",
      "Training:  16%|█▌        | 16/100 [00:07<00:39,  2.14it/s, loss=0.03, Δloss=0.0107]    \n",
      "Training:  76%|███████▌  | 76/100 [00:45<00:14,  1.67it/s, loss=0.0368, Δloss=0.0204]    \n",
      "Training:  38%|███▊      | 38/100 [00:22<00:37,  1.66it/s, loss=0.00226, Δloss=-0.00026] \n",
      "\n",
      "Training:  15%|█▌        | 15/100 [00:06<00:39,  2.17it/s, loss=0.0753, Δloss=0.00632]\n",
      "Training:  18%|█▊        | 18/100 [00:08<00:39,  2.10it/s, loss=0.0346, Δloss=0.0034]  \n",
      "Training:  66%|██████▌   | 66/100 [00:39<00:20,  1.67it/s, loss=0.0156, Δloss=2.9e-05]  \n",
      "Training:  40%|████      | 40/100 [00:24<00:36,  1.66it/s, loss=0.00302, Δloss=0.000118] \n",
      "\n",
      "100%|██████████| 5/5 [08:06<00:00, 97.24s/it] \u001b[A\n",
      "\u001b[A"
     ]
    }
   ],
   "source": [
    "params = train.CNNParams(\n",
    "    embed_size=100,\n",
    "    dropout=0.5,\n",
    "    epochs=100,\n",
    "    filters=[(33, 3), (33, 5), (33, 7)],\n",
    "    num_layers=1,\n",
    "    max_norm=3,\n",
    ")\n",
    "\n",
    "char_params = train.CharCNNParams(\n",
    "    dropout=0.5,\n",
    "    epochs=100,\n",
    "    max_norm=3,\n",
    ")\n",
    "\n",
    "#optim_fn = lambda p: torch.optim.Adadelta(p)\n",
    "optim_fn = lambda p: torch.optim.Adam(p, weight_decay=0.0001)\n",
    "model_fns = [lambda r: models.NoClusterLabels(r, params.dropout),\n",
    "             lambda r: models.CategoricalClusterLabels(r, num_clusters, window_size, params.dropout),\n",
    "             \n",
    "             lambda r: models.NoClusterLabels(r, char_params.dropout),\n",
    "             lambda r: models.CategoricalClusterLabels(r, num_clusters, window_size, char_params.dropout)]\n",
    "    \n",
    "#baseline = {}\n",
    "#kmeans = {}\n",
    "#char_baseline = {}\n",
    "#char_kmeans = {}\n",
    "\n",
    "for window_size in [1]:\n",
    "    num_clusters = 9\n",
    "    dataset, validset = evaluate.load_dataset(num_clusters, window_size)\n",
    "\n",
    "    values = evaluate.cross_val(5, 1600, model_fns, [False, False, False, False], optim_fn, dataset,\n",
    "                                params=[params, params, char_params, char_params],\n",
    "                                early_stopping=10,\n",
    "                                validation_set=None,\n",
    "                                batch_size=128,\n",
    "                                testset=None)\n",
    "    baseline[window_size] = [v[0] for v in values]\n",
    "    kmeans[window_size] = [v[1] for v in values]\n",
    "    char_baseline[window_size] = [v[2] for v in values]\n",
    "    char_kmeans[window_size] = [v[3] for v in values]"
   ]
  },
  {
   "cell_type": "code",
   "execution_count": 24,
   "metadata": {},
   "outputs": [
    {
     "name": "stderr",
     "output_type": "stream",
     "text": [
      "/usr/lib/python3.6/site-packages/seaborn/timeseries.py:183: UserWarning: The tsplot function is deprecated and will be removed or replaced (in a substantially altered version) in a future release.\n",
      "  warnings.warn(msg, UserWarning)\n"
     ]
    },
    {
     "data": {
      "image/png": "[encoded data removed]",
      "text/plain": [
       "<matplotlib.figure.Figure at 0x7f2e644dccf8>"
      ]
     },
     "metadata": {},
     "output_type": "display_data"
    }
   ],
   "source": [
    "d = {\n",
    "    \"WordCNN\": {\n",
    "        s: {\n",
    "            'Baseline': baseline[s],\n",
    "            'K-Means': kmeans[s],\n",
    "        }\n",
    "        for s in baseline.keys()\n",
    "    },\n",
    "    \"CharCNN\": {\n",
    "        s: {\n",
    "            'Baseline': char_baseline[s],\n",
    "            'K-Means': char_kmeans[s],\n",
    "        }\n",
    "        for s in baseline.keys()\n",
    "    }\n",
    "}\n",
    "#evaluate.analyze_tseries(d, 'window size', 'model')\n",
    "evaluate.analyze_cnns(d, \"window size\", \"model\", \"../report/figures/results/1600-windowsize\")"
   ]
  },
  {
   "cell_type": "markdown",
   "metadata": {},
   "source": [
    "# Window size, older testset"
   ]
  },
  {
   "cell_type": "code",
   "execution_count": 25,
   "metadata": {},
   "outputs": [
    {
     "name": "stderr",
     "output_type": "stream",
     "text": [
      "Creating dictionary: 100%|██████████| 13/13 [00:02<00:00,  5.80it/s]\n"
     ]
    },
    {
     "name": "stdout",
     "output_type": "stream",
     "text": [
      "Retrieved 691 positive samples, 37708 negative samples.\n",
      "Retrieved 1254 positive samples, 58709 negative samples.\n",
      "Retrieved 566 positive samples, 21027 negative samples.\n"
     ]
    },
    {
     "name": "stderr",
     "output_type": "stream",
     "text": [
      "\n",
      "Training:   0%|          | 0/100 [00:00<?, ?it/s]"
     ]
    },
    {
     "name": "stdout",
     "output_type": "stream",
     "text": [
      "1600 training samples, 1132 testing samples\n"
     ]
    },
    {
     "name": "stderr",
     "output_type": "stream",
     "text": [
      "Training:  57%|█████▋    | 57/100 [00:26<00:19,  2.16it/s, loss=0.0213, Δloss=0.00256]  \n",
      "Training:  62%|██████▏   | 62/100 [00:29<00:17,  2.13it/s, loss=0.00761, Δloss=0.00482]   \n",
      "Training:  52%|█████▏    | 52/100 [00:31<00:28,  1.67it/s, loss=0.0186, Δloss=0.000248] \n",
      "Training:  61%|██████    | 61/100 [00:36<00:23,  1.67it/s, loss=0.0935, Δloss=0.00603]    \n",
      "\n",
      "Training:  15%|█▌        | 15/100 [00:07<00:39,  2.14it/s, loss=0.113, Δloss=0.00264] \n",
      "Training:  79%|███████▉  | 79/100 [00:37<00:09,  2.13it/s, loss=0.00101, Δloss=-0.000418] \n",
      "Training:  59%|█████▉    | 59/100 [00:36<00:25,  1.64it/s, loss=0.0177, Δloss=-0.00161] \n",
      "Training:  58%|█████▊    | 58/100 [00:35<00:25,  1.64it/s, loss=0.000382, Δloss=-1.43e-06]\n",
      "\n",
      "Training:  75%|███████▌  | 75/100 [00:34<00:11,  2.14it/s, loss=0.0178, Δloss=-0.0014]  \n",
      "Training:  57%|█████▋    | 57/100 [00:26<00:20,  2.12it/s, loss=0.0105, Δloss=0.0063]   \n",
      "Training:  67%|██████▋   | 67/100 [00:40<00:19,  1.65it/s, loss=0.0283, Δloss=0.00281]  \n",
      "Training:  57%|█████▋    | 57/100 [00:34<00:26,  1.63it/s, loss=0.000591, Δloss=-0.000644]\n",
      "\n",
      "Training:  50%|█████     | 50/100 [00:23<00:23,  2.12it/s, loss=0.0186, Δloss=-0.00176] \n",
      "Training:  33%|███▎      | 33/100 [00:15<00:31,  2.13it/s, loss=0.0132, Δloss=-0.00548] \n",
      "Training:  64%|██████▍   | 64/100 [00:38<00:21,  1.65it/s, loss=0.0187, Δloss=0.000312] \n",
      "Training:  68%|██████▊   | 68/100 [00:41<00:19,  1.64it/s, loss=0.102, Δloss=0.082]       \n",
      "\n",
      "Training:  33%|███▎      | 33/100 [00:15<00:31,  2.12it/s, loss=0.0717, Δloss=0.0186]   \n",
      "Training:  75%|███████▌  | 75/100 [00:34<00:11,  2.15it/s, loss=0.000296, Δloss=-3.3e-05] \n",
      "Training:  25%|██▌       | 25/100 [00:15<00:45,  1.65it/s, loss=0.0665, Δloss=0.00434] \n",
      "Training:  73%|███████▎  | 73/100 [00:44<00:16,  1.64it/s, loss=0.00105, Δloss=0.000242]  \n",
      "\n",
      "100%|██████████| 5/5 [10:22<00:00, 124.41s/it]\u001b[A\n",
      "\u001b[A\n",
      "Training:   0%|          | 0/100 [00:00<?, ?it/s]"
     ]
    },
    {
     "name": "stdout",
     "output_type": "stream",
     "text": [
      "1600 training samples, 1120 testing samples\n"
     ]
    },
    {
     "name": "stderr",
     "output_type": "stream",
     "text": [
      "Training:  17%|█▋        | 17/100 [00:10<00:50,  1.65it/s, loss=0.0948, Δloss=-0.0467]\n",
      "Training:  39%|███▉      | 39/100 [00:23<00:37,  1.64it/s, loss=0.000144, Δloss=-1.62e-05]\n",
      "Training:  41%|████      | 41/100 [00:31<00:46,  1.28it/s, loss=2.44e-05, Δloss=8.3e-06]  \n",
      "Training:  69%|██████▉   | 69/100 [00:53<00:23,  1.29it/s, loss=0.000328, Δloss=-6.05e-05]\n",
      "\n",
      "Training:  46%|████▌     | 46/100 [00:27<00:32,  1.65it/s, loss=0.000191, Δloss=-3.24e-05]\n",
      "Training:  17%|█▋        | 17/100 [00:10<00:49,  1.67it/s, loss=0.0403, Δloss=0.00699]  \n",
      "Training:  60%|██████    | 60/100 [00:46<00:31,  1.29it/s, loss=3.61e-05, Δloss=-2.32e-06]\n",
      "Training:  32%|███▏      | 32/100 [00:24<00:52,  1.29it/s, loss=0.0166, Δloss=-0.0081]    \n",
      "\n",
      "Training:  19%|█▉        | 19/100 [00:11<00:49,  1.64it/s, loss=0.094, Δloss=0.0469]   \n",
      "Training:  67%|██████▋   | 67/100 [00:40<00:20,  1.65it/s, loss=0.000238, Δloss=5.24e-05] \n",
      "Training:  43%|████▎     | 43/100 [00:33<00:44,  1.28it/s, loss=3.39e-05, Δloss=2.01e-06] \n",
      "Training:  59%|█████▉    | 59/100 [00:45<00:31,  1.29it/s, loss=9.27e-05, Δloss=-2.41e-05]\n",
      "\n",
      "Training:  47%|████▋     | 47/100 [00:28<00:32,  1.64it/s, loss=0.000145, Δloss=-3.99e-05]\n",
      "Training:  19%|█▉        | 19/100 [00:11<00:49,  1.65it/s, loss=0.024, Δloss=-0.0267]   \n",
      "Training:  34%|███▍      | 34/100 [00:26<00:51,  1.28it/s, loss=2.81e-05, Δloss=-4.17e-06]\n",
      "Training:  41%|████      | 41/100 [00:32<00:46,  1.28it/s, loss=0.0706, Δloss=0.0357]     \n",
      "\n",
      "Training:  19%|█▉        | 19/100 [00:11<00:49,  1.65it/s, loss=0.00508, Δloss=-0.00233]\n",
      "Training:  38%|███▊      | 38/100 [00:23<00:38,  1.63it/s, loss=0.000179, Δloss=1.41e-05] \n",
      "Training:  48%|████▊     | 48/100 [00:38<00:41,  1.26it/s, loss=2.55e-05, Δloss=-5.01e-06]\n",
      "Training:  53%|█████▎    | 53/100 [00:42<00:37,  1.26it/s, loss=0.000205, Δloss=-0.00038] \n",
      "\n",
      "100%|██████████| 5/5 [09:54<00:00, 118.96s/it]\u001b[A\n",
      "\u001b[A\n",
      "Training:   0%|          | 0/100 [00:00<?, ?it/s]"
     ]
    },
    {
     "name": "stdout",
     "output_type": "stream",
     "text": [
      "1600 training samples, 1124 testing samples\n"
     ]
    },
    {
     "name": "stderr",
     "output_type": "stream",
     "text": [
      "Training:  20%|██        | 20/100 [00:15<01:00,  1.33it/s, loss=0.0933, Δloss=0.0655]   \n",
      "Training:  28%|██▊       | 28/100 [00:20<00:52,  1.36it/s, loss=0.0156, Δloss=4.15e-05]  \n",
      "Training:  60%|██████    | 60/100 [00:57<00:38,  1.05it/s, loss=0.000746, Δloss=0.000633] \n",
      "Training:  44%|████▍     | 44/100 [00:40<00:52,  1.07it/s, loss=0.00635, Δloss=-0.00464]  \n",
      "\n",
      "Training:  62%|██████▏   | 62/100 [00:45<00:27,  1.36it/s, loss=0.00014, Δloss=-6.63e-05] \n",
      "Training:  19%|█▉        | 19/100 [00:13<00:59,  1.37it/s, loss=0.113, Δloss=0.0417]   \n",
      "Training:  44%|████▍     | 44/100 [00:40<00:51,  1.09it/s, loss=2.77e-05, Δloss=-1.08e-05]\n",
      "Training:  60%|██████    | 60/100 [00:55<00:37,  1.07it/s, loss=0.0262, Δloss=-0.0929]    \n",
      "\n",
      "Training:  19%|█▉        | 19/100 [00:14<00:59,  1.36it/s, loss=0.0188, Δloss=0.000431]\n",
      "Training:  18%|█▊        | 18/100 [00:13<01:00,  1.35it/s, loss=0.102, Δloss=0.0356]   \n",
      "Training:  36%|███▌      | 36/100 [00:33<00:59,  1.07it/s, loss=3.53e-05, Δloss=-1.46e-05]\n",
      "Training:  41%|████      | 41/100 [00:38<00:54,  1.08it/s, loss=0.000405, Δloss=-0.000484]\n",
      "\n",
      "Training:  20%|██        | 20/100 [00:15<01:00,  1.32it/s, loss=0.0142, Δloss=0.00349] \n",
      "Training:  21%|██        | 21/100 [00:15<00:57,  1.37it/s, loss=0.00713, Δloss=-0.00383] \n",
      "Training:  42%|████▏     | 42/100 [00:39<00:54,  1.07it/s, loss=4.05e-05, Δloss=1.51e-05] \n",
      "Training: 100%|██████████| 100/100 [01:32<00:00,  1.08it/s, loss=0.289, Δloss=-0.00288]   \n"
     ]
    },
    {
     "name": "stdout",
     "output_type": "stream",
     "text": [
      "Warning: did not stop early\n"
     ]
    },
    {
     "name": "stderr",
     "output_type": "stream",
     "text": [
      "\n",
      "Training:  19%|█▉        | 19/100 [00:13<00:59,  1.36it/s, loss=0.221, Δloss=0.0966]   \n",
      "Training:  31%|███       | 31/100 [00:22<00:50,  1.38it/s, loss=0.175, Δloss=0.0661]   \n",
      "Training:  41%|████      | 41/100 [00:38<00:55,  1.07it/s, loss=3.45e-05, Δloss=4.19e-06] \n",
      "Training:  69%|██████▉   | 69/100 [01:04<00:28,  1.08it/s, loss=4.62e-05, Δloss=-2.28e-05]\n",
      "\n",
      "100%|██████████| 5/5 [11:52<00:00, 142.57s/it]\u001b[A\n",
      "\u001b[A\n",
      "Training:   0%|          | 0/100 [00:00<?, ?it/s]"
     ]
    },
    {
     "name": "stdout",
     "output_type": "stream",
     "text": [
      "1600 training samples, 1124 testing samples\n"
     ]
    },
    {
     "name": "stderr",
     "output_type": "stream",
     "text": [
      "Training:  46%|████▌     | 46/100 [00:39<00:45,  1.18it/s, loss=0.0331, Δloss=-0.0125]   \n",
      "Training:  26%|██▌       | 26/100 [00:22<01:02,  1.18it/s, loss=0.0118, Δloss=-0.00804] \n",
      "Training:  26%|██▌       | 26/100 [00:28<01:22,  1.11s/it, loss=0.108, Δloss=-0.00109] \n",
      "Training:  55%|█████▌    | 55/100 [00:57<00:47,  1.05s/it, loss=0.00013, Δloss=4.02e-05]  \n",
      "\n",
      "Training:  22%|██▏       | 22/100 [00:18<01:06,  1.18it/s, loss=0.0278, Δloss=-0.00826]\n",
      "Training:  23%|██▎       | 23/100 [00:19<01:05,  1.17it/s, loss=0.0748, Δloss=0.0082]   \n",
      "Training:  28%|██▊       | 28/100 [00:29<01:15,  1.05s/it, loss=0.138, Δloss=0.00478]  \n",
      "Training:  49%|████▉     | 49/100 [00:52<00:54,  1.07s/it, loss=0.00778, Δloss=0.00516]   \n",
      "\n",
      "Training:  35%|███▌      | 35/100 [00:29<00:55,  1.17it/s, loss=0.0226, Δloss=-0.0268]  \n",
      "Training:  24%|██▍       | 24/100 [00:20<01:05,  1.17it/s, loss=0.0816, Δloss=0.00735]  \n",
      "Training:  56%|█████▌    | 56/100 [01:01<00:48,  1.09s/it, loss=0.00995, Δloss=0.000846]  \n",
      "Training:  82%|████████▏ | 82/100 [01:28<00:19,  1.08s/it, loss=0.0404, Δloss=-0.0127]    \n",
      "\n",
      "Training:  58%|█████▊    | 58/100 [00:50<00:36,  1.16it/s, loss=8.34e-05, Δloss=-8.77e-05]\n",
      "Training:  24%|██▍       | 24/100 [00:20<01:04,  1.18it/s, loss=0.166, Δloss=0.0551]   \n",
      "Training:  56%|█████▌    | 56/100 [00:58<00:46,  1.05s/it, loss=2.43e-05, Δloss=1.25e-06] \n",
      "Training:  76%|███████▌  | 76/100 [01:20<00:25,  1.05s/it, loss=0.0655, Δloss=-0.0546]    \n",
      "\n",
      "Training:  23%|██▎       | 23/100 [00:19<01:04,  1.19it/s, loss=0.0256, Δloss=-0.00626] \n",
      "Training:  34%|███▍      | 34/100 [00:28<00:55,  1.19it/s, loss=0.011, Δloss=0.00478]   \n",
      "Training:  42%|████▏     | 42/100 [00:44<01:00,  1.05s/it, loss=0.0744, Δloss=0.0532]     \n",
      "Training:  96%|█████████▌| 96/100 [01:40<00:04,  1.05s/it, loss=0.0147, Δloss=-0.0241]    \n",
      "\n",
      "100%|██████████| 5/5 [14:57<00:00, 179.56s/it]\u001b[A\n",
      "\u001b[A\n",
      "Training:   0%|          | 0/100 [00:00<?, ?it/s]"
     ]
    },
    {
     "name": "stdout",
     "output_type": "stream",
     "text": [
      "1600 training samples, 1106 testing samples\n"
     ]
    },
    {
     "name": "stderr",
     "output_type": "stream",
     "text": [
      "Training:  40%|████      | 40/100 [00:40<01:00,  1.01s/it, loss=0.0572, Δloss=0.0237]   \n",
      "Training:  25%|██▌       | 25/100 [00:25<01:15,  1.01s/it, loss=0.038, Δloss=0.0153]    \n",
      "Training:  73%|███████▎  | 73/100 [01:49<00:40,  1.50s/it, loss=2.51e-05, Δloss=-6.76e-05]\n",
      "Training:  52%|█████▏    | 52/100 [01:18<01:12,  1.51s/it, loss=0.0161, Δloss=-0.0405]    \n",
      "\n",
      "Training:  78%|███████▊  | 78/100 [01:17<00:21,  1.01it/s, loss=8.93e-05, Δloss=1.51e-06] \n",
      "Training:  32%|███▏      | 32/100 [00:31<01:07,  1.01it/s, loss=0.0129, Δloss=-0.0218]  \n",
      "Training:  31%|███       | 31/100 [00:45<01:42,  1.48s/it, loss=0.0894, Δloss=-0.0699] \n",
      "Training:  54%|█████▍    | 54/100 [01:20<01:08,  1.49s/it, loss=0.0845, Δloss=0.0292]     \n",
      "\n",
      "Training:  37%|███▋      | 37/100 [00:37<01:03,  1.01s/it, loss=0.0573, Δloss=0.0229]  \n",
      "Training:  27%|██▋       | 27/100 [00:27<01:13,  1.00s/it, loss=0.0319, Δloss=0.0146]   \n",
      "Training:  29%|██▉       | 29/100 [00:43<01:46,  1.50s/it, loss=0.143, Δloss=0.0425]  \n",
      "Training:  25%|██▌       | 25/100 [00:37<01:53,  1.51s/it, loss=0.0268, Δloss=0.0186]    \n",
      "\n",
      "Training:  28%|██▊       | 28/100 [00:27<01:11,  1.00it/s, loss=0.0734, Δloss=0.00506] \n",
      "Training:  35%|███▌      | 35/100 [00:34<01:04,  1.00it/s, loss=0.0185, Δloss=0.0127]    \n",
      "Training:  58%|█████▊    | 58/100 [01:26<01:02,  1.49s/it, loss=2.8e-05, Δloss=1.65e-06]  \n",
      "Training:  46%|████▌     | 46/100 [01:08<01:20,  1.50s/it, loss=0.00018, Δloss=-1.2e-05]  \n",
      "\n",
      "Training:  33%|███▎      | 33/100 [00:33<01:07,  1.00s/it, loss=0.0466, Δloss=0.00292]  \n",
      "Training:  25%|██▌       | 25/100 [00:24<01:14,  1.01it/s, loss=0.153, Δloss=0.0682]    \n",
      "Training:  31%|███       | 31/100 [00:46<01:42,  1.49s/it, loss=0.0412, Δloss=-0.00655]\n",
      "Training:  65%|██████▌   | 65/100 [01:37<00:52,  1.49s/it, loss=0.000237, Δloss=6.55e-06] \n",
      "\n",
      "100%|██████████| 5/5 [18:08<00:00, 217.79s/it]\u001b[A\n",
      "Creating dictionary: 100%|██████████| 13/13 [00:02<00:00,  5.62it/s]\n"
     ]
    },
    {
     "name": "stdout",
     "output_type": "stream",
     "text": [
      "Retrieved 687 positive samples, 36781 negative samples.\n",
      "Retrieved 1244 positive samples, 57212 negative samples.\n",
      "Retrieved 555 positive samples, 20480 negative samples.\n"
     ]
    },
    {
     "name": "stderr",
     "output_type": "stream",
     "text": [
      "\n",
      "Training:   0%|          | 0/100 [00:00<?, ?it/s]"
     ]
    },
    {
     "name": "stdout",
     "output_type": "stream",
     "text": [
      "1600 training samples, 1110 testing samples\n"
     ]
    },
    {
     "name": "stderr",
     "output_type": "stream",
     "text": [
      "Training:  33%|███▎      | 33/100 [00:40<01:21,  1.22s/it, loss=0.179, Δloss=0.0914]   \n",
      "Training:  25%|██▌       | 25/100 [00:31<01:34,  1.25s/it, loss=0.0781, Δloss=0.0378]  \n",
      "Training:  34%|███▍      | 34/100 [01:04<02:05,  1.90s/it, loss=0.0591, Δloss=0.0478]   \n",
      "Training:  41%|████      | 41/100 [01:19<01:54,  1.94s/it, loss=0.000191, Δloss=-1.59e-05]\n",
      "\n",
      "Training:  25%|██▌       | 25/100 [00:33<01:39,  1.33s/it, loss=0.0703, Δloss=-0.0829] \n",
      "Training:  25%|██▌       | 25/100 [00:33<01:39,  1.33s/it, loss=0.101, Δloss=-0.00718] \n",
      "Training:  39%|███▉      | 39/100 [01:16<02:00,  1.97s/it, loss=0.0311, Δloss=-0.00286]  \n",
      "Training:  52%|█████▏    | 52/100 [01:40<01:33,  1.94s/it, loss=0.000193, Δloss=-8.78e-06]\n",
      "\n",
      "Training:  36%|███▌      | 36/100 [00:46<01:22,  1.29s/it, loss=0.0471, Δloss=-0.0153] \n",
      "Training:  28%|██▊       | 28/100 [00:35<01:32,  1.28s/it, loss=0.0466, Δloss=0.0224]   \n",
      "Training:  37%|███▋      | 37/100 [01:09<01:58,  1.89s/it, loss=0.0802, Δloss=0.00632] \n",
      "Training:  51%|█████     | 51/100 [01:37<01:33,  1.91s/it, loss=0.000281, Δloss=6.3e-05]  \n",
      "\n",
      "Training:  28%|██▊       | 28/100 [00:35<01:30,  1.26s/it, loss=0.0979, Δloss=-0.15]   \n",
      "Training:  55%|█████▌    | 55/100 [01:09<00:56,  1.26s/it, loss=0.00252, Δloss=0.000872]  \n",
      "Training:  30%|███       | 30/100 [00:55<02:09,  1.85s/it, loss=0.0934, Δloss=0.0358]   \n",
      "Training:  24%|██▍       | 24/100 [00:44<02:21,  1.86s/it, loss=0.0565, Δloss=0.03]    \n",
      "\n",
      "Training:  32%|███▏      | 32/100 [00:39<01:23,  1.22s/it, loss=0.0296, Δloss=0.00902]  \n",
      "Training:  31%|███       | 31/100 [00:38<01:24,  1.23s/it, loss=0.00687, Δloss=0.0011]   \n",
      "Training:  30%|███       | 30/100 [00:55<02:09,  1.85s/it, loss=0.0858, Δloss=-0.000733]\n",
      "Training:  51%|█████     | 51/100 [01:34<01:31,  1.86s/it, loss=0.00087, Δloss=3.24e-05]  \n",
      "\n",
      "100%|██████████| 5/5 [19:46<00:00, 237.21s/it]\u001b[A\n",
      "\u001b[A"
     ]
    }
   ],
   "source": [
    "params = train.CNNParams(\n",
    "    embed_size=100,\n",
    "    dropout=0.5,\n",
    "    epochs=100,\n",
    "    filters=[(33, 3), (33, 5), (33, 7)],\n",
    "    num_layers=1,\n",
    "    max_norm=3,\n",
    ")\n",
    "\n",
    "char_params = train.CharCNNParams(\n",
    "    dropout=0.5,\n",
    "    epochs=100,\n",
    "    max_norm=3,\n",
    ")\n",
    "\n",
    "#optim_fn = lambda p: torch.optim.Adadelta(p)\n",
    "optim_fn = lambda p: torch.optim.Adam(p, weight_decay=0.0001)\n",
    "model_fns = [lambda r: models.NoClusterLabels(r, params.dropout),\n",
    "             lambda r: models.CategoricalClusterLabels(r, num_clusters, window_size, params.dropout),\n",
    "             \n",
    "             lambda r: models.NoClusterLabels(r, char_params.dropout),\n",
    "             lambda r: models.CategoricalClusterLabels(r, num_clusters, window_size, char_params.dropout)]\n",
    "    \n",
    "old_baseline = {}\n",
    "old_kmeans = {}\n",
    "old_char_baseline = {}\n",
    "old_char_kmeans = {}\n",
    "\n",
    "for window_size in [1, 2, 3, 4, 7, 9]:\n",
    "    num_clusters = 9\n",
    "    dataset, validset, testset = evaluate.load_dataset(num_clusters, window_size, True)\n",
    "\n",
    "    values = evaluate.cross_val(5, 1600, model_fns, [False, False, False, False], optim_fn, dataset,\n",
    "                                params=[params, params, char_params, char_params],\n",
    "                                early_stopping=10,\n",
    "                                validation_set=None,\n",
    "                                batch_size=128,\n",
    "                                testset=testset)\n",
    "    old_baseline[window_size] = [v[0] for v in values]\n",
    "    old_kmeans[window_size] = [v[1] for v in values]\n",
    "    old_char_baseline[window_size] = [v[2] for v in values]\n",
    "    old_char_kmeans[window_size] = [v[3] for v in values]"
   ]
  },
  {
   "cell_type": "code",
   "execution_count": 26,
   "metadata": {},
   "outputs": [
    {
     "name": "stderr",
     "output_type": "stream",
     "text": [
      "/usr/lib/python3.6/site-packages/seaborn/timeseries.py:183: UserWarning: The tsplot function is deprecated and will be removed or replaced (in a substantially altered version) in a future release.\n",
      "  warnings.warn(msg, UserWarning)\n"
     ]
    },
    {
     "data": {
      "image/png": "[encoded data removed]",
      "text/plain": [
       "<matplotlib.figure.Figure at 0x7f2e6244cc50>"
      ]
     },
     "metadata": {},
     "output_type": "display_data"
    }
   ],
   "source": [
    "d = {\n",
    "    \"WordCNN\": {\n",
    "        s: {\n",
    "            'Baseline': old_baseline[s],\n",
    "            'K-Means': old_kmeans[s],\n",
    "        }\n",
    "        for s in old_baseline.keys()\n",
    "    },\n",
    "    \"CharCNN\": {\n",
    "        s: {\n",
    "            'Baseline': old_char_baseline[s],\n",
    "            'K-Means': char_kmeans[s],\n",
    "        }\n",
    "        for s in old_baseline.keys()\n",
    "    }\n",
    "}\n",
    "#evaluate.analyze_tseries(d, 'window size', 'model')\n",
    "evaluate.analyze_cnns(d, \"window size\", \"model\", \"../report/figures/results/1600-windowsize-old\")"
   ]
  },
  {
   "cell_type": "code",
   "execution_count": 29,
   "metadata": {},
   "outputs": [],
   "source": [
    "save((baseline, kmeans, char_baseline, char_kmeans), \"1600-windowsize.pkl\")\n",
    "save((old_baseline, old_kmeans, old_char_baseline, old_char_kmeans), \"1600-windowsize-old.pkl\")"
   ]
  },
  {
   "cell_type": "markdown",
   "metadata": {},
   "source": [
    "# Number of clusters, full cross validation"
   ]
  },
  {
   "cell_type": "code",
   "execution_count": null,
   "metadata": {},
   "outputs": [],
   "source": [
    "params = train.CNNParams(\n",
    "    embed_size=100,\n",
    "    dropout=0.5,\n",
    "    epochs=100,\n",
    "    filters=[(33, 3), (33, 5), (33, 7)],\n",
    "    num_layers=1,\n",
    "    max_norm=3,\n",
    ")\n",
    "\n",
    "optim_fn = lambda p: torch.optim.Adadelta(p)\n",
    "model_fns = [lambda r: models.CategoricalClusterLabels(r, num_clusters, window_size, params.dropout)]\n",
    "#             lambda r: models.CategoricalClusterLabels(r, num_clusters, window_size, params.dropout)]\n",
    "    \n",
    "kmeans = {}\n",
    "gmm = {}\n",
    "\n",
    "for num_clusters in [2, 3, 5, 7, 9, 15, 30]:\n",
    "    window_size = 5\n",
    "    dataset, validset = load_dataset(num_clusters, window_size)\n",
    "\n",
    "    values = evaluate.cross_val(10, 1200, model_fns, [False], optim_fn, dataset, params,\n",
    "                                early_stopping=10,\n",
    "                                validation_set=validset,\n",
    "                                testset=None)\n",
    "    kmeans[num_clusters] = [v[0] for v in values]\n",
    "    gmm[num_clusters] = [v[1] for v in values]"
   ]
  },
  {
   "cell_type": "code",
   "execution_count": null,
   "metadata": {},
   "outputs": [],
   "source": [
    "d = {s: {'K-Means': kmeans[s],\n",
    "         #'Mixture model': gmm[s],\n",
    "        }\n",
    "    for s in kmeans.keys()\n",
    "}\n",
    "#evaluate.analyze_tseries(d, 'k', 'model')\n",
    "evaluate.analyze_size(d, 'k', 'model', '../report/figures/results/800-numcluster')\n",
    "evaluate.analyze_tseries(d, 'k', 'model', '../report/figures/results/800-numcluster')"
   ]
  },
  {
   "cell_type": "code",
   "execution_count": null,
   "metadata": {},
   "outputs": [],
   "source": [
    "# test num clusters on old set\n",
    "\n",
    "params = train.CNNParams(\n",
    "    embed_size=100,\n",
    "    dropout=0.5,\n",
    "    epochs=100,\n",
    "    filters=[(33, 3), (33, 5), (33, 7)],\n",
    "    num_layers=1,\n",
    "    max_norm=3,\n",
    ")\n",
    "\n",
    "optim_fn = lambda p: torch.optim.Adadelta(p)\n",
    "model_fns = [lambda r: models.CategoricalClusterLabels(r, num_clusters, window_size, params.dropout),\n",
    "             lambda r: models.CategoricalClusterLabels(r, num_clusters, window_size, params.dropout)]\n",
    "    \n",
    "kmeans = {}\n",
    "gmm = {}\n",
    "\n",
    "for num_clusters in [2, 3, 5, 7, 9, 15, 30]:\n",
    "    window_size = 4\n",
    "    dataset, validset, testset = load_dataset(num_clusters, window_size, True)\n",
    "\n",
    "    values = evaluate.cross_val(10, 1600, model_fns, [False, True], optim_fn, dataset, params,\n",
    "                                early_stopping=10,\n",
    "                                validation_set=validset,\n",
    "                                testset=testset)\n",
    "    kmeans[num_clusters] = [v[0] for v in values]\n",
    "    gmm[num_clusters] = [v[1] for v in values]"
   ]
  },
  {
   "cell_type": "code",
   "execution_count": null,
   "metadata": {},
   "outputs": [],
   "source": [
    "d = {s: {'K-Means': kmeans[s],\n",
    "         'Mixture model': gmm[s],\n",
    "        }\n",
    "    for s in kmeans.keys()\n",
    "}\n",
    "evaluate.analyze_tseries(d, 'k', 'model')\n",
    "#evaluate.analyze_size(d, 'k', 'model', '../report/figures/results/800-numcluster_olddata')\n",
    "#evaluate.analyze_tseries(d, 'k', 'model', '../report/figures/results/800-numcluster_olddata')"
   ]
  },
  {
   "cell_type": "markdown",
   "metadata": {},
   "source": [
    "# Test regularization methods"
   ]
  },
  {
   "cell_type": "code",
   "execution_count": null,
   "metadata": {
    "scrolled": true
   },
   "outputs": [],
   "source": [
    "params = train.CNNParams(\n",
    "    embed_size=300,\n",
    "    dropout=0.0,\n",
    "    epochs=100,\n",
    "    filters=[(33, 3), (34, 5), (33, 7)],\n",
    "    num_layers=1,\n",
    "    max_norm=0,\n",
    ")\n",
    "\n",
    "optim_no_decay = lambda p: torch.optim.Adadelta(p)\n",
    "\n",
    "dropout_tests = []\n",
    "dropout_values = [0.0, 0.1, 0.2, 0.3, 0.4, 0.5]\n",
    "for value in dropout_values:\n",
    "    params.dropout = value\n",
    "    dropout_tests.append(evaluate.cross_val(10, -1,\n",
    "                                            lambda r: models.NoClusterLabels(r, params.dropout),\n",
    "                                            optim_no_decay, only_idx_dataset, params))"
   ]
  },
  {
   "cell_type": "code",
   "execution_count": null,
   "metadata": {},
   "outputs": [],
   "source": [
    "evaluate.analyze(dict(zip(dropout_values, dropout_tests)), 'dropout rate', '../report/figures/results/dropout')"
   ]
  },
  {
   "cell_type": "code",
   "execution_count": null,
   "metadata": {},
   "outputs": [],
   "source": [
    "params = train.CNNParams(\n",
    "    embed_size=300,\n",
    "    dropout=0.5,\n",
    "    epochs=100,\n",
    "    filters=[(33, 3), (34, 5), (33, 7)],\n",
    "    num_layers=1,\n",
    "    max_norm=3,\n",
    ")\n",
    "\n",
    "optim = lambda p: torch.optim.Adadelta(p)\n",
    "\n",
    "l2norm_tests = []\n",
    "l2norm_values = [1, 3, 4, 5, 10, 0]\n",
    "for value in l2norm_values:\n",
    "    params.dropout = 0.5\n",
    "    params.max_norm = value\n",
    "    l2norm_tests.append(evaluate.cross_val(10, -1,\n",
    "                                           lambda r: models.NoClusterLabels(r, params.dropout),\n",
    "                                           optim, only_idx_dataset, params))"
   ]
  },
  {
   "cell_type": "code",
   "execution_count": null,
   "metadata": {
    "scrolled": false
   },
   "outputs": [],
   "source": [
    "evaluate.analyze(dict(zip(map(lambda v: v if v != 0 else 'None', l2norm_values), l2norm_tests)),\n",
    "                 'maximum L2 norm of weight vectors', '../report/figures/results/decay')"
   ]
  },
  {
   "cell_type": "code",
   "execution_count": null,
   "metadata": {},
   "outputs": [],
   "source": [
    "params = train.CNNParams(\n",
    "    embed_size=300,\n",
    "    dropout=0.5,\n",
    "    epochs=100,\n",
    "    filters=[(33, 3), (34, 5), (33, 7)],\n",
    "    num_layers=1,\n",
    "    max_norm=2,\n",
    ")\n",
    "\n",
    "bn_tests = []\n",
    "optim_fn = lambda p: torch.optim.SGD(p, lr=0.01, momentum=0.9, nesterov=True)\n",
    "bn_tests.append(evaluate.cross_val(10, 400,\n",
    "                                   lambda r: models.NoClusterLabels(r, params.dropout, batch_norm=False),\n",
    "                                   optim_fn, only_idx_dataset, params))\n",
    "bn_tests.append(evaluate.cross_val(10, 400,\n",
    "                                   lambda r: models.NoClusterLabels(r, params.dropout, batch_norm=True),\n",
    "                                   optim_fn, only_idx_dataset, params))"
   ]
  },
  {
   "cell_type": "code",
   "execution_count": null,
   "metadata": {},
   "outputs": [],
   "source": [
    "evaluate.analyze({'no batchnorm': bn_tests[0],\n",
    "                  'batchnorm': bn_tests[1]})"
   ]
  }
 ],
 "metadata": {
  "kernelspec": {
   "display_name": "Python 3",
   "language": "python",
   "name": "python3"
  },
  "language_info": {
   "codemirror_mode": {
    "name": "ipython",
    "version": 3
   },
   "file_extension": ".py",
   "mimetype": "text/x-python",
   "name": "python",
   "nbconvert_exporter": "python",
   "pygments_lexer": "ipython3",
   "version": "3.6.5"
  }
 },
 "nbformat": 4,
 "nbformat_minor": 2
}

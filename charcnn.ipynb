{
 "cells": [
  {
   "cell_type": "code",
   "execution_count": null,
   "metadata": {
    "autoscroll": false,
    "ein.hycell": false,
    "ein.tags": "worksheet-0",
    "slideshow": {
     "slide_type": "-"
    }
   },
   "outputs": [
    {
     "name": "stdout",
     "output_type": "stream",
     "text": [
      "/home/maarten/Documents/masterthesis/supervised\n"
     ]
    }
   ],
   "source": [
    "%cd supervised\n",
    "%load_ext autoreload\n",
    "%autoreload 2\n",
    "\n",
    "import data\n",
    "import train\n",
    "import evaluate\n",
    "import models\n",
    "import torch\n",
    "import seaborn as sns"
   ]
  },
  {
   "cell_type": "code",
   "execution_count": 1,
   "metadata": {
    "autoscroll": false,
    "ein.hycell": false,
    "ein.tags": "worksheet-0",
    "slideshow": {
     "slide_type": "-"
    }
   },
   "outputs": [],
   "source": [
    "import pickle\n",
    "\n",
    "def save(data, fname):\n",
    "    with open(fname, 'wb') as f:\n",
    "        pickle.dump(data, f)\n",
    "    \n",
    "def load(fname):\n",
    "    with open(fname, 'rb') as f:\n",
    "        return pickle.load(f)"
   ]
  },
  {
   "cell_type": "code",
   "execution_count": null,
   "metadata": {
    "autoscroll": false,
    "ein.hycell": false,
    "ein.tags": "worksheet-0",
    "slideshow": {
     "slide_type": "-"
    }
   },
   "outputs": [],
   "source": [
    "dataset1, validset1, testset1 = evaluate.load_dataset(9, 0, 1, True)\n",
    "dataset2, validset2, testset2 = evaluate.load_dataset(9, 1, 1, True)"
   ]
  },
  {
   "cell_type": "code",
   "execution_count": null,
   "metadata": {
    "autoscroll": false,
    "ein.hycell": false,
    "ein.tags": "worksheet-0",
    "slideshow": {
     "slide_type": "-"
    }
   },
   "outputs": [],
   "source": [
    "import numpy as np\n",
    "from collections import Counter\n",
    "print(Counter(np.shape(s.clusters_gmm)[1] for s in dataset1))\n",
    "print(Counter(np.shape(s.clusters_gmm)[1] for s in dataset2))"
   ]
  },
  {
   "cell_type": "code",
   "execution_count": null,
   "metadata": {
    "autoscroll": false,
    "ein.hycell": false,
    "ein.tags": "worksheet-0",
    "slideshow": {
     "slide_type": "-"
    }
   },
   "outputs": [],
   "source": [
    "assert(len([d.label for d in dataset1 if np.all(d.label == 1)])\n",
    "       ==len([d.label for d in dataset1 if np.all(d.label == 0)]))\n",
    "\n",
    "for d1, d2 in zip(dataset1, dataset2):\n",
    "    assert(np.all([w in d2.X_words for w in np.nditer(d1.X_words)]))\n",
    "    assert(np.all([w in d2.X_chars for w in np.nditer(d1.X_chars)]))\n",
    "    assert(np.all(d1.label == d2.label))"
   ]
  },
  {
   "cell_type": "markdown",
   "metadata": {
    "ein.tags": "worksheet-0",
    "slideshow": {
     "slide_type": "-"
    }
   },
   "source": [
    "# Training size, full cross validation"
   ]
  },
  {
   "cell_type": "code",
   "execution_count": null,
   "metadata": {
    "autoscroll": false,
    "ein.hycell": false,
    "ein.tags": "worksheet-0",
    "slideshow": {
     "slide_type": "-"
    }
   },
   "outputs": [],
   "source": [
    "# main test\n",
    "\n",
    "window_size = 2\n",
    "num_clusters = 9\n",
    "dataset, validset = load_dataset(num_clusters, window_size)\n",
    "\n",
    "params = train.CNNParams(\n",
    "    embed_size=100,\n",
    "    dropout=0.5,\n",
    "    epochs=100,\n",
    "    filters=[(33, 3), (33, 5), (33, 7)],\n",
    "    num_layers=1,\n",
    "    max_norm=3,\n",
    ")\n",
    "\n",
    "optim_fn = lambda p: torch.optim.Adadelta(p)\n",
    "model_fns = [lambda r: models.NoClusterLabels(r, params.dropout),\n",
    "             lambda r: models.CategoricalClusterLabels(r, num_clusters, window_size, params.dropout)]\n",
    "#             lambda r: models.CategoricalClusterLabels(r, num_clusters, window_size, params.dropout)]\n",
    "\n",
    "baseline = {}\n",
    "kmeans = {}\n",
    "gmm = {}\n",
    "\n",
    "for n in [50, 100, 400, 800, 1200, 1600, 2000, 2400]:\n",
    "    values = evaluate.cross_val(10, n, model_fns, [False, False], optim_fn, dataset, params,\n",
    "                                early_stopping=10,\n",
    "                                validation_set=validset,\n",
    "                                testset=None)\n",
    "    baseline[n] = [v[0] for v in values]\n",
    "    kmeans[n] = [v[1] for v in values]\n",
    "#    gmm[n] = [v[2] for v in values]"
   ]
  },
  {
   "cell_type": "code",
   "execution_count": null,
   "metadata": {
    "autoscroll": false,
    "ein.hycell": false,
    "ein.tags": "worksheet-0",
    "slideshow": {
     "slide_type": "-"
    }
   },
   "outputs": [],
   "source": [
    "d = {s: {'Baseline': baseline[s],\n",
    "         'K-Means': kmeans[s],\n",
    "#         'Mixture model': gmm[s],\n",
    "        }\n",
    "    for s in baseline.keys()\n",
    "}\n",
    "evaluate.analyze_tseries(d, 'number of training samples', 'model', '../report/figures/results/main_window4_oldtest')\n",
    "evaluate.analyze_size(d, 'number of samples', 'model', '../report/figures/results/main_window4_oldtest')"
   ]
  },
  {
   "cell_type": "code",
   "execution_count": null,
   "metadata": {
    "autoscroll": false,
    "ein.hycell": false,
    "ein.tags": "worksheet-0",
    "scrolled": true,
    "slideshow": {
     "slide_type": "-"
    }
   },
   "outputs": [],
   "source": [
    "evaluate.analyze_wrapper(baseline, kmeans, None, 'model', '../report/figures/results/main_window4_data_oldtest')\n",
    "#evaluate.analyze_wrapper(baseline, kmeans, gmm, 'model')"
   ]
  },
  {
   "cell_type": "markdown",
   "metadata": {
    "ein.tags": "worksheet-0",
    "slideshow": {
     "slide_type": "-"
    }
   },
   "source": [
    "# Bag of words, older test set"
   ]
  },
  {
   "cell_type": "code",
   "execution_count": null,
   "metadata": {
    "autoscroll": false,
    "ein.hycell": false,
    "ein.tags": "worksheet-0",
    "slideshow": {
     "slide_type": "-"
    }
   },
   "outputs": [],
   "source": [
    "params = train.CNNParams(\n",
    "    embed_size=100,\n",
    "    dropout=0.5,\n",
    "    epochs=200,\n",
    "    filters=[(33, 3), (33, 5), (33, 7)],\n",
    "    num_layers=1,\n",
    "    max_norm=3,\n",
    ")\n",
    "\n",
    "num_clusters = 9\n",
    "window_size = (0, 1)\n",
    "k = 5\n",
    "\n",
    "\n",
    "bow_s = {}\n",
    "only_kmeans_s = {}\n",
    "only_gmm_s = {}\n",
    "\n",
    "for training_size in [100, 200, 400, 800, 1200, 1600, 2000, 2400]:\n",
    "    dataset, validset, testset = evaluate.load_dataset(num_clusters, window_size[0], window_size[1], True,\n",
    "                                                       bag_of_words=True)\n",
    "    splitter = evaluate.StratifiedShuffleSplit(\n",
    "        n_splits=k,\n",
    "        train_size=training_size,\n",
    "        test_size=None,\n",
    "        random_state=100,\n",
    "    )\n",
    "\n",
    "    splitter.random_state = 100\n",
    "    values = evaluate.cross_val_bow(k, splitter, dataset, testset=testset)\n",
    "    bow_s[training_size] = [v[0] for v in values]\n",
    "\n",
    "    optim_fn = lambda p: torch.optim.Adadelta(p)\n",
    "    model_fns = [\n",
    "        lambda r: models.OnlyClusterLabels(r, num_clusters, sum(window_size) + 1, params.dropout),\n",
    "        lambda r: models.OnlyClusterLabels(r, 11, sum(window_size) + 1, params.dropout),\n",
    "    ]\n",
    "\n",
    "    dataset, validset, testset = evaluate.load_dataset(num_clusters, window_size[0], window_size[1], True)\n",
    "    splitter.random_state = 100\n",
    "    values = evaluate.cross_val(k, splitter, model_fns, [False, True], optim_fn,\n",
    "                                dataset,\n",
    "                                params=[params, params],\n",
    "                                early_stopping=2,\n",
    "                                validation_set=validset,\n",
    "                                batch_size=128,\n",
    "                                testset=testset)\n",
    "    only_kmeans_s[training_size] = [v[0] for v in values]\n",
    "    only_gmm_s[training_size] = [v[1] for v in values]"
   ]
  },
  {
   "cell_type": "code",
   "execution_count": null,
   "metadata": {
    "autoscroll": false,
    "ein.hycell": false,
    "ein.tags": "worksheet-0",
    "slideshow": {
     "slide_type": "-"
    }
   },
   "outputs": [],
   "source": [
    "import seaborn as sns\n",
    "d = {\n",
    "        s: {\n",
    "            'Bag of words': bow_s[s],\n",
    "            'Only K-Means': only_kmeans_s[s],\n",
    "            'Only Mixture Model': only_gmm_s[s],\n",
    "        }\n",
    "    for s in bow_s.keys()\n",
    "}\n",
    "\n",
    "with sns.axes_style(\"darkgrid\"):\n",
    "    evaluate.analyze_tseries(d, \"window_size\", \"model\")\n",
    "    #evaluate.analyze_cnns(d, \"num. training samples\", \"model\", \"../report/figures/results/training-size-old\")"
   ]
  },
  {
   "cell_type": "markdown",
   "metadata": {
    "ein.tags": "worksheet-0",
    "slideshow": {
     "slide_type": "-"
    }
   },
   "source": [
    "# Training size, older test set"
   ]
  },
  {
   "cell_type": "code",
   "execution_count": null,
   "metadata": {
    "autoscroll": false,
    "ein.hycell": false,
    "ein.tags": "worksheet-0",
    "slideshow": {
     "slide_type": "-"
    }
   },
   "outputs": [],
   "source": [
    "params = train.CNNParams(\n",
    "    embed_size=100,\n",
    "    dropout=0.5,\n",
    "    epochs=200,\n",
    "    filters=[(33, 3), (33, 5), (33, 7)],\n",
    "    num_layers=1,\n",
    "    max_norm=3,\n",
    ")\n",
    "\n",
    "char_params = train.CharCNNParams(\n",
    "    dropout=0.5,\n",
    "    epochs=200,\n",
    "    max_norm=3,\n",
    ")\n",
    "\n",
    "num_clusters = 9\n",
    "window_size = (0, 1)\n",
    "k = 5\n",
    "\n",
    "#old_baseline_s = {}\n",
    "#old_kmeans_s = {}\n",
    "#old_gmm_s = {}\n",
    "#old_char_baseline_s = {}\n",
    "#old_char_kmeans_s = {}\n",
    "#old_char_gmm_s = {}\n",
    "\n",
    "\n",
    "for training_size in [100, 200]:\n",
    "    optim_fn = lambda p: torch.optim.Adadelta(p)\n",
    "    model_fns = [\n",
    "        lambda r: models.NoClusterLabels(r, params.dropout),\n",
    "        lambda r: models.CategoricalClusterLabels(r, num_clusters, sum(window_size) + 1, params.dropout),\n",
    "        lambda r: models.CategoricalClusterLabels(r, 11, sum(window_size) + 1, params.dropout),\n",
    "        lambda r: models.NoClusterLabels(r, params.dropout),\n",
    "        lambda r: models.CategoricalClusterLabels(r, num_clusters, sum(window_size) + 1, char_params.dropout),\n",
    "        lambda r: models.CategoricalClusterLabels(r, 11, sum(window_size) + 1, char_params.dropout),\n",
    "    ]\n",
    "\n",
    "    dataset, validset, testset = evaluate.load_dataset(num_clusters, window_size[0], window_size[1], True)\n",
    "    splitter = evaluate.StratifiedShuffleSplit(\n",
    "        n_splits=k,\n",
    "        train_size=training_size,\n",
    "        test_size=None,\n",
    "        random_state=100,\n",
    "    )\n",
    "\n",
    "    splitter.random_state = 100\n",
    "    values = evaluate.cross_val(k, splitter, model_fns, [False, False, True, False, False, True], optim_fn,\n",
    "                                dataset,\n",
    "                                params=[params, params, params, char_params, char_params, char_params, char_params],\n",
    "                                early_stopping=2,\n",
    "                                validation_set=validset,\n",
    "                                batch_size=128,\n",
    "                                testset=testset)\n",
    "    \n",
    "    old_baseline_s[training_size] = [v[0] for v in values]\n",
    "    old_kmeans_s[training_size] = [v[1] for v in values]\n",
    "    old_gmm_s[training_size] = [v[2] for v in values]\n",
    "    old_char_baseline_s[training_size] = [v[3] for v in values]\n",
    "    old_char_kmeans_s[training_size] = [v[4] for v in values]\n",
    "    old_char_gmm_s[training_size] = [v[5] for v in values]"
   ]
  },
  {
   "cell_type": "code",
   "execution_count": null,
   "metadata": {
    "autoscroll": false,
    "ein.hycell": false,
    "ein.tags": "worksheet-0",
    "slideshow": {
     "slide_type": "-"
    }
   },
   "outputs": [],
   "source": [
    "import seaborn as sns\n",
    "d = {\n",
    "    \"WordCNN\": {\n",
    "        s: {\n",
    "            'K-Means': old_kmeans_s[s],\n",
    "            'Infinite Mixture Model': old_gmm_s[s],\n",
    "            'Baseline': old_baseline_s[s],\n",
    "        }\n",
    "        for s in old_kmeans_s.keys()\n",
    "    },\n",
    "    \"CharCNN\": {\n",
    "        s: {\n",
    "            'K-Means': old_char_kmeans_s[s],\n",
    "            'Infinite Mixture Model': old_char_gmm_s[s],\n",
    "            'Baseline': old_char_baseline_s[s],\n",
    "        }\n",
    "        for s in old_kmeans_s.keys()\n",
    "    }\n",
    "}\n",
    "\n",
    "with sns.axes_style(\"darkgrid\"):\n",
    "    #evaluate.analyze_cnns(d, \"window_size\", \"model\")\n",
    "    evaluate.analyze_cnns(d, \"num. training samples\", \"model\", \"../report/figures/results/training-size-old\")"
   ]
  },
  {
   "cell_type": "code",
   "execution_count": null,
   "metadata": {
    "autoscroll": false,
    "ein.hycell": false,
    "ein.tags": "worksheet-0",
    "slideshow": {
     "slide_type": "-"
    }
   },
   "outputs": [],
   "source": [
    "save((old_baseline_s, old_kmeans_s, old_gmm_s, old_char_baseline_s, old_char_kmeans_s, old_char_gmm_s), \"training-size-old.pkl\")"
   ]
  },
  {
   "cell_type": "markdown",
   "metadata": {
    "ein.tags": "worksheet-0",
    "slideshow": {
     "slide_type": "-"
    }
   },
   "source": [
    "# Window size, full cross validation"
   ]
  },
  {
   "cell_type": "code",
   "execution_count": null,
   "metadata": {
    "autoscroll": false,
    "ein.hycell": false,
    "ein.tags": "worksheet-0",
    "slideshow": {
     "slide_type": "-"
    }
   },
   "outputs": [],
   "source": [
    "params = train.CNNParams(\n",
    "    embed_size=100,\n",
    "    dropout=0.5,\n",
    "    epochs=100,\n",
    "    filters=[(33, 3), (33, 5), (33, 7)],\n",
    "    num_layers=1,\n",
    "    max_norm=3,\n",
    ")\n",
    "\n",
    "char_params = train.CharCNNParams(\n",
    "    dropout=0.5,\n",
    "    epochs=100,\n",
    "    max_norm=3,\n",
    ")\n",
    "\n",
    "#optim_fn = lambda p: torch.optim.Adadelta(p)\n",
    "optim_fn = lambda p: torch.optim.Adam(p, weight_decay=0.0001)\n",
    "model_fns = [lambda r: models.NoClusterLabels(r, params.dropout),\n",
    "             lambda r: models.CategoricalClusterLabels(r, num_clusters, window_size, params.dropout),\n",
    "             \n",
    "             lambda r: models.NoClusterLabels(r, char_params.dropout),\n",
    "             lambda r: models.CategoricalClusterLabels(r, num_clusters, window_size, char_params.dropout)]\n",
    "    \n",
    "#baseline = {}\n",
    "#kmeans = {}\n",
    "#char_baseline = {}\n",
    "#char_kmeans = {}\n",
    "\n",
    "for window_size in [1]:\n",
    "    num_clusters = 9\n",
    "    dataset, validset = evaluate.load_dataset(num_clusters, window_size)\n",
    "\n",
    "    values = evaluate.cross_val(5, 1600, model_fns, [False, False, False, False], optim_fn, dataset,\n",
    "                                params=[params, params, char_params, char_params],\n",
    "                                early_stopping=10,\n",
    "                                validation_set=None,\n",
    "                                batch_size=128,\n",
    "                                testset=None)\n",
    "    baseline[window_size] = [v[0] for v in values]\n",
    "    kmeans[window_size] = [v[1] for v in values]\n",
    "    char_baseline[window_size] = [v[2] for v in values]\n",
    "    char_kmeans[window_size] = [v[3] for v in values]"
   ]
  },
  {
   "cell_type": "code",
   "execution_count": null,
   "metadata": {
    "autoscroll": false,
    "ein.hycell": false,
    "ein.tags": "worksheet-0",
    "slideshow": {
     "slide_type": "-"
    }
   },
   "outputs": [],
   "source": [
    "d = {\n",
    "    \"WordCNN\": {\n",
    "        s: {\n",
    "            'Baseline': baseline[s],\n",
    "            'K-Means': kmeans[s],\n",
    "        }\n",
    "        for s in baseline.keys()\n",
    "    },\n",
    "    \"CharCNN\": {\n",
    "        s: {\n",
    "            'Baseline': char_baseline[s],\n",
    "            'K-Means': char_kmeans[s],\n",
    "        }\n",
    "        for s in baseline.keys()\n",
    "    }\n",
    "}\n",
    "#evaluate.analyze_tseries(d, 'window size', 'model')\n",
    "evaluate.analyze_cnns(d, \"window size\", \"model\", \"../report/figures/results/1600-windowsize\")"
   ]
  },
  {
   "cell_type": "markdown",
   "metadata": {
    "ein.tags": "worksheet-0",
    "slideshow": {
     "slide_type": "-"
    }
   },
   "source": [
    "# Window size, older testset"
   ]
  },
  {
   "cell_type": "code",
   "execution_count": null,
   "metadata": {
    "autoscroll": false,
    "ein.hycell": false,
    "ein.tags": "worksheet-0",
    "slideshow": {
     "slide_type": "-"
    }
   },
   "outputs": [],
   "source": [
    "params = train.CNNParams(\n",
    "    embed_size=100,\n",
    "    dropout=0.5,\n",
    "    epochs=200,\n",
    "    filters=[(33, 3), (33, 5), (33, 7)],\n",
    "    num_layers=1,\n",
    "    max_norm=3,\n",
    ")\n",
    "\n",
    "char_params = train.CharCNNParams(\n",
    "    dropout=0.5,\n",
    "    epochs=200,\n",
    "    max_norm=3,\n",
    ")\n",
    "\n",
    "num_clusters = 9\n",
    "k = 1\n",
    "splitter = evaluate.StratifiedShuffleSplit(\n",
    "    n_splits=k,\n",
    "    train_size=2000,\n",
    "    test_size=None,\n",
    "    random_state=100,\n",
    ")\n",
    "\n",
    "old_kmeans_w = {}\n",
    "old_gmm_w = {}\n",
    "old_char_kmeans_w = {}\n",
    "old_char_gmm_w = {}\n",
    "old_baseline_w = {}\n",
    "old_char_baseline_w = {}\n",
    "\n",
    "for window_size in [(0, 0), (0, 1), (0, 2), (0, 3)]:\n",
    "    optim_fn = lambda p: torch.optim.Adadelta(p)\n",
    "    model_fns = [\n",
    "        lambda r: models.NoClusterLabels(r, params.dropout),\n",
    "        lambda r: models.CategoricalClusterLabels(r, num_clusters, sum(window_size) + 1, params.dropout),\n",
    "        lambda r: models.CategoricalClusterLabels(r, 11, sum(window_size) + 1, params.dropout),\n",
    "        lambda r: models.NoClusterLabels(r, params.dropout),\n",
    "        lambda r: models.CategoricalClusterLabels(r, num_clusters, sum(window_size) + 1, char_params.dropout),\n",
    "        lambda r: models.CategoricalClusterLabels(r, 11, sum(window_size) + 1, char_params.dropout),\n",
    "    ]\n",
    "\n",
    "    dataset, validset, testset = evaluate.load_dataset(num_clusters, window_size[0], window_size[1], True)\n",
    "\n",
    "    splitter.random_state = 100\n",
    "    values = evaluate.cross_val(k, splitter, model_fns, [False, False, True, False, False, True], optim_fn,\n",
    "                                dataset,\n",
    "                                params=[params, params, params, char_params, char_params, char_params],\n",
    "                                early_stopping=2,\n",
    "                                validation_set=validset,\n",
    "                                batch_size=128,\n",
    "                                testset=testset,\n",
    "                               )\n",
    "    old_baseline_w[window_size] = [v[0] for v in values]\n",
    "    old_kmeans_w[window_size] = [v[1] for v in values]\n",
    "    old_gmm_w[window_size] = [v[2] for v in values]\n",
    "    old_char_baseline_w[window_size] = [v[3] for v in values]\n",
    "    old_char_kmeans_w[window_size] = [v[4] for v in values]\n",
    "    old_char_gmm_w[window_size] = [v[5] for v in values]"
   ]
  },
  {
   "cell_type": "code",
   "execution_count": 20,
   "metadata": {
    "autoscroll": false,
    "ein.hycell": false,
    "ein.tags": "worksheet-0",
    "slideshow": {
     "slide_type": "-"
    }
   },
   "outputs": [
    {
     "data": {
      "image/png": "[encoded data removed]",
      "text/plain": [
       "<matplotlib.figure.Figure at 0x7f91977742b0>"
      ]
     },
     "metadata": {},
     "output_type": "display_data"
    }
   ],
   "source": [
    "d = {\n",
    "    \"WordCNN\": {\n",
    "        sum(s): {\n",
    "            'K-Means': old_kmeans_w[s],\n",
    "            'Infinite Mixture Model': old_gmm_w[s],\n",
    "            'Baseline': old_baseline_w[s],\n",
    "        }\n",
    "        for s in old_kmeans_w.keys()\n",
    "    },\n",
    "    \"CharCNN\": {\n",
    "        sum(s): {\n",
    "            'K-Means': old_char_kmeans_w[s],\n",
    "            'Infinite Mixture Model': old_char_gmm_w[s],\n",
    "            'Baseline': old_char_baseline_w[s],\n",
    "        }\n",
    "        for s in old_kmeans_w.keys()\n",
    "    }\n",
    "}\n",
    "evaluate.analyze_cnns(d, \"window_size\", \"model\")\n",
    "#evaluate.analyze_cnns(d, \"window size\", \"model\", \"../report/figures/results/2000-windowsize_forward-old-center\")"
   ]
  },
  {
   "cell_type": "code",
   "execution_count": null,
   "metadata": {
    "autoscroll": false,
    "ein.hycell": false,
    "ein.tags": "worksheet-0",
    "slideshow": {
     "slide_type": "-"
    }
   },
   "outputs": [],
   "source": [
    "save((old_baseline, old_kmeans_w, old_gmm_w, old_char_baseline, old_char_kmeans_w, old_char_gmm_w), \"2000-windowsize-old.pkl\")"
   ]
  },
  {
   "cell_type": "code",
   "execution_count": 5,
   "metadata": {
    "autoscroll": false,
    "ein.hycell": false,
    "ein.tags": "worksheet-0",
    "slideshow": {
     "slide_type": "-"
    }
   },
   "outputs": [],
   "source": [
    "(old_baseline_w, old_kmeans_w, old_gmm_w, old_char_baseline_w, old_char_kmeans_w, old_char_gmm_w) = load(\"2000-windowsize-old.pkl\")"
   ]
  },
  {
   "cell_type": "markdown",
   "metadata": {
    "ein.tags": "worksheet-0",
    "slideshow": {
     "slide_type": "-"
    }
   },
   "source": [
    "# Testing just CharCNN with various cluster configurations"
   ]
  },
  {
   "cell_type": "code",
   "execution_count": 8,
   "metadata": {
    "autoscroll": false,
    "ein.hycell": false,
    "ein.tags": "worksheet-0",
    "slideshow": {
     "slide_type": "-"
    }
   },
   "outputs": [
    {
     "name": "stderr",
     "output_type": "stream",
     "text": [
      "Creating dictionary: 100%|██████████| 17/17 [00:03<00:00,  4.98it/s]\n",
      "Creating dictionary: 100%|██████████| 17/17 [00:03<00:00,  4.74it/s]\n",
      "\n",
      "Training:   0%|          | 0/200 [00:00<?, ?it/s]"
     ]
    },
    {
     "name": "stdout",
     "output_type": "stream",
     "text": [
      "[3746 3675 1630 ... 2254  624 3341]\n",
      "1600 training samples, 1132 testing samples\n"
     ]
    },
    {
     "name": "stderr",
     "output_type": "stream",
     "text": [
      "Training:  22%|██▎       | 45/200 [00:35<02:02,  1.26it/s, f1=0.962, Δf1=-0.00049]\n",
      "Training:  22%|██▎       | 45/200 [00:35<02:01,  1.28it/s, f1=0.958, Δf1=-0.000125]\n",
      "\n",
      "Training:   0%|          | 0/200 [00:00<?, ?it/s]"
     ]
    },
    {
     "name": "stdout",
     "output_type": "stream",
     "text": [
      "[3798 2533 2593 ... 1234 2358   38]\n"
     ]
    },
    {
     "name": "stderr",
     "output_type": "stream",
     "text": [
      "Training:  25%|██▌       | 50/200 [00:40<02:02,  1.23it/s, f1=0.957, Δf1=0]        \n",
      "Training:  15%|█▌        | 30/200 [00:24<02:21,  1.20it/s, f1=0.933, Δf1=-0.00621]\n",
      "\n",
      "Training:   0%|          | 0/200 [00:00<?, ?it/s]"
     ]
    },
    {
     "name": "stdout",
     "output_type": "stream",
     "text": [
      "[2472 1482 1743 ...  975  578  448]\n"
     ]
    },
    {
     "name": "stderr",
     "output_type": "stream",
     "text": [
      "Training:  18%|█▊        | 35/200 [00:28<02:14,  1.22it/s, f1=0.939, Δf1=-0.00566]\n",
      "Training:  20%|██        | 40/200 [00:34<02:16,  1.17it/s, f1=0.939, Δf1=-0.00042]\n",
      "\n",
      "Training:   0%|          | 0/200 [00:00<?, ?it/s]"
     ]
    },
    {
     "name": "stdout",
     "output_type": "stream",
     "text": [
      "[ 233  185  786 ... 3685 1281 3021]\n"
     ]
    },
    {
     "name": "stderr",
     "output_type": "stream",
     "text": [
      "Training:  15%|█▌        | 30/200 [00:24<02:19,  1.21it/s, f1=0.943, Δf1=-0.000885]\n",
      "Training:  15%|█▌        | 30/200 [00:23<02:10,  1.30it/s, f1=0.918, Δf1=-0.000517]\n",
      "\n",
      "Training:   0%|          | 0/200 [00:00<?, ?it/s]"
     ]
    },
    {
     "name": "stdout",
     "output_type": "stream",
     "text": [
      "[1998 1074 1940 ... 3007 3661 1936]\n"
     ]
    },
    {
     "name": "stderr",
     "output_type": "stream",
     "text": [
      "Training:  28%|██▊       | 55/200 [00:42<01:52,  1.29it/s, f1=0.929, Δf1=-0.000693]\n",
      "Training:  12%|█▎        | 25/200 [00:19<02:13,  1.31it/s, f1=0.933, Δf1=-0.00518]\n",
      "\n",
      "100%|██████████| 5/5 [05:24<00:00, 64.80s/it]\u001b[A\n",
      "Creating dictionary: 100%|██████████| 17/17 [00:03<00:00,  5.19it/s]\n",
      "Creating dictionary: 100%|██████████| 17/17 [00:03<00:00,  4.89it/s]\n",
      "\n",
      "Training:   0%|          | 0/200 [00:00<?, ?it/s]"
     ]
    },
    {
     "name": "stdout",
     "output_type": "stream",
     "text": [
      "[3746 3675 1630 ... 2254  624 3341]\n",
      "1600 training samples, 1132 testing samples\n"
     ]
    },
    {
     "name": "stderr",
     "output_type": "stream",
     "text": [
      "Training:  40%|████      | 80/200 [01:11<01:46,  1.13it/s, f1=0.951, Δf1=0]       \n",
      "Training:  18%|█▊        | 35/200 [00:31<02:27,  1.12it/s, f1=0.905, Δf1=-0.000275]\n",
      "\n",
      "Training:   0%|          | 0/200 [00:00<?, ?it/s]"
     ]
    },
    {
     "name": "stdout",
     "output_type": "stream",
     "text": [
      "[3798 2533 2593 ... 1234 2358   38]\n"
     ]
    },
    {
     "name": "stderr",
     "output_type": "stream",
     "text": [
      "Training:  22%|██▎       | 45/200 [00:39<02:16,  1.13it/s, f1=0.941, Δf1=-6.03e-05]\n",
      "Training:  15%|█▌        | 30/200 [00:26<02:30,  1.13it/s, f1=0.897, Δf1=-0.00576]\n",
      "\n",
      "Training:   0%|          | 0/200 [00:00<?, ?it/s]"
     ]
    },
    {
     "name": "stdout",
     "output_type": "stream",
     "text": [
      "[2472 1482 1743 ...  975  578  448]\n"
     ]
    },
    {
     "name": "stderr",
     "output_type": "stream",
     "text": [
      "Training:  20%|██        | 40/200 [00:35<02:22,  1.12it/s, f1=0.907, Δf1=-0.00192]\n",
      "Training:  25%|██▌       | 50/200 [00:44<02:13,  1.12it/s, f1=0.906, Δf1=-0.000932]\n",
      "\n",
      "Training:   0%|          | 0/200 [00:00<?, ?it/s]"
     ]
    },
    {
     "name": "stdout",
     "output_type": "stream",
     "text": [
      "[ 233  185  786 ... 3685 1281 3021]\n"
     ]
    },
    {
     "name": "stderr",
     "output_type": "stream",
     "text": [
      "Training:  20%|██        | 40/200 [00:35<02:21,  1.13it/s, f1=0.916, Δf1=-0.000552]\n",
      "Training:  20%|██        | 40/200 [00:35<02:22,  1.12it/s, f1=0.893, Δf1=-0.00117]\n",
      "\n",
      "Training:   0%|          | 0/200 [00:00<?, ?it/s]"
     ]
    },
    {
     "name": "stdout",
     "output_type": "stream",
     "text": [
      "[1998 1074 1940 ... 3007 3661 1936]\n"
     ]
    },
    {
     "name": "stderr",
     "output_type": "stream",
     "text": [
      "Training:  22%|██▎       | 45/200 [00:40<02:18,  1.12it/s, f1=0.927, Δf1=-0.000477]\n",
      "Training:  25%|██▌       | 50/200 [00:44<02:14,  1.12it/s, f1=0.93, Δf1=-0.00303] \n",
      "\n",
      "100%|██████████| 5/5 [07:00<00:00, 84.16s/it]\u001b[A\n",
      "Creating dictionary: 100%|██████████| 17/17 [00:03<00:00,  5.05it/s]\n",
      "Creating dictionary: 100%|██████████| 17/17 [00:03<00:00,  4.77it/s]\n",
      "\n",
      "Training:   0%|          | 0/200 [00:00<?, ?it/s]"
     ]
    },
    {
     "name": "stdout",
     "output_type": "stream",
     "text": [
      "[3746 3675 1630 ... 2254  624 3341]\n",
      "1600 training samples, 1132 testing samples\n"
     ]
    },
    {
     "name": "stderr",
     "output_type": "stream",
     "text": [
      "Training:  45%|████▌     | 90/200 [01:29<01:49,  1.01it/s, f1=0.923, Δf1=0]       \n",
      "Training:  35%|███▌      | 70/200 [01:09<02:08,  1.01it/s, f1=0.931, Δf1=-0.000344]\n",
      "\n",
      "Training:   0%|          | 0/200 [00:00<?, ?it/s]"
     ]
    },
    {
     "name": "stdout",
     "output_type": "stream",
     "text": [
      "[3798 2533 2593 ... 1234 2358   38]\n"
     ]
    },
    {
     "name": "stderr",
     "output_type": "stream",
     "text": [
      "Training:  38%|███▊      | 75/200 [01:13<02:03,  1.02it/s, f1=0.935, Δf1=0]        \n",
      "Training:  38%|███▊      | 75/200 [01:14<02:04,  1.01it/s, f1=0.925, Δf1=0]        \n",
      "\n",
      "Training:   0%|          | 0/200 [00:00<?, ?it/s]"
     ]
    },
    {
     "name": "stdout",
     "output_type": "stream",
     "text": [
      "[2472 1482 1743 ...  975  578  448]\n"
     ]
    },
    {
     "name": "stderr",
     "output_type": "stream",
     "text": [
      "Training:  20%|██        | 40/200 [00:39<02:38,  1.01it/s, f1=0.876, Δf1=-0.00201]\n",
      "Training:  22%|██▎       | 45/200 [00:44<02:33,  1.01it/s, f1=0.902, Δf1=-0.00272] \n",
      "\n",
      "Training:   0%|          | 0/200 [00:00<?, ?it/s]"
     ]
    },
    {
     "name": "stdout",
     "output_type": "stream",
     "text": [
      "[ 233  185  786 ... 3685 1281 3021]\n"
     ]
    },
    {
     "name": "stderr",
     "output_type": "stream",
     "text": [
      "Training:  57%|█████▊    | 115/200 [01:54<01:24,  1.01it/s, f1=0.941, Δf1=0]       \n",
      "Training:  32%|███▎      | 65/200 [01:04<02:14,  1.01it/s, f1=0.935, Δf1=-0.00225]\n",
      "\n",
      "Training:   0%|          | 0/200 [00:00<?, ?it/s]"
     ]
    },
    {
     "name": "stdout",
     "output_type": "stream",
     "text": [
      "[1998 1074 1940 ... 3007 3661 1936]\n"
     ]
    },
    {
     "name": "stderr",
     "output_type": "stream",
     "text": [
      "Training:   8%|▊         | 15/200 [00:15<03:05,  1.00s/it, f1=0.826, Δf1=-0.0106]\n",
      "Training:  18%|█▊        | 35/200 [00:35<02:45,  1.00s/it, f1=0.904, Δf1=-0.00181]\n",
      "\n",
      "100%|██████████| 5/5 [10:38<00:00, 127.73s/it]\u001b[A\n",
      "Creating dictionary: 100%|██████████| 17/17 [00:03<00:00,  5.16it/s]\n",
      "Creating dictionary: 100%|██████████| 17/17 [00:03<00:00,  4.78it/s]\n",
      "\n",
      "Training:   0%|          | 0/200 [00:00<?, ?it/s]"
     ]
    },
    {
     "name": "stdout",
     "output_type": "stream",
     "text": [
      "[3746 3675 1630 ... 2254  624 3341]\n",
      "1600 training samples, 1132 testing samples\n"
     ]
    },
    {
     "name": "stderr",
     "output_type": "stream",
     "text": [
      "Training:   8%|▊         | 15/200 [00:16<03:21,  1.09s/it, f1=0.831, Δf1=-0.00211]\n",
      "Training:  32%|███▎      | 65/200 [01:10<02:27,  1.09s/it, f1=0.905, Δf1=-0.000466]\n",
      "\n",
      "Training:   0%|          | 0/200 [00:00<?, ?it/s]"
     ]
    },
    {
     "name": "stdout",
     "output_type": "stream",
     "text": [
      "[3798 2533 2593 ... 1234 2358   38]\n"
     ]
    },
    {
     "name": "stderr",
     "output_type": "stream",
     "text": [
      "Training:  20%|██        | 40/200 [00:44<02:56,  1.10s/it, f1=0.898, Δf1=-0.000457]\n",
      "Training:  25%|██▌       | 50/200 [00:54<02:44,  1.10s/it, f1=0.929, Δf1=-0.000803]\n",
      "\n",
      "Training:   0%|          | 0/200 [00:00<?, ?it/s]"
     ]
    },
    {
     "name": "stdout",
     "output_type": "stream",
     "text": [
      "[2472 1482 1743 ...  975  578  448]\n"
     ]
    },
    {
     "name": "stderr",
     "output_type": "stream",
     "text": [
      "Training:  28%|██▊       | 55/200 [01:00<02:39,  1.10s/it, f1=0.905, Δf1=-0.000148]\n",
      "Training:  20%|██        | 40/200 [00:43<02:54,  1.09s/it, f1=0.918, Δf1=-0.00145]\n",
      "\n",
      "Training:   0%|          | 0/200 [00:00<?, ?it/s]"
     ]
    },
    {
     "name": "stdout",
     "output_type": "stream",
     "text": [
      "[ 233  185  786 ... 3685 1281 3021]\n"
     ]
    },
    {
     "name": "stderr",
     "output_type": "stream",
     "text": [
      "Training:   8%|▊         | 15/200 [00:16<03:24,  1.10s/it, f1=0.83, Δf1=-0.00572]\n",
      "Training:  30%|███       | 60/200 [01:06<02:34,  1.11s/it, f1=0.93, Δf1=-0.000898]\n",
      "\n",
      "Training:   0%|          | 0/200 [00:00<?, ?it/s]"
     ]
    },
    {
     "name": "stdout",
     "output_type": "stream",
     "text": [
      "[1998 1074 1940 ... 3007 3661 1936]\n"
     ]
    },
    {
     "name": "stderr",
     "output_type": "stream",
     "text": [
      "Training:  22%|██▎       | 45/200 [00:49<02:49,  1.09s/it, f1=0.902, Δf1=-0.00145] \n",
      "Training:  15%|█▌        | 30/200 [00:33<03:07,  1.11s/it, f1=0.921, Δf1=-0.00332]\n",
      "\n",
      "100%|██████████| 5/5 [07:55<00:00, 95.10s/it]\u001b[A\n",
      "\u001b[A"
     ]
    }
   ],
   "source": [
    "char_params = train.CharCNNParams(\n",
    "    dropout=0.5,\n",
    "    epochs=200,\n",
    "    max_norm=3,\n",
    ")\n",
    "\n",
    "num_clusters = 9\n",
    "k = 5\n",
    "splitter = evaluate.StratifiedShuffleSplit(\n",
    "    n_splits=k,\n",
    "    train_size=1600,\n",
    "    test_size=None,\n",
    "    random_state=100,\n",
    ")\n",
    "\n",
    "\n",
    "char_kmeans_center = {}\n",
    "char_gmm_center = {}\n",
    "\n",
    "for window_size in [(0, 1), (0, 2), (0, 3), (0, 4)]:\n",
    "    optim_fn = lambda p: torch.optim.Adadelta(p)\n",
    "    model_fns = [\n",
    "        lambda r: models.CategoricalClusterLabels(r, num_clusters, char_params.dropout),\n",
    "        lambda r: models.CategoricalClusterLabels(r, 11, char_params.dropout),\n",
    "    ]\n",
    "\n",
    "    dataset, validset, testset = evaluate.load_dataset(num_clusters, window_size[0], window_size[1], True,\n",
    "                                                       cluster_handling=data.ClusterHandling.CENTER)\n",
    "\n",
    "    splitter.random_state = 100\n",
    "    values = evaluate.cross_val(k, splitter, model_fns, [False, True], optim_fn,\n",
    "                                dataset,\n",
    "                                params=[char_params, char_params, char_params],\n",
    "                                early_stopping=2,\n",
    "                                validation_set=validset,\n",
    "                                batch_size=128,\n",
    "                                testset=testset,\n",
    "                               )\n",
    "\n",
    "    char_kmeans_center[window_size] = [v[0] for v in values]\n",
    "    char_gmm_center[window_size] = [v[1] for v in values]"
   ]
  },
  {
   "cell_type": "code",
   "execution_count": 9,
   "metadata": {
    "autoscroll": false,
    "ein.hycell": false,
    "ein.tags": "worksheet-0",
    "slideshow": {
     "slide_type": "-"
    }
   },
   "outputs": [],
   "source": [
    "save((char_kmeans_concat, char_gmm_concat, char_kmeans_mean, char_gmm_mean, char_kmeans_center, char_gmm_center),\n",
    "     \"cluster_handling.pkl\")"
   ]
  },
  {
   "cell_type": "code",
   "execution_count": 21,
   "metadata": {
    "autoscroll": false,
    "ein.hycell": false,
    "ein.tags": "worksheet-0",
    "slideshow": {
     "slide_type": "-"
    }
   },
   "outputs": [],
   "source": [
    "(char_kmeans_concat, char_gmm_concat, char_kmeans_mean, char_gmm_mean, char_kmeans_center, char_gmm_center) = load(\"cluster_handling.pkl\")"
   ]
  },
  {
   "cell_type": "code",
   "execution_count": 27,
   "metadata": {
    "autoscroll": false,
    "ein.hycell": false,
    "ein.tags": "worksheet-0",
    "slideshow": {
     "slide_type": "-"
    }
   },
   "outputs": [
    {
     "data": {
      "image/png": "[encoded data removed]",
      "text/plain": [
       "<matplotlib.figure.Figure at 0x7f9195a8bc50>"
      ]
     },
     "metadata": {},
     "output_type": "display_data"
    }
   ],
   "source": [
    "d = {\n",
    "    \"K-Means\": {\n",
    "        sum(s) + 1: {\n",
    "            \"All\": char_kmeans_concat[s],\n",
    "            \"Mean\": char_kmeans_mean[s],\n",
    "            \"Center\": char_kmeans_center[s],\n",
    "        }\n",
    "        for s in char_kmeans_concat.keys()\n",
    "    },\n",
    "\n",
    "    \"Infinite Mixture Model\": {\n",
    "        sum(s) + 1: {\n",
    "            \"All\": char_gmm_concat[s],\n",
    "            \"Mean\": char_gmm_mean[s],\n",
    "            \"Center\": char_gmm_center[s],\n",
    "        }\n",
    "        for s in char_kmeans_concat.keys()\n",
    "    },\n",
    "}\n",
    "with sns.axes_style(\"darkgrid\"):\n",
    "    evaluate.analyze_cnns(d, \"k\", \"model\")\n",
    "    #evaluate.analyze_cnns(d, \"k\", \"model\", \"../report/figures/results/1600-windowsize-variations\")"
   ]
  },
  {
   "cell_type": "markdown",
   "metadata": {
    "ein.tags": "worksheet-0",
    "slideshow": {
     "slide_type": "-"
    }
   },
   "source": [
    "# Number of clusters, full cross validation"
   ]
  },
  {
   "cell_type": "code",
   "execution_count": null,
   "metadata": {
    "autoscroll": false,
    "ein.hycell": false,
    "ein.tags": "worksheet-0",
    "slideshow": {
     "slide_type": "-"
    }
   },
   "outputs": [],
   "source": [
    "params = train.CNNParams(\n",
    "    embed_size=100,\n",
    "    dropout=0.5,\n",
    "    epochs=100,\n",
    "    filters=[(33, 3), (33, 5), (33, 7)],\n",
    "    num_layers=1,\n",
    "    max_norm=3,\n",
    ")\n",
    "\n",
    "optim_fn = lambda p: torch.optim.Adadelta(p)\n",
    "model_fns = [lambda r: models.CategoricalClusterLabels(r, num_clusters, window_size, params.dropout)]\n",
    "#             lambda r: models.CategoricalClusterLabels(r, num_clusters, window_size, params.dropout)]\n",
    "    \n",
    "kmeans = {}\n",
    "gmm = {}\n",
    "\n",
    "for num_clusters in [2, 3, 5, 7, 9, 15, 30]:\n",
    "    window_size = 5\n",
    "    dataset, validset = load_dataset(num_clusters, window_size)\n",
    "\n",
    "    values = evaluate.cross_val(10, 1200, model_fns, [False], optim_fn, dataset, params,\n",
    "                                early_stopping=10,\n",
    "                                validation_set=validset,\n",
    "                                testset=None)\n",
    "    kmeans[num_clusters] = [v[0] for v in values]\n",
    "    gmm[num_clusters] = [v[1] for v in values]"
   ]
  },
  {
   "cell_type": "code",
   "execution_count": null,
   "metadata": {
    "autoscroll": false,
    "ein.hycell": false,
    "ein.tags": "worksheet-0",
    "slideshow": {
     "slide_type": "-"
    }
   },
   "outputs": [],
   "source": [
    "d = {s: {'K-Means': kmeans[s],\n",
    "         #'Mixture model': gmm[s],\n",
    "        }\n",
    "    for s in kmeans.keys()\n",
    "}\n",
    "#evaluate.analyze_tseries(d, 'k', 'model')\n",
    "evaluate.analyze_size(d, 'k', 'model', '../report/figures/results/800-numcluster')\n",
    "evaluate.analyze_tseries(d, 'k', 'model', '../report/figures/results/800-numcluster')"
   ]
  },
  {
   "cell_type": "markdown",
   "metadata": {
    "ein.tags": "worksheet-0",
    "slideshow": {
     "slide_type": "-"
    }
   },
   "source": [
    "# Number of clusters on old training set"
   ]
  },
  {
   "cell_type": "code",
   "execution_count": null,
   "metadata": {
    "autoscroll": false,
    "ein.hycell": false,
    "ein.tags": "worksheet-0",
    "slideshow": {
     "slide_type": "-"
    }
   },
   "outputs": [],
   "source": [
    "params = train.CNNParams(\n",
    "    embed_size=100,\n",
    "    dropout=0.5,\n",
    "    epochs=200,\n",
    "    filters=[(33, 3), (33, 5), (33, 7)],\n",
    "    num_layers=1,\n",
    "    max_norm=3,\n",
    ")\n",
    "\n",
    "char_params = train.CharCNNParams(\n",
    "    dropout=0.5,\n",
    "    epochs=200,\n",
    "    max_norm=3,\n",
    ")\n",
    "\n",
    "window_size = (0, 1)\n",
    "k = 5\n",
    "splitter = evaluate.StratifiedShuffleSplit(\n",
    "    n_splits=k,\n",
    "    train_size=2000,\n",
    "    test_size=None,\n",
    "    random_state=100,\n",
    ")\n",
    "\n",
    "old_kmeans_cls = {}\n",
    "old_gmm_cls = {}\n",
    "old_char_kmeans_cls = {}\n",
    "old_char_gmm_cls = {}\n",
    "\n",
    "for num_clusters in [2, 3, 5, 7, 9, 15, 30]:\n",
    "    optim_fn = lambda p: torch.optim.Adadelta(p)\n",
    "    model_fns = [\n",
    "        lambda r: models.CategoricalClusterLabels(r, num_clusters, sum(window_size) + 1, params.dropout),\n",
    "        lambda r: models.CategoricalClusterLabels(r, 11, sum(window_size) + 1, params.dropout),\n",
    "        lambda r: models.CategoricalClusterLabels(r, num_clusters, sum(window_size) + 1, char_params.dropout),\n",
    "        lambda r: models.CategoricalClusterLabels(r, 11, sum(window_size) + 1, char_params.dropout),\n",
    "    ]\n",
    "\n",
    "    dataset, validset, testset = evaluate.load_dataset(num_clusters, window_size[0], window_size[1], True)\n",
    "\n",
    "    splitter.random_state = 100\n",
    "    values = evaluate.cross_val(k, splitter, model_fns, [False, True, False, True], optim_fn,\n",
    "                                dataset,\n",
    "                                params=[params, params, char_params, char_params],\n",
    "                                early_stopping=2,\n",
    "                                validation_set=validset,\n",
    "                                batch_size=128,\n",
    "                                testset=testset)\n",
    "    old_kmeans_cls[num_clusters] = [v[0] for v in values]\n",
    "    old_gmm_cls[num_clusters] = [v[1] for v in values]\n",
    "    old_char_kmeans_cls[num_clusters] = [v[2] for v in values]\n",
    "    old_char_gmm_cls[num_clusters] = [v[3] for v in values]"
   ]
  },
  {
   "cell_type": "code",
   "execution_count": null,
   "metadata": {
    "autoscroll": false,
    "ein.hycell": false,
    "ein.tags": "worksheet-0",
    "slideshow": {
     "slide_type": "-"
    }
   },
   "outputs": [],
   "source": [
    "(old_kmeans_cls, old_gmm_cls, old_char_kmeans_cls, old_char_gmm_cls) = load(\"1600-numclusters-old.pkl\")"
   ]
  },
  {
   "cell_type": "code",
   "execution_count": null,
   "metadata": {
    "autoscroll": false,
    "ein.hycell": false,
    "ein.tags": "worksheet-0",
    "slideshow": {
     "slide_type": "-"
    }
   },
   "outputs": [],
   "source": [
    "d = {\n",
    "    \"WordCNN\": {\n",
    "        s: {\n",
    "            'K-Means': old_kmeans_cls[s],\n",
    "            'Infinite Mixture Model': old_gmm_cls[s],\n",
    "        }\n",
    "        for s in old_kmeans_cls.keys()\n",
    "    },\n",
    "    \"CharCNN\": {\n",
    "        s: {\n",
    "            'K-Means': old_char_kmeans_cls[s],\n",
    "            'Infinite Mixture Model': old_char_gmm_cls[s],\n",
    "        }\n",
    "        for s in [2, 3, 5, 7, 9, 15]\n",
    "    }\n",
    "}\n",
    "with sns.axes_style(\"darkgrid\"):\n",
    "    #evaluate.analyze_cnns(d, \"k\", \"model\")\n",
    "    evaluate.analyze_cnns(d, \"k\", \"model\", \"../report/figures/results/2000-numclusters-old\")"
   ]
  },
  {
   "cell_type": "code",
   "execution_count": null,
   "metadata": {
    "autoscroll": false,
    "ein.hycell": false,
    "ein.tags": "worksheet-0",
    "slideshow": {
     "slide_type": "-"
    }
   },
   "outputs": [],
   "source": [
    "save((old_kmeans_cls, old_gmm_cls, old_char_kmeans_cls, old_char_gmm_cls), \"2000-numclusters-old.pkl\")"
   ]
  }
 ],
 "metadata": {
  "kernelspec": {
   "display_name": "Python 3",
   "language": "python",
   "name": "python3"
  },
  "language_info": {
   "codemirror_mode": {
    "name": "ipython",
    "version": 3
   },
   "file_extension": ".py",
   "mimetype": "text/x-python",
   "name": "python",
   "nbconvert_exporter": "python",
   "pygments_lexer": "ipython3",
   "version": "3.7.0"
  },
  "name": "charcnn.ipynb"
 },
 "nbformat": 4,
 "nbformat_minor": 2
}

{
 "cells": [
  {
   "cell_type": "code",
   "execution_count": 1,
   "metadata": {},
   "outputs": [
    {
     "name": "stdout",
     "output_type": "stream",
     "text": [
      "/home/maarten/Documents/masterthesis/supervised\n"
     ]
    }
   ],
   "source": [
    "%cd supervised\n",
    "%load_ext autoreload\n",
    "%autoreload 2\n",
    "\n",
    "import data\n",
    "import train\n",
    "import evaluate\n",
    "import models\n",
    "import torch\n",
    "import seaborn as sns"
   ]
  },
  {
   "cell_type": "code",
   "execution_count": 12,
   "metadata": {},
   "outputs": [],
   "source": [
    "import pickle\n",
    "\n",
    "def save(data, fname):\n",
    "    with open(fname, 'wb') as f:\n",
    "        pickle.dump(data, f)\n",
    "    \n",
    "def load(fname):\n",
    "    with open(fname, 'rb') as f:\n",
    "        return pickle.load(f)"
   ]
  },
  {
   "cell_type": "code",
   "execution_count": 2,
   "metadata": {},
   "outputs": [
    {
     "name": "stderr",
     "output_type": "stream",
     "text": [
      "Creating dictionary: 100%|██████████| 17/17 [00:04<00:00,  4.21it/s]\n",
      "Creating dictionary: 100%|██████████| 17/17 [00:03<00:00,  5.39it/s]\n",
      "Creating dictionary: 100%|██████████| 17/17 [00:02<00:00,  5.78it/s]\n",
      "Creating dictionary: 100%|██████████| 17/17 [00:03<00:00,  5.08it/s]\n"
     ]
    }
   ],
   "source": [
    "dataset1, validset1, testset1 = evaluate.load_dataset(9, 0, 1, True)\n",
    "dataset2, validset2, testset2 = evaluate.load_dataset(9, 1, 1, True)"
   ]
  },
  {
   "cell_type": "code",
   "execution_count": 3,
   "metadata": {},
   "outputs": [
    {
     "name": "stdout",
     "output_type": "stream",
     "text": [
      "Counter({22: 3890})\n",
      "Counter({33: 3890})\n"
     ]
    }
   ],
   "source": [
    "import numpy as np\n",
    "from collections import Counter\n",
    "print(Counter(np.shape(s.clusters_gmm)[1] for s in dataset1))\n",
    "print(Counter(np.shape(s.clusters_gmm)[1] for s in dataset2))"
   ]
  },
  {
   "cell_type": "code",
   "execution_count": 4,
   "metadata": {},
   "outputs": [],
   "source": [
    "assert(len([d.label for d in dataset1 if np.all(d.label == 1)])\n",
    "       ==len([d.label for d in dataset1 if np.all(d.label == 0)]))\n",
    "\n",
    "for d1, d2 in zip(dataset1, dataset2):\n",
    "    assert(np.all([w in d2.X_words for w in np.nditer(d1.X_words)]))\n",
    "    assert(np.all([w in d2.X_chars for w in np.nditer(d1.X_chars)]))\n",
    "    assert(np.all(d1.label == d2.label))"
   ]
  },
  {
   "cell_type": "markdown",
   "metadata": {},
   "source": [
    "# Training size, full cross validation"
   ]
  },
  {
   "cell_type": "code",
   "execution_count": null,
   "metadata": {
    "collapsed": true
   },
   "outputs": [],
   "source": [
    "# main test\n",
    "\n",
    "window_size = 2\n",
    "num_clusters = 9\n",
    "dataset, validset = load_dataset(num_clusters, window_size)\n",
    "\n",
    "params = train.CNNParams(\n",
    "    embed_size=100,\n",
    "    dropout=0.5,\n",
    "    epochs=100,\n",
    "    filters=[(33, 3), (33, 5), (33, 7)],\n",
    "    num_layers=1,\n",
    "    max_norm=3,\n",
    ")\n",
    "\n",
    "optim_fn = lambda p: torch.optim.Adadelta(p)\n",
    "model_fns = [lambda r: models.NoClusterLabels(r, params.dropout),\n",
    "             lambda r: models.CategoricalClusterLabels(r, num_clusters, window_size, params.dropout)]\n",
    "#             lambda r: models.CategoricalClusterLabels(r, num_clusters, window_size, params.dropout)]\n",
    "\n",
    "baseline = {}\n",
    "kmeans = {}\n",
    "gmm = {}\n",
    "\n",
    "for n in [50, 100, 400, 800, 1200, 1600, 2000, 2400]:\n",
    "    values = evaluate.cross_val(10, n, model_fns, [False, False], optim_fn, dataset, params,\n",
    "                                early_stopping=10,\n",
    "                                validation_set=validset,\n",
    "                                testset=None)\n",
    "    baseline[n] = [v[0] for v in values]\n",
    "    kmeans[n] = [v[1] for v in values]\n",
    "#    gmm[n] = [v[2] for v in values]"
   ]
  },
  {
   "cell_type": "code",
   "execution_count": null,
   "metadata": {
    "collapsed": true
   },
   "outputs": [],
   "source": [
    "d = {s: {'Baseline': baseline[s],\n",
    "         'K-Means': kmeans[s],\n",
    "#         'Mixture model': gmm[s],\n",
    "        }\n",
    "    for s in baseline.keys()\n",
    "}\n",
    "evaluate.analyze_tseries(d, 'number of training samples', 'model', '../report/figures/results/main_window4_oldtest')\n",
    "evaluate.analyze_size(d, 'number of samples', 'model', '../report/figures/results/main_window4_oldtest')"
   ]
  },
  {
   "cell_type": "code",
   "execution_count": null,
   "metadata": {
    "collapsed": true,
    "scrolled": true
   },
   "outputs": [],
   "source": [
    "evaluate.analyze_wrapper(baseline, kmeans, None, 'model', '../report/figures/results/main_window4_data_oldtest')\n",
    "#evaluate.analyze_wrapper(baseline, kmeans, gmm, 'model')"
   ]
  },
  {
   "cell_type": "markdown",
   "metadata": {},
   "source": [
    "# Training size, older test set"
   ]
  },
  {
   "cell_type": "code",
   "execution_count": 28,
   "metadata": {},
   "outputs": [
    {
     "name": "stderr",
     "output_type": "stream",
     "text": [
      "Creating dictionary: 100%|██████████| 17/17 [00:03<00:00,  5.01it/s]\n",
      "Creating dictionary: 100%|██████████| 17/17 [00:03<00:00,  4.67it/s]\n",
      "\n",
      "  0%|          | 0/5 [00:00<?, ?it/s]\u001b[A"
     ]
    },
    {
     "name": "stdout",
     "output_type": "stream",
     "text": [
      "[1355  856  137 1095   94 3299 2805 1877 2139 1223 3200 3517 3846  417\n",
      " 2882 2871 3233  782 3175  654 3246 3137 2587 1996  548 2657  239   57\n",
      "  799 1676  765 2039  964 1883 3045 1530 1085  577 1894  269 3329 3330\n",
      " 2829 1357  423 2550 1313 1783 3268 3645 3828 1343 1315 2077  552 3413\n",
      " 1613 2519 3779 1153  142 2875 1274 2426 2814 1352  860 2206  353 2469\n",
      "  790 2827   53 1816 2510 1712 1574 2005 2413 2460 1103 1180 2316  817\n",
      " 3488 2226  684 3694 1006 1392  453 2704  467 3648  580  928  569  648\n",
      "  608 2553]\n",
      "100 training samples, 1132 testing samples\n"
     ]
    },
    {
     "name": "stderr",
     "output_type": "stream",
     "text": [
      "Training:  44%|████▍     | 89/200 [00:11<00:14,  7.48it/s, f1=0.91, Δf1=0]         \n",
      "Training:  57%|█████▋    | 114/200 [00:14<00:11,  7.63it/s, f1=0.916, Δf1=0]       \n",
      "Training:  15%|█▌        | 30/200 [00:03<00:22,  7.66it/s, f1=0.902, Δf1=-0.00196]\n",
      "Training:  17%|█▋        | 34/200 [00:05<00:24,  6.66it/s, f1=0.666, Δf1=-0.0913]\n",
      "Training:  10%|█         | 20/200 [00:02<00:26,  6.72it/s, f1=0.803, Δf1=-0.0591] \n",
      "Training:  12%|█▏        | 24/200 [00:03<00:27,  6.46it/s, f1=0.81, Δf1=-0.0227]\n",
      "\n",
      " 20%|██        | 1/5 [00:47<03:11, 47.92s/it]\u001b[A"
     ]
    },
    {
     "name": "stdout",
     "output_type": "stream",
     "text": [
      "[1320 2238 1835 3685 1745 3385 3032 1474 3205 1181 1131 3050 1524 3440\n",
      " 1976  445 1811 3004  882 1959 2730 2083 2082 1223 1797  353 1988  656\n",
      "  471 2589 1958  711 3868 2952   38  758 1350  394  475 1232 2147 2049\n",
      " 2123 2875 3298 2880 2293 2536 2329 2543  272  681  582 1434 3258 1941\n",
      " 3031  773 1307 3110 1761 1733 2981 2154 1974 1040 2164  890 3206  728\n",
      "   30 2685  740 1081 1280 2274 3351 2778 2383 3411 2906 3220   41 1796\n",
      " 3073 1896 3668 2963 2707  647 2760  281 1977 3880 3289 2190   84 1497\n",
      " 3515 3879]\n"
     ]
    },
    {
     "name": "stderr",
     "output_type": "stream",
     "text": [
      "Training:  24%|██▍       | 49/200 [00:06<00:19,  7.70it/s, f1=0.916, Δf1=-0.000367]\n",
      "Training:  14%|█▍        | 29/200 [00:04<00:24,  7.12it/s, f1=0.93, Δf1=-0.000451]\n",
      "Training:  34%|███▍      | 69/200 [00:09<00:17,  7.46it/s, f1=0.922, Δf1=0]        \n",
      "Training:  20%|██        | 40/200 [00:06<00:24,  6.60it/s, f1=0.78, Δf1=-0.00185]\n",
      "Training:  10%|█         | 20/200 [00:03<00:27,  6.63it/s, f1=0.854, Δf1=-0.00111]\n",
      "Training:   7%|▋         | 14/200 [00:02<00:30,  6.20it/s, f1=0.806, Δf1=0]     \n",
      "\n",
      " 40%|████      | 2/5 [01:24<02:06, 42.23s/it]\u001b[A"
     ]
    },
    {
     "name": "stdout",
     "output_type": "stream",
     "text": [
      "[3855 2939 2051 2630 2708  606  754 2410 1675 1297 1069 3060  819 1480\n",
      " 1027 2649 2568 3621 3464 2490  683 1947 1833 1141 2754 3015 1775 1956\n",
      " 3813  228 1328 1706  613 1099  192 1822  625 2327  791 3637  920 1659\n",
      " 3074 2061 2042 1292 2850 3648 2727 2820 2790 1343 2595  485 3105  401\n",
      " 1356 2980 1154 3199  609 3842 3694 3611 1056 3652  988 1759 3634 2726\n",
      "  971 3332  914 3677 1048 1816  205 2087 3791  949 3180  669 1656  123\n",
      " 2906 1689  627  496 1000 3478  456 3639 1623 1342 2329 2877  195  405\n",
      " 3768  139]\n"
     ]
    },
    {
     "name": "stderr",
     "output_type": "stream",
     "text": [
      "Training:  22%|██▎       | 45/200 [00:06<00:20,  7.42it/s, f1=0.907, Δf1=0]        \n",
      "Training:  20%|█▉        | 39/200 [00:05<00:21,  7.40it/s, f1=0.912, Δf1=-0.000165]\n",
      "Training:  34%|███▍      | 69/200 [00:09<00:17,  7.34it/s, f1=0.905, Δf1=0]       \n",
      "Training:  15%|█▌        | 30/200 [00:04<00:25,  6.54it/s, f1=0.762, Δf1=-0.00319]\n",
      "Training:   4%|▍         | 8/200 [00:01<00:35,  5.46it/s, f1=0.829, Δf1=-0.00246]\n",
      "Training:  20%|██        | 40/200 [00:06<00:24,  6.64it/s, f1=0.849, Δf1=-0.00214]\n",
      "\n",
      " 60%|██████    | 3/5 [02:02<01:21, 40.90s/it]\u001b[A"
     ]
    },
    {
     "name": "stdout",
     "output_type": "stream",
     "text": [
      "[3697  969  122  796  704 3519  961  910 1702  355 1921 2555 1865  510\n",
      "  632  785 3297 2324  421 1403  406  106 1076  426  681 1682 2731 3594\n",
      "  948  379 3626 1941 2021  710 3399  461 3183  963 2604  675 2350 1046\n",
      " 2916  601  633 2591 1096  981 1037 3126 3026 1065 3464 1266 3815  321\n",
      " 1487 3468 1359 2062 2998  721 3634  142 2614  477 3785 2967 1012  276\n",
      " 1835 1048 2558 3791 1091 2364 1577  781 2333  437 1218 1495 1634 2910\n",
      "  247 2130 2627 1948 2292 3750 1481 1512 3261 2841 1243 2238 1176  331\n",
      " 3355 2226]\n"
     ]
    },
    {
     "name": "stderr",
     "output_type": "stream",
     "text": [
      "Training:  30%|██▉       | 59/200 [00:07<00:18,  7.45it/s, f1=0.904, Δf1=-0.000535]\n",
      "Training:  14%|█▍        | 28/200 [00:04<00:25,  6.84it/s, f1=0.912, Δf1=-0.000352]\n",
      "Training:  32%|███▏      | 64/200 [00:08<00:18,  7.40it/s, f1=0.892, Δf1=-0.00052]\n",
      "Training:  15%|█▌        | 30/200 [00:04<00:25,  6.66it/s, f1=0.771, Δf1=-0.000433]\n",
      "Training:  10%|█         | 20/200 [00:02<00:26,  6.77it/s, f1=0.857, Δf1=-0.00109]\n",
      "Training:   5%|▌         | 10/200 [00:01<00:28,  6.61it/s, f1=0.817, Δf1=-0.00872]\n",
      "\n",
      " 80%|████████  | 4/5 [02:37<00:39, 39.49s/it]\u001b[A"
     ]
    },
    {
     "name": "stdout",
     "output_type": "stream",
     "text": [
      "[1958 1526  237 2074   98 3248 2899 2158 2897 1057 2942   74 2563 3875\n",
      " 1842 2479 1827 1694 3345 3801 2265 3726  276 2309 2378 3230 1986  780\n",
      " 3767 1390 3442 3251  216   75 2065 2199 1870 3322  342  249  182  495\n",
      "  535 1910 2275 3734  604  576  946 1901   72  956 3315 2025 2805 2779\n",
      " 3190  338  827  990 1548  996 1552 2390 2450 3477   94 3626 1210  921\n",
      " 2721 2547 2919 1062  816 2333 3431 1682 2638 3775 2932 1834 2717 1978\n",
      "  152 2081   27 3290 2500 1718 1800 2593  413 3396 2368 2040 3077 2794\n",
      "   47  347]\n"
     ]
    },
    {
     "name": "stderr",
     "output_type": "stream",
     "text": [
      "Training:  14%|█▍        | 29/200 [00:04<00:23,  7.17it/s, f1=0.933, Δf1=-0.000603]\n",
      "Training:  24%|██▍       | 48/200 [00:06<00:21,  7.21it/s, f1=0.882, Δf1=-0.000231]\n",
      "Training:  22%|██▏       | 44/200 [00:05<00:21,  7.41it/s, f1=0.874, Δf1=-0.000367]\n",
      "Training:  22%|██▏       | 44/200 [00:06<00:23,  6.56it/s, f1=0.777, Δf1=-0.006]  \n",
      "Training:  17%|█▋        | 34/200 [00:05<00:25,  6.55it/s, f1=0.859, Δf1=-0.00852]\n",
      "Training:   8%|▊         | 15/200 [00:02<00:27,  6.77it/s, f1=0.814, Δf1=-0.00619]\n",
      "\n",
      "100%|██████████| 5/5 [03:14<00:00, 38.85s/it]\u001b[A\n",
      "Creating dictionary: 100%|██████████| 17/17 [00:03<00:00,  4.99it/s]\n",
      "Creating dictionary: 100%|██████████| 17/17 [00:03<00:00,  4.46it/s]\n",
      "\n",
      "  0%|          | 0/5 [00:00<?, ?it/s]\u001b[A"
     ]
    },
    {
     "name": "stdout",
     "output_type": "stream",
     "text": [
      "[1006 1816 1173  453 3737 1233 1647 1621 1290   92 3566 1479 3517 3200\n",
      " 1355 1877 1454 2532  577   17 3757 1085    8 1274 3488  204  964 3299\n",
      " 3175 1894 1701 1848 3779 2149 3233  765 2077  232 1577 1530  236 3828\n",
      " 2580 2480  670  118   94 1996 2596 1095  517 2316 1676 1678 2300 1263\n",
      "  185 1730  417 3648 2152 1153 3245 1343 1963 1763  947 1883 2829 3045\n",
      " 2017 1284  467 3594 3796 2567  548  239 2500   58 2814 3881  710 2704\n",
      " 3846  580 1303  146  423 2139 3236 1223 2882  684  782 2805 2553 2510\n",
      "  963 1449 2005 3137 1574 1925 2657 1315 2426 2413 3330 3329  269 2871\n",
      " 3142 2875 2550  869 2714 3401   57 2599 3669 1177 1712  137 3246 1352\n",
      "  569 2810 2214  726 3268 2627 1091 2160 3478 2837  799 3713 1426 1357\n",
      " 3123  648 2092  552 2501 3645 2469 1612 2228  856 3129 3716  150 1313\n",
      " 1783 3795  142 1214  654 1613 2150  599 2587  556 3053  860 2206 1570\n",
      " 1412  790 2827   53 3752 2519  532  285 2460 1103 1180  394  817 2226\n",
      " 2039  353  506 1592 3694 2735 1392 2279 3054 1767 3290 2391  928 3663\n",
      " 3731  608 3413 2924]\n",
      "200 training samples, 1132 testing samples\n"
     ]
    },
    {
     "name": "stderr",
     "output_type": "stream",
     "text": [
      "Training:  18%|█▊        | 35/200 [00:05<00:27,  5.92it/s, f1=0.951, Δf1=-0.000705]\n",
      "Training:  22%|██▏       | 44/200 [00:07<00:27,  5.73it/s, f1=0.956, Δf1=-0.000136]\n",
      "Training:  20%|██        | 40/200 [00:06<00:27,  5.87it/s, f1=0.961, Δf1=0]       \n",
      "Training:  15%|█▌        | 30/200 [00:05<00:33,  5.13it/s, f1=0.777, Δf1=-0.000102]\n",
      "Training:  20%|██        | 40/200 [00:07<00:31,  5.08it/s, f1=0.851, Δf1=-0.0351] \n",
      "Training:  14%|█▍        | 29/200 [00:05<00:34,  4.93it/s, f1=0.846, Δf1=-0.00426]\n",
      "\n",
      " 20%|██        | 1/5 [00:45<03:03, 45.87s/it]\u001b[A"
     ]
    },
    {
     "name": "stdout",
     "output_type": "stream",
     "text": [
      "[2034 3603 2562 1624 2568  876 2199 1738 3049 2555 1437 1684 2893 2678\n",
      " 2424 2410  942 1046 3206   30 3255 3788  185 2451  855 3702 1257 2528\n",
      " 2443 2379 2362 3762 3036 3130 2083 1634  650 1574 1341 1833 2303 1717\n",
      "  575 2198  382 1968  554  813  503  569 3521 3381  136 1610 3490 1062\n",
      "  471  490 3239  969 2138 2898  728   84 2951 2552 2321 1444 3295 2348\n",
      " 3328 2792 3453 1263  342 2723 2753 1349 2646 1273  900  498 3541  162\n",
      " 1696  428 3095  961 1718 3155 1767 2846 3118 3561 1510 1147  534 1889\n",
      "  182 3044  239 3042 1786 1526 1104 1156  541 2650  465 1811  276 2238\n",
      " 3112 3115  890 3846 3726 1230 3691 1407 1578 3344  615  773  882 3406\n",
      "   63 1374 1096 1827 3218 1685 2488 2675 3129 3610  586 1617  663 2213\n",
      " 2925   41   38   16 3477  798  353 2737 3172  520 2574  999 2529 2053\n",
      " 1201 3755 1212 1482 2978  480 1085 3156 1539 1645 3761 1567 3475 1448\n",
      "  948 1823  475 2075 2299 1886  899 1318 3145 2647 3605 1040 3176  938\n",
      "  941 3108 2799 3774 2290 2336 3136  445 1232 3479 2868  786 1573 1762\n",
      " 2054 3084 2297 1148]\n"
     ]
    },
    {
     "name": "stderr",
     "output_type": "stream",
     "text": [
      "Training:  28%|██▊       | 55/200 [00:09<00:24,  5.89it/s, f1=0.93, Δf1=-0.00191]  \n",
      "Training:  22%|██▎       | 45/200 [00:07<00:26,  5.81it/s, f1=0.947, Δf1=0]        \n",
      "Training:  38%|███▊      | 75/200 [00:12<00:21,  5.81it/s, f1=0.927, Δf1=0]        \n",
      "Training:  18%|█▊        | 35/200 [00:06<00:32,  5.05it/s, f1=0.778, Δf1=-0.00121]\n",
      "Training:  12%|█▎        | 25/200 [00:04<00:34,  5.04it/s, f1=0.87, Δf1=-0.00451]\n",
      "Training:  45%|████▌     | 90/200 [00:17<00:21,  5.07it/s, f1=0.877, Δf1=-0.00292] \n",
      "\n",
      " 40%|████      | 2/5 [01:51<02:46, 55.61s/it]\u001b[A"
     ]
    },
    {
     "name": "stdout",
     "output_type": "stream",
     "text": [
      "[1436 1552 3671 1514 3551 2220  509 2271  622 1268 3108 3441 3269  373\n",
      "  613  688 2257 3085  400  273 2098 1928 3626 1171 1753 1031 3557 2494\n",
      "  192 1899  331 1350 1069 1008 1768 1032   93 3308  355  943  920 2046\n",
      " 3384 2549 2099  383 1476 3116 1498 3077 3277 2559 2940 1559  120 1949\n",
      "  600 3086 3162 1631 1462 2229 2736 3589 1415 3114 2127 2156 1256 1757\n",
      "  468 1617  975  338 3522  700 1202 2864 3447  456 3263  242 2891  998\n",
      " 3811 2215 3072 1309 2065 1388 2223  722 2264  139 2708 1185  597 3617\n",
      " 1085 2580  857  842  667 3668 1956  754 2816 1059  847 2376  574 2050\n",
      " 2022 2411   18  508 3365 3241 1052 2551 1470  611 2043 2890  423 2105\n",
      "  596 3292  195 2114 1980 2442   51  205  686 1586 3151 1335 1503 1058\n",
      " 3111 2198 1267 2832 3113 1488 3270 2994 3018 3344  416 1620 2799 1805\n",
      " 1015 1475 3730 3470 2715  752 1100  228 1963 3452 2780 2214  851 3060\n",
      " 2817 1166 2755 3706 1831 2242 2751  707 2233  988 2124  374 3832 2833\n",
      " 1623 3519  959 2007 1319 3879  708 2019 3807 3379 3177 2846 2341 3009\n",
      " 3030 1520 1724 1089]\n"
     ]
    },
    {
     "name": "stderr",
     "output_type": "stream",
     "text": [
      "Training:  42%|████▎     | 85/200 [00:14<00:19,  5.82it/s, f1=0.902, Δf1=0]        \n",
      "Training:  32%|███▎      | 65/200 [00:11<00:23,  5.83it/s, f1=0.923, Δf1=0]        \n",
      "Training:  20%|██        | 40/200 [00:06<00:27,  5.80it/s, f1=0.909, Δf1=-0.000436]\n",
      "Training:  14%|█▍        | 29/200 [00:06<00:35,  4.78it/s, f1=0.767, Δf1=-0.00946]\n",
      "Training:  12%|█▏        | 24/200 [00:04<00:35,  4.92it/s, f1=0.858, Δf1=-0.000917]\n",
      "Training:  15%|█▌        | 30/200 [00:05<00:33,  5.07it/s, f1=0.798, Δf1=-0.0393]\n",
      "\n",
      " 60%|██████    | 3/5 [02:46<01:51, 55.52s/it]\u001b[A"
     ]
    },
    {
     "name": "stdout",
     "output_type": "stream",
     "text": [
      "[2723 3866 2010  765  595  647 1845  430  154 2326 2078 3699  182 3752\n",
      "  633 3363  309 2889  579 2133 3634 1418  519 3132  549 2299 3001 3468\n",
      " 1838 1778 2305 3300  841  695  878 2096  114   86 3584  796  620 3021\n",
      " 2507 3403 2064 2520 3393 3285 2954 1532  256  653 2823 2162 3201  542\n",
      " 2873 2241 1375 3374 2929 3810 1028  691  645  411  331   90 3037 2038\n",
      "   91 1228 1009 1359 2763 2630 2990 2559 1186 1804 3737 1695  235 2828\n",
      "  815 1135  474 2647  634 1674  996 1941 1362 1139 1388 3828 2062 3025\n",
      " 1027 1332 3475 2209 3251 1438 2276 1729  453 1762 1245 2109 3619  584\n",
      " 3742 1953 2680 2271 1580  758 2805 2600 3782 1740 1229 2718  566 3805\n",
      "  631 1960 3754 1049 2342 3686 3299  690 3566 3883 1300  668 1266  942\n",
      "  445  268 2706  973 3718 2781 1219  740 1307  321 3518 3367  517 1278\n",
      " 1456 2150 1224 3364 3215 1666 2568  590 2574 3413 1395 2733 1113 1760\n",
      "  247 2713 2266  876    6    9 3077  521  400 2360 2356  607 1783  797\n",
      " 3387 1090 1966  848 1615 3260 3064 2788  225 3323 2974  721 2067 3846\n",
      " 3629  626 2411 2764]\n"
     ]
    },
    {
     "name": "stderr",
     "output_type": "stream",
     "text": [
      "Training:  28%|██▊       | 55/200 [00:09<00:25,  5.77it/s, f1=0.927, Δf1=0]        \n",
      "Training:  15%|█▌        | 30/200 [00:05<00:29,  5.73it/s, f1=0.948, Δf1=-5.06e-05]\n",
      "Training:  22%|██▎       | 45/200 [00:07<00:26,  5.78it/s, f1=0.949, Δf1=0]       \n",
      "Training:  15%|█▌        | 30/200 [00:05<00:33,  5.03it/s, f1=0.777, Δf1=-0.000736]\n",
      "Training:   8%|▊         | 15/200 [00:02<00:36,  5.11it/s, f1=0.844, Δf1=-0.0161]\n",
      "Training:  18%|█▊        | 35/200 [00:06<00:32,  5.13it/s, f1=0.832, Δf1=-0.016]  \n",
      "\n",
      " 80%|████████  | 4/5 [03:30<00:52, 52.63s/it]\u001b[A"
     ]
    },
    {
     "name": "stdout",
     "output_type": "stream",
     "text": [
      "[2904    3 1710  812  143 1304 3563 3106 3241  330 2442 3160 3711 3783\n",
      " 3078  967 3773  823  273  566 3800 3401 2382 2288  515 1450 2172  368\n",
      " 1890 1579  836 2580 3264  276 3614 3531 1366  943  514 1388 3585 3119\n",
      " 2783 2624 3024 3725 3626   67 1784 2687 1900 2918 1655  596 3000  946\n",
      "  380  565  409 3739 2677  370 1406  758 3624 1444 3102 1972 1290 3353\n",
      " 1577 2645 3548 2978 1142 3580 3775 1863 3566  602 2886 3179 1997  358\n",
      " 3208 3182 2187 1440  347 2887 1047 1046 1228 3149  735  392 1820 2611\n",
      " 2990 1072 1232  578 2308 3071 2291 1231 1301 1733 2833 3707   72 1508\n",
      " 2776 2943 2889 1269 2514  853 1783 1572 2304 2789 3858  132 3131  216\n",
      " 2734 1679  549 1136 2314 2792 1592 1928 1627 3881 2561 1634  340 2626\n",
      " 2509 1839  229 1881 2195 1641  888  307 3357  873 3199 1938 1946 3430\n",
      "  525  194 1375 1924 2963 3719 2958 2606 2973 3255 3148  835 1081 2850\n",
      " 2949 3666 2175 3769 1456 3840 1048  422 2422 2047 2882 3857 2496  489\n",
      " 1623 2313 2657 1176  342 3088 1763 1171  838 3458  816 2036  469  264\n",
      " 2084   75 1738 2259]\n"
     ]
    },
    {
     "name": "stderr",
     "output_type": "stream",
     "text": [
      "Training:  22%|██▎       | 45/200 [00:07<00:26,  5.84it/s, f1=0.934, Δf1=-0.000462]\n",
      "Training:  40%|████      | 80/200 [00:13<00:20,  5.86it/s, f1=0.913, Δf1=-8.62e-05]\n",
      "Training:  25%|██▌       | 50/200 [00:08<00:25,  5.92it/s, f1=0.934, Δf1=-0.000515]\n",
      "Training:  12%|█▎        | 25/200 [00:04<00:34,  5.05it/s, f1=0.756, Δf1=-0.0169]\n",
      "Training:   5%|▌         | 10/200 [00:01<00:36,  5.17it/s, f1=0.847, Δf1=-0.000997]\n",
      "Training:  10%|█         | 20/200 [00:03<00:34,  5.19it/s, f1=0.835, Δf1=-0.0111]\n",
      "\n",
      "100%|██████████| 5/5 [04:16<00:00, 51.36s/it]\u001b[A\n",
      "\u001b[A"
     ]
    }
   ],
   "source": [
    "params = train.CNNParams(\n",
    "    embed_size=100,\n",
    "    dropout=0.5,\n",
    "    epochs=200,\n",
    "    filters=[(33, 3), (33, 5), (33, 7)],\n",
    "    num_layers=1,\n",
    "    max_norm=3,\n",
    ")\n",
    "\n",
    "char_params = train.CharCNNParams(\n",
    "    dropout=0.5,\n",
    "    epochs=200,\n",
    "    max_norm=3,\n",
    ")\n",
    "\n",
    "num_clusters = 9\n",
    "window_size = (0, 1)\n",
    "k = 5\n",
    "\n",
    "#old_baseline_s = {}\n",
    "#old_kmeans_s = {}\n",
    "#old_gmm_s = {}\n",
    "#old_char_baseline_s = {}\n",
    "#old_char_kmeans_s = {}\n",
    "#old_char_gmm_s = {}\n",
    "\n",
    "\n",
    "for training_size in [100, 200]:\n",
    "    optim_fn = lambda p: torch.optim.Adadelta(p)\n",
    "    model_fns = [\n",
    "        lambda r: models.NoClusterLabels(r, params.dropout),\n",
    "        lambda r: models.CategoricalClusterLabels(r, num_clusters, sum(window_size) + 1, params.dropout),\n",
    "        lambda r: models.CategoricalClusterLabels(r, 11, sum(window_size) + 1, params.dropout),\n",
    "        lambda r: models.NoClusterLabels(r, params.dropout),\n",
    "        lambda r: models.CategoricalClusterLabels(r, num_clusters, sum(window_size) + 1, char_params.dropout),\n",
    "        lambda r: models.CategoricalClusterLabels(r, 11, sum(window_size) + 1, char_params.dropout),\n",
    "    ]\n",
    "\n",
    "    dataset, validset, testset = evaluate.load_dataset(num_clusters, window_size[0], window_size[1], True)\n",
    "    splitter = evaluate.StratifiedShuffleSplit(\n",
    "        n_splits=k,\n",
    "        train_size=training_size,\n",
    "        test_size=None,\n",
    "        random_state=100,\n",
    "    )\n",
    "\n",
    "    splitter.random_state = 100\n",
    "    values = evaluate.cross_val(k, splitter, model_fns, [False, False, True, False, False, True], optim_fn,\n",
    "                                dataset,\n",
    "                                params=[params, params, params, char_params, char_params, char_params, char_params],\n",
    "                                early_stopping=2,\n",
    "                                validation_set=validset,\n",
    "                                batch_size=128,\n",
    "                                testset=testset)\n",
    "    \n",
    "    old_baseline_s[training_size] = [v[0] for v in values]\n",
    "    old_kmeans_s[training_size] = [v[1] for v in values]\n",
    "    old_gmm_s[training_size] = [v[2] for v in values]\n",
    "    old_char_baseline_s[training_size] = [v[3] for v in values]\n",
    "    old_char_kmeans_s[training_size] = [v[4] for v in values]\n",
    "    old_char_gmm_s[training_size] = [v[5] for v in values]"
   ]
  },
  {
   "cell_type": "code",
   "execution_count": 38,
   "metadata": {},
   "outputs": [
    {
     "name": "stderr",
     "output_type": "stream",
     "text": [
      "/usr/lib/python3.6/site-packages/seaborn/timeseries.py:183: UserWarning: The tsplot function is deprecated and will be removed or replaced (in a substantially altered version) in a future release.\n",
      "  warnings.warn(msg, UserWarning)\n"
     ]
    },
    {
     "data": {
      "image/png": "[encoded data removed]",
      "text/plain": [
       "<matplotlib.figure.Figure at 0x7fdd31068550>"
      ]
     },
     "metadata": {},
     "output_type": "display_data"
    }
   ],
   "source": [
    "import seaborn as sns\n",
    "d = {\n",
    "    \"WordCNN\": {\n",
    "        s: {\n",
    "            'K-Means': old_kmeans_s[s],\n",
    "            'Infinite Mixture Model': old_gmm_s[s],\n",
    "            'Baseline': old_baseline_s[s],\n",
    "        }\n",
    "        for s in old_kmeans_s.keys()\n",
    "    },\n",
    "    \"CharCNN\": {\n",
    "        s: {\n",
    "            'K-Means': old_char_kmeans_s[s],\n",
    "            'Infinite Mixture Model': old_char_gmm_s[s],\n",
    "            'Baseline': old_char_baseline_s[s],\n",
    "        }\n",
    "        for s in old_kmeans_s.keys()\n",
    "    }\n",
    "}\n",
    "\n",
    "with sns.axes_style(\"darkgrid\"):\n",
    "    #evaluate.analyze_cnns(d, \"window_size\", \"model\")\n",
    "    evaluate.analyze_cnns(d, \"num. training samples\", \"model\", \"../report/figures/results/training-size-old\")"
   ]
  },
  {
   "cell_type": "code",
   "execution_count": 33,
   "metadata": {},
   "outputs": [],
   "source": [
    "save((old_baseline_s, old_kmeans_s, old_gmm_s, old_char_baseline_s, old_char_kmeans_s, old_char_gmm_s), \"training-size-old.pkl\")"
   ]
  },
  {
   "cell_type": "markdown",
   "metadata": {},
   "source": [
    "# Window size, full cross validation"
   ]
  },
  {
   "cell_type": "code",
   "execution_count": 34,
   "metadata": {},
   "outputs": [
    {
     "name": "stderr",
     "output_type": "stream",
     "text": [
      "Creating dictionary:  71%|█████████████████████████████████████████████▉                   | 12/17 [00:02<00:01,  4.92it/s]\n"
     ]
    },
    {
     "ename": "KeyboardInterrupt",
     "evalue": "",
     "output_type": "error",
     "traceback": [
      "\u001b[1;31m---------------------------------------------------------------------------\u001b[0m",
      "\u001b[1;31mKeyboardInterrupt\u001b[0m                         Traceback (most recent call last)",
      "\u001b[1;32m<ipython-input-34-36be9aa7b663>\u001b[0m in \u001b[0;36m<module>\u001b[1;34m()\u001b[0m\n\u001b[0;32m     29\u001b[0m \u001b[1;32mfor\u001b[0m \u001b[0mwindow_size\u001b[0m \u001b[1;32min\u001b[0m \u001b[1;33m[\u001b[0m\u001b[1;36m1\u001b[0m\u001b[1;33m]\u001b[0m\u001b[1;33m:\u001b[0m\u001b[1;33m\u001b[0m\u001b[0m\n\u001b[0;32m     30\u001b[0m     \u001b[0mnum_clusters\u001b[0m \u001b[1;33m=\u001b[0m \u001b[1;36m9\u001b[0m\u001b[1;33m\u001b[0m\u001b[0m\n\u001b[1;32m---> 31\u001b[1;33m     \u001b[0mdataset\u001b[0m\u001b[1;33m,\u001b[0m \u001b[0mvalidset\u001b[0m \u001b[1;33m=\u001b[0m \u001b[0mevaluate\u001b[0m\u001b[1;33m.\u001b[0m\u001b[0mload_dataset\u001b[0m\u001b[1;33m(\u001b[0m\u001b[0mnum_clusters\u001b[0m\u001b[1;33m,\u001b[0m \u001b[0mwindow_size\u001b[0m\u001b[1;33m)\u001b[0m\u001b[1;33m\u001b[0m\u001b[0m\n\u001b[0m\u001b[0;32m     32\u001b[0m \u001b[1;33m\u001b[0m\u001b[0m\n\u001b[0;32m     33\u001b[0m     values = evaluate.cross_val(5, 1600, model_fns, [False, False, False, False], optim_fn, dataset,\n",
      "\u001b[1;32mC:\\Users\\mdejo\\Documents\\Projects\\Masterthesis\\supervised\\evaluate.py\u001b[0m in \u001b[0;36mload_dataset\u001b[1;34m(num_clusters, num_before, num_after, old_test)\u001b[0m\n\u001b[0;32m    515\u001b[0m         \u001b[1;36m11\u001b[0m\u001b[1;33m,\u001b[0m\u001b[1;33m\u001b[0m\u001b[0m\n\u001b[0;32m    516\u001b[0m         \u001b[0mnum_before\u001b[0m\u001b[1;33m,\u001b[0m\u001b[1;33m\u001b[0m\u001b[0m\n\u001b[1;32m--> 517\u001b[1;33m         \u001b[0mnum_after\u001b[0m\u001b[1;33m,\u001b[0m\u001b[1;33m\u001b[0m\u001b[0m\n\u001b[0m\u001b[0;32m    518\u001b[0m     )\n\u001b[0;32m    519\u001b[0m     \u001b[0mword_vocab\u001b[0m \u001b[1;33m=\u001b[0m \u001b[0mvocab_set\u001b[0m\u001b[1;33m.\u001b[0m\u001b[0mword_vocab\u001b[0m\u001b[1;33m\u001b[0m\u001b[0m\n",
      "\u001b[1;32mC:\\Users\\mdejo\\Documents\\Projects\\Masterthesis\\supervised\\data.py\u001b[0m in \u001b[0;36m__init__\u001b[1;34m(self, files, gmm_files, num_clusterlabels, num_gmm_clusters, window_before, window_after, word_vocab, char_vocab, bag_of_words)\u001b[0m\n\u001b[0;32m    141\u001b[0m     ) -> None:\n\u001b[0;32m    142\u001b[0m         self.word_vocab = (\n\u001b[1;32m--> 143\u001b[1;33m             \u001b[0mcreate_dictionary\u001b[0m\u001b[1;33m(\u001b[0m\u001b[0mfiles\u001b[0m\u001b[1;33m,\u001b[0m \u001b[1;32mFalse\u001b[0m\u001b[1;33m)\u001b[0m \u001b[1;32mif\u001b[0m \u001b[1;32mnot\u001b[0m \u001b[0mword_vocab\u001b[0m \u001b[1;32melse\u001b[0m \u001b[0mword_vocab\u001b[0m\u001b[1;33m\u001b[0m\u001b[0m\n\u001b[0m\u001b[0;32m    144\u001b[0m         )\n\u001b[0;32m    145\u001b[0m         self.char_vocab = (\n",
      "\u001b[1;32mC:\\Users\\mdejo\\Documents\\Projects\\Masterthesis\\supervised\\data.py\u001b[0m in \u001b[0;36mcreate_dictionary\u001b[1;34m(paths, char_tokens)\u001b[0m\n\u001b[0;32m    441\u001b[0m     \u001b[1;32mfor\u001b[0m \u001b[0mpath\u001b[0m \u001b[1;32min\u001b[0m \u001b[0mtqdm\u001b[0m\u001b[1;33m(\u001b[0m\u001b[0mpaths\u001b[0m\u001b[1;33m,\u001b[0m \u001b[0mdesc\u001b[0m\u001b[1;33m=\u001b[0m\u001b[1;34m\"Creating dictionary\"\u001b[0m\u001b[1;33m)\u001b[0m\u001b[1;33m:\u001b[0m\u001b[1;33m\u001b[0m\u001b[0m\n\u001b[0;32m    442\u001b[0m         \u001b[0mxml\u001b[0m \u001b[1;33m=\u001b[0m \u001b[0mload_xml_from_disk\u001b[0m\u001b[1;33m(\u001b[0m\u001b[0mpath\u001b[0m\u001b[1;33m)\u001b[0m\u001b[1;33m\u001b[0m\u001b[0m\n\u001b[1;32m--> 443\u001b[1;33m         \u001b[0mtext\u001b[0m \u001b[1;33m=\u001b[0m \u001b[1;34m\" \"\u001b[0m\u001b[1;33m.\u001b[0m\u001b[0mjoin\u001b[0m\u001b[1;33m(\u001b[0m\u001b[0mxml\u001b[0m\u001b[1;33m.\u001b[0m\u001b[0mxpath\u001b[0m\u001b[1;33m(\u001b[0m\u001b[1;34m\"/pdf2xml/page/text/text()\"\u001b[0m\u001b[1;33m)\u001b[0m\u001b[1;33m)\u001b[0m\u001b[1;33m.\u001b[0m\u001b[0mlower\u001b[0m\u001b[1;33m(\u001b[0m\u001b[1;33m)\u001b[0m\u001b[1;33m\u001b[0m\u001b[0m\n\u001b[0m\u001b[0;32m    444\u001b[0m         \u001b[1;32mif\u001b[0m \u001b[0mchar_tokens\u001b[0m\u001b[1;33m:\u001b[0m\u001b[1;33m\u001b[0m\u001b[0m\n\u001b[0;32m    445\u001b[0m             \u001b[0mtokens\u001b[0m \u001b[1;33m=\u001b[0m \u001b[1;33m[\u001b[0m\u001b[0mchar\u001b[0m \u001b[1;32mfor\u001b[0m \u001b[0mtoken\u001b[0m \u001b[1;32min\u001b[0m \u001b[0mtokenizer\u001b[0m\u001b[1;33m.\u001b[0m\u001b[0mtokenize\u001b[0m\u001b[1;33m(\u001b[0m\u001b[0mtext\u001b[0m\u001b[1;33m)\u001b[0m \u001b[1;32mfor\u001b[0m \u001b[0mchar\u001b[0m \u001b[1;32min\u001b[0m \u001b[0mtoken\u001b[0m\u001b[1;33m]\u001b[0m\u001b[1;33m\u001b[0m\u001b[0m\n",
      "\u001b[1;31mKeyboardInterrupt\u001b[0m: "
     ]
    }
   ],
   "source": [
    "params = train.CNNParams(\n",
    "    embed_size=100,\n",
    "    dropout=0.5,\n",
    "    epochs=100,\n",
    "    filters=[(33, 3), (33, 5), (33, 7)],\n",
    "    num_layers=1,\n",
    "    max_norm=3,\n",
    ")\n",
    "\n",
    "char_params = train.CharCNNParams(\n",
    "    dropout=0.5,\n",
    "    epochs=100,\n",
    "    max_norm=3,\n",
    ")\n",
    "\n",
    "#optim_fn = lambda p: torch.optim.Adadelta(p)\n",
    "optim_fn = lambda p: torch.optim.Adam(p, weight_decay=0.0001)\n",
    "model_fns = [lambda r: models.NoClusterLabels(r, params.dropout),\n",
    "             lambda r: models.CategoricalClusterLabels(r, num_clusters, window_size, params.dropout),\n",
    "             \n",
    "             lambda r: models.NoClusterLabels(r, char_params.dropout),\n",
    "             lambda r: models.CategoricalClusterLabels(r, num_clusters, window_size, char_params.dropout)]\n",
    "    \n",
    "#baseline = {}\n",
    "#kmeans = {}\n",
    "#char_baseline = {}\n",
    "#char_kmeans = {}\n",
    "\n",
    "for window_size in [1]:\n",
    "    num_clusters = 9\n",
    "    dataset, validset = evaluate.load_dataset(num_clusters, window_size)\n",
    "\n",
    "    values = evaluate.cross_val(5, 1600, model_fns, [False, False, False, False], optim_fn, dataset,\n",
    "                                params=[params, params, char_params, char_params],\n",
    "                                early_stopping=10,\n",
    "                                validation_set=None,\n",
    "                                batch_size=128,\n",
    "                                testset=None)\n",
    "    baseline[window_size] = [v[0] for v in values]\n",
    "    kmeans[window_size] = [v[1] for v in values]\n",
    "    char_baseline[window_size] = [v[2] for v in values]\n",
    "    char_kmeans[window_size] = [v[3] for v in values]"
   ]
  },
  {
   "cell_type": "code",
   "execution_count": null,
   "metadata": {
    "collapsed": true
   },
   "outputs": [],
   "source": [
    "d = {\n",
    "    \"WordCNN\": {\n",
    "        s: {\n",
    "            'Baseline': baseline[s],\n",
    "            'K-Means': kmeans[s],\n",
    "        }\n",
    "        for s in baseline.keys()\n",
    "    },\n",
    "    \"CharCNN\": {\n",
    "        s: {\n",
    "            'Baseline': char_baseline[s],\n",
    "            'K-Means': char_kmeans[s],\n",
    "        }\n",
    "        for s in baseline.keys()\n",
    "    }\n",
    "}\n",
    "#evaluate.analyze_tseries(d, 'window size', 'model')\n",
    "evaluate.analyze_cnns(d, \"window size\", \"model\", \"../report/figures/results/1600-windowsize\")"
   ]
  },
  {
   "cell_type": "markdown",
   "metadata": {},
   "source": [
    "# Window size, older testset"
   ]
  },
  {
   "cell_type": "code",
   "execution_count": 9,
   "metadata": {},
   "outputs": [
    {
     "name": "stderr",
     "output_type": "stream",
     "text": [
      "\n",
      "Creating dictionary:   0%|          | 0/17 [00:00<?, ?it/s]\u001b[A\n",
      "Creating dictionary:  12%|█▏        | 2/17 [00:00<00:00, 16.06it/s]\u001b[A\n",
      "Creating dictionary:  18%|█▊        | 3/17 [00:00<00:01,  8.33it/s]\u001b[A\n",
      "Creating dictionary:  29%|██▉       | 5/17 [00:00<00:01,  8.18it/s]\u001b[A\n",
      "Creating dictionary:  41%|████      | 7/17 [00:00<00:01,  8.66it/s]\u001b[A\n",
      "Creating dictionary:  47%|████▋     | 8/17 [00:01<00:01,  6.31it/s]\u001b[A\n",
      "Creating dictionary:  53%|█████▎    | 9/17 [00:01<00:01,  5.99it/s]\u001b[A\n",
      "Creating dictionary:  59%|█████▉    | 10/17 [00:01<00:01,  6.16it/s]\u001b[A\n",
      "Creating dictionary:  65%|██████▍   | 11/17 [00:01<00:01,  5.97it/s]\u001b[A\n",
      "Creating dictionary:  71%|███████   | 12/17 [00:02<00:00,  5.39it/s]Exception in thread Thread-18:\n",
      "Traceback (most recent call last):\n",
      "  File \"/usr/lib/python3.6/threading.py\", line 916, in _bootstrap_inner\n",
      "    self.run()\n",
      "  File \"/usr/lib/python3.6/site-packages/tqdm/_tqdm.py\", line 148, in run\n",
      "    for instance in self.tqdm_cls._instances:\n",
      "  File \"/usr/lib/python3.6/_weakrefset.py\", line 60, in __iter__\n",
      "    for itemref in self.data:\n",
      "RuntimeError: Set changed size during iteration\n",
      "\n",
      "Creating dictionary: 100%|██████████| 17/17 [00:03<00:00,  5.15it/s]\n",
      "Creating dictionary: 100%|██████████| 17/17 [00:03<00:00,  4.52it/s]\n",
      "\n",
      "  0%|          | 0/5 [00:00<?, ?it/s]\u001b[A"
     ]
    },
    {
     "name": "stdout",
     "output_type": "stream",
     "text": [
      "[2131  725 1801 ...  260 3341 1694]\n",
      "2000 training samples, 1132 testing samples\n"
     ]
    },
    {
     "name": "stderr",
     "output_type": "stream",
     "text": [
      "Training:  12%|█▎        | 25/200 [00:18<02:06,  1.39it/s, f1=0.906, Δf1=-0.00742]\n",
      "Training:  18%|█▊        | 35/200 [00:28<02:13,  1.24it/s, f1=0.916, Δf1=-0.00302] \n",
      "\n",
      " 20%|██        | 1/5 [00:49<03:18, 49.51s/it]\u001b[A"
     ]
    },
    {
     "name": "stdout",
     "output_type": "stream",
     "text": [
      "[3442 1761 2281 ...  231 1316 2548]\n"
     ]
    },
    {
     "name": "stderr",
     "output_type": "stream",
     "text": [
      "Training:  12%|█▎        | 25/200 [00:19<02:13,  1.31it/s, f1=0.904, Δf1=-0.00147]\n",
      "Training:  20%|██        | 40/200 [00:31<02:07,  1.26it/s, f1=0.901, Δf1=-0.0131] \n",
      "\n",
      " 40%|████      | 2/5 [01:43<02:35, 51.72s/it]\u001b[A"
     ]
    },
    {
     "name": "stdout",
     "output_type": "stream",
     "text": [
      "[  10  683 2628 ... 1125 1557 3658]\n"
     ]
    },
    {
     "name": "stderr",
     "output_type": "stream",
     "text": [
      "Training:   5%|▌         | 10/200 [00:07<02:16,  1.39it/s, f1=0.903, Δf1=-0.00231]\n",
      "Training:  10%|█         | 20/200 [00:15<02:23,  1.25it/s, f1=0.905, Δf1=-0.013] \n",
      "\n",
      " 60%|██████    | 3/5 [02:09<01:26, 43.16s/it]\u001b[A"
     ]
    },
    {
     "name": "stdout",
     "output_type": "stream",
     "text": [
      "[2362 3138 1297 ...  205 2287 1247]\n"
     ]
    },
    {
     "name": "stderr",
     "output_type": "stream",
     "text": [
      "Training:  10%|█         | 20/200 [00:14<02:10,  1.38it/s, f1=0.898, Δf1=-0.00137]\n",
      "Training:  18%|█▊        | 35/200 [00:28<02:15,  1.22it/s, f1=0.901, Δf1=-0.00789]\n",
      "\n",
      " 80%|████████  | 4/5 [02:55<00:43, 43.91s/it]\u001b[A"
     ]
    },
    {
     "name": "stdout",
     "output_type": "stream",
     "text": [
      "[3690 3243 2192 ... 2801 1146 2757]\n"
     ]
    },
    {
     "name": "stderr",
     "output_type": "stream",
     "text": [
      "Training:   5%|▌         | 10/200 [00:07<02:15,  1.40it/s, f1=0.882, Δf1=-0.0109]\n",
      "Training:  10%|█         | 20/200 [00:15<02:19,  1.29it/s, f1=0.905, Δf1=-0.0113]\n",
      "\n",
      "100%|██████████| 5/5 [03:21<00:00, 40.27s/it]\u001b[A\n",
      "Creating dictionary: 100%|██████████| 17/17 [00:03<00:00,  5.16it/s]\n",
      "Creating dictionary: 100%|██████████| 17/17 [00:03<00:00,  4.49it/s]\n",
      "\n",
      "  0%|          | 0/5 [00:00<?, ?it/s]\u001b[A"
     ]
    },
    {
     "name": "stdout",
     "output_type": "stream",
     "text": [
      "[2131  725 1801 ...  260 3341 1694]\n",
      "2000 training samples, 1132 testing samples\n"
     ]
    },
    {
     "name": "stderr",
     "output_type": "stream",
     "text": [
      "Training:   8%|▊         | 15/200 [00:13<02:42,  1.14it/s, f1=0.954, Δf1=-0.00518]\n",
      "Training:  15%|█▌        | 30/200 [00:29<02:44,  1.03it/s, f1=0.945, Δf1=-0.00395]\n",
      "\n",
      " 20%|██        | 1/5 [00:45<03:02, 45.62s/it]\u001b[A"
     ]
    },
    {
     "name": "stdout",
     "output_type": "stream",
     "text": [
      "[3442 1761 2281 ...  231 1316 2548]\n"
     ]
    },
    {
     "name": "stderr",
     "output_type": "stream",
     "text": [
      "Training:  12%|█▎        | 25/200 [00:21<02:28,  1.18it/s, f1=0.936, Δf1=-0.000696]\n",
      "Training:  18%|█▊        | 35/200 [00:36<02:52,  1.05s/it, f1=0.967, Δf1=-0.000924]\n",
      "\n",
      " 40%|████      | 2/5 [01:47<02:40, 53.55s/it]\u001b[A"
     ]
    },
    {
     "name": "stdout",
     "output_type": "stream",
     "text": [
      "[  10  683 2628 ... 1125 1557 3658]\n"
     ]
    },
    {
     "name": "stderr",
     "output_type": "stream",
     "text": [
      "Training:  20%|██        | 40/200 [00:34<02:19,  1.15it/s, f1=0.945, Δf1=-0.000314]\n",
      "Training:  22%|██▎       | 45/200 [00:46<02:40,  1.03s/it, f1=0.956, Δf1=-0.000492]\n",
      "\n",
      " 60%|██████    | 3/5 [03:11<02:07, 63.97s/it]\u001b[A"
     ]
    },
    {
     "name": "stdout",
     "output_type": "stream",
     "text": [
      "[2362 3138 1297 ...  205 2287 1247]\n"
     ]
    },
    {
     "name": "stderr",
     "output_type": "stream",
     "text": [
      "Training:  18%|█▊        | 35/200 [00:29<02:21,  1.17it/s, f1=0.947, Δf1=-0.000568]\n",
      "Training:  15%|█▌        | 30/200 [00:30<02:55,  1.03s/it, f1=0.939, Δf1=-0.00285]\n",
      "\n",
      " 80%|████████  | 4/5 [04:16<01:04, 64.07s/it]\u001b[A"
     ]
    },
    {
     "name": "stdout",
     "output_type": "stream",
     "text": [
      "[3690 3243 2192 ... 2801 1146 2757]\n"
     ]
    },
    {
     "name": "stderr",
     "output_type": "stream",
     "text": [
      "Training:  20%|██        | 40/200 [00:33<02:15,  1.18it/s, f1=0.955, Δf1=-0.000516]\n",
      "Training:  28%|██▊       | 55/200 [00:55<02:25,  1.00s/it, f1=0.951, Δf1=-4.92e-05]\n",
      "\n",
      "100%|██████████| 5/5 [05:49<00:00, 69.80s/it]\u001b[A\n",
      "Creating dictionary: 100%|██████████| 17/17 [00:03<00:00,  4.27it/s]\n",
      "Creating dictionary: 100%|██████████| 17/17 [00:04<00:00,  4.03it/s]\n",
      "\n",
      "  0%|          | 0/5 [00:00<?, ?it/s]\u001b[A"
     ]
    },
    {
     "name": "stdout",
     "output_type": "stream",
     "text": [
      "[2131  725 1801 ...  260 3341 1694]\n",
      "2000 training samples, 1132 testing samples\n"
     ]
    },
    {
     "name": "stderr",
     "output_type": "stream",
     "text": [
      "Training:  10%|█         | 20/200 [00:18<02:50,  1.06it/s, f1=0.959, Δf1=-0.000162]\n",
      "Training:  18%|█▊        | 35/200 [00:40<03:12,  1.17s/it, f1=0.924, Δf1=-0.00271]\n",
      "\n",
      " 20%|██        | 1/5 [01:03<04:14, 63.63s/it]\u001b[A"
     ]
    },
    {
     "name": "stdout",
     "output_type": "stream",
     "text": [
      "[3442 1761 2281 ...  231 1316 2548]\n"
     ]
    },
    {
     "name": "stderr",
     "output_type": "stream",
     "text": [
      "Training:  12%|█▎        | 25/200 [00:22<02:37,  1.11it/s, f1=0.949, Δf1=-0.000877]\n",
      "Training:  18%|█▊        | 35/200 [00:42<03:19,  1.21s/it, f1=0.943, Δf1=-0.00163]\n",
      "\n",
      " 40%|████      | 2/5 [02:12<03:18, 66.20s/it]\u001b[A"
     ]
    },
    {
     "name": "stdout",
     "output_type": "stream",
     "text": [
      "[  10  683 2628 ... 1125 1557 3658]\n"
     ]
    },
    {
     "name": "stderr",
     "output_type": "stream",
     "text": [
      "Training:  12%|█▎        | 25/200 [00:24<02:49,  1.03it/s, f1=0.948, Δf1=-0.00149]\n",
      "Training:  18%|█▊        | 35/200 [00:42<03:20,  1.21s/it, f1=0.936, Δf1=-0.00495]\n",
      "\n",
      " 60%|██████    | 3/5 [03:22<02:15, 67.63s/it]\u001b[A"
     ]
    },
    {
     "name": "stdout",
     "output_type": "stream",
     "text": [
      "[2362 3138 1297 ...  205 2287 1247]\n"
     ]
    },
    {
     "name": "stderr",
     "output_type": "stream",
     "text": [
      "Training:  12%|█▎        | 25/200 [00:23<02:45,  1.06it/s, f1=0.954, Δf1=-0.000725]\n",
      "Training:  22%|██▎       | 45/200 [00:55<03:11,  1.23s/it, f1=0.949, Δf1=-0.000438]\n",
      "\n",
      " 80%|████████  | 4/5 [04:45<01:11, 71.49s/it]\u001b[A"
     ]
    },
    {
     "name": "stdout",
     "output_type": "stream",
     "text": [
      "[3690 3243 2192 ... 2801 1146 2757]\n"
     ]
    },
    {
     "name": "stderr",
     "output_type": "stream",
     "text": [
      "Training:   8%|▊         | 15/200 [00:14<02:53,  1.06it/s, f1=0.95, Δf1=-0.00264]\n",
      "Training:  20%|██        | 40/200 [00:49<03:18,  1.24s/it, f1=0.936, Δf1=-0.000133]\n",
      "\n",
      "100%|██████████| 5/5 [05:53<00:00, 70.73s/it]\u001b[A\n",
      "Creating dictionary: 100%|██████████| 17/17 [00:03<00:00,  4.32it/s]\n",
      "Creating dictionary: 100%|██████████| 17/17 [00:04<00:00,  3.97it/s]\n",
      "\n",
      "  0%|          | 0/5 [00:00<?, ?it/s]\u001b[A"
     ]
    },
    {
     "name": "stdout",
     "output_type": "stream",
     "text": [
      "[2131  725 1801 ...  260 3341 1694]\n",
      "2000 training samples, 1132 testing samples\n"
     ]
    },
    {
     "name": "stderr",
     "output_type": "stream",
     "text": [
      "Training:  10%|█         | 20/200 [00:20<03:03,  1.02s/it, f1=0.966, Δf1=-0.0077]\n",
      "Training:  20%|██        | 40/200 [00:55<03:42,  1.39s/it, f1=0.923, Δf1=-0.00364]\n",
      "\n",
      " 20%|██        | 1/5 [01:20<05:20, 80.15s/it]\u001b[A"
     ]
    },
    {
     "name": "stdout",
     "output_type": "stream",
     "text": [
      "[3442 1761 2281 ...  231 1316 2548]\n"
     ]
    },
    {
     "name": "stderr",
     "output_type": "stream",
     "text": [
      "Training:  25%|██▌       | 50/200 [00:50<02:31,  1.01s/it, f1=0.967, Δf1=-0.000925]\n",
      "Training:  15%|█▌        | 30/200 [00:40<03:51,  1.36s/it, f1=0.889, Δf1=-0.00622]\n",
      "\n",
      " 40%|████      | 2/5 [02:55<04:23, 87.82s/it]\u001b[A"
     ]
    },
    {
     "name": "stdout",
     "output_type": "stream",
     "text": [
      "[  10  683 2628 ... 1125 1557 3658]\n"
     ]
    },
    {
     "name": "stderr",
     "output_type": "stream",
     "text": [
      "Training:   8%|▊         | 15/200 [00:14<03:01,  1.02it/s, f1=0.959, Δf1=-0.00114]\n",
      "Training:  18%|█▊        | 35/200 [00:47<03:44,  1.36s/it, f1=0.922, Δf1=-0.00315]\n",
      "\n",
      " 60%|██████    | 3/5 [04:02<02:41, 80.74s/it]\u001b[A"
     ]
    },
    {
     "name": "stdout",
     "output_type": "stream",
     "text": [
      "[2362 3138 1297 ...  205 2287 1247]\n"
     ]
    },
    {
     "name": "stderr",
     "output_type": "stream",
     "text": [
      "Training:  18%|█▊        | 35/200 [00:36<02:50,  1.03s/it, f1=0.963, Δf1=-0.000479]\n",
      "Training:  18%|█▊        | 35/200 [00:49<03:55,  1.42s/it, f1=0.926, Δf1=-0.00677]\n",
      "\n",
      " 80%|████████  | 4/5 [05:32<01:23, 83.14s/it]\u001b[A"
     ]
    },
    {
     "name": "stdout",
     "output_type": "stream",
     "text": [
      "[3690 3243 2192 ... 2801 1146 2757]\n"
     ]
    },
    {
     "name": "stderr",
     "output_type": "stream",
     "text": [
      "Training:  10%|█         | 20/200 [00:21<03:09,  1.05s/it, f1=0.965, Δf1=-0.000959]\n",
      "Training:  25%|██▌       | 50/200 [01:08<03:26,  1.38s/it, f1=0.916, Δf1=-0.00104]\n",
      "\n",
      "100%|██████████| 5/5 [07:06<00:00, 85.35s/it]\u001b[A\n",
      "Creating dictionary: 100%|██████████| 17/17 [00:04<00:00,  4.19it/s]\n",
      "Creating dictionary: 100%|██████████| 17/17 [00:03<00:00,  4.57it/s]\n",
      "\n",
      "  0%|          | 0/5 [00:00<?, ?it/s]\u001b[A"
     ]
    },
    {
     "name": "stdout",
     "output_type": "stream",
     "text": [
      "[2131  725 1801 ...  260 3341 1694]\n",
      "2000 training samples, 1132 testing samples\n"
     ]
    },
    {
     "name": "stderr",
     "output_type": "stream",
     "text": [
      "Training:  10%|█         | 20/200 [00:20<03:06,  1.03s/it, f1=0.956, Δf1=-0.000994]\n",
      "Training:  12%|█▎        | 25/200 [00:38<04:32,  1.56s/it, f1=0.89, Δf1=-0.0202] \n",
      "\n",
      " 20%|██        | 1/5 [01:04<04:16, 64.22s/it]\u001b[A"
     ]
    },
    {
     "name": "stdout",
     "output_type": "stream",
     "text": [
      "[3442 1761 2281 ...  231 1316 2548]\n"
     ]
    },
    {
     "name": "stderr",
     "output_type": "stream",
     "text": [
      "Training:  10%|█         | 20/200 [00:20<03:08,  1.05s/it, f1=0.953, Δf1=-0.00436]\n",
      "Training:  25%|██▌       | 50/200 [01:15<03:47,  1.52s/it, f1=0.891, Δf1=-0.00202]\n",
      "\n",
      " 40%|████      | 2/5 [02:45<04:08, 82.83s/it]\u001b[A"
     ]
    },
    {
     "name": "stdout",
     "output_type": "stream",
     "text": [
      "[  10  683 2628 ... 1125 1557 3658]\n"
     ]
    },
    {
     "name": "stderr",
     "output_type": "stream",
     "text": [
      "Training:  10%|█         | 20/200 [00:20<03:00,  1.00s/it, f1=0.934, Δf1=-0.0167]\n",
      "Training:  18%|█▊        | 35/200 [00:52<04:06,  1.49s/it, f1=0.876, Δf1=-0.0265]\n",
      "\n",
      " 60%|██████    | 3/5 [04:02<02:41, 80.83s/it]\u001b[A"
     ]
    },
    {
     "name": "stdout",
     "output_type": "stream",
     "text": [
      "[2362 3138 1297 ...  205 2287 1247]\n"
     ]
    },
    {
     "name": "stderr",
     "output_type": "stream",
     "text": [
      "Training:   8%|▊         | 15/200 [00:15<03:05,  1.00s/it, f1=0.954, Δf1=-0.00248]\n",
      "Training:  20%|██        | 40/200 [00:59<03:57,  1.48s/it, f1=0.897, Δf1=-0.0221] \n",
      "\n",
      " 80%|████████  | 4/5 [05:21<01:20, 80.39s/it]\u001b[A"
     ]
    },
    {
     "name": "stdout",
     "output_type": "stream",
     "text": [
      "[3690 3243 2192 ... 2801 1146 2757]\n"
     ]
    },
    {
     "name": "stderr",
     "output_type": "stream",
     "text": [
      "Training:   8%|▊         | 15/200 [00:16<03:26,  1.12s/it, f1=0.956, Δf1=-0.000642]\n",
      "Training:  20%|██        | 40/200 [01:00<04:03,  1.52s/it, f1=0.904, Δf1=-0.0014]\n",
      "\n",
      "100%|██████████| 5/5 [06:43<00:00, 80.77s/it]\u001b[A\n",
      "\u001b[A"
     ]
    }
   ],
   "source": [
    "params = train.CNNParams(\n",
    "    embed_size=100,\n",
    "    dropout=0.5,\n",
    "    epochs=200,\n",
    "    filters=[(33, 3), (33, 5), (33, 7)],\n",
    "    num_layers=1,\n",
    "    max_norm=3,\n",
    ")\n",
    "\n",
    "char_params = train.CharCNNParams(\n",
    "    dropout=0.5,\n",
    "    epochs=200,\n",
    "    max_norm=3,\n",
    ")\n",
    "\n",
    "num_clusters = 9\n",
    "k = 5\n",
    "splitter = evaluate.StratifiedShuffleSplit(\n",
    "    n_splits=k,\n",
    "    train_size=2000,\n",
    "    test_size=None,\n",
    "    random_state=100,\n",
    ")\n",
    "\n",
    "#old_kmeans_w = {}\n",
    "#old_gmm_w = {}\n",
    "#old_char_kmeans_w = {}\n",
    "#old_char_gmm_w = {}\n",
    "old_baseline_w = {}\n",
    "old_char_baseline_w = {}\n",
    "\n",
    "for window_size in [(0, 0), (0, 1), (1, 1), (1, 2), (2, 2)]:\n",
    "    optim_fn = lambda p: torch.optim.Adadelta(p)\n",
    "#    model_fns = [\n",
    "#        lambda r: models.CategoricalClusterLabels(r, num_clusters, sum(window_size) + 1, params.dropout),\n",
    "#        lambda r: models.CategoricalClusterLabels(r, 11, sum(window_size) + 1, params.dropout),\n",
    "#        lambda r: models.CategoricalClusterLabels(r, num_clusters, sum(window_size) + 1, char_params.dropout),\n",
    "#        lambda r: models.CategoricalClusterLabels(r, 11, sum(window_size) + 1, char_params.dropout),\n",
    "#    ]\n",
    "    model_fns = [\n",
    "        lambda r: models.NoClusterLabels(r, params.dropout),\n",
    "        lambda r: models.NoClusterLabels(r, params.dropout)\n",
    "    ]\n",
    "    dataset, validset, testset = evaluate.load_dataset(num_clusters, window_size[0], window_size[1], True)\n",
    "\n",
    "    splitter.random_state = 100\n",
    "    values = evaluate.cross_val(k, splitter, model_fns, [False, False], optim_fn,\n",
    "                                dataset,\n",
    "                                params=[params, char_params],\n",
    "                                early_stopping=2,\n",
    "                                validation_set=validset,\n",
    "                                batch_size=128,\n",
    "                                testset=testset)\n",
    "    old_baseline[window_size] = [v[0] for v in values]\n",
    "    old_char_baseline[window_size] = [v[1] for v in values]\n",
    "    #old_char_kmeans_w[window_size] = [v[2] for v in values]\n",
    "    #old_char_gmm_w[window_size] = [v[3] for v in values]"
   ]
  },
  {
   "cell_type": "code",
   "execution_count": 37,
   "metadata": {},
   "outputs": [
    {
     "name": "stderr",
     "output_type": "stream",
     "text": [
      "/usr/lib/python3.6/site-packages/seaborn/timeseries.py:183: UserWarning: The tsplot function is deprecated and will be removed or replaced (in a substantially altered version) in a future release.\n",
      "  warnings.warn(msg, UserWarning)\n"
     ]
    },
    {
     "data": {
      "image/png": "[encoded data removed]",
      "text/plain": [
       "<matplotlib.figure.Figure at 0x7fdd398fa978>"
      ]
     },
     "metadata": {},
     "output_type": "display_data"
    }
   ],
   "source": [
    "d = {\n",
    "    \"WordCNN\": {\n",
    "        sum(s): {\n",
    "            'K-Means': old_kmeans_w[s],\n",
    "            'Infinite Mixture Model': old_gmm_w[s],\n",
    "            'Baseline': old_baseline[s],\n",
    "        }\n",
    "        for s in old_kmeans_w.keys()\n",
    "    },\n",
    "    \"CharCNN\": {\n",
    "        sum(s): {\n",
    "            'K-Means': old_char_kmeans_w[s],\n",
    "            'Infinite Mixture Model': old_char_gmm_w[s],\n",
    "            'Baseline': old_char_baseline[s],\n",
    "        }\n",
    "        for s in old_kmeans_w.keys()\n",
    "    }\n",
    "}\n",
    "#evaluate.analyze_cnns(d, \"window_size\", \"model\")\n",
    "evaluate.analyze_cnns(d, \"window size\", \"model\", \"../report/figures/results/2000-windowsize-old\")"
   ]
  },
  {
   "cell_type": "code",
   "execution_count": 13,
   "metadata": {},
   "outputs": [],
   "source": [
    "save((old_baseline, old_kmeans_w, old_gmm_w, old_char_baseline, old_char_kmeans_w, old_char_gmm_w), \"2000-windowsize-old.pkl\")"
   ]
  },
  {
   "cell_type": "markdown",
   "metadata": {},
   "source": [
    "# Number of clusters, full cross validation"
   ]
  },
  {
   "cell_type": "code",
   "execution_count": null,
   "metadata": {
    "collapsed": true
   },
   "outputs": [],
   "source": [
    "params = train.CNNParams(\n",
    "    embed_size=100,\n",
    "    dropout=0.5,\n",
    "    epochs=100,\n",
    "    filters=[(33, 3), (33, 5), (33, 7)],\n",
    "    num_layers=1,\n",
    "    max_norm=3,\n",
    ")\n",
    "\n",
    "optim_fn = lambda p: torch.optim.Adadelta(p)\n",
    "model_fns = [lambda r: models.CategoricalClusterLabels(r, num_clusters, window_size, params.dropout)]\n",
    "#             lambda r: models.CategoricalClusterLabels(r, num_clusters, window_size, params.dropout)]\n",
    "    \n",
    "kmeans = {}\n",
    "gmm = {}\n",
    "\n",
    "for num_clusters in [2, 3, 5, 7, 9, 15, 30]:\n",
    "    window_size = 5\n",
    "    dataset, validset = load_dataset(num_clusters, window_size)\n",
    "\n",
    "    values = evaluate.cross_val(10, 1200, model_fns, [False], optim_fn, dataset, params,\n",
    "                                early_stopping=10,\n",
    "                                validation_set=validset,\n",
    "                                testset=None)\n",
    "    kmeans[num_clusters] = [v[0] for v in values]\n",
    "    gmm[num_clusters] = [v[1] for v in values]"
   ]
  },
  {
   "cell_type": "code",
   "execution_count": null,
   "metadata": {
    "collapsed": true
   },
   "outputs": [],
   "source": [
    "d = {s: {'K-Means': kmeans[s],\n",
    "         #'Mixture model': gmm[s],\n",
    "        }\n",
    "    for s in kmeans.keys()\n",
    "}\n",
    "#evaluate.analyze_tseries(d, 'k', 'model')\n",
    "evaluate.analyze_size(d, 'k', 'model', '../report/figures/results/800-numcluster')\n",
    "evaluate.analyze_tseries(d, 'k', 'model', '../report/figures/results/800-numcluster')"
   ]
  },
  {
   "cell_type": "markdown",
   "metadata": {},
   "source": [
    "# Number of clusters on old training set"
   ]
  },
  {
   "cell_type": "code",
   "execution_count": 15,
   "metadata": {},
   "outputs": [
    {
     "name": "stderr",
     "output_type": "stream",
     "text": [
      "Creating dictionary: 100%|██████████| 17/17 [00:04<00:00,  3.88it/s]\n",
      "Creating dictionary: 100%|██████████| 17/17 [00:03<00:00,  4.55it/s]\n",
      "\n",
      "  0%|          | 0/5 [00:00<?, ?it/s]\u001b[A"
     ]
    },
    {
     "name": "stdout",
     "output_type": "stream",
     "text": [
      "[2131  725 1801 ...  260 3341 1694]\n",
      "2000 training samples, 1132 testing samples\n"
     ]
    },
    {
     "name": "stderr",
     "output_type": "stream",
     "text": [
      "Training:  20%|██        | 40/200 [00:32<02:10,  1.23it/s, f1=0.967, Δf1=-3.25e-05]\n",
      "Training:  15%|█▌        | 30/200 [00:24<02:18,  1.23it/s, f1=0.96, Δf1=0]       \n",
      "Training:  30%|███       | 60/200 [00:59<02:18,  1.01it/s, f1=0.951, Δf1=0]        \n",
      "Training:  55%|█████▌    | 110/200 [01:47<01:28,  1.02it/s, f1=0.944, Δf1=0]       \n",
      "\n",
      " 20%|██        | 1/5 [03:51<15:24, 231.11s/it]\u001b[A"
     ]
    },
    {
     "name": "stdout",
     "output_type": "stream",
     "text": [
      "[3442 1761 2281 ...  231 1316 2548]\n"
     ]
    },
    {
     "name": "stderr",
     "output_type": "stream",
     "text": [
      "Training:  18%|█▊        | 35/200 [00:28<02:13,  1.23it/s, f1=0.956, Δf1=0]       \n",
      "Training:  20%|██        | 40/200 [00:31<02:07,  1.26it/s, f1=0.964, Δf1=0]       \n",
      "Training:  12%|█▎        | 25/200 [00:23<02:45,  1.06it/s, f1=0.959, Δf1=-0.00925]\n",
      "Training:  15%|█▌        | 30/200 [00:28<02:43,  1.04it/s, f1=0.929, Δf1=-0.00773]\n",
      "\n",
      " 40%|████      | 2/5 [05:50<08:45, 175.18s/it]\u001b[A"
     ]
    },
    {
     "name": "stdout",
     "output_type": "stream",
     "text": [
      "[  10  683 2628 ... 1125 1557 3658]\n"
     ]
    },
    {
     "name": "stderr",
     "output_type": "stream",
     "text": [
      "Training:  12%|█▎        | 25/200 [00:19<02:19,  1.26it/s, f1=0.957, Δf1=-0.000871]\n",
      "Training:  10%|█         | 20/200 [00:15<02:20,  1.28it/s, f1=0.938, Δf1=-0.00514]\n",
      "Training:  18%|█▊        | 35/200 [00:33<02:38,  1.04it/s, f1=0.952, Δf1=-0.000631]\n",
      "Training:  15%|█▌        | 30/200 [00:28<02:42,  1.05it/s, f1=0.947, Δf1=-0.000382]\n",
      "\n",
      " 60%|██████    | 3/5 [07:34<05:03, 151.50s/it]\u001b[A"
     ]
    },
    {
     "name": "stdout",
     "output_type": "stream",
     "text": [
      "[2362 3138 1297 ...  205 2287 1247]\n"
     ]
    },
    {
     "name": "stderr",
     "output_type": "stream",
     "text": [
      "Training:  12%|█▎        | 25/200 [00:19<02:18,  1.26it/s, f1=0.953, Δf1=-0.000516]\n",
      "Training:   8%|▊         | 15/200 [00:11<02:24,  1.28it/s, f1=0.957, Δf1=-0.00324]\n",
      "Training:  18%|█▊        | 35/200 [00:33<02:37,  1.05it/s, f1=0.962, Δf1=-0.000265]\n",
      "Training:  12%|█▎        | 25/200 [00:23<02:46,  1.05it/s, f1=0.926, Δf1=-0.0193]\n",
      "\n",
      " 80%|████████  | 4/5 [09:09<02:17, 137.45s/it]\u001b[A"
     ]
    },
    {
     "name": "stdout",
     "output_type": "stream",
     "text": [
      "[3690 3243 2192 ... 2801 1146 2757]\n"
     ]
    },
    {
     "name": "stderr",
     "output_type": "stream",
     "text": [
      "Training:  10%|█         | 20/200 [00:15<02:22,  1.27it/s, f1=0.967, Δf1=-0.00226]\n",
      "Training:   8%|▊         | 15/200 [00:11<02:26,  1.26it/s, f1=0.954, Δf1=-0.00434]\n",
      "Training:  18%|█▊        | 35/200 [00:33<02:36,  1.05it/s, f1=0.962, Δf1=-6.96e-05]\n",
      "Training:  40%|████      | 80/200 [01:16<01:55,  1.04it/s, f1=0.963, Δf1=-0.000268]\n",
      "\n",
      "100%|██████████| 5/5 [11:33<00:00, 138.79s/it]\u001b[A\n",
      "Creating dictionary: 100%|██████████| 17/17 [00:04<00:00,  3.90it/s]\n",
      "Creating dictionary: 100%|██████████| 17/17 [00:03<00:00,  4.77it/s]\n",
      "\n",
      "  0%|          | 0/5 [00:00<?, ?it/s]\u001b[A"
     ]
    },
    {
     "name": "stdout",
     "output_type": "stream",
     "text": [
      "[2131  725 1801 ...  260 3341 1694]\n",
      "2000 training samples, 1132 testing samples\n"
     ]
    },
    {
     "name": "stderr",
     "output_type": "stream",
     "text": [
      "Training:   5%|▌         | 10/200 [00:07<02:30,  1.26it/s, f1=0.943, Δf1=-0.0125]\n",
      "Training:  10%|█         | 20/200 [00:15<02:22,  1.26it/s, f1=0.955, Δf1=-0.00048]\n",
      "Training:  18%|█▊        | 35/200 [00:33<02:36,  1.06it/s, f1=0.958, Δf1=-0.000498]\n",
      "Training:  18%|█▊        | 35/200 [00:33<02:37,  1.05it/s, f1=0.943, Δf1=-0.000426]\n",
      "\n",
      " 20%|██        | 1/5 [01:36<06:27, 96.78s/it]\u001b[A"
     ]
    },
    {
     "name": "stdout",
     "output_type": "stream",
     "text": [
      "[3442 1761 2281 ...  231 1316 2548]\n"
     ]
    },
    {
     "name": "stderr",
     "output_type": "stream",
     "text": [
      "Training:  28%|██▊       | 55/200 [00:43<01:55,  1.26it/s, f1=0.947, Δf1=-0.00934] \n",
      "Training:   8%|▊         | 15/200 [00:11<02:25,  1.27it/s, f1=0.949, Δf1=-0.00195]\n",
      "Training:  20%|██        | 40/200 [00:38<02:33,  1.04it/s, f1=0.94, Δf1=-0.000652]\n",
      "Training:  35%|███▌      | 70/200 [01:06<02:04,  1.05it/s, f1=0.939, Δf1=-0.00109]\n",
      "\n",
      " 40%|████      | 2/5 [04:24<06:36, 132.12s/it]\u001b[A"
     ]
    },
    {
     "name": "stdout",
     "output_type": "stream",
     "text": [
      "[  10  683 2628 ... 1125 1557 3658]\n"
     ]
    },
    {
     "name": "stderr",
     "output_type": "stream",
     "text": [
      "Training:  22%|██▎       | 45/200 [00:35<02:02,  1.27it/s, f1=0.96, Δf1=-3.99e-05] \n",
      "Training:  10%|█         | 20/200 [00:16<02:25,  1.23it/s, f1=0.945, Δf1=-0.00306]\n",
      "Training:  15%|█▌        | 30/200 [00:28<02:43,  1.04it/s, f1=0.938, Δf1=-0.0116]\n",
      "Training:  28%|██▊       | 55/200 [00:52<02:18,  1.05it/s, f1=0.953, Δf1=0]        \n",
      "\n",
      " 60%|██████    | 3/5 [06:43<04:29, 134.63s/it]\u001b[A"
     ]
    },
    {
     "name": "stdout",
     "output_type": "stream",
     "text": [
      "[2362 3138 1297 ...  205 2287 1247]\n"
     ]
    },
    {
     "name": "stderr",
     "output_type": "stream",
     "text": [
      "Training:  10%|█         | 20/200 [00:16<02:24,  1.24it/s, f1=0.967, Δf1=-0.000974]\n",
      "Training:   8%|▊         | 15/200 [00:12<02:29,  1.24it/s, f1=0.967, Δf1=-0.00428]\n",
      "Training:  25%|██▌       | 50/200 [00:47<02:23,  1.05it/s, f1=0.944, Δf1=0]       \n",
      "Training:  45%|████▌     | 90/200 [01:26<01:45,  1.04it/s, f1=0.945, Δf1=0]        \n",
      "\n",
      " 80%|████████  | 4/5 [09:32<02:23, 143.21s/it]\u001b[A"
     ]
    },
    {
     "name": "stdout",
     "output_type": "stream",
     "text": [
      "[3690 3243 2192 ... 2801 1146 2757]\n"
     ]
    },
    {
     "name": "stderr",
     "output_type": "stream",
     "text": [
      "Training:  22%|██▎       | 45/200 [00:35<02:02,  1.26it/s, f1=0.966, Δf1=-0.000843]\n",
      "Training:  10%|█         | 20/200 [00:15<02:20,  1.28it/s, f1=0.954, Δf1=-0.00055]\n",
      "Training:  25%|██▌       | 50/200 [00:47<02:22,  1.05it/s, f1=0.947, Δf1=0]        \n",
      "Training:  15%|█▌        | 30/200 [00:28<02:42,  1.05it/s, f1=0.956, Δf1=-0.00221]\n",
      "\n",
      "100%|██████████| 5/5 [11:46<00:00, 141.36s/it]\u001b[A\n",
      "Creating dictionary: 100%|██████████| 17/17 [00:04<00:00,  4.07it/s]\n",
      "Creating dictionary: 100%|██████████| 17/17 [00:03<00:00,  4.58it/s]\n",
      "\n",
      "  0%|          | 0/5 [00:00<?, ?it/s]\u001b[A"
     ]
    },
    {
     "name": "stdout",
     "output_type": "stream",
     "text": [
      "[2131  725 1801 ...  260 3341 1694]\n",
      "2000 training samples, 1132 testing samples\n"
     ]
    },
    {
     "name": "stderr",
     "output_type": "stream",
     "text": [
      "Training:  15%|█▌        | 30/200 [00:23<02:15,  1.26it/s, f1=0.96, Δf1=-0.00048] \n",
      "Training:   8%|▊         | 15/200 [00:12<02:28,  1.24it/s, f1=0.953, Δf1=-0.00141]\n",
      "Training:  12%|█▎        | 25/200 [00:24<02:48,  1.04it/s, f1=0.962, Δf1=-3.87e-05]\n",
      "Training:  30%|███       | 60/200 [00:57<02:13,  1.05it/s, f1=0.932, Δf1=0]       \n",
      "\n",
      " 20%|██        | 1/5 [02:04<08:16, 124.07s/it]\u001b[A"
     ]
    },
    {
     "name": "stdout",
     "output_type": "stream",
     "text": [
      "[3442 1761 2281 ...  231 1316 2548]\n"
     ]
    },
    {
     "name": "stderr",
     "output_type": "stream",
     "text": [
      "Training:  12%|█▎        | 25/200 [00:19<02:19,  1.26it/s, f1=0.971, Δf1=-0.000317]\n",
      "Training:   5%|▌         | 10/200 [00:07<02:31,  1.25it/s, f1=0.952, Δf1=-0.00538]\n",
      "Training:  18%|█▊        | 35/200 [00:33<02:36,  1.05it/s, f1=0.954, Δf1=-0.000495]\n",
      "Training:  32%|███▎      | 65/200 [01:02<02:09,  1.04it/s, f1=0.957, Δf1=0]        \n",
      "\n",
      " 40%|████      | 2/5 [04:13<06:20, 126.93s/it]\u001b[A"
     ]
    },
    {
     "name": "stdout",
     "output_type": "stream",
     "text": [
      "[  10  683 2628 ... 1125 1557 3658]\n"
     ]
    },
    {
     "name": "stderr",
     "output_type": "stream",
     "text": [
      "Training:  10%|█         | 20/200 [00:16<02:24,  1.25it/s, f1=0.96, Δf1=-0.00179]\n",
      "Training:  10%|█         | 20/200 [00:15<02:23,  1.25it/s, f1=0.954, Δf1=-0.00179]\n",
      "Training:  22%|██▎       | 45/200 [00:43<02:29,  1.04it/s, f1=0.954, Δf1=0]        \n",
      "Training:  45%|████▌     | 90/200 [01:26<01:46,  1.04it/s, f1=0.942, Δf1=0]        \n",
      "\n",
      " 60%|██████    | 3/5 [07:02<04:41, 140.84s/it]\u001b[A"
     ]
    },
    {
     "name": "stdout",
     "output_type": "stream",
     "text": [
      "[2362 3138 1297 ...  205 2287 1247]\n"
     ]
    },
    {
     "name": "stderr",
     "output_type": "stream",
     "text": [
      "Training:  12%|█▎        | 25/200 [00:19<02:16,  1.28it/s, f1=0.963, Δf1=-0.00308]\n",
      "Training:  15%|█▌        | 30/200 [00:23<02:14,  1.26it/s, f1=0.956, Δf1=-0.00052]\n",
      "Training:  12%|█▎        | 25/200 [00:24<02:48,  1.04it/s, f1=0.933, Δf1=-0.00668]\n",
      "Training:  48%|████▊     | 95/200 [01:31<01:41,  1.04it/s, f1=0.933, Δf1=0]       \n",
      "\n",
      " 80%|████████  | 4/5 [09:48<02:27, 147.00s/it]\u001b[A"
     ]
    },
    {
     "name": "stdout",
     "output_type": "stream",
     "text": [
      "[3690 3243 2192 ... 2801 1146 2757]\n"
     ]
    },
    {
     "name": "stderr",
     "output_type": "stream",
     "text": [
      "Training:  20%|██        | 40/200 [00:31<02:07,  1.25it/s, f1=0.963, Δf1=-0.00103] \n",
      "Training:   8%|▊         | 15/200 [00:11<02:24,  1.28it/s, f1=0.956, Δf1=-0.00501]\n",
      "Training:  20%|██        | 40/200 [00:38<02:33,  1.04it/s, f1=0.959, Δf1=0]       \n",
      "Training:  12%|█▎        | 25/200 [00:24<02:49,  1.03it/s, f1=0.952, Δf1=-0.000199]\n",
      "\n",
      "100%|██████████| 5/5 [11:40<00:00, 140.15s/it]\u001b[A\n",
      "Creating dictionary: 100%|██████████| 17/17 [00:04<00:00,  3.55it/s]\n",
      "Creating dictionary: 100%|██████████| 17/17 [00:03<00:00,  4.58it/s]\n",
      "\n",
      "  0%|          | 0/5 [00:00<?, ?it/s]\u001b[A"
     ]
    },
    {
     "name": "stdout",
     "output_type": "stream",
     "text": [
      "[2131  725 1801 ...  260 3341 1694]\n",
      "2000 training samples, 1132 testing samples\n"
     ]
    },
    {
     "name": "stderr",
     "output_type": "stream",
     "text": [
      "Training:  15%|█▌        | 30/200 [00:24<02:16,  1.24it/s, f1=0.961, Δf1=-0.00048]\n",
      "Training:  12%|█▎        | 25/200 [00:19<02:19,  1.25it/s, f1=0.963, Δf1=-0.000794]\n",
      "Training:  12%|█▎        | 25/200 [00:24<02:48,  1.04it/s, f1=0.959, Δf1=-0.00143]\n",
      "Training:  32%|███▎      | 65/200 [01:02<02:10,  1.04it/s, f1=0.942, Δf1=0]        \n",
      "\n",
      " 20%|██        | 1/5 [02:17<09:09, 137.29s/it]\u001b[A"
     ]
    },
    {
     "name": "stdout",
     "output_type": "stream",
     "text": [
      "[3442 1761 2281 ...  231 1316 2548]\n"
     ]
    },
    {
     "name": "stderr",
     "output_type": "stream",
     "text": [
      "Training:  10%|█         | 20/200 [00:16<02:25,  1.24it/s, f1=0.949, Δf1=-0.000913]\n",
      "Training:  15%|█▌        | 30/200 [00:24<02:16,  1.24it/s, f1=0.946, Δf1=-0.000952]\n",
      "Training:  18%|█▊        | 35/200 [00:33<02:38,  1.04it/s, f1=0.953, Δf1=0]       \n",
      "Training:  45%|████▌     | 90/200 [01:28<01:48,  1.02it/s, f1=0.927, Δf1=0]       \n",
      "\n",
      " 40%|████      | 2/5 [05:06<07:39, 153.20s/it]\u001b[A"
     ]
    },
    {
     "name": "stdout",
     "output_type": "stream",
     "text": [
      "[  10  683 2628 ... 1125 1557 3658]\n"
     ]
    },
    {
     "name": "stderr",
     "output_type": "stream",
     "text": [
      "Training:  10%|█         | 20/200 [00:16<02:30,  1.20it/s, f1=0.965, Δf1=-0.00285]\n",
      "Training:  10%|█         | 20/200 [00:16<02:31,  1.19it/s, f1=0.947, Δf1=-0.00159]\n",
      "Training:  18%|█▊        | 35/200 [00:35<02:46,  1.01s/it, f1=0.97, Δf1=-0.000496]\n",
      "Training:  48%|████▊     | 95/200 [01:34<01:44,  1.01it/s, f1=0.951, Δf1=0]        \n",
      "\n",
      " 60%|██████    | 3/5 [07:56<05:17, 158.84s/it]\u001b[A"
     ]
    },
    {
     "name": "stdout",
     "output_type": "stream",
     "text": [
      "[2362 3138 1297 ...  205 2287 1247]\n"
     ]
    },
    {
     "name": "stderr",
     "output_type": "stream",
     "text": [
      "Training:  10%|█         | 20/200 [00:17<02:39,  1.13it/s, f1=0.96, Δf1=-0.000842]\n",
      "Training:  10%|█         | 20/200 [00:16<02:31,  1.19it/s, f1=0.954, Δf1=-0.00218]\n",
      "Training:  12%|█▎        | 25/200 [00:25<02:57,  1.01s/it, f1=0.954, Δf1=-0.00177]\n",
      "Training:  35%|███▌      | 70/200 [01:10<02:10,  1.00s/it, f1=0.928, Δf1=0]        \n",
      "\n",
      " 80%|████████  | 4/5 [10:13<02:33, 153.34s/it]\u001b[A"
     ]
    },
    {
     "name": "stdout",
     "output_type": "stream",
     "text": [
      "[3690 3243 2192 ... 2801 1146 2757]\n"
     ]
    },
    {
     "name": "stderr",
     "output_type": "stream",
     "text": [
      "Training:   5%|▌         | 10/200 [00:08<02:33,  1.24it/s, f1=0.95, Δf1=-0.00145]\n",
      "Training:  10%|█         | 20/200 [00:16<02:25,  1.23it/s, f1=0.957, Δf1=-0.00302]\n",
      "Training:  15%|█▌        | 30/200 [00:29<02:46,  1.02it/s, f1=0.963, Δf1=-0.00121]\n",
      "Training:  12%|█▎        | 25/200 [00:24<02:49,  1.03it/s, f1=0.946, Δf1=-0.00286]\n",
      "\n",
      "100%|██████████| 5/5 [11:37<00:00, 139.53s/it]\u001b[A\n",
      "Creating dictionary: 100%|██████████| 17/17 [00:03<00:00,  4.84it/s]\n",
      "Creating dictionary: 100%|██████████| 17/17 [00:03<00:00,  4.66it/s]\n",
      "\n",
      "  0%|          | 0/5 [00:00<?, ?it/s]\u001b[A"
     ]
    },
    {
     "name": "stdout",
     "output_type": "stream",
     "text": [
      "[2131  725 1801 ...  260 3341 1694]\n",
      "2000 training samples, 1132 testing samples\n"
     ]
    },
    {
     "name": "stderr",
     "output_type": "stream",
     "text": [
      "Training:   5%|▌         | 10/200 [00:08<02:33,  1.24it/s, f1=0.947, Δf1=-0.00365]\n",
      "Training:  15%|█▌        | 30/200 [00:24<02:19,  1.22it/s, f1=0.955, Δf1=-4.42e-05]\n",
      "Training:  20%|██        | 40/200 [00:38<02:35,  1.03it/s, f1=0.948, Δf1=-0.000538]\n",
      "Training:  28%|██▊       | 55/200 [00:55<02:26,  1.01s/it, f1=0.945, Δf1=-0.000277]\n",
      "\n",
      " 20%|██        | 1/5 [02:13<08:55, 133.96s/it]\u001b[A"
     ]
    },
    {
     "name": "stdout",
     "output_type": "stream",
     "text": [
      "[3442 1761 2281 ...  231 1316 2548]\n"
     ]
    },
    {
     "name": "stderr",
     "output_type": "stream",
     "text": [
      "Training:  15%|█▌        | 30/200 [00:25<02:24,  1.18it/s, f1=0.958, Δf1=-0.000484]\n",
      "Training:  22%|██▎       | 45/200 [00:38<02:12,  1.17it/s, f1=0.953, Δf1=-0.000153]\n",
      "Training:  28%|██▊       | 55/200 [00:56<02:28,  1.02s/it, f1=0.951, Δf1=0]       \n",
      "Training:  10%|█         | 20/200 [00:20<03:06,  1.04s/it, f1=0.943, Δf1=-0.001]\n",
      "\n",
      " 40%|████      | 2/5 [04:42<07:03, 141.01s/it]\u001b[A"
     ]
    },
    {
     "name": "stdout",
     "output_type": "stream",
     "text": [
      "[  10  683 2628 ... 1125 1557 3658]\n"
     ]
    },
    {
     "name": "stderr",
     "output_type": "stream",
     "text": [
      "Training:  25%|██▌       | 50/200 [00:43<02:10,  1.15it/s, f1=0.967, Δf1=-0.000518]\n",
      "Training:  10%|█         | 20/200 [00:17<02:35,  1.15it/s, f1=0.964, Δf1=-0.000722]\n",
      "Training:  15%|█▌        | 30/200 [00:30<02:55,  1.03s/it, f1=0.961, Δf1=-0.000535]\n",
      "Training:  25%|██▌       | 50/200 [00:51<02:34,  1.03s/it, f1=0.953, Δf1=-0.000536]\n",
      "\n",
      " 60%|██████    | 3/5 [07:12<04:48, 144.14s/it]\u001b[A"
     ]
    },
    {
     "name": "stdout",
     "output_type": "stream",
     "text": [
      "[2362 3138 1297 ...  205 2287 1247]\n"
     ]
    },
    {
     "name": "stderr",
     "output_type": "stream",
     "text": [
      "Training:  20%|██        | 40/200 [00:34<02:18,  1.16it/s, f1=0.962, Δf1=-0.00207]\n",
      "Training:  12%|█▎        | 25/200 [00:21<02:29,  1.17it/s, f1=0.95, Δf1=-0.000753]\n",
      "Training:  18%|█▊        | 35/200 [00:37<02:55,  1.07s/it, f1=0.943, Δf1=-0.000175]\n",
      "Training:  30%|███       | 60/200 [01:03<02:28,  1.06s/it, f1=0.949, Δf1=-0.000103]\n",
      "\n",
      " 80%|████████  | 4/5 [09:56<02:29, 149.15s/it]\u001b[A"
     ]
    },
    {
     "name": "stdout",
     "output_type": "stream",
     "text": [
      "[3690 3243 2192 ... 2801 1146 2757]\n"
     ]
    },
    {
     "name": "stderr",
     "output_type": "stream",
     "text": [
      "Training:  10%|█         | 20/200 [00:17<02:38,  1.13it/s, f1=0.962, Δf1=-0.00078]\n",
      "Training:  12%|█▎        | 25/200 [00:22<02:35,  1.13it/s, f1=0.959, Δf1=-0.00724]\n",
      "Training:  12%|█▎        | 25/200 [00:26<03:07,  1.07s/it, f1=0.951, Δf1=-0.00587]\n",
      "Training:  20%|██        | 40/200 [00:39<02:37,  1.02it/s, f1=0.965, Δf1=0]       \n",
      "\n",
      "100%|██████████| 5/5 [11:49<00:00, 141.87s/it]\u001b[A\n",
      "Creating dictionary: 100%|██████████| 17/17 [00:04<00:00,  4.14it/s]\n",
      "Creating dictionary: 100%|██████████| 17/17 [00:03<00:00,  4.61it/s]\n",
      "\n",
      "  0%|          | 0/5 [00:00<?, ?it/s]\u001b[A"
     ]
    },
    {
     "name": "stdout",
     "output_type": "stream",
     "text": [
      "[2131  725 1801 ...  260 3341 1694]\n",
      "2000 training samples, 1132 testing samples\n"
     ]
    },
    {
     "name": "stderr",
     "output_type": "stream",
     "text": [
      "Training:  12%|█▎        | 25/200 [00:20<02:24,  1.21it/s, f1=0.965, Δf1=0]        \n",
      "Training:  15%|█▌        | 30/200 [00:24<02:20,  1.21it/s, f1=0.967, Δf1=-0.000485]\n",
      "Training:  15%|█▌        | 30/200 [00:29<02:46,  1.02it/s, f1=0.955, Δf1=0]      \n",
      "Training:  20%|██        | 40/200 [00:39<02:37,  1.01it/s, f1=0.942, Δf1=-0.000872]\n",
      "\n",
      " 20%|██        | 1/5 [02:00<08:02, 120.70s/it]\u001b[A"
     ]
    },
    {
     "name": "stdout",
     "output_type": "stream",
     "text": [
      "[3442 1761 2281 ...  231 1316 2548]\n"
     ]
    },
    {
     "name": "stderr",
     "output_type": "stream",
     "text": [
      "Training:   5%|▌         | 10/200 [00:08<02:44,  1.16it/s, f1=0.944, Δf1=-0.00481]\n",
      "Training:  12%|█▎        | 25/200 [00:20<02:24,  1.21it/s, f1=0.956, Δf1=-8.85e-05]\n",
      "Training:  18%|█▊        | 35/200 [00:34<02:43,  1.01it/s, f1=0.948, Δf1=0]       \n",
      "Training:  15%|█▌        | 30/200 [00:29<02:48,  1.01it/s, f1=0.955, Δf1=-0.000562]\n",
      "\n",
      " 40%|████      | 2/5 [03:41<05:31, 110.53s/it]\u001b[A"
     ]
    },
    {
     "name": "stdout",
     "output_type": "stream",
     "text": [
      "[  10  683 2628 ... 1125 1557 3658]\n"
     ]
    },
    {
     "name": "stderr",
     "output_type": "stream",
     "text": [
      "Training:  10%|█         | 20/200 [00:16<02:28,  1.21it/s, f1=0.96, Δf1=-0.00327]\n",
      "Training:   8%|▊         | 15/200 [00:12<02:33,  1.20it/s, f1=0.955, Δf1=-0.00254]\n",
      "Training:  15%|█▌        | 30/200 [00:29<02:47,  1.02it/s, f1=0.95, Δf1=-0.00102]\n",
      "Training:  22%|██▎       | 45/200 [00:44<02:31,  1.02it/s, f1=0.944, Δf1=-0.00049] \n",
      "\n",
      " 60%|██████    | 3/5 [05:30<03:40, 110.11s/it]\u001b[A"
     ]
    },
    {
     "name": "stdout",
     "output_type": "stream",
     "text": [
      "[2362 3138 1297 ...  205 2287 1247]\n"
     ]
    },
    {
     "name": "stderr",
     "output_type": "stream",
     "text": [
      "Training:  20%|██        | 40/200 [00:32<02:11,  1.22it/s, f1=0.968, Δf1=0]       \n",
      "Training:  10%|█         | 20/200 [00:16<02:30,  1.20it/s, f1=0.966, Δf1=-3.44e-05]\n",
      "Training:  22%|██▎       | 45/200 [00:44<02:32,  1.01it/s, f1=0.95, Δf1=-0.000547]\n",
      "Training:  22%|██▎       | 45/200 [00:44<02:33,  1.01it/s, f1=0.929, Δf1=-0.00196]\n",
      "\n",
      " 80%|████████  | 4/5 [07:55<01:58, 118.81s/it]\u001b[A"
     ]
    },
    {
     "name": "stdout",
     "output_type": "stream",
     "text": [
      "[3690 3243 2192 ... 2801 1146 2757]\n"
     ]
    },
    {
     "name": "stderr",
     "output_type": "stream",
     "text": [
      "Training:  12%|█▎        | 25/200 [00:21<02:27,  1.19it/s, f1=0.966, Δf1=-0.00156]\n",
      "Training:   8%|▊         | 15/200 [00:12<02:36,  1.18it/s, f1=0.955, Δf1=-0.00489]\n",
      "Training:  22%|██▎       | 45/200 [00:45<02:37,  1.01s/it, f1=0.956, Δf1=-0.000531]\n",
      "Training:  12%|█▎        | 25/200 [00:25<02:56,  1.01s/it, f1=0.945, Δf1=-0.00156]\n",
      "\n",
      "100%|██████████| 5/5 [09:46<00:00, 117.34s/it]\u001b[A\n",
      "Creating dictionary: 100%|██████████| 17/17 [00:03<00:00,  4.26it/s]\n",
      "Creating dictionary: 100%|██████████| 17/17 [00:03<00:00,  4.38it/s]\n",
      "\n",
      "  0%|          | 0/5 [00:00<?, ?it/s]\u001b[A"
     ]
    },
    {
     "name": "stdout",
     "output_type": "stream",
     "text": [
      "[2131  725 1801 ...  260 3341 1694]\n",
      "2000 training samples, 1132 testing samples\n"
     ]
    },
    {
     "name": "stderr",
     "output_type": "stream",
     "text": [
      "Training:  18%|█▊        | 35/200 [00:29<02:19,  1.18it/s, f1=0.961, Δf1=0]       \n",
      "Training:   8%|▊         | 15/200 [00:13<02:50,  1.08it/s, f1=0.962, Δf1=-0.000591]\n",
      "Training:  30%|███       | 60/200 [01:05<02:33,  1.09s/it, f1=0.956, Δf1=0]       \n",
      "Training:  35%|███▌      | 70/200 [01:16<02:22,  1.10s/it, f1=0.939, Δf1=0]       \n",
      "\n",
      " 20%|██        | 1/5 [03:13<12:52, 193.23s/it]\u001b[A"
     ]
    },
    {
     "name": "stdout",
     "output_type": "stream",
     "text": [
      "[3442 1761 2281 ...  231 1316 2548]\n"
     ]
    },
    {
     "name": "stderr",
     "output_type": "stream",
     "text": [
      "Training:  12%|█▎        | 25/200 [00:21<02:30,  1.17it/s, f1=0.949, Δf1=-0.0017]\n",
      "Training:  15%|█▌        | 30/200 [00:25<02:27,  1.16it/s, f1=0.954, Δf1=-0.000522]\n",
      "Training:  30%|███       | 60/200 [01:02<02:25,  1.04s/it, f1=0.95, Δf1=0]        \n",
      "Training:  20%|██        | 40/200 [00:41<02:44,  1.03s/it, f1=0.949, Δf1=-0.000664]\n",
      "\n",
      " 40%|████      | 2/5 [05:50<08:46, 175.45s/it]\u001b[A"
     ]
    },
    {
     "name": "stdout",
     "output_type": "stream",
     "text": [
      "[  10  683 2628 ... 1125 1557 3658]\n"
     ]
    },
    {
     "name": "stderr",
     "output_type": "stream",
     "text": [
      "Training:  18%|█▊        | 35/200 [00:30<02:22,  1.16it/s, f1=0.955, Δf1=-0.00208] \n",
      "Training:   8%|▊         | 15/200 [00:13<02:40,  1.15it/s, f1=0.952, Δf1=-0.00464]\n",
      "Training:  18%|█▊        | 35/200 [00:35<02:48,  1.02s/it, f1=0.951, Δf1=-0.00207]\n",
      "Training:  40%|████      | 80/200 [01:22<02:04,  1.04s/it, f1=0.954, Δf1=-0.000486]\n",
      "\n",
      " 60%|██████    | 3/5 [08:39<05:46, 173.21s/it]\u001b[A"
     ]
    },
    {
     "name": "stdout",
     "output_type": "stream",
     "text": [
      "[2362 3138 1297 ...  205 2287 1247]\n"
     ]
    },
    {
     "name": "stderr",
     "output_type": "stream",
     "text": [
      "Training:  10%|█         | 20/200 [00:17<02:38,  1.14it/s, f1=0.946, Δf1=-0.00269]\n",
      "Training:  12%|█▎        | 25/200 [00:21<02:29,  1.17it/s, f1=0.954, Δf1=-0.00147] \n",
      "Training:  18%|█▊        | 35/200 [00:37<02:58,  1.08s/it, f1=0.929, Δf1=-0.0114]\n",
      "Training:  28%|██▊       | 55/200 [00:59<02:36,  1.08s/it, f1=0.953, Δf1=0]       \n",
      "\n",
      " 80%|████████  | 4/5 [11:02<02:45, 165.72s/it]\u001b[A"
     ]
    },
    {
     "name": "stdout",
     "output_type": "stream",
     "text": [
      "[3690 3243 2192 ... 2801 1146 2757]\n"
     ]
    },
    {
     "name": "stderr",
     "output_type": "stream",
     "text": [
      "Training:  10%|█         | 20/200 [00:19<02:55,  1.03it/s, f1=0.961, Δf1=-0.00122]\n",
      "Training:  10%|█         | 20/200 [00:19<02:56,  1.02it/s, f1=0.954, Δf1=-0.00317]\n",
      "Training:  32%|███▎      | 65/200 [01:10<02:26,  1.09s/it, f1=0.943, Δf1=0]        \n",
      "Training:  22%|██▎       | 45/200 [00:48<02:47,  1.08s/it, f1=0.957, Δf1=-0.00106] \n",
      "\n",
      "100%|██████████| 5/5 [13:48<00:00, 165.70s/it]\u001b[A\n",
      "\u001b[A"
     ]
    }
   ],
   "source": [
    "params = train.CNNParams(\n",
    "    embed_size=100,\n",
    "    dropout=0.5,\n",
    "    epochs=200,\n",
    "    filters=[(33, 3), (33, 5), (33, 7)],\n",
    "    num_layers=1,\n",
    "    max_norm=3,\n",
    ")\n",
    "\n",
    "char_params = train.CharCNNParams(\n",
    "    dropout=0.5,\n",
    "    epochs=200,\n",
    "    max_norm=3,\n",
    ")\n",
    "\n",
    "window_size = (0, 1)\n",
    "k = 5\n",
    "splitter = evaluate.StratifiedShuffleSplit(\n",
    "    n_splits=k,\n",
    "    train_size=2000,\n",
    "    test_size=None,\n",
    "    random_state=100,\n",
    ")\n",
    "\n",
    "old_kmeans_cls = {}\n",
    "old_gmm_cls = {}\n",
    "old_char_kmeans_cls = {}\n",
    "old_char_gmm_cls = {}\n",
    "\n",
    "for num_clusters in [2, 3, 5, 7, 9, 15, 30]:\n",
    "    optim_fn = lambda p: torch.optim.Adadelta(p)\n",
    "    model_fns = [\n",
    "        lambda r: models.CategoricalClusterLabels(r, num_clusters, sum(window_size) + 1, params.dropout),\n",
    "        lambda r: models.CategoricalClusterLabels(r, 11, sum(window_size) + 1, params.dropout),\n",
    "        lambda r: models.CategoricalClusterLabels(r, num_clusters, sum(window_size) + 1, char_params.dropout),\n",
    "        lambda r: models.CategoricalClusterLabels(r, 11, sum(window_size) + 1, char_params.dropout),\n",
    "    ]\n",
    "\n",
    "    dataset, validset, testset = evaluate.load_dataset(num_clusters, window_size[0], window_size[1], True)\n",
    "\n",
    "    splitter.random_state = 100\n",
    "    values = evaluate.cross_val(k, splitter, model_fns, [False, True, False, True], optim_fn,\n",
    "                                dataset,\n",
    "                                params=[params, params, char_params, char_params],\n",
    "                                early_stopping=2,\n",
    "                                validation_set=validset,\n",
    "                                batch_size=128,\n",
    "                                testset=testset)\n",
    "    old_kmeans_cls[num_clusters] = [v[0] for v in values]\n",
    "    old_gmm_cls[num_clusters] = [v[1] for v in values]\n",
    "    old_char_kmeans_cls[num_clusters] = [v[2] for v in values]\n",
    "    old_char_gmm_cls[num_clusters] = [v[3] for v in values]"
   ]
  },
  {
   "cell_type": "code",
   "execution_count": 4,
   "metadata": {
    "collapsed": true
   },
   "outputs": [],
   "source": [
    "(old_kmeans_cls, old_gmm_cls, old_char_kmeans_cls, old_char_gmm_cls) = load(\"1600-numclusters-old.pkl\")"
   ]
  },
  {
   "cell_type": "code",
   "execution_count": 36,
   "metadata": {},
   "outputs": [
    {
     "name": "stderr",
     "output_type": "stream",
     "text": [
      "/usr/lib/python3.6/site-packages/seaborn/timeseries.py:183: UserWarning: The tsplot function is deprecated and will be removed or replaced (in a substantially altered version) in a future release.\n",
      "  warnings.warn(msg, UserWarning)\n"
     ]
    },
    {
     "data": {
      "image/png": "[encoded data removed]",
      "text/plain": [
       "<matplotlib.figure.Figure at 0x7fdd3940eac8>"
      ]
     },
     "metadata": {},
     "output_type": "display_data"
    }
   ],
   "source": [
    "d = {\n",
    "    \"WordCNN\": {\n",
    "        s: {\n",
    "            'K-Means': old_kmeans_cls[s],\n",
    "            'Infinite Mixture Model': old_gmm_cls[s],\n",
    "        }\n",
    "        for s in old_kmeans_cls.keys()\n",
    "    },\n",
    "    \"CharCNN\": {\n",
    "        s: {\n",
    "            'K-Means': old_char_kmeans_cls[s],\n",
    "            'Infinite Mixture Model': old_char_gmm_cls[s],\n",
    "        }\n",
    "        for s in [2, 3, 5, 7, 9, 15]\n",
    "    }\n",
    "}\n",
    "with sns.axes_style(\"darkgrid\"):\n",
    "    #evaluate.analyze_cnns(d, \"k\", \"model\")\n",
    "    evaluate.analyze_cnns(d, \"k\", \"model\", \"../report/figures/results/2000-numclusters-old\")"
   ]
  },
  {
   "cell_type": "code",
   "execution_count": 17,
   "metadata": {},
   "outputs": [],
   "source": [
    "save((old_kmeans_cls, old_gmm_cls, old_char_kmeans_cls, old_char_gmm_cls), \"2000-numclusters-old.pkl\")"
   ]
  }
 ],
 "metadata": {
  "kernelspec": {
   "display_name": "Python 3",
   "language": "python",
   "name": "python3"
  },
  "language_info": {
   "codemirror_mode": {
    "name": "ipython",
    "version": 3
   },
   "file_extension": ".py",
   "mimetype": "text/x-python",
   "name": "python",
   "nbconvert_exporter": "python",
   "pygments_lexer": "ipython3",
   "version": "3.6.6"
  }
 },
 "nbformat": 4,
 "nbformat_minor": 2
}

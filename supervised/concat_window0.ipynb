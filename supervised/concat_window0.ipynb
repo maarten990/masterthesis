{
 "cells": [
  {
   "cell_type": "code",
   "execution_count": 1,
   "metadata": {},
   "outputs": [],
   "source": [
    "%load_ext autoreload\n",
    "%autoreload 2\n",
    "\n",
    "import train\n",
    "import evaluate"
   ]
  },
  {
   "cell_type": "code",
   "execution_count": 2,
   "metadata": {},
   "outputs": [
    {
     "name": "stderr",
     "output_type": "stream",
     "text": [
      "Creating dictionary: 100%|██████████| 17/17 [00:03<00:00,  4.48it/s]\n",
      "Creating dictionary: 100%|██████████| 17/17 [00:03<00:00,  5.31it/s]\n",
      "\n",
      "  0%|          | 0/10 [00:00<?, ?it/s]\u001b[A"
     ]
    },
    {
     "name": "stdout",
     "output_type": "stream",
     "text": [
      "200 training samples, 1132 testing samples\n"
     ]
    },
    {
     "name": "stderr",
     "output_type": "stream",
     "text": [
      "Training:  28%|██▊       | 55/200 [00:08<00:19,  7.31it/s, f1=0.869, Δf1=-0.00623]\n",
      "Training:  22%|██▎       | 45/200 [00:07<00:20,  7.56it/s, f1=0.888, Δf1=0.0347]\n",
      "Training:  25%|██▌       | 50/200 [00:08<00:20,  7.42it/s, f1=0.879, Δf1=-0.00682]\n",
      "Training:  17%|█▋        | 34/200 [00:05<00:24,  6.73it/s, f1=0.852, Δf1=-0.0184]\n",
      "Training:  14%|█▍        | 29/200 [00:04<00:24,  7.03it/s, f1=0.865, Δf1=0.0405]\n",
      "Training:  17%|█▋        | 34/200 [00:05<00:26,  6.38it/s, f1=0.826, Δf1=-0.0118]\n",
      "Training:  22%|██▎       | 45/200 [00:07<00:19,  8.06it/s, f1=0.848, Δf1=0.00289]\n",
      "Training:  18%|█▊        | 35/200 [00:05<00:20,  7.96it/s, f1=0.851, Δf1=0.00129]\n",
      "Training:  18%|█▊        | 35/200 [00:05<00:21,  7.80it/s, f1=0.839, Δf1=0.0042]\n",
      "Training:  22%|██▎       | 45/200 [00:06<00:19,  7.78it/s, f1=0.855, Δf1=0.0103]\n",
      "100%|██████████| 10/10 [07:30<00:00, 44.36s/it]\u001b[A\n",
      "Creating dictionary: 100%|██████████| 17/17 [00:03<00:00,  4.71it/s]\n",
      "Creating dictionary: 100%|██████████| 17/17 [00:03<00:00,  4.77it/s]\n",
      "\n",
      "  0%|          | 0/10 [00:00<?, ?it/s]\u001b[A"
     ]
    },
    {
     "name": "stdout",
     "output_type": "stream",
     "text": [
      "800 training samples, 1132 testing samples\n"
     ]
    },
    {
     "name": "stderr",
     "output_type": "stream",
     "text": [
      "Training:  28%|██▊       | 55/200 [00:19<00:43,  3.32it/s, f1=0.927, Δf1=0.00635]\n",
      "Training:  12%|█▎        | 25/200 [00:08<00:53,  3.27it/s, f1=0.92, Δf1=0.000271]\n",
      "Training:  12%|█▎        | 25/200 [00:08<00:53,  3.28it/s, f1=0.897, Δf1=-0.00676]\n",
      "Training:  38%|███▊      | 75/200 [00:26<00:38,  3.26it/s, f1=0.916, Δf1=0]\n",
      "Training:  20%|██        | 40/200 [00:14<00:47,  3.37it/s, f1=0.935, Δf1=0.0028]\n",
      "Training:  22%|██▎       | 45/200 [00:15<00:47,  3.23it/s, f1=0.926, Δf1=-0.000944]\n",
      "Training:  20%|██        | 40/200 [00:13<00:49,  3.27it/s, f1=0.923, Δf1=-0.00131]\n",
      "Training:  18%|█▊        | 35/200 [00:12<00:49,  3.32it/s, f1=0.887, Δf1=0.0088]\n",
      "Training:  15%|█▌        | 30/200 [00:10<00:53,  3.15it/s, f1=0.86, Δf1=-0.0139]\n",
      "Training:  20%|██        | 40/200 [00:13<00:48,  3.28it/s, f1=0.922, Δf1=0.0027]\n",
      "100%|██████████| 10/10 [13:10<00:00, 77.80s/it]\u001b[A\n",
      "Creating dictionary: 100%|██████████| 17/17 [00:03<00:00,  5.36it/s]\n",
      "Creating dictionary: 100%|██████████| 17/17 [00:03<00:00,  4.71it/s]\n",
      "\n",
      "  0%|          | 0/10 [00:00<?, ?it/s]\u001b[A"
     ]
    },
    {
     "name": "stdout",
     "output_type": "stream",
     "text": [
      "1600 training samples, 1132 testing samples\n"
     ]
    },
    {
     "name": "stderr",
     "output_type": "stream",
     "text": [
      "Training:  20%|██        | 40/200 [00:24<01:29,  1.78it/s, f1=0.905, Δf1=0.00453]\n",
      "Training:  20%|██        | 40/200 [00:24<01:31,  1.74it/s, f1=0.927, Δf1=0.00643]\n",
      "Training:  15%|█▌        | 30/200 [00:17<01:32,  1.83it/s, f1=0.898, Δf1=-0.0286]\n",
      "Training:  22%|██▎       | 45/200 [00:27<01:26,  1.79it/s, f1=0.907, Δf1=-0.0278]\n",
      "Training:  15%|█▌        | 30/200 [00:18<01:35,  1.79it/s, f1=0.92, Δf1=0.0345]\n",
      "Training:  18%|█▊        | 35/200 [00:21<01:33,  1.77it/s, f1=0.908, Δf1=-0.00289]\n",
      "Training:  15%|█▌        | 30/200 [00:18<01:34,  1.79it/s, f1=0.931, Δf1=0.0129]\n",
      "Training:  15%|█▌        | 30/200 [00:18<01:37,  1.75it/s, f1=0.938, Δf1=-0.00148]\n",
      "Training:  15%|█▌        | 30/200 [00:18<01:36,  1.76it/s, f1=0.897, Δf1=-0.039]\n",
      "Training:  18%|█▊        | 35/200 [00:21<01:29,  1.84it/s, f1=0.919, Δf1=-0.0156]\n",
      "100%|██████████| 10/10 [21:11<00:00, 128.39s/it]\u001b[A\n",
      "Creating dictionary: 100%|██████████| 17/17 [00:03<00:00,  4.68it/s]\n",
      "Creating dictionary: 100%|██████████| 17/17 [00:03<00:00,  4.75it/s]\n",
      "\n",
      "  0%|          | 0/10 [00:00<?, ?it/s]\u001b[A"
     ]
    },
    {
     "name": "stdout",
     "output_type": "stream",
     "text": [
      "2400 training samples, 1132 testing samples\n"
     ]
    },
    {
     "name": "stderr",
     "output_type": "stream",
     "text": [
      "Training:  12%|█▎        | 25/200 [00:21<02:24,  1.21it/s, f1=0.934, Δf1=0.0214]\n",
      "Training:  15%|█▌        | 30/200 [00:25<02:19,  1.22it/s, f1=0.905, Δf1=0.000268]\n",
      "Training:  22%|██▎       | 45/200 [00:38<02:06,  1.23it/s, f1=0.918, Δf1=-0.000863]\n",
      "Training:  22%|██▎       | 45/200 [00:38<02:07,  1.22it/s, f1=0.949, Δf1=0.000709]\n",
      "Training:  15%|█▌        | 30/200 [00:25<02:18,  1.22it/s, f1=0.926, Δf1=0.0131]\n",
      "Training:  12%|█▎        | 25/200 [00:21<02:21,  1.24it/s, f1=0.92, Δf1=0.00191]\n",
      "Training:  12%|█▎        | 25/200 [00:21<02:19,  1.25it/s, f1=0.913, Δf1=0.0078]\n",
      "Training:  15%|█▌        | 30/200 [00:26<02:18,  1.23it/s, f1=0.912, Δf1=0.00977]\n",
      "Training:  15%|█▌        | 30/200 [00:26<02:18,  1.23it/s, f1=0.886, Δf1=-0.0204]\n",
      "Training:  15%|█▌        | 30/200 [00:26<02:18,  1.22it/s, f1=0.897, Δf1=0.00509]\n",
      "100%|██████████| 10/10 [28:33<00:00, 172.98s/it]\u001b[A\n",
      "\u001b[A"
     ]
    }
   ],
   "source": [
    "params = train.CNNParams(\n",
    "    embed_size=100,\n",
    "    dropout=0.5,\n",
    "    epochs=200,\n",
    "    filters=[(33, 3), (33, 5), (33, 7)],\n",
    "    num_layers=1,\n",
    "    max_norm=3,\n",
    ")\n",
    "\n",
    "char_params = train.CharCNNParams(\n",
    "    dropout=0.5,\n",
    "    epochs=200,\n",
    "    max_norm=3,\n",
    ")\n",
    "\n",
    "word_results, char_results = evaluate.run(\n",
    "    params,\n",
    "    char_params,\n",
    "    training_sizes=[200, 800, 1600, 2400],\n",
    "    window_sizes=[(0, 0)],\n",
    "    k=10,\n",
    "    kmeans_path=\"../clustered_data/15\",\n",
    "    num_clusters=15,\n",
    "    num_clusters_gmm=18,\n",
    "    use_cluster_cnn=False,\n",
    ")"
   ]
  },
  {
   "cell_type": "code",
   "execution_count": 3,
   "metadata": {},
   "outputs": [],
   "source": [
    "df = evaluate.results_to_dataframe(word_results, char_results)"
   ]
  },
  {
   "cell_type": "code",
   "execution_count": 4,
   "metadata": {},
   "outputs": [
    {
     "name": "stdout",
     "output_type": "stream",
     "text": [
      "Stored 'df' (DataFrame)\n"
     ]
    }
   ],
   "source": [
    "%store -r\n",
    "#%store df"
   ]
  },
  {
   "cell_type": "code",
   "execution_count": 5,
   "metadata": {},
   "outputs": [
    {
     "name": "stdout",
     "output_type": "stream",
     "text": [
      "                                  score                    \n",
      "                                   mean       std         p\n",
      "size model    method   window                              \n",
      "200  TokenCNN Baseline 0       0.837537  0.010427       NaN\n",
      "              K-Means  0       0.838342  0.015019  0.881944\n",
      "              GMM      0       0.848219  0.014004  0.061634\n",
      "     CharCNN  Baseline 0       0.846187  0.016582       NaN\n",
      "              K-Means  0       0.860748  0.015477  0.063488\n",
      "              GMM      0       0.851867  0.020402  0.551623\n",
      "800  TokenCNN Baseline 0       0.845318  0.008970       NaN\n",
      "              K-Means  0       0.851760  0.007169  0.110001\n",
      "              GMM      0       0.856441  0.009198  0.011040\n",
      "     CharCNN  Baseline 0       0.867475  0.010628       NaN\n",
      "              K-Means  0       0.857058  0.018007  0.183395\n",
      "              GMM      0       0.870089  0.011106  0.586658\n",
      "1600 TokenCNN Baseline 0       0.848631  0.009891       NaN\n",
      "              K-Means  0       0.860020  0.004981  0.010156\n",
      "              GMM      0       0.862489  0.019556  0.048126\n",
      "     CharCNN  Baseline 0       0.867508  0.007451       NaN\n",
      "              K-Means  0       0.862255  0.010540  0.164718\n",
      "              GMM      0       0.875723  0.012023  0.128718\n",
      "2400 TokenCNN Baseline 0       0.846387  0.007300       NaN\n",
      "              K-Means  0       0.861130  0.009455  0.000037\n",
      "              GMM      0       0.864752  0.009931  0.001026\n",
      "     CharCNN  Baseline 0       0.864771  0.013332       NaN\n",
      "              K-Means  0       0.864528  0.017685  0.973754\n",
      "              GMM      0       0.871022  0.011204  0.259417\n"
     ]
    },
    {
     "data": {
      "image/png": "[encoded data removed]",
      "text/plain": [
       "<Figure size 806.709x360 with 2 Axes>"
      ]
     },
     "metadata": {},
     "output_type": "display_data"
    }
   ],
   "source": [
    "import os\n",
    "import numpy as np\n",
    "import matplotlib.pyplot as plt\n",
    "from scipy.stats import ttest_rel\n",
    "\n",
    "def p(s):\n",
    "    i = s.keys()[0]\n",
    "    size = df.iloc[i][\"size\"]\n",
    "    window = df.iloc[i][\"window\"]\n",
    "    method = df.iloc[i][\"method\"]\n",
    "    model = df.iloc[i][\"model\"]\n",
    "\n",
    "    baseline_scores = df[(df[\"size\"] == size) & (df[\"model\"] == model) & (df[\"window\"] == window) & (df[\"method\"] == \"Baseline\")].score\n",
    "    scores = s.tolist()\n",
    "    return ttest_rel(baseline_scores, scores)[1]\n",
    "\n",
    "evaluate.plot_sns(df)\n",
    "print(df.groupby([\"size\", \"model\", \"method\", \"window\"], sort=False).aggregate([np.mean, np.std, p]))\n",
    "\n",
    "dir = \"concat_window0\"\n",
    "os.makedirs(dir, exist_ok=True)\n",
    "os.chdir(dir)\n",
    "\n",
    "try:\n",
    "    plt.savefig(\"plot.pdf\")\n",
    "    df.groupby([\"size\", \"model\", \"method\", \"window\"], sort=False).aggregate([np.mean, np.std, p]).to_latex(\"table.tex\")\n",
    "    df.groupby([\"size\", \"model\", \"method\", \"window\"], sort=False).aggregate([np.mean, np.std, p]).to_csv(\"table.csv\")\n",
    "except e:\n",
    "    print(e)\n",
    "finally:\n",
    "    os.chdir(\"..\")"
   ]
  }
 ],
 "metadata": {
  "kernelspec": {
   "display_name": "Python 3",
   "language": "python",
   "name": "python3"
  },
  "language_info": {
   "codemirror_mode": {
    "name": "ipython",
    "version": 3
   },
   "file_extension": ".py",
   "mimetype": "text/x-python",
   "name": "python",
   "nbconvert_exporter": "python",
   "pygments_lexer": "ipython3",
   "version": "3.7.0"
  }
 },
 "nbformat": 4,
 "nbformat_minor": 2
}

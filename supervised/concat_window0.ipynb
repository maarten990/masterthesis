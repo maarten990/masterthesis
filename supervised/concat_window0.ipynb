{
 "cells": [
  {
   "cell_type": "code",
   "execution_count": 1,
   "metadata": {},
   "outputs": [],
   "source": [
    "%load_ext autoreload\n",
    "%autoreload 2\n",
    "\n",
    "import train\n",
    "import evaluate"
   ]
  },
  {
   "cell_type": "code",
   "execution_count": 2,
   "metadata": {},
   "outputs": [
    {
     "name": "stderr",
     "output_type": "stream",
     "text": [
      "Creating dictionary: 100%|██████████| 17/17 [00:03<00:00,  4.52it/s]\n",
      "Creating dictionary: 100%|██████████| 17/17 [00:03<00:00,  5.37it/s]\n",
      "\n",
      "  0%|          | 0/10 [00:00<?, ?it/s]\u001b[A"
     ]
    },
    {
     "name": "stdout",
     "output_type": "stream",
     "text": [
      "200 training samples, 1132 testing samples\n"
     ]
    },
    {
     "name": "stderr",
     "output_type": "stream",
     "text": [
      "Training:  22%|██▏       | 44/200 [00:06<00:21,  7.33it/s, f1=0.894, Δf1=0.00414]\n",
      "Training:  20%|█▉        | 39/200 [00:06<00:22,  7.27it/s, f1=0.86, Δf1=-0.00778]\n",
      "Training:  18%|█▊        | 35/200 [00:05<00:20,  8.15it/s, f1=0.9, Δf1=-0.00726]\n",
      "Training:  18%|█▊        | 35/200 [00:05<00:20,  8.17it/s, f1=0.86, Δf1=0.016]\n",
      "Training:  20%|█▉        | 39/200 [00:06<00:22,  7.11it/s, f1=0.9, Δf1=-0.00603]\n",
      "Training:  22%|██▎       | 45/200 [00:07<00:19,  7.81it/s, f1=0.885, Δf1=-0.000213]\n",
      "Training:  27%|██▋       | 54/200 [00:08<00:20,  7.05it/s, f1=0.817, Δf1=-0.0161]\n",
      "Training:  24%|██▍       | 49/200 [00:07<00:20,  7.23it/s, f1=0.865, Δf1=-0.00936]\n",
      "Training:  18%|█▊        | 35/200 [00:05<00:20,  8.23it/s, f1=0.842, Δf1=-0.0176]\n",
      "Training:  28%|██▊       | 55/200 [00:08<00:17,  8.21it/s, f1=0.854, Δf1=-0.00284]\n",
      "100%|██████████| 10/10 [07:13<00:00, 41.87s/it]\u001b[A\n",
      "Creating dictionary: 100%|██████████| 17/17 [00:03<00:00,  5.16it/s]\n",
      "Creating dictionary: 100%|██████████| 17/17 [00:03<00:00,  4.61it/s]\n",
      "\n",
      "  0%|          | 0/10 [00:00<?, ?it/s]\u001b[A"
     ]
    },
    {
     "name": "stdout",
     "output_type": "stream",
     "text": [
      "800 training samples, 1132 testing samples\n"
     ]
    },
    {
     "name": "stderr",
     "output_type": "stream",
     "text": [
      "Training:  15%|█▌        | 30/200 [00:10<00:51,  3.33it/s, f1=0.872, Δf1=0.0237]\n",
      "Training:  15%|█▌        | 30/200 [00:10<00:48,  3.47it/s, f1=0.863, Δf1=-0.014]\n",
      "Training:  15%|█▌        | 30/200 [00:10<00:51,  3.31it/s, f1=0.918, Δf1=0.0011]\n",
      "Training:  25%|██▌       | 50/200 [00:17<00:47,  3.19it/s, f1=0.912, Δf1=-0.00018]\n",
      "Training:  30%|███       | 60/200 [00:20<00:42,  3.30it/s, f1=0.915, Δf1=0]\n",
      "Training:  22%|██▎       | 45/200 [00:15<00:44,  3.44it/s, f1=0.919, Δf1=-0.00165]\n",
      "Training:  38%|███▊      | 75/200 [00:25<00:38,  3.28it/s, f1=0.916, Δf1=-0.000537]\n",
      "Training:  22%|██▎       | 45/200 [00:15<00:46,  3.34it/s, f1=0.901, Δf1=-0.000234]\n",
      "Training:  20%|██        | 40/200 [00:13<00:47,  3.39it/s, f1=0.926, Δf1=-0.00561]\n",
      "Training:  18%|█▊        | 35/200 [00:12<00:50,  3.24it/s, f1=0.917, Δf1=-0.00529]\n",
      "100%|██████████| 10/10 [12:59<00:00, 74.89s/it]\u001b[A\n",
      "Creating dictionary: 100%|██████████| 17/17 [00:03<00:00,  5.27it/s]\n",
      "Creating dictionary: 100%|██████████| 17/17 [00:03<00:00,  4.75it/s]\n",
      "\n",
      "  0%|          | 0/10 [00:00<?, ?it/s]\u001b[A"
     ]
    },
    {
     "name": "stdout",
     "output_type": "stream",
     "text": [
      "1600 training samples, 1132 testing samples\n"
     ]
    },
    {
     "name": "stderr",
     "output_type": "stream",
     "text": [
      "Training:  15%|█▌        | 30/200 [00:17<01:34,  1.80it/s, f1=0.897, Δf1=0.0274]\n",
      "Training:  22%|██▎       | 45/200 [00:27<01:25,  1.81it/s, f1=0.942, Δf1=-0.00168]\n",
      "Training:  15%|█▌        | 30/200 [00:17<01:33,  1.83it/s, f1=0.888, Δf1=-0.0489]\n",
      "Training:  25%|██▌       | 50/200 [00:29<01:23,  1.80it/s, f1=0.915, Δf1=-0.00838]\n",
      "Training:  12%|█▎        | 25/200 [00:14<01:37,  1.80it/s, f1=0.927, Δf1=0.0124]\n",
      "Training:  30%|███       | 60/200 [00:35<01:16,  1.84it/s, f1=0.937, Δf1=0.00028]\n",
      "Training:  12%|█▎        | 25/200 [00:14<01:38,  1.78it/s, f1=0.911, Δf1=0.03]\n",
      "Training:  20%|██        | 40/200 [00:23<01:27,  1.83it/s, f1=0.9, Δf1=-0.000401]\n",
      "Training:  18%|█▊        | 35/200 [00:20<01:30,  1.82it/s, f1=0.941, Δf1=-0.00209]\n",
      "Training:  10%|█         | 20/200 [00:12<01:39,  1.82it/s, f1=0.896, Δf1=-0.0104]\n",
      "100%|██████████| 10/10 [19:58<00:00, 119.40s/it]\u001b[A\n",
      "Creating dictionary: 100%|██████████| 17/17 [00:03<00:00,  4.79it/s]\n",
      "Creating dictionary: 100%|██████████| 17/17 [00:03<00:00,  4.78it/s]\n",
      "\n",
      "  0%|          | 0/10 [00:00<?, ?it/s]\u001b[A"
     ]
    },
    {
     "name": "stdout",
     "output_type": "stream",
     "text": [
      "2400 training samples, 1132 testing samples\n"
     ]
    },
    {
     "name": "stderr",
     "output_type": "stream",
     "text": [
      "Training:  12%|█▎        | 25/200 [00:21<02:26,  1.19it/s, f1=0.915, Δf1=-0.0159]\n",
      "Training:  10%|█         | 20/200 [00:17<02:31,  1.19it/s, f1=0.922, Δf1=-0.0102]\n",
      "Training:  18%|█▊        | 35/200 [00:30<02:16,  1.21it/s, f1=0.946, Δf1=-0.00222]\n",
      "Training:  22%|██▎       | 45/200 [00:39<02:06,  1.23it/s, f1=0.935, Δf1=-0.00488]\n",
      "Training:  10%|█         | 20/200 [00:17<02:25,  1.24it/s, f1=0.898, Δf1=-0.00492]\n",
      "Training:  10%|█         | 20/200 [00:17<02:26,  1.23it/s, f1=0.88, Δf1=-0.014]\n",
      "Training:  20%|██        | 40/200 [00:34<02:07,  1.26it/s, f1=0.927, Δf1=0.013]\n",
      "Training:  12%|█▎        | 25/200 [00:21<02:20,  1.25it/s, f1=0.92, Δf1=0.000664]\n",
      "Training:  15%|█▌        | 30/200 [00:25<02:17,  1.24it/s, f1=0.934, Δf1=0.0266]\n",
      "Training:  20%|██        | 40/200 [00:33<02:07,  1.26it/s, f1=0.932, Δf1=-0.00423]\n",
      "100%|██████████| 10/10 [25:34<00:00, 152.73s/it]\u001b[A\n",
      "\u001b[A"
     ]
    }
   ],
   "source": [
    "params = train.CNNParams(\n",
    "    embed_size=100,\n",
    "    dropout=0.5,\n",
    "    epochs=200,\n",
    "    filters=[(33, 3), (33, 5), (33, 7)],\n",
    "    num_layers=1,\n",
    "    max_norm=3,\n",
    ")\n",
    "\n",
    "char_params = train.CharCNNParams(\n",
    "    dropout=0.5,\n",
    "    epochs=200,\n",
    "    max_norm=3,\n",
    ")\n",
    "\n",
    "word_results, char_results = evaluate.run(\n",
    "    params,\n",
    "    char_params,\n",
    "    training_sizes=[200, 800, 1600, 2400],\n",
    "    window_sizes=[(0, 0)],\n",
    "    k=10,\n",
    "    kmeans_path=\"../clustered_data/15\",\n",
    "    num_clusters=15,\n",
    "    num_clusters_gmm=18,\n",
    "    use_cluster_cnn=False,\n",
    ")"
   ]
  },
  {
   "cell_type": "code",
   "execution_count": 3,
   "metadata": {},
   "outputs": [],
   "source": [
    "df_window0 = evaluate.results_to_dataframe(word_results, char_results)"
   ]
  },
  {
   "cell_type": "code",
   "execution_count": 4,
   "metadata": {},
   "outputs": [
    {
     "name": "stdout",
     "output_type": "stream",
     "text": [
      "Stored 'df_window0' (DataFrame)\n"
     ]
    }
   ],
   "source": [
    "#%store -r\n",
    "%store df_window0"
   ]
  },
  {
   "cell_type": "code",
   "execution_count": 5,
   "metadata": {},
   "outputs": [
    {
     "name": "stdout",
     "output_type": "stream",
     "text": [
      "                                  score                    \n",
      "                                   mean       std         p\n",
      "size model    method   window                              \n",
      "200  TokenCNN Baseline 0       0.831335  0.011848       NaN\n",
      "              K-Means  0       0.843846  0.014898  0.031170\n",
      "              GMM      0       0.842445  0.010787  0.030924\n",
      "     CharCNN  Baseline 0       0.855736  0.011701       NaN\n",
      "              K-Means  0       0.851318  0.014746  0.206388\n",
      "              GMM      0       0.851584  0.022158  0.586711\n",
      "800  TokenCNN Baseline 0       0.842933  0.010159       NaN\n",
      "              K-Means  0       0.850113  0.005171  0.045224\n",
      "              GMM      0       0.859137  0.014198  0.005521\n",
      "     CharCNN  Baseline 0       0.867169  0.018861       NaN\n",
      "              K-Means  0       0.863595  0.021780  0.722963\n",
      "              GMM      0       0.880255  0.017785  0.141477\n",
      "1600 TokenCNN Baseline 0       0.849773  0.006378       NaN\n",
      "              K-Means  0       0.859235  0.005771  0.017752\n",
      "              GMM      0       0.863006  0.005046  0.000108\n",
      "     CharCNN  Baseline 0       0.868232  0.009616       NaN\n",
      "              K-Means  0       0.867586  0.012568  0.913945\n",
      "              GMM      0       0.880872  0.016976  0.065521\n",
      "2400 TokenCNN Baseline 0       0.851155  0.008611       NaN\n",
      "              K-Means  0       0.857166  0.016033  0.450746\n",
      "              GMM      0       0.862911  0.006538  0.022590\n",
      "     CharCNN  Baseline 0       0.873012  0.013320       NaN\n",
      "              K-Means  0       0.867849  0.017826  0.473127\n",
      "              GMM      0       0.870564  0.013174  0.689125\n"
     ]
    },
    {
     "data": {
      "image/png": "[encoded data removed]",
      "text/plain": [
       "<Figure size 806.709x360 with 2 Axes>"
      ]
     },
     "metadata": {},
     "output_type": "display_data"
    }
   ],
   "source": [
    "import os\n",
    "import numpy as np\n",
    "import matplotlib.pyplot as plt\n",
    "from scipy.stats import ttest_rel\n",
    "\n",
    "df = df_window0\n",
    "def p(s):\n",
    "    i = s.keys()[0]\n",
    "    size = df.iloc[i][\"size\"]\n",
    "    window = df.iloc[i][\"window\"]\n",
    "    method = df.iloc[i][\"method\"]\n",
    "    model = df.iloc[i][\"model\"]\n",
    "\n",
    "    baseline_scores = df[(df[\"size\"] == size) & (df[\"model\"] == model) & (df[\"window\"] == window) & (df[\"method\"] == \"Baseline\")].score\n",
    "    scores = s.tolist()\n",
    "    return ttest_rel(baseline_scores, scores)[1]\n",
    "\n",
    "evaluate.plot_sns(df)\n",
    "print(df.groupby([\"size\", \"model\", \"method\", \"window\"], sort=False).aggregate([np.mean, np.std, p]))\n",
    "\n",
    "dir = \"concat_window0\"\n",
    "os.makedirs(dir, exist_ok=True)\n",
    "os.chdir(dir)\n",
    "\n",
    "#try:\n",
    "#    plt.savefig(\"plot.pdf\")\n",
    "#    df.groupby([\"size\", \"model\", \"method\", \"window\"], sort=False).aggregate([np.mean, np.std, p]).to_latex(\"table.tex\")\n",
    "#    df.groupby([\"size\", \"model\", \"method\", \"window\"], sort=False).aggregate([np.mean, np.std, p]).to_csv(\"table.csv\")\n",
    "#except e:\n",
    "#    print(e)\n",
    "#finally:\n",
    "#    os.chdir(\"..\")"
   ]
  }
 ],
 "metadata": {
  "kernelspec": {
   "display_name": "Python 3",
   "language": "python",
   "name": "python3"
  },
  "language_info": {
   "codemirror_mode": {
    "name": "ipython",
    "version": 3
   },
   "file_extension": ".py",
   "mimetype": "text/x-python",
   "name": "python",
   "nbconvert_exporter": "python",
   "pygments_lexer": "ipython3",
   "version": "3.7.0"
  }
 },
 "nbformat": 4,
 "nbformat_minor": 2
}

{
 "cells": [
  {
   "cell_type": "code",
   "execution_count": 1,
   "metadata": {},
   "outputs": [
    {
     "name": "stdout",
     "output_type": "stream",
     "text": [
      "/home/maarten/Documents/masterthesis/supervised\n"
     ]
    }
   ],
   "source": [
    "%cd ..\n",
    "%load_ext autoreload\n",
    "%autoreload 2\n",
    "\n",
    "import data\n",
    "import train\n",
    "import plot"
   ]
  },
  {
   "cell_type": "code",
   "execution_count": 2,
   "metadata": {
    "scrolled": true
   },
   "outputs": [
    {
     "name": "stderr",
     "output_type": "stream",
     "text": [
      "Creating dictionary: 100%|██████████| 5/5 [00:00<00:00,  9.91it/s]\n",
      "Loading samples:  21%|██        | 7469/35764 [00:41<02:37, 179.45it/s]\n"
     ]
    }
   ],
   "source": [
    "num_clusters = 3\n",
    "\n",
    "files = [f'../clusterlabeled-{num_clusters}/1800{i}.xml' for i in [1, 2, 3, 4, 5]]\n",
    "dataset = data.GermanDatasetInMemory(files, num_clusters, 100, 1000, 3, 0)"
   ]
  },
  {
   "cell_type": "code",
   "execution_count": 3,
   "metadata": {
    "scrolled": true
   },
   "outputs": [
    {
     "name": "stderr",
     "output_type": "stream",
     "text": [
      "Training: 100%|██████████| 100/100 [00:50<00:00,  2.00it/s, loss=11.6, Δloss=-0.858]\n",
      "Training: 100%|██████████| 100/100 [00:48<00:00,  2.06it/s, loss=15.4, Δloss=1.94] \n"
     ]
    },
    {
     "data": {
      "image/png": "[encoded data removed]",
      "text/plain": [
       "<matplotlib.figure.Figure at 0x7feee913edd8>"
      ]
     },
     "metadata": {},
     "output_type": "display_data"
    }
   ],
   "source": [
    "params = train.CNNParams(\n",
    "    embed_size=128,\n",
    "    dropout=0.5,\n",
    "    epochs=100,\n",
    "    num_filters=64\n",
    ")\n",
    "\n",
    "label_model, label_losses = train.setup_and_train(params, with_labels=True, dataset=dataset, batch_size=32)\n",
    "model, losses = train.setup_and_train(params, with_labels=False, dataset=dataset, batch_size=32)\n",
    "plot.plot({'with clusters': label_losses, 'without clusters': losses}, True)"
   ]
  },
  {
   "cell_type": "code",
   "execution_count": 9,
   "metadata": {},
   "outputs": [
    {
     "name": "stdout",
     "output_type": "stream",
     "text": [
      "\n",
      "----------------  --------\n",
      "f1                0.966184\n",
      "Speech recall     1\n",
      "Speech precision  0.934579\n",
      "----------------  --------\n",
      "\n",
      "----------------  --------\n",
      "f1                0.990099\n",
      "Speech recall     1\n",
      "Speech precision  0.980392\n",
      "----------------  --------\n"
     ]
    },
    {
     "data": {
      "text/plain": [
       "(0.9803921568627451, 1.0, 0.99009900990099)"
      ]
     },
     "execution_count": 9,
     "metadata": {},
     "output_type": "execute_result"
    }
   ],
   "source": [
    "train.evaluate_clf(model, data.get_iterator(dataset, [40]))\n",
    "train.evaluate_clf(label_model, data.get_iterator(dataset, [40]))"
   ]
  },
  {
   "cell_type": "code",
   "execution_count": null,
   "metadata": {},
   "outputs": [],
   "source": [
    "params = train.RNNParams(\n",
    "    embed_size=128,\n",
    "    dropout=0.5,\n",
    "    epochs=100,\n",
    "    hidden_size=64,\n",
    "    num_layers=1\n",
    ")\n",
    "\n",
    "label_model, label_losses = train.setup_and_train(params, with_labels=True, dataset=dataset, batch_size=32)\n",
    "model, losses = train.setup_and_train(params, with_labels=False, dataset=dataset, batch_size=32)\n",
    "plot.plot({'with clusters': label_losses, 'without clusters': losses}, True)"
   ]
  }
 ],
 "metadata": {
  "kernelspec": {
   "display_name": "Python 3",
   "language": "python",
   "name": "python3"
  },
  "language_info": {
   "codemirror_mode": {
    "name": "ipython",
    "version": 3
   },
   "file_extension": ".py",
   "mimetype": "text/x-python",
   "name": "python",
   "nbconvert_exporter": "python",
   "pygments_lexer": "ipython3",
   "version": "3.6.4"
  }
 },
 "nbformat": 4,
 "nbformat_minor": 2
}

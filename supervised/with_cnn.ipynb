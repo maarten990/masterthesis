{
 "cells": [
  {
   "cell_type": "code",
   "execution_count": 1,
   "metadata": {},
   "outputs": [],
   "source": [
    "%load_ext autoreload\n",
    "%autoreload 2\n",
    "\n",
    "import train\n",
    "import evaluate"
   ]
  },
  {
   "cell_type": "code",
   "execution_count": 11,
   "metadata": {},
   "outputs": [
    {
     "name": "stderr",
     "output_type": "stream",
     "text": [
      "Creating dictionary: 100%|██████████| 17/17 [00:03<00:00,  5.22it/s]\n",
      "Creating dictionary: 100%|██████████| 17/17 [00:03<00:00,  4.67it/s]\n",
      "\n",
      "  0%|          | 0/10 [00:00<?, ?it/s]\u001b[A"
     ]
    },
    {
     "name": "stdout",
     "output_type": "stream",
     "text": [
      "200 training samples, 1132 testing samples\n"
     ]
    },
    {
     "name": "stderr",
     "output_type": "stream",
     "text": [
      "Training:  22%|██▎       | 45/200 [00:10<00:25,  6.00it/s, f1=0.861, Δf1=0.0263]\n",
      "Training:  18%|█▊        | 35/200 [00:07<00:25,  6.53it/s, f1=0.857, Δf1=0.00994]\n",
      "Training:  35%|███▌      | 70/200 [00:14<00:20,  6.43it/s, f1=0.859, Δf1=-0.00802]\n",
      "Training:  30%|███       | 60/200 [00:13<00:21,  6.42it/s, f1=0.845, Δf1=-0.00124]\n",
      "Training:  20%|██        | 40/200 [00:08<00:24,  6.62it/s, f1=0.801, Δf1=-0.0209]\n",
      "Training:  18%|█▊        | 35/200 [00:07<00:25,  6.36it/s, f1=0.834, Δf1=-0.0148]\n",
      "Training:  20%|██        | 40/200 [00:08<00:24,  6.64it/s, f1=0.851, Δf1=-0.00392]\n",
      "Training:  20%|██        | 40/200 [00:08<00:25,  6.34it/s, f1=0.852, Δf1=-0.0291]\n",
      "Training:  18%|█▊        | 35/200 [00:07<00:22,  7.43it/s, f1=0.855, Δf1=0.0215]\n",
      "Training:  22%|██▎       | 45/200 [00:09<00:23,  6.47it/s, f1=0.861, Δf1=0.000461]\n",
      "100%|██████████| 10/10 [09:43<00:00, 58.18s/it]\u001b[A\n",
      "\u001b[A"
     ]
    }
   ],
   "source": [
    "params = train.CNNParams(\n",
    "    embed_size=100,\n",
    "    dropout=0.5,\n",
    "    epochs=200,\n",
    "    filters=[(33, 3), (33, 5), (33, 7)],\n",
    "    num_layers=1,\n",
    "    max_norm=3,\n",
    ")\n",
    "\n",
    "char_params = train.CharCNNParams(\n",
    "    dropout=0.5,\n",
    "    epochs=200,\n",
    "    max_norm=3,\n",
    ")\n",
    "\n",
    "word_results, char_results = evaluate.run(\n",
    "    params,\n",
    "    char_params,\n",
    "    training_sizes=[200],\n",
    "    window_sizes=[(1, 1)],\n",
    "    k=10,\n",
    "    kmeans_path=\"../clustered_data/15\",\n",
    "    num_clusters=15,\n",
    "    num_clusters_gmm=18,\n",
    "    use_cluster_cnn=True,\n",
    ")"
   ]
  },
  {
   "cell_type": "code",
   "execution_count": 13,
   "metadata": {},
   "outputs": [
    {
     "name": "stdout",
     "output_type": "stream",
     "text": [
      "Stored 'df' (DataFrame)\n"
     ]
    }
   ],
   "source": [
    "#%store -r\n",
    "#%store df"
   ]
  },
  {
   "cell_type": "code",
   "execution_count": 17,
   "metadata": {},
   "outputs": [
    {
     "name": "stdout",
     "output_type": "stream",
     "text": [
      "[0.8955282569595179, 0.9132497599857748, 0.9078126352154844, 0.9050328597079761, 0.8946415542700149, 0.8767849894365626, 0.8951242843621708, 0.8885806014885067, 0.9000957398737796, 0.9078277475552325]\n",
      "[0.8955282569595179, 0.9132497599857748, 0.9078126352154844, 0.9050328597079761, 0.8946415542700149, 0.8767849894365626, 0.8951242843621708, 0.8885806014885067, 0.9000957398737796, 0.9078277475552325]\n",
      "---\n",
      "[0.7689823499713312, 0.8231282645053009, 0.7764170844738971, 0.6677961782237094, 0.7998225684465589, 0.7955822693341087, 0.8292760616838524, 0.7970783831686883, 0.7770868191433915, 0.8022568674236686]\n",
      "[0.7689823499713312, 0.8231282645053009, 0.7764170844738971, 0.6677961782237094, 0.7998225684465589, 0.7955822693341087, 0.8292760616838524, 0.7970783831686883, 0.7770868191433915, 0.8022568674236686]\n",
      "---\n",
      "[0.8955282569595179, 0.9132497599857748, 0.9078126352154844, 0.9050328597079761, 0.8946415542700149, 0.8767849894365626, 0.8951242843621708, 0.8885806014885067, 0.9000957398737796, 0.9078277475552325]\n",
      "[0.9185604334225087, 0.9216350503800492, 0.9140307145998627, 0.8965727963724354, 0.930141200434273, 0.9042628800924813, 0.9172077476662224, 0.9343205890568498, 0.8826403630348912, 0.9203010769473762]\n",
      "---\n",
      "[0.7689823499713312, 0.8231282645053009, 0.7764170844738971, 0.6677961782237094, 0.7998225684465589, 0.7955822693341087, 0.8292760616838524, 0.7970783831686883, 0.7770868191433915, 0.8022568674236686]\n",
      "[0.8659901207515202, 0.8743893814867849, 0.8380421151502032, 0.8556218963354375, 0.8732029233885431, 0.8889933557868002, 0.8355802563481707, 0.8851890294031233, 0.8125521828694211, 0.8970267801550053]\n",
      "---\n",
      "[0.8955282569595179, 0.9132497599857748, 0.9078126352154844, 0.9050328597079761, 0.8946415542700149, 0.8767849894365626, 0.8951242843621708, 0.8885806014885067, 0.9000957398737796, 0.9078277475552325]\n",
      "[0.9362970015817985, 0.9360082048682453, 0.9301617245698278, 0.9323749553227215, 0.9309589816092217, 0.9298967478186791, 0.9368885380796383, 0.9299351735197141, 0.9410813988716964, 0.9349279158262883]\n",
      "---\n",
      "[0.7689823499713312, 0.8231282645053009, 0.7764170844738971, 0.6677961782237094, 0.7998225684465589, 0.7955822693341087, 0.8292760616838524, 0.7970783831686883, 0.7770868191433915, 0.8022568674236686]\n",
      "[0.9387073179879706, 0.9405717514220269, 0.9239608635028318, 0.9288288907748777, 0.9463087808246508, 0.9205295623967503, 0.8980513239748407, 0.9495894292304664, 0.9577966325979128, 0.9214860928903102]\n",
      "---\n",
      "[0.9185604334225087, 0.9216350503800492, 0.9140307145998627, 0.8965727963724354, 0.930141200434273, 0.9042628800924813, 0.9172077476662224, 0.9343205890568498, 0.8826403630348912, 0.9203010769473762]\n",
      "[0.9418250309810602, 0.9267890503926451, 0.9403699531531061, 0.9309589816092217, 0.9371117143679052, 0.9432612628245151, 0.9371649034287417, 0.9262860412258621, 0.9294153254763251, 0.9337450571630923]\n",
      "---\n",
      "[0.8659901207515202, 0.8743893814867849, 0.8380421151502032, 0.8556218963354375, 0.8732029233885431, 0.8889933557868002, 0.8355802563481707, 0.8851890294031233, 0.8125521828694211, 0.8970267801550053]\n",
      "[0.9464107300467809, 0.9603358785324884, 0.9431622428086655, 0.6662225183211193, 0.9366637722457646, 0.9486528537205985, 0.9644125642559398, 0.9387073179879706, 0.9254592831465595, 0.9301577416642615]\n",
      "---\n",
      "                                  score                    \n",
      "                                   mean       std         p\n",
      "size model    method   window                              \n",
      "200  TokenCNN Baseline 2       0.898468  0.010758       NaN\n",
      "              K-Means  2       0.891624  0.016778  0.137218\n",
      "              GMM      2       0.891488  0.021406  0.151153\n",
      "     CharCNN  Baseline 2       0.783743  0.045097       NaN\n",
      "              K-Means  2       0.810085  0.016098  0.130897\n",
      "              GMM      2       0.814530  0.017477  0.076839\n",
      "800  TokenCNN Baseline 2       0.913967  0.015579  0.031964\n",
      "              K-Means  2       0.918634  0.011932  0.000445\n",
      "              GMM      2       0.916609  0.012433  0.009175\n",
      "     CharCNN  Baseline 2       0.862659  0.026960  0.000589\n",
      "              K-Means  2       0.876647  0.020433  0.000113\n",
      "              GMM      2       0.878800  0.029204  0.000768\n",
      "2000 TokenCNN Baseline 2       0.933853  0.003777  0.000001\n",
      "              K-Means  2       0.934332  0.008306  0.000023\n",
      "              GMM      2       0.932250  0.017747  0.000678\n",
      "     CharCNN  Baseline 2       0.932583  0.017524  0.000006\n",
      "              K-Means  2       0.941213  0.009163  0.000004\n",
      "              GMM      2       0.945431  0.010430  0.000002\n",
      "2400 TokenCNN Baseline 2       0.934693  0.006185  0.003652\n",
      "              K-Means  2       0.935518  0.007420  0.002374\n",
      "              GMM      2       0.941771  0.008515  0.001481\n",
      "     CharCNN  Baseline 2       0.916018  0.088606  0.094142\n",
      "              K-Means  2       0.947768  0.011054  0.000010\n",
      "              GMM      2       0.949410  0.009640  0.000004\n"
     ]
    },
    {
     "data": {
      "image/png": "[encoded data removed]",
      "text/plain": [
       "<Figure size 806.709x360 with 2 Axes>"
      ]
     },
     "metadata": {},
     "output_type": "display_data"
    }
   ],
   "source": [
    "import numpy as np\n",
    "import matplotlib.pyplot as plt\n",
    "from scipy.stats import ttest_rel\n",
    "\n",
    "def p(s):\n",
    "    i = s.keys()[0]\n",
    "    size = df.iloc[i][\"size\"]\n",
    "    window = df.iloc[i][\"window\"]\n",
    "    method = df.iloc[i][\"method\"]\n",
    "    model = df.iloc[i][\"model\"]\n",
    "\n",
    "    baseline_scores = df[(df[\"size\"] == size) & (df[\"model\"] == model) & (df[\"window\"] == window) & (df[\"method\"] == \"Baseline\")].score\n",
    "    scores = s.tolist()\n",
    "    if method == \"Baseline\":\n",
    "        print(baseline_scores.tolist())\n",
    "        print(scores)\n",
    "        print(\"---\")\n",
    "    return ttest_rel(baseline_scores, scores)[1]\n",
    "\n",
    "evaluate.plot_sns(df)\n",
    "print(df.groupby([\"size\", \"model\", \"method\", \"window\"], sort=False).aggregate([np.mean, np.std, p]))"
   ]
  },
  {
   "cell_type": "code",
   "execution_count": 89,
   "metadata": {},
   "outputs": [
    {
     "name": "stdout",
     "output_type": "stream",
     "text": [
      "                                  score\n",
      "size model    method   window          \n",
      "2000 CharCNN  Baseline 2            NaN\n",
      "              GMM      2       0.043370\n",
      "              K-Means  2       0.239364\n",
      "     TokenCNN Baseline 2            NaN\n",
      "              GMM      2       0.765942\n",
      "              K-Means  2       0.823073\n",
      "2400 CharCNN  Baseline 2            NaN\n",
      "              GMM      2       0.255173\n",
      "              K-Means  2       0.272642\n",
      "     TokenCNN Baseline 2            NaN\n",
      "              GMM      2       0.100424\n",
      "              K-Means  2       0.738582\n"
     ]
    }
   ],
   "source": [
    "from scipy.stats import ttest_rel\n",
    "\n",
    "def sign_test(s):\n",
    "    i = s.keys()[0]\n",
    "    size = df.iloc[i][\"size\"]\n",
    "    window = df.iloc[i][\"window\"]\n",
    "    method = df.iloc[i][\"method\"]\n",
    "    model = df.iloc[i][\"model\"]\n",
    "\n",
    "    baseline_scores = df[(df[\"size\"] == size) & (df[\"model\"] == model) & (df[\"window\"] == window) & (df[\"method\"] == \"Baseline\")].score\n",
    "    scores = s.tolist()\n",
    "    return ttest_rel(baseline_scores, scores)[1]\n",
    "\n",
    "print(df.groupby([\"size\", \"model\", \"method\", \"window\"]).aggregate(fn))"
   ]
  }
 ],
 "metadata": {
  "kernelspec": {
   "display_name": "Python 3",
   "language": "python",
   "name": "python3"
  },
  "language_info": {
   "codemirror_mode": {
    "name": "ipython",
    "version": 3
   },
   "file_extension": ".py",
   "mimetype": "text/x-python",
   "name": "python",
   "nbconvert_exporter": "python",
   "pygments_lexer": "ipython3",
   "version": "3.7.0"
  }
 },
 "nbformat": 4,
 "nbformat_minor": 2
}

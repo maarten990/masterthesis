{
 "cells": [
  {
   "cell_type": "code",
   "execution_count": 3,
   "metadata": {},
   "outputs": [],
   "source": [
    "%load_ext autoreload\n",
    "%autoreload 2\n",
    "\n",
    "import train\n",
    "import evaluate"
   ]
  },
  {
   "cell_type": "code",
   "execution_count": 6,
   "metadata": {},
   "outputs": [
    {
     "name": "stderr",
     "output_type": "stream",
     "text": [
      "Creating dictionary: 100%|██████████| 17/17 [00:04<00:00,  4.18it/s]\n",
      "  0%|          | 0/10 [00:00<?, ?it/s]\u001b[A"
     ]
    },
    {
     "name": "stdout",
     "output_type": "stream",
     "text": [
      "200 training samples, 1132 testing samples\n"
     ]
    },
    {
     "name": "stderr",
     "output_type": "stream",
     "text": [
      "Training:  18%|█▊        | 35/200 [00:07<00:26,  6.31it/s, f1=0.879, Δf1=-0.00986]\n",
      "Training:  25%|██▌       | 50/200 [00:10<00:23,  6.26it/s, f1=0.85, Δf1=-0.0112]\n",
      "Training:  18%|█▊        | 35/200 [00:07<00:26,  6.21it/s, f1=0.885, Δf1=-0.00794]\n",
      "Training:  22%|██▎       | 45/200 [00:10<00:27,  5.60it/s, f1=0.853, Δf1=0.0224]\n",
      "Training:  18%|█▊        | 35/200 [00:07<00:26,  6.23it/s, f1=0.848, Δf1=-0.0154]\n",
      "Training:  15%|█▌        | 30/200 [00:06<00:27,  6.23it/s, f1=0.831, Δf1=-0.0296]\n",
      "Training:  18%|█▊        | 35/200 [00:07<00:26,  6.21it/s, f1=0.834, Δf1=-0.0122]\n",
      "Training:  20%|██        | 40/200 [00:08<00:24,  6.47it/s, f1=0.86, Δf1=-0.00409]\n",
      "Training:  20%|██        | 40/200 [00:08<00:27,  5.77it/s, f1=0.845, Δf1=-0.014]\n",
      "Training:  22%|██▎       | 45/200 [00:10<00:25,  6.19it/s, f1=0.908, Δf1=-0.00108]\n",
      "100%|██████████| 10/10 [09:20<00:00, 52.85s/it]\u001b[A\n",
      "Creating dictionary: 100%|██████████| 17/17 [00:04<00:00,  4.41it/s]\n",
      "  0%|          | 0/10 [00:00<?, ?it/s]\u001b[A"
     ]
    },
    {
     "name": "stdout",
     "output_type": "stream",
     "text": [
      "800 training samples, 1132 testing samples\n"
     ]
    },
    {
     "name": "stderr",
     "output_type": "stream",
     "text": [
      "Training:  15%|█▌        | 30/200 [00:15<01:23,  2.03it/s, f1=0.898, Δf1=-0.00886]\n",
      "Training:  20%|██        | 40/200 [00:21<01:13,  2.17it/s, f1=0.923, Δf1=-0.000477]\n",
      "Training:  20%|██        | 40/200 [00:22<01:18,  2.04it/s, f1=0.918, Δf1=-0.000673]\n",
      "Training:  20%|██        | 40/200 [00:21<01:14,  2.14it/s, f1=0.924, Δf1=0.000138]\n",
      "Training:  18%|█▊        | 35/200 [00:19<01:25,  1.94it/s, f1=0.921, Δf1=-0.00569]\n",
      "Training:  12%|█▎        | 25/200 [00:13<01:24,  2.06it/s, f1=0.92, Δf1=0.00536]\n",
      "Training:  22%|██▎       | 45/200 [00:23<01:15,  2.05it/s, f1=0.931, Δf1=-0.00305]\n",
      "Training:  18%|█▊        | 35/200 [00:18<01:20,  2.05it/s, f1=0.921, Δf1=0.00111]\n",
      "Training:  22%|██▎       | 45/200 [00:24<01:14,  2.08it/s, f1=0.924, Δf1=-0.000709]\n",
      "Training:  25%|██▌       | 50/200 [00:26<01:12,  2.07it/s, f1=0.923, Δf1=-0.00372]\n",
      "100%|██████████| 10/10 [21:48<00:00, 138.50s/it]\u001b[A\n",
      "Creating dictionary: 100%|██████████| 17/17 [00:04<00:00,  3.93it/s]\n",
      "  0%|          | 0/10 [00:00<?, ?it/s]\u001b[A"
     ]
    },
    {
     "name": "stdout",
     "output_type": "stream",
     "text": [
      "1600 training samples, 1132 testing samples\n"
     ]
    },
    {
     "name": "stderr",
     "output_type": "stream",
     "text": [
      "Training:  15%|█▌        | 30/200 [00:29<02:36,  1.08it/s, f1=0.947, Δf1=0.00263]\n",
      "Training:  15%|█▌        | 30/200 [00:28<02:34,  1.10it/s, f1=0.937, Δf1=0.000644]\n",
      "Training:  15%|█▌        | 30/200 [00:28<02:39,  1.07it/s, f1=0.938, Δf1=-0.00196]\n",
      "Training:  20%|██        | 40/200 [00:37<02:22,  1.12it/s, f1=0.931, Δf1=0.000103]\n",
      "Training:  20%|██        | 40/200 [00:37<02:22,  1.12it/s, f1=0.956, Δf1=0.000494]\n",
      "Training:  25%|██▌       | 50/200 [00:46<02:09,  1.16it/s, f1=0.953, Δf1=0.000492]\n",
      "Training:  25%|██▌       | 50/200 [00:47<02:15,  1.11it/s, f1=0.941, Δf1=-0.00389]\n",
      "Training:  12%|█▎        | 25/200 [00:23<02:32,  1.15it/s, f1=0.95, Δf1=0.014]\n",
      "Training:  35%|███▌      | 70/200 [01:05<01:54,  1.14it/s, f1=0.953, Δf1=0.000546]\n",
      "Training:  15%|█▌        | 30/200 [00:28<02:30,  1.13it/s, f1=0.942, Δf1=-0.00845]\n",
      "100%|██████████| 10/10 [35:29<00:00, 218.84s/it]\u001b[A\n",
      "Creating dictionary: 100%|██████████| 17/17 [00:04<00:00,  4.13it/s]\n",
      "  0%|          | 0/10 [00:00<?, ?it/s]\u001b[A"
     ]
    },
    {
     "name": "stdout",
     "output_type": "stream",
     "text": [
      "2400 training samples, 1132 testing samples\n"
     ]
    },
    {
     "name": "stderr",
     "output_type": "stream",
     "text": [
      "Training:  20%|██        | 40/200 [00:54<03:27,  1.29s/it, f1=0.957, Δf1=4.39e-05]\n",
      "Training:  20%|██        | 40/200 [00:53<03:23,  1.27s/it, f1=0.957, Δf1=0.00413]\n",
      "Training:  18%|█▊        | 35/200 [00:47<03:32,  1.29s/it, f1=0.949, Δf1=-0.000703]\n",
      "Training:  15%|█▌        | 30/200 [00:40<03:43,  1.32s/it, f1=0.944, Δf1=-0.00844]\n",
      "Training:  15%|█▌        | 30/200 [00:41<03:43,  1.32s/it, f1=0.961, Δf1=0.0094]\n",
      "Training:  18%|█▊        | 35/200 [00:48<03:46,  1.37s/it, f1=0.953, Δf1=0.0164]\n",
      "Training:  18%|█▊        | 35/200 [00:48<03:35,  1.31s/it, f1=0.959, Δf1=-0.0011]\n",
      "Training:  15%|█▌        | 30/200 [00:41<03:42,  1.31s/it, f1=0.955, Δf1=-0.00331]\n",
      "Training:  15%|█▌        | 30/200 [00:40<03:49,  1.35s/it, f1=0.948, Δf1=-0.00108]\n",
      "Training:  20%|██        | 40/200 [00:57<03:44,  1.40s/it, f1=0.944, Δf1=-0.00103]\n",
      "100%|██████████| 10/10 [47:38<00:00, 275.12s/it]\u001b[A\n",
      "\u001b[A"
     ]
    }
   ],
   "source": [
    "params = train.CNNParams(\n",
    "    embed_size=100,\n",
    "    dropout=0.5,\n",
    "    epochs=200,\n",
    "    filters=[(33, 3), (33, 5), (33, 7)],\n",
    "    num_layers=1,\n",
    "    max_norm=3,\n",
    ")\n",
    "\n",
    "char_params = train.CharCNNParams(\n",
    "    dropout=0.5,\n",
    "    epochs=200,\n",
    "    max_norm=3,\n",
    ")\n",
    "\n",
    "word_results, char_results = evaluate.run(\n",
    "    params,\n",
    "    char_params,\n",
    "    training_sizes=[200, 800, 1600, 2400],\n",
    "    window_sizes=[(1, 1)],\n",
    "    k=10,\n",
    "    kmeans_path=\"../clustered_data/15\",\n",
    "    num_clusters=15,\n",
    "    num_clusters_gmm=18,\n",
    "    use_cluster_cnn=False,\n",
    ")"
   ]
  },
  {
   "cell_type": "code",
   "execution_count": 7,
   "metadata": {},
   "outputs": [],
   "source": [
    "df = evaluate.results_to_dataframe(word_results, char_results)"
   ]
  },
  {
   "cell_type": "code",
   "execution_count": 1,
   "metadata": {},
   "outputs": [],
   "source": [
    "%store -r\n",
    "#%store df"
   ]
  },
  {
   "cell_type": "code",
   "execution_count": 13,
   "metadata": {},
   "outputs": [
    {
     "name": "stdout",
     "output_type": "stream",
     "text": [
      "                                  score                    \n",
      "                                   mean       std         p\n",
      "size model    method   window                              \n",
      "200  TokenCNN Baseline 2       0.896867  0.018039       NaN\n",
      "              K-Means  2       0.888007  0.019029  0.220668\n",
      "              GMM      2       0.902115  0.017403  0.361124\n",
      "     CharCNN  Baseline 2       0.801758  0.013181       NaN\n",
      "              K-Means  2       0.810543  0.023603  0.247247\n",
      "              GMM      2       0.817081  0.019151  0.032081\n",
      "800  TokenCNN Baseline 2       0.911518  0.017853       NaN\n",
      "              K-Means  2       0.918476  0.011952  0.180168\n",
      "              GMM      2       0.922998  0.012257  0.040202\n",
      "     CharCNN  Baseline 2       0.872063  0.026919       NaN\n",
      "              K-Means  2       0.874940  0.014133  0.682622\n",
      "              GMM      2       0.884419  0.014278  0.175987\n",
      "1600 TokenCNN Baseline 2       0.930112  0.011441       NaN\n",
      "              K-Means  2       0.933170  0.010388  0.526276\n",
      "              GMM      2       0.942235  0.009344  0.040739\n",
      "     CharCNN  Baseline 2       0.927380  0.017812       NaN\n",
      "              K-Means  2       0.924949  0.010252  0.746755\n",
      "              GMM      2       0.932039  0.013842  0.446445\n",
      "2400 TokenCNN Baseline 2       0.932687  0.009444       NaN\n",
      "              K-Means  2       0.936090  0.009196  0.387427\n",
      "              GMM      2       0.941391  0.010182  0.019838\n",
      "     CharCNN  Baseline 2       0.947223  0.012554       NaN\n",
      "              K-Means  2       0.935048  0.018132  0.054552\n",
      "              GMM      2       0.947987  0.013730  0.896192\n"
     ]
    },
    {
     "data": {
      "image/png": "[encoded data removed]",
      "text/plain": [
       "<Figure size 806.709x360 with 2 Axes>"
      ]
     },
     "metadata": {},
     "output_type": "display_data"
    }
   ],
   "source": [
    "import os\n",
    "import numpy as np\n",
    "import matplotlib.pyplot as plt\n",
    "from scipy.stats import ttest_rel\n",
    "\n",
    "def p(s):\n",
    "    i = s.keys()[0]\n",
    "    size = df.iloc[i][\"size\"]\n",
    "    window = df.iloc[i][\"window\"]\n",
    "    method = df.iloc[i][\"method\"]\n",
    "    model = df.iloc[i][\"model\"]\n",
    "\n",
    "    baseline_scores = df[(df[\"size\"] == size) & (df[\"model\"] == model) & (df[\"window\"] == window) & (df[\"method\"] == \"Baseline\")].score\n",
    "    scores = s.tolist()\n",
    "    return ttest_rel(baseline_scores, scores)[1]\n",
    "\n",
    "evaluate.plot_sns(df)\n",
    "print(df.groupby([\"size\", \"model\", \"method\", \"window\"], sort=False).aggregate([np.mean, np.std, p]))\n",
    "\n",
    "dir = \"concat_window2\"\n",
    "os.makedirs(dir, exist_ok=True)\n",
    "os.chdir(dir)\n",
    "\n",
    "try:\n",
    "    plt.savefig(\"plot.pdf\")\n",
    "    df.groupby([\"size\", \"model\", \"method\", \"window\"], sort=False).aggregate([np.mean, np.std, p]).to_latex(\"table.tex\")\n",
    "except e:\n",
    "    print(e)\n",
    "finally:\n",
    "    os.chdir(\"..\")"
   ]
  }
 ],
 "metadata": {
  "kernelspec": {
   "display_name": "Python 3",
   "language": "python",
   "name": "python3"
  },
  "language_info": {
   "codemirror_mode": {
    "name": "ipython",
    "version": 3
   },
   "file_extension": ".py",
   "mimetype": "text/x-python",
   "name": "python",
   "nbconvert_exporter": "python",
   "pygments_lexer": "ipython3",
   "version": "3.7.0"
  }
 },
 "nbformat": 4,
 "nbformat_minor": 2
}

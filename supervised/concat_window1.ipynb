{
 "cells": [
  {
   "cell_type": "code",
   "execution_count": 1,
   "metadata": {},
   "outputs": [],
   "source": [
    "%load_ext autoreload\n",
    "%autoreload 2\n",
    "\n",
    "import train\n",
    "import evaluate"
   ]
  },
  {
   "cell_type": "code",
   "execution_count": 2,
   "metadata": {},
   "outputs": [
    {
     "name": "stderr",
     "output_type": "stream",
     "text": [
      "Creating dictionary: 100%|██████████| 17/17 [00:04<00:00,  3.91it/s]\n",
      "Creating dictionary: 100%|██████████| 17/17 [00:03<00:00,  5.22it/s]\n",
      "\n",
      "  0%|          | 0/10 [00:00<?, ?it/s]\u001b[A"
     ]
    },
    {
     "name": "stdout",
     "output_type": "stream",
     "text": [
      "200 training samples, 1132 testing samples\n"
     ]
    },
    {
     "name": "stderr",
     "output_type": "stream",
     "text": [
      "Training:  18%|█▊        | 35/200 [00:06<00:30,  5.44it/s, f1=0.831, Δf1=-0.0258]\n",
      "Training:  28%|██▊       | 55/200 [00:09<00:24,  5.83it/s, f1=0.9, Δf1=-0.0111]\n",
      "Training:  28%|██▊       | 55/200 [00:09<00:21,  6.78it/s, f1=0.886, Δf1=-0.00313]\n",
      "Training:  35%|███▌      | 70/200 [00:12<00:23,  5.48it/s, f1=0.889, Δf1=-0.0199]\n",
      "Training:  20%|█▉        | 39/200 [00:07<00:29,  5.38it/s, f1=0.862, Δf1=0.00296]\n",
      "Training:  30%|███       | 60/200 [00:10<00:25,  5.42it/s, f1=0.918, Δf1=-0.00116]\n",
      "Training:  15%|█▌        | 30/200 [00:05<00:32,  5.26it/s, f1=0.902, Δf1=0.0133]\n",
      "Training:  18%|█▊        | 35/200 [00:06<00:30,  5.43it/s, f1=0.901, Δf1=0.0555]\n",
      "Training:  32%|███▎      | 65/200 [00:11<00:24,  5.46it/s, f1=0.912, Δf1=4.43e-05]\n",
      "Training:  25%|██▌       | 50/200 [00:08<00:27,  5.43it/s, f1=0.89, Δf1=-0.011]\n",
      "100%|██████████| 10/10 [08:18<00:00, 47.31s/it]\u001b[A\n",
      "Creating dictionary: 100%|██████████| 17/17 [00:03<00:00,  5.00it/s]\n",
      "Creating dictionary: 100%|██████████| 17/17 [00:03<00:00,  4.27it/s]\n",
      "\n",
      "  0%|          | 0/10 [00:00<?, ?it/s]\u001b[A"
     ]
    },
    {
     "name": "stdout",
     "output_type": "stream",
     "text": [
      "800 training samples, 1132 testing samples\n"
     ]
    },
    {
     "name": "stderr",
     "output_type": "stream",
     "text": [
      "Training:  15%|█▌        | 30/200 [00:13<01:07,  2.51it/s, f1=0.933, Δf1=0.00557]\n",
      "Training:  28%|██▊       | 55/200 [00:24<00:59,  2.45it/s, f1=0.956, Δf1=-0.00239]\n",
      "Training:  12%|█▎        | 25/200 [00:11<01:13,  2.38it/s, f1=0.923, Δf1=-0.00721]\n",
      "Training:  12%|█▎        | 25/200 [00:11<01:12,  2.42it/s, f1=0.951, Δf1=-0.00159]\n",
      "Training:  15%|█▌        | 30/200 [00:13<01:12,  2.36it/s, f1=0.935, Δf1=-0.00268]\n",
      "Training:  12%|█▎        | 25/200 [00:10<01:05,  2.65it/s, f1=0.93, Δf1=-0.00962]\n",
      "Training:  30%|███       | 60/200 [00:25<00:50,  2.75it/s, f1=0.932, Δf1=-0.000489]\n",
      "Training:  22%|██▎       | 45/200 [00:19<01:00,  2.58it/s, f1=0.939, Δf1=-0.00172]\n",
      "Training:  12%|█▎        | 25/200 [00:10<01:05,  2.69it/s, f1=0.938, Δf1=-0.000566]\n",
      "Training:  22%|██▎       | 45/200 [00:18<00:59,  2.62it/s, f1=0.951, Δf1=-0.00181]\n",
      "100%|██████████| 10/10 [18:30<00:00, 108.33s/it]\u001b[A\n",
      "Creating dictionary: 100%|██████████| 17/17 [00:03<00:00,  5.19it/s]\n",
      "Creating dictionary: 100%|██████████| 17/17 [00:03<00:00,  4.41it/s]\n",
      "\n",
      "  0%|          | 0/10 [00:00<?, ?it/s]\u001b[A"
     ]
    },
    {
     "name": "stdout",
     "output_type": "stream",
     "text": [
      "1600 training samples, 1132 testing samples\n"
     ]
    },
    {
     "name": "stderr",
     "output_type": "stream",
     "text": [
      "Training:  25%|██▌       | 50/200 [00:38<01:43,  1.45it/s, f1=0.97, Δf1=3.02e-05]\n",
      "Training:  22%|██▎       | 45/200 [00:34<01:53,  1.37it/s, f1=0.975, Δf1=7.5e-05]\n",
      "Training:  18%|█▊        | 35/200 [00:26<01:56,  1.42it/s, f1=0.959, Δf1=-0.000567]\n",
      "Training:  22%|██▎       | 45/200 [00:34<01:48,  1.42it/s, f1=0.97, Δf1=-5.98e-05]\n",
      "Training:  20%|██        | 40/200 [00:30<01:53,  1.41it/s, f1=0.97, Δf1=-0.000521]\n",
      "Training:  18%|█▊        | 35/200 [00:26<01:59,  1.38it/s, f1=0.961, Δf1=-0.00603]\n",
      "Training:  15%|█▌        | 30/200 [00:23<02:08,  1.32it/s, f1=0.953, Δf1=0.000694]\n",
      "Training:  18%|█▊        | 35/200 [00:27<01:58,  1.39it/s, f1=0.957, Δf1=0.00104]\n",
      "Training:  12%|█▎        | 25/200 [00:20<02:08,  1.36it/s, f1=0.96, Δf1=4.02e-05]\n",
      "Training:  15%|█▌        | 30/200 [00:23<02:04,  1.37it/s, f1=0.957, Δf1=8.75e-05]\n",
      "100%|██████████| 10/10 [27:12<00:00, 161.66s/it]\u001b[A\n",
      "Creating dictionary: 100%|██████████| 17/17 [00:03<00:00,  4.54it/s]\n",
      "Creating dictionary: 100%|██████████| 17/17 [00:03<00:00,  4.54it/s]\n",
      "\n",
      "  0%|          | 0/10 [00:00<?, ?it/s]\u001b[A"
     ]
    },
    {
     "name": "stdout",
     "output_type": "stream",
     "text": [
      "2400 training samples, 1132 testing samples\n"
     ]
    },
    {
     "name": "stderr",
     "output_type": "stream",
     "text": [
      "Training:  12%|█▎        | 25/200 [00:27<03:06,  1.07s/it, f1=0.954, Δf1=-0.00257]\n",
      "Training:  30%|███       | 60/200 [01:06<02:27,  1.05s/it, f1=0.972, Δf1=0]\n",
      "Training:  12%|█▎        | 25/200 [00:27<03:05,  1.06s/it, f1=0.957, Δf1=0.00415]\n",
      "Training:  12%|█▎        | 25/200 [00:28<03:02,  1.05s/it, f1=0.955, Δf1=0.00331]\n",
      "Training:  12%|█▎        | 25/200 [00:27<03:12,  1.10s/it, f1=0.971, Δf1=0.0191]\n",
      "Training:  18%|█▊        | 35/200 [00:38<02:54,  1.06s/it, f1=0.968, Δf1=0.00273]\n",
      "Training:  18%|█▊        | 35/200 [00:38<02:55,  1.06s/it, f1=0.967, Δf1=3.37e-05]\n",
      "Training:  20%|██        | 40/200 [00:43<02:51,  1.07s/it, f1=0.958, Δf1=0.000764]\n",
      "Training:  12%|█▎        | 25/200 [00:28<03:09,  1.08s/it, f1=0.961, Δf1=-0.00876]\n",
      "Training:  15%|█▌        | 30/200 [00:33<03:01,  1.07s/it, f1=0.954, Δf1=-0.000594]\n",
      "100%|██████████| 10/10 [39:10<00:00, 223.04s/it]\u001b[A\n",
      "\u001b[A"
     ]
    }
   ],
   "source": [
    "params = train.CNNParams(\n",
    "    embed_size=100,\n",
    "    dropout=0.5,\n",
    "    epochs=200,\n",
    "    filters=[(33, 3), (33, 5), (33, 7)],\n",
    "    num_layers=1,\n",
    "    max_norm=3,\n",
    ")\n",
    "\n",
    "char_params = train.CharCNNParams(\n",
    "    dropout=0.5,\n",
    "    epochs=200,\n",
    "    max_norm=3,\n",
    ")\n",
    "\n",
    "word_results, char_results = evaluate.run(\n",
    "    params,\n",
    "    char_params,\n",
    "    training_sizes=[200, 800, 1600, 2400],\n",
    "    window_sizes=[(0, 1)],\n",
    "    k=10,\n",
    "    kmeans_path=\"../clustered_data/15\",\n",
    "    num_clusters=15,\n",
    "    num_clusters_gmm=18,\n",
    "    use_cluster_cnn=False,\n",
    ")"
   ]
  },
  {
   "cell_type": "code",
   "execution_count": 3,
   "metadata": {},
   "outputs": [],
   "source": [
    "df = evaluate.results_to_dataframe(word_results, char_results)"
   ]
  },
  {
   "cell_type": "code",
   "execution_count": 4,
   "metadata": {},
   "outputs": [
    {
     "name": "stdout",
     "output_type": "stream",
     "text": [
      "Stored 'df' (DataFrame)\n"
     ]
    }
   ],
   "source": [
    "%store -r\n",
    "#%store df"
   ]
  },
  {
   "cell_type": "code",
   "execution_count": 6,
   "metadata": {},
   "outputs": [
    {
     "name": "stdout",
     "output_type": "stream",
     "text": [
      "                                  score                    \n",
      "                                   mean       std         p\n",
      "size model    method   window                              \n",
      "200  TokenCNN Baseline 1       0.903213  0.031109       NaN\n",
      "              K-Means  1       0.913683  0.024965  0.231337\n",
      "              GMM      1       0.907801  0.024409  0.665497\n",
      "     CharCNN  Baseline 1       0.842423  0.030100       NaN\n",
      "              K-Means  1       0.868119  0.053041  0.196632\n",
      "              GMM      1       0.856167  0.028201  0.350039\n",
      "800  TokenCNN Baseline 1       0.928714  0.010090       NaN\n",
      "              K-Means  1       0.925625  0.011033  0.549978\n",
      "              GMM      1       0.931660  0.009074  0.316903\n",
      "     CharCNN  Baseline 1       0.912924  0.018587       NaN\n",
      "              K-Means  1       0.907655  0.021346  0.444616\n",
      "              GMM      1       0.913710  0.031156  0.937875\n",
      "1600 TokenCNN Baseline 1       0.943318  0.012124       NaN\n",
      "              K-Means  1       0.941187  0.010557  0.671879\n",
      "              GMM      1       0.942694  0.011592  0.908802\n",
      "     CharCNN  Baseline 1       0.926970  0.017599       NaN\n",
      "              K-Means  1       0.908788  0.025587  0.075737\n",
      "              GMM      1       0.933245  0.022380  0.496563\n",
      "2400 TokenCNN Baseline 1       0.947131  0.014997       NaN\n",
      "              K-Means  1       0.937824  0.011502  0.106627\n",
      "              GMM      1       0.937085  0.014767  0.022104\n",
      "     CharCNN  Baseline 1       0.938393  0.026881       NaN\n",
      "              K-Means  1       0.937922  0.018200  0.957491\n",
      "              GMM      1       0.951899  0.015210  0.156475\n"
     ]
    },
    {
     "data": {
      "image/png": "[encoded data removed]",
      "text/plain": [
       "<Figure size 806.709x360 with 2 Axes>"
      ]
     },
     "metadata": {},
     "output_type": "display_data"
    }
   ],
   "source": [
    "import os\n",
    "import numpy as np\n",
    "import matplotlib.pyplot as plt\n",
    "from scipy.stats import ttest_rel\n",
    "\n",
    "def p(s):\n",
    "    i = s.keys()[0]\n",
    "    size = df.iloc[i][\"size\"]\n",
    "    window = df.iloc[i][\"window\"]\n",
    "    method = df.iloc[i][\"method\"]\n",
    "    model = df.iloc[i][\"model\"]\n",
    "\n",
    "    baseline_scores = df[(df[\"size\"] == size) & (df[\"model\"] == model) & (df[\"window\"] == window) & (df[\"method\"] == \"Baseline\")].score\n",
    "    scores = s.tolist()\n",
    "    return ttest_rel(baseline_scores, scores)[1]\n",
    "\n",
    "evaluate.plot_sns(df)\n",
    "print(df.groupby([\"size\", \"model\", \"method\", \"window\"], sort=False).aggregate([np.mean, np.std, p]))\n",
    "\n",
    "dir = \"concat_window1\"\n",
    "os.makedirs(dir, exist_ok=True)\n",
    "os.chdir(dir)\n",
    "\n",
    "try:\n",
    "    plt.savefig(\"plot.pdf\")\n",
    "    df.groupby([\"size\", \"model\", \"method\", \"window\"], sort=False).aggregate([np.mean, np.std, p]).to_latex(\"table.tex\")\n",
    "except e:\n",
    "    print(e)\n",
    "finally:\n",
    "    os.chdir(\"..\")"
   ]
  }
 ],
 "metadata": {
  "kernelspec": {
   "display_name": "Python 3",
   "language": "python",
   "name": "python3"
  },
  "language_info": {
   "codemirror_mode": {
    "name": "ipython",
    "version": 3
   },
   "file_extension": ".py",
   "mimetype": "text/x-python",
   "name": "python",
   "nbconvert_exporter": "python",
   "pygments_lexer": "ipython3",
   "version": "3.7.0"
  }
 },
 "nbformat": 4,
 "nbformat_minor": 2
}

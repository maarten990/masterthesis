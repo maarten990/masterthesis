{
 "cells": [
  {
   "cell_type": "code",
   "execution_count": 1,
   "metadata": {},
   "outputs": [],
   "source": [
    "%load_ext autoreload\n",
    "%autoreload 2\n",
    "\n",
    "import train\n",
    "import evaluate"
   ]
  },
  {
   "cell_type": "code",
   "execution_count": 2,
   "metadata": {},
   "outputs": [
    {
     "name": "stderr",
     "output_type": "stream",
     "text": [
      "Creating dictionary: 100%|██████████| 17/17 [00:04<00:00,  4.26it/s]\n",
      "Creating dictionary: 100%|██████████| 17/17 [00:03<00:00,  4.87it/s]\n",
      "\n",
      "  0%|          | 0/10 [00:00<?, ?it/s]\u001b[A"
     ]
    },
    {
     "name": "stdout",
     "output_type": "stream",
     "text": [
      "200 training samples, 1132 testing samples\n"
     ]
    },
    {
     "name": "stderr",
     "output_type": "stream",
     "text": [
      "Training:  15%|█▌        | 30/200 [00:05<00:30,  5.57it/s, f1=0.876, Δf1=0.0186]\n",
      "Training:  15%|█▌        | 30/200 [00:05<00:31,  5.37it/s, f1=0.884, Δf1=0.00315]\n",
      "Training:  30%|███       | 60/200 [00:10<00:25,  5.55it/s, f1=0.918, Δf1=-0.000537]\n",
      "Training:  22%|██▎       | 45/200 [00:07<00:28,  5.39it/s, f1=0.911, Δf1=-0.00323]\n",
      "Training:  25%|██▌       | 50/200 [00:08<00:26,  5.61it/s, f1=0.887, Δf1=0.0309]\n",
      "Training:  18%|█▊        | 35/200 [00:05<00:30,  5.45it/s, f1=0.861, Δf1=0.00146]\n",
      "Training:  22%|██▎       | 45/200 [00:07<00:27,  5.56it/s, f1=0.887, Δf1=-0.00835]\n",
      "Training:  30%|██▉       | 59/200 [00:10<00:24,  5.71it/s, f1=0.881, Δf1=-0.000508]\n",
      "Training:  35%|███▌      | 70/200 [00:12<00:23,  5.44it/s, f1=0.922, Δf1=-0.00394]\n",
      "Training:  22%|██▎       | 45/200 [00:07<00:25,  6.05it/s, f1=0.917, Δf1=0.0709]\n",
      "100%|██████████| 10/10 [08:36<00:00, 49.60s/it]\u001b[A\n",
      "Creating dictionary: 100%|██████████| 17/17 [00:03<00:00,  5.45it/s]\n",
      "Creating dictionary: 100%|██████████| 17/17 [00:03<00:00,  4.59it/s]\n",
      "\n",
      "  0%|          | 0/10 [00:00<?, ?it/s]\u001b[A"
     ]
    },
    {
     "name": "stdout",
     "output_type": "stream",
     "text": [
      "800 training samples, 1132 testing samples\n"
     ]
    },
    {
     "name": "stderr",
     "output_type": "stream",
     "text": [
      "Training:  18%|█▊        | 35/200 [00:14<01:02,  2.63it/s, f1=0.937, Δf1=-0.0031]\n",
      "Training:  15%|█▌        | 30/200 [00:12<01:02,  2.74it/s, f1=0.941, Δf1=-0.00494]\n",
      "Training:  20%|██        | 40/200 [00:16<01:00,  2.67it/s, f1=0.941, Δf1=0.00105]\n",
      "Training:  50%|█████     | 100/200 [00:42<00:37,  2.63it/s, f1=0.949, Δf1=0]\n",
      "Training:  18%|█▊        | 35/200 [00:14<00:59,  2.75it/s, f1=0.938, Δf1=-0.000486]\n",
      "Training:  15%|█▌        | 30/200 [00:12<01:04,  2.63it/s, f1=0.951, Δf1=0.000445]\n",
      "Training:  15%|█▌        | 30/200 [00:13<01:08,  2.47it/s, f1=0.934, Δf1=-0.00685]\n",
      "Training:  15%|█▌        | 30/200 [00:13<01:07,  2.50it/s, f1=0.922, Δf1=-0.015]\n",
      "Training:  20%|██        | 40/200 [00:16<00:58,  2.75it/s, f1=0.934, Δf1=-0.000962]\n",
      "Training:  15%|█▌        | 30/200 [00:13<01:04,  2.65it/s, f1=0.937, Δf1=-0.00141]\n",
      "100%|██████████| 10/10 [18:32<00:00, 108.82s/it]\u001b[A\n",
      "Creating dictionary: 100%|██████████| 17/17 [00:03<00:00,  4.85it/s]\n",
      "Creating dictionary: 100%|██████████| 17/17 [00:04<00:00,  4.35it/s]\n",
      "\n",
      "  0%|          | 0/10 [00:00<?, ?it/s]\u001b[A"
     ]
    },
    {
     "name": "stdout",
     "output_type": "stream",
     "text": [
      "1600 training samples, 1132 testing samples\n"
     ]
    },
    {
     "name": "stderr",
     "output_type": "stream",
     "text": [
      "Training:  20%|██        | 40/200 [00:31<01:58,  1.35it/s, f1=0.956, Δf1=-0.00062]\n",
      "Training:  20%|██        | 40/200 [00:30<01:52,  1.42it/s, f1=0.945, Δf1=-0.00341]\n",
      "Training:  18%|█▊        | 35/200 [00:26<01:59,  1.38it/s, f1=0.95, Δf1=-0.00502]\n",
      "Training:  18%|█▊        | 35/200 [00:26<01:53,  1.45it/s, f1=0.963, Δf1=-0.00053]\n",
      "Training:  15%|█▌        | 30/200 [00:23<02:02,  1.39it/s, f1=0.959, Δf1=0.0135]\n",
      "Training:  15%|█▌        | 30/200 [00:22<02:02,  1.39it/s, f1=0.965, Δf1=0.000422]\n",
      "Training:  25%|██▌       | 50/200 [00:37<01:47,  1.39it/s, f1=0.94, Δf1=6.16e-05]\n",
      "Training:  18%|█▊        | 35/200 [00:26<01:53,  1.45it/s, f1=0.954, Δf1=-0.000143]\n",
      "Training:  12%|█▎        | 25/200 [00:18<02:05,  1.40it/s, f1=0.95, Δf1=0.000997]\n",
      "Training:  35%|███▌      | 70/200 [00:53<01:31,  1.42it/s, f1=0.96, Δf1=-0.000561]\n",
      "100%|██████████| 10/10 [29:37<00:00, 185.55s/it]\u001b[A\n",
      "Creating dictionary: 100%|██████████| 17/17 [00:03<00:00,  4.78it/s]\n",
      "Creating dictionary: 100%|██████████| 17/17 [00:03<00:00,  4.61it/s]\n",
      "\n",
      "  0%|          | 0/10 [00:00<?, ?it/s]\u001b[A"
     ]
    },
    {
     "name": "stdout",
     "output_type": "stream",
     "text": [
      "2400 training samples, 1132 testing samples\n"
     ]
    },
    {
     "name": "stderr",
     "output_type": "stream",
     "text": [
      "Training:  20%|██        | 40/200 [00:44<02:50,  1.06s/it, f1=0.961, Δf1=-0.000459]\n",
      "Training:  12%|█▎        | 25/200 [00:27<03:02,  1.04s/it, f1=0.962, Δf1=0.00313]\n",
      "Training:  15%|█▌        | 30/200 [00:32<02:50,  1.00s/it, f1=0.955, Δf1=-0.000708]\n",
      "Training:  28%|██▊       | 55/200 [00:59<02:30,  1.04s/it, f1=0.966, Δf1=-0.00122]\n",
      "Training:  10%|█         | 20/200 [00:21<03:09,  1.05s/it, f1=0.966, Δf1=0.00102]\n",
      "Training:  18%|█▊        | 35/200 [00:38<02:56,  1.07s/it, f1=0.964, Δf1=-0.00053]\n",
      "Training:  15%|█▌        | 30/200 [00:32<02:51,  1.01s/it, f1=0.974, Δf1=0.000265]\n",
      "Training:  28%|██▊       | 55/200 [01:00<02:23,  1.01it/s, f1=0.945, Δf1=0.000138]\n",
      "Training:  15%|█▌        | 30/200 [00:32<02:57,  1.04s/it, f1=0.962, Δf1=0.00061]\n",
      "Training:  15%|█▌        | 30/200 [00:33<03:00,  1.06s/it, f1=0.966, Δf1=-0.000393]\n",
      "100%|██████████| 10/10 [38:53<00:00, 233.55s/it]\u001b[A\n",
      "\u001b[A"
     ]
    }
   ],
   "source": [
    "params = train.CNNParams(\n",
    "    embed_size=100,\n",
    "    dropout=0.5,\n",
    "    epochs=200,\n",
    "    filters=[(33, 3), (33, 5), (33, 7)],\n",
    "    num_layers=1,\n",
    "    max_norm=3,\n",
    ")\n",
    "\n",
    "char_params = train.CharCNNParams(\n",
    "    dropout=0.5,\n",
    "    epochs=200,\n",
    "    max_norm=3,\n",
    ")\n",
    "\n",
    "word_results, char_results = evaluate.run(\n",
    "    params,\n",
    "    char_params,\n",
    "    training_sizes=[200, 800, 1600, 2400],\n",
    "    window_sizes=[(0, 1)],\n",
    "    k=10,\n",
    "    kmeans_path=\"../clustered_data/15\",\n",
    "    num_clusters=15,\n",
    "    num_clusters_gmm=18,\n",
    "    use_cluster_cnn=False,\n",
    ")"
   ]
  },
  {
   "cell_type": "code",
   "execution_count": 3,
   "metadata": {},
   "outputs": [],
   "source": [
    "df_window1 = evaluate.results_to_dataframe(word_results, char_results)"
   ]
  },
  {
   "cell_type": "code",
   "execution_count": 4,
   "metadata": {},
   "outputs": [
    {
     "name": "stdout",
     "output_type": "stream",
     "text": [
      "Stored 'df_window1' (DataFrame)\n"
     ]
    }
   ],
   "source": [
    "#%store -r\n",
    "%store df_window1"
   ]
  },
  {
   "cell_type": "code",
   "execution_count": 6,
   "metadata": {},
   "outputs": [
    {
     "name": "stdout",
     "output_type": "stream",
     "text": [
      "                                  score                    \n",
      "                                   mean       std         p\n",
      "size model    method   window                              \n",
      "200  TokenCNN Baseline 1       0.910985  0.029030       NaN\n",
      "              K-Means  1       0.899211  0.039458  0.245207\n",
      "              GMM      1       0.899588  0.034649  0.264386\n",
      "     CharCNN  Baseline 1       0.849166  0.042811       NaN\n",
      "              K-Means  1       0.851820  0.028651  0.890824\n",
      "              GMM      1       0.872446  0.018248  0.143936\n",
      "800  TokenCNN Baseline 1       0.930235  0.016482       NaN\n",
      "              K-Means  1       0.925037  0.017093  0.442063\n",
      "              GMM      1       0.929045  0.009328  0.776924\n",
      "     CharCNN  Baseline 1       0.896192  0.028554       NaN\n",
      "              K-Means  1       0.909012  0.027009  0.337123\n",
      "              GMM      1       0.917084  0.018062  0.055589\n",
      "1600 TokenCNN Baseline 1       0.939916  0.015089       NaN\n",
      "              K-Means  1       0.947653  0.014985  0.097025\n",
      "              GMM      1       0.944962  0.011113  0.396821\n",
      "     CharCNN  Baseline 1       0.923314  0.016941       NaN\n",
      "              K-Means  1       0.913457  0.021555  0.147886\n",
      "              GMM      1       0.937228  0.020782  0.077192\n",
      "2400 TokenCNN Baseline 1       0.937583  0.013074       NaN\n",
      "              K-Means  1       0.932718  0.013403  0.531576\n",
      "              GMM      1       0.942328  0.013479  0.498836\n",
      "     CharCNN  Baseline 1       0.926750  0.026860       NaN\n",
      "              K-Means  1       0.933366  0.027374  0.511168\n",
      "              GMM      1       0.942894  0.019924  0.144025\n"
     ]
    },
    {
     "data": {
      "image/png": "[encoded data removed]",
      "text/plain": [
       "<Figure size 806.709x360 with 2 Axes>"
      ]
     },
     "metadata": {},
     "output_type": "display_data"
    }
   ],
   "source": [
    "import os\n",
    "import numpy as np\n",
    "import matplotlib.pyplot as plt\n",
    "from scipy.stats import ttest_rel\n",
    "\n",
    "df = df_window1\n",
    "def p(s):\n",
    "    i = s.keys()[0]\n",
    "    size = df.iloc[i][\"size\"]\n",
    "    window = df.iloc[i][\"window\"]\n",
    "    method = df.iloc[i][\"method\"]\n",
    "    model = df.iloc[i][\"model\"]\n",
    "\n",
    "    baseline_scores = df[(df[\"size\"] == size) & (df[\"model\"] == model) & (df[\"window\"] == window) & (df[\"method\"] == \"Baseline\")].score\n",
    "    scores = s.tolist()\n",
    "    return ttest_rel(baseline_scores, scores)[1]\n",
    "\n",
    "evaluate.plot_sns(df)\n",
    "print(df.groupby([\"size\", \"model\", \"method\", \"window\"], sort=False).aggregate([np.mean, np.std, p]))\n",
    "\n",
    "dir = \"concat_window1\"\n",
    "os.makedirs(dir, exist_ok=True)\n",
    "os.chdir(dir)\n",
    "\n",
    "#try:\n",
    "#    plt.savefig(\"plot.pdf\")\n",
    "#    df.groupby([\"size\", \"model\", \"method\", \"window\"], sort=False).aggregate([np.mean, np.std, p]).to_latex(\"table.tex\")\n",
    "#except e:\n",
    "#    print(e)\n",
    "#finally:\n",
    "#    os.chdir(\"..\")"
   ]
  }
 ],
 "metadata": {
  "kernelspec": {
   "display_name": "Python 3",
   "language": "python",
   "name": "python3"
  },
  "language_info": {
   "codemirror_mode": {
    "name": "ipython",
    "version": 3
   },
   "file_extension": ".py",
   "mimetype": "text/x-python",
   "name": "python",
   "nbconvert_exporter": "python",
   "pygments_lexer": "ipython3",
   "version": "3.7.0"
  }
 },
 "nbformat": 4,
 "nbformat_minor": 2
}
